{
 "cells": [
  {
   "cell_type": "code",
   "execution_count": 1,
   "metadata": {},
   "outputs": [],
   "source": [
    "from pyspark.sql import SparkSession\n",
    "import os\n",
    "import sys\n",
    "from pyspark.sql.functions import *\n",
    "\n",
    "import findspark\n",
    "findspark.init('C:/Spark/spark-3.4.2-bin-hadoop3/')\n",
    "\n",
    "os.environ['PYSPARK_PYTHON'] = sys.executable\n",
    "os.environ['PYSPARK_DRIVER_PYTHON'] = sys.executable\n",
    "\n",
    "\n",
    "spark = SparkSession.builder.config(\"spark.driver.memory\", \"10g\").master('local[*]').appName('lab_spark')\\\n",
    "    .config('spark.jars.packages', 'org.apache.spark:spark-avro_2.12:3.4.2')\\\n",
    "    .config('spark.jars', 'C:\\\\Spark\\\\spark-3.4.2-bin-hadoop3\\\\jars\\\\postgresql-42.7.3.jar')\\\n",
    "    .getOrCreate()"
   ]
  },
  {
   "cell_type": "code",
   "execution_count": 2,
   "metadata": {},
   "outputs": [],
   "source": [
    "data = spark.read.format(\"avro\").load(\"orders_avro\")"
   ]
  },
  {
   "cell_type": "code",
   "execution_count": 3,
   "metadata": {},
   "outputs": [
    {
     "name": "stdout",
     "output_type": "stream",
     "text": [
      "+-------+--------------------+---------+-----------+--------+--------+------------+-------+----------+-----------+\n",
      "|country|       facility_name|      lat|        lng|order_id|    time|        food|  price|      date|       city|\n",
      "+-------+--------------------+---------+-----------+--------+--------+------------+-------+----------+-----------+\n",
      "| Russia|         Супра Меоре|43.101581|131.9051689|   73208|01:02:09|     Tom yum| 346.23|2025-07-03|Vladivostok|\n",
      "| Russia|         Супра Меоре|43.101581|131.9051689|   59817|01:19:49|     Tom yum| 346.23|2025-07-03|Vladivostok|\n",
      "| Russia|         Супра Меоре|43.101581|131.9051689|   59817|01:19:49|       Pasta| 329.13|2025-07-03|Vladivostok|\n",
      "| Russia|TOKYO Kawaii на С...|43.119274| 131.882176|   66084|04:31:58|         Pie| 482.98|2025-07-03|Vladivostok|\n",
      "| Russia|TOKYO Kawaii на С...|43.119274| 131.882176|   66084|04:31:58|         Pie| 482.98|2025-07-03|Vladivostok|\n",
      "| Russia|TOKYO Kawaii на С...|43.119274| 131.882176|   28648|05:20:32|   Hamburger|  99.99|2025-07-03|Vladivostok|\n",
      "| Russia|TOKYO Kawaii на С...|43.119274| 131.882176|   28648|05:20:32|     Catfish| 560.00|2025-07-03|Vladivostok|\n",
      "| Russia|TOKYO Kawaii на С...|43.119274| 131.882176|   28648|05:20:32|       Latte| 250.90|2025-07-03|Vladivostok|\n",
      "| Russia|TOKYO Kawaii на С...|43.119274| 131.882176|   16902|05:30:27|Cheese pizza| 542.33|2025-07-03|Vladivostok|\n",
      "| Russia|TOKYO Kawaii на С...|43.119274| 131.882176|   51507|06:02:36|    BBQ ribs| 367.51|2025-07-03|Vladivostok|\n",
      "| Russia|TOKYO Kawaii на С...|43.119274| 131.882176|   49278|06:16:31|     Catfish| 560.00|2025-07-03|Vladivostok|\n",
      "| Russia|         Супра Меоре|43.101581|131.9051689|   59053|06:27:13|Black caviar|7777.77|2025-07-03|Vladivostok|\n",
      "| Russia|         Супра Меоре|43.101581|131.9051689|   18967|07:04:08|       Latte| 250.90|2025-07-03|Vladivostok|\n",
      "| Russia|         Супра Меоре|43.101581|131.9051689|   18967|07:04:08|  Cheesecake| 640.89|2025-07-03|Vladivostok|\n",
      "| Russia|TOKYO Kawaii на С...|43.119274| 131.882176|   46243|07:14:00|         Tea| 134.90|2025-07-03|Vladivostok|\n",
      "| Russia|TOKYO Kawaii на С...|43.119274| 131.882176|   46243|07:14:00| Cezar salad| 438.99|2025-07-03|Vladivostok|\n",
      "| Russia|         Супра Меоре|43.101581|131.9051689|   77674|08:50:14| Chiken bowl| 378.17|2025-07-03|Vladivostok|\n",
      "| Russia|TOKYO Kawaii на С...|43.119274| 131.882176|   21606|09:52:15|    Khinkali| 443.90|2025-07-03|Vladivostok|\n",
      "| Russia|         Супра Меоре|43.101581|131.9051689|   10217|10:02:10|     Shrimps| 895.00|2025-07-03|Vladivostok|\n",
      "| Russia|         Супра Меоре|43.101581|131.9051689|   10217|10:02:10| Cezar salad| 438.99|2025-07-03|Vladivostok|\n",
      "+-------+--------------------+---------+-----------+--------+--------+------------+-------+----------+-----------+\n",
      "only showing top 20 rows\n",
      "\n"
     ]
    }
   ],
   "source": [
    "data.show()"
   ]
  },
  {
   "cell_type": "code",
   "execution_count": 4,
   "metadata": {},
   "outputs": [],
   "source": [
    "dim_country = data.select(\"country\").distinct().\\\n",
    "                withColumn('country_id', monotonically_increasing_id())\n",
    "\n",
    "dim_facility = data.select(\"facility_name\", \"lat\", \"lng\", \"city\").distinct().\\\n",
    "               withColumn('rest_id', monotonically_increasing_id())\n",
    "\n",
    "dim_menu = data.select(\"food\",'price').distinct().\\\n",
    "            withColumn('food_id', monotonically_increasing_id())\n",
    "\n",
    "dim_order = data.select(\"date\",'time').distinct().\\\n",
    "            withColumn('order_id', monotonically_increasing_id())\n",
    "\n",
    "fact_table = data.select(\"country\", \"facility_name\", \"food\", \"date\", \"price\")"
   ]
  },
  {
   "cell_type": "code",
   "execution_count": 5,
   "metadata": {},
   "outputs": [],
   "source": [
    "kwargs = {\n",
    "    'properties':{\n",
    "    \"user\": \"postgres\",\n",
    "    \"password\": \"12345\",\n",
    "    \"driver\": \"org.postgresql.Driver\"},\n",
    "    'mode':'append',\n",
    "    'url':'jdbc:postgresql://localhost:5432/task4',\n",
    "}\n",
    "\n",
    "\n",
    "\n",
    "dim_country.write.jdbc(table=\"country\",**kwargs )\n",
    "dim_facility.write.jdbc(table=\"facility\",**kwargs)\n",
    "dim_menu.write.jdbc(table=\"menus\",**kwargs)\n",
    "dim_order.write.jdbc(table=\"orders\",**kwargs)\n",
    "fact_table.write.jdbc( table=\"fact_table\",**kwargs)"
   ]
  }
 ],
 "metadata": {
  "kernelspec": {
   "display_name": "Python 3",
   "language": "python",
   "name": "python3"
  },
  "language_info": {
   "codemirror_mode": {
    "name": "ipython",
    "version": 3
   },
   "file_extension": ".py",
   "mimetype": "text/x-python",
   "name": "python",
   "nbconvert_exporter": "python",
   "pygments_lexer": "ipython3",
   "version": "3.11.4"
  }
 },
 "nbformat": 4,
 "nbformat_minor": 2
}
