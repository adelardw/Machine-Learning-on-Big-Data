{
 "cells": [
  {
   "cell_type": "code",
   "execution_count": 28,
   "metadata": {},
   "outputs": [],
   "source": [
    "from pyspark.sql import SparkSession\n",
    "import os\n",
    "import sys\n",
    "from pyspark.sql.functions import *\n",
    "\n",
    "import findspark\n",
    "findspark.init('C:/Spark/spark-3.4.2-bin-hadoop3/')\n",
    "\n",
    "os.environ['PYSPARK_PYTHON'] = sys.executable\n",
    "os.environ['PYSPARK_DRIVER_PYTHON'] = sys.executable\n",
    "\n",
    "\n",
    "\n",
    "from pyspark.sql import SparkSession\n",
    "spark = SparkSession.builder.config(\"spark.driver.memory\", \"10g\").master('local[*]').appName('lab_spark')\\\n",
    "    .config('spark.jars.packages', 'org.apache.spark:spark-avro_2.12:3.4.2')\\\n",
    "    .config('spark.jars', 'C:\\\\Spark\\\\spark-3.4.2-bin-hadoop3\\\\jars\\\\postgresql-42.7.3.jar')\\\n",
    "    .getOrCreate()"
   ]
  },
  {
   "cell_type": "code",
   "execution_count": 29,
   "metadata": {},
   "outputs": [],
   "source": [
    "data = spark.read.format(\"avro\").load(\"orders_avro\")"
   ]
  },
  {
   "cell_type": "code",
   "execution_count": 30,
   "metadata": {},
   "outputs": [
    {
     "name": "stdout",
     "output_type": "stream",
     "text": [
      "+-------+--------------------+---------+-----------+--------+--------+------------+-------+----------+-----------+\n",
      "|country|       facility_name|      lat|        lng|order_id|    time|        food|  price|      date|       city|\n",
      "+-------+--------------------+---------+-----------+--------+--------+------------+-------+----------+-----------+\n",
      "| Russia|         Супра Меоре|43.101581|131.9051689|   73208|01:02:09|     Tom yum| 346.23|2025-07-03|Vladivostok|\n",
      "| Russia|         Супра Меоре|43.101581|131.9051689|   59817|01:19:49|     Tom yum| 346.23|2025-07-03|Vladivostok|\n",
      "| Russia|         Супра Меоре|43.101581|131.9051689|   59817|01:19:49|       Pasta| 329.13|2025-07-03|Vladivostok|\n",
      "| Russia|TOKYO Kawaii на С...|43.119274| 131.882176|   66084|04:31:58|         Pie| 482.98|2025-07-03|Vladivostok|\n",
      "| Russia|TOKYO Kawaii на С...|43.119274| 131.882176|   66084|04:31:58|         Pie| 482.98|2025-07-03|Vladivostok|\n",
      "| Russia|TOKYO Kawaii на С...|43.119274| 131.882176|   28648|05:20:32|   Hamburger|  99.99|2025-07-03|Vladivostok|\n",
      "| Russia|TOKYO Kawaii на С...|43.119274| 131.882176|   28648|05:20:32|     Catfish| 560.00|2025-07-03|Vladivostok|\n",
      "| Russia|TOKYO Kawaii на С...|43.119274| 131.882176|   28648|05:20:32|       Latte| 250.90|2025-07-03|Vladivostok|\n",
      "| Russia|TOKYO Kawaii на С...|43.119274| 131.882176|   16902|05:30:27|Cheese pizza| 542.33|2025-07-03|Vladivostok|\n",
      "| Russia|TOKYO Kawaii на С...|43.119274| 131.882176|   51507|06:02:36|    BBQ ribs| 367.51|2025-07-03|Vladivostok|\n",
      "| Russia|TOKYO Kawaii на С...|43.119274| 131.882176|   49278|06:16:31|     Catfish| 560.00|2025-07-03|Vladivostok|\n",
      "| Russia|         Супра Меоре|43.101581|131.9051689|   59053|06:27:13|Black caviar|7777.77|2025-07-03|Vladivostok|\n",
      "| Russia|         Супра Меоре|43.101581|131.9051689|   18967|07:04:08|       Latte| 250.90|2025-07-03|Vladivostok|\n",
      "| Russia|         Супра Меоре|43.101581|131.9051689|   18967|07:04:08|  Cheesecake| 640.89|2025-07-03|Vladivostok|\n",
      "| Russia|TOKYO Kawaii на С...|43.119274| 131.882176|   46243|07:14:00|         Tea| 134.90|2025-07-03|Vladivostok|\n",
      "| Russia|TOKYO Kawaii на С...|43.119274| 131.882176|   46243|07:14:00| Cezar salad| 438.99|2025-07-03|Vladivostok|\n",
      "| Russia|         Супра Меоре|43.101581|131.9051689|   77674|08:50:14| Chiken bowl| 378.17|2025-07-03|Vladivostok|\n",
      "| Russia|TOKYO Kawaii на С...|43.119274| 131.882176|   21606|09:52:15|    Khinkali| 443.90|2025-07-03|Vladivostok|\n",
      "| Russia|         Супра Меоре|43.101581|131.9051689|   10217|10:02:10|     Shrimps| 895.00|2025-07-03|Vladivostok|\n",
      "| Russia|         Супра Меоре|43.101581|131.9051689|   10217|10:02:10| Cezar salad| 438.99|2025-07-03|Vladivostok|\n",
      "+-------+--------------------+---------+-----------+--------+--------+------------+-------+----------+-----------+\n",
      "only showing top 20 rows\n",
      "\n"
     ]
    }
   ],
   "source": [
    "data.show()"
   ]
  },
  {
   "cell_type": "markdown",
   "metadata": {},
   "source": [
    "Создадим 3НФ"
   ]
  },
  {
   "cell_type": "code",
   "execution_count": 31,
   "metadata": {},
   "outputs": [],
   "source": [
    "menu = data.select('food','price').distinct().withColumn('menu_id', monotonically_increasing_id())\n",
    "restourants = data.select('city','facility_name','lat','lng').distinct().withColumn('rest_id', monotonically_increasing_id())\n",
    "citys= data.select('city','country' ).distinct().withColumn('city_id', monotonically_increasing_id())\n",
    "orders = data.select('food','date','time' ).distinct().withColumn('order_id', monotonically_increasing_id())\n"
   ]
  },
  {
   "cell_type": "code",
   "execution_count": 32,
   "metadata": {},
   "outputs": [
    {
     "name": "stdout",
     "output_type": "stream",
     "text": [
      "+--------------------+----------+-----------+-------+-------+\n",
      "|       facility_name|       lat|        lng|rest_id|city_id|\n",
      "+--------------------+----------+-----------+-------+-------+\n",
      "|  Сказка. Еда и вино|57.6253632| 39.8749721|      0|      2|\n",
      "|TOKYO Kawaii на С...| 43.119274| 131.882176|      1|      5|\n",
      "|              Паштет|56.8405019| 60.6082934|      2|      1|\n",
      "|              Брюгге|57.6230007| 39.8818897|      3|      2|\n",
      "|    Sabor de la Vida|55.7679679|  37.558749|      4|      6|\n",
      "|          Троекуровъ| 56.841769| 60.6620667|      5|      1|\n",
      "|             Кремлин|55.7937397| 49.1099983|      6|      9|\n",
      "|           Союз-rest|56.2422779| 43.8601695|      7|      4|\n",
      "|       #СИБИРЬСИБИРЬ|55.0295233| 82.9049737|      8|      7|\n",
      "|   Княгининский Двор|48.6948735| 44.4986003|      9|      3|\n",
      "|     Любовь Пирогова| 55.712178|  37.620643|     10|      6|\n",
      "|        Dans Le Noir|59.9448238| 30.2938052|     11|      8|\n",
      "|         Puppen Haus|55.0261368| 82.9205541|     12|      7|\n",
      "|         Супра Меоре| 43.101581|131.9051689|     13|      5|\n",
      "|     Джани ресторани| 56.326469| 44.0119794|     14|      4|\n",
      "|     Ресторан Бурбон|55.7927669| 49.1172491|     15|      9|\n",
      "|        Кафе Винсент| 45.020957| 38.9700078|     16|      0|\n",
      "|        Балкан-Гриль|56.3284825| 44.0083471|     17|      0|\n",
      "|            Percorso| 59.935263|  30.308096|     18|      8|\n",
      "|              Маруся| 48.704534| 44.5190293|     19|      3|\n",
      "+--------------------+----------+-----------+-------+-------+\n",
      "only showing top 20 rows\n",
      "\n"
     ]
    }
   ],
   "source": [
    "true_rest = restourants.join(citys, on='city').drop('city').drop('country')\n",
    "true_rest.sort('rest_id').show()     \n",
    "\n",
    "\n"
   ]
  },
  {
   "cell_type": "code",
   "execution_count": 33,
   "metadata": {},
   "outputs": [],
   "source": [
    "true_orders = data.join(true_rest, on='facility_name').\\\n",
    "                join(menu, on='food').\\\n",
    "                drop('facility_name','city','country','food','price','lat','lng').distinct()"
   ]
  },
  {
   "cell_type": "code",
   "execution_count": 34,
   "metadata": {},
   "outputs": [
    {
     "name": "stdout",
     "output_type": "stream",
     "text": [
      "+--------+--------+----------+-------+-------+-------+\n",
      "|order_id|    time|      date|rest_id|city_id|menu_id|\n",
      "+--------+--------+----------+-------+-------+-------+\n",
      "|   50380|05:43:11|2025-02-25|     17|      0|      1|\n",
      "|   59211|06:11:21|2025-07-04|     17|      0|      3|\n",
      "|   13572|06:42:42|2025-03-26|     17|      0|      4|\n",
      "|   23951|23:16:57|2025-06-03|     17|      0|      2|\n",
      "|   71095|19:43:40|2025-09-22|     17|      0|     18|\n",
      "|   71095|19:43:40|2025-09-22|     17|      0|     16|\n",
      "|   14450|08:22:40|2025-01-20|     17|      0|      3|\n",
      "|   57337|17:32:51|2025-12-05|     17|      0|     20|\n",
      "|   20813|17:49:02|2025-01-18|     17|      0|     10|\n",
      "|   48098|08:21:58|2025-07-18|     17|      0|      6|\n",
      "|   22923|10:38:20|2025-10-14|     17|      0|      8|\n",
      "|   30067|10:50:46|2025-02-11|     17|      0|     18|\n",
      "|   39395|15:58:44|2025-12-27|     17|      0|      0|\n",
      "|   17833|18:20:39|2025-10-02|     17|      0|      5|\n",
      "|   56735|08:34:34|2025-05-31|     17|      0|      1|\n",
      "|   26811|15:32:04|2025-12-04|     16|      0|      9|\n",
      "|   11797|16:28:49|2025-01-13|     16|      0|     18|\n",
      "|    5607|10:42:20|2025-12-13|     16|      0|     23|\n",
      "|     926|21:09:11|2025-10-21|     16|      0|     17|\n",
      "|   27318|03:31:08|2025-02-16|     16|      0|      5|\n",
      "+--------+--------+----------+-------+-------+-------+\n",
      "only showing top 20 rows\n",
      "\n"
     ]
    }
   ],
   "source": [
    "true_orders.show()"
   ]
  },
  {
   "cell_type": "code",
   "execution_count": 35,
   "metadata": {},
   "outputs": [],
   "source": [
    "kwargs = {\n",
    "    'properties':{\n",
    "    \"user\": \"postgres\",\n",
    "    \"password\": \"12345\",\n",
    "    \"driver\": \"org.postgresql.Driver\"},\n",
    "    'mode':'append',\n",
    "    'url':'jdbc:postgresql://localhost:5432/task3',\n",
    "}\n",
    "\n",
    "\n",
    "\n",
    "true_orders.write.jdbc(table=\"orders\",**kwargs )\n",
    "citys.write.jdbc(table=\"citys\",**kwargs)\n",
    "menu.write.jdbc(table=\"menu\",**kwargs)\n",
    "true_rest.write.jdbc( table=\"restourant\",**kwargs)"
   ]
  }
 ],
 "metadata": {
  "kernelspec": {
   "display_name": "Python 3",
   "language": "python",
   "name": "python3"
  },
  "language_info": {
   "codemirror_mode": {
    "name": "ipython",
    "version": 3
   },
   "file_extension": ".py",
   "mimetype": "text/x-python",
   "name": "python",
   "nbconvert_exporter": "python",
   "pygments_lexer": "ipython3",
   "version": "3.11.4"
  }
 },
 "nbformat": 4,
 "nbformat_minor": 2
}
