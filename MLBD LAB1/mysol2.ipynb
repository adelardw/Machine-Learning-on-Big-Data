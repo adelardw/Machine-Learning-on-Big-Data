{
 "cells": [
  {
   "cell_type": "code",
   "execution_count": 24,
   "metadata": {},
   "outputs": [],
   "source": [
    "\n",
    "import os\n",
    "import sys\n",
    "from pyspark.sql.functions import *\n",
    "import findspark\n",
    "findspark.init('C:/Spark/spark-3.4.2-bin-hadoop3/')\n",
    "\n",
    "os.environ['PYSPARK_PYTHON'] = sys.executable\n",
    "os.environ['PYSPARK_DRIVER_PYTHON'] = sys.executable\n",
    "\n",
    "\n",
    "\n",
    "from pyspark.sql import SparkSession\n",
    "spark = SparkSession.builder.config(\"spark.driver.memory\", \"10g\").master('local[*]').appName('lab_spark')\\\n",
    "    .config('spark.jars.packages', 'org.apache.spark:spark-avro_2.12:3.4.2')\\\n",
    "    .config('spark.jars', 'C:\\\\Spark\\\\spark-3.4.2-bin-hadoop3\\\\jars\\\\postgresql-42.7.3.jar')\\\n",
    "    .getOrCreate()"
   ]
  },
  {
   "cell_type": "code",
   "execution_count": 52,
   "metadata": {},
   "outputs": [],
   "source": [
    "data = spark.read\\\n",
    "    .option('delimiter',';')\\\n",
    "    .csv(r'task1\\part-00000-23875efd-ccbb-4f51-915d-6d8c984185c4-c000.csv')\\\n",
    "    .withColumnRenamed('_c0','city')\\\n",
    "    .withColumnRenamed('_c1','country')\\\n",
    "    .withColumnRenamed('_c2','facility_name')\\\n",
    "    .withColumnRenamed('_c3','lat')\\\n",
    "    .withColumnRenamed('_c4','lng')\\\n",
    "    .withColumnRenamed('_c5','order_id')\\\n",
    "    .withColumnRenamed('_c6','time')\\\n",
    "    .withColumnRenamed('_c7','food')\\\n",
    "    .withColumnRenamed('_c8', 'price')\n"
   ]
  },
  {
   "cell_type": "code",
   "execution_count": 53,
   "metadata": {},
   "outputs": [
    {
     "name": "stdout",
     "output_type": "stream",
     "text": [
      "+-----------+-------+--------------------+----------+----------+--------+-------------------+--------------+------+\n",
      "|       city|country|       facility_name|       lat|       lng|order_id|               time|          food| price|\n",
      "+-----------+-------+--------------------+----------+----------+--------+-------------------+--------------+------+\n",
      "|Novosibirsk| Russia|       #СИБИРЬСИБИРЬ|  -999.999|  -999.999|   73231|2025-01-01 03:06:34|           Tea|  null|\n",
      "|       null| Russia|       #СИБИРЬСИБИРЬ|  -999.999|82.9049737|   73231|2025-01-01 03:06:34|          null|134.90|\n",
      "|Novosibirsk| Russia|       #СИБИРЬСИБИРЬ|  -999.999|  -999.999|   73231|2025-01-01 03:06:34|          null|  null|\n",
      "|Novosibirsk| Russia|       #СИБИРЬСИБИРЬ|55.0295233|82.9049737|   73231|2025-01-01 03:06:34|      Red fish|978.71|\n",
      "|Novosibirsk| Russia|       #СИБИРЬСИБИРЬ|  -999.999|82.9049737|   73231|               null|  French fries|150.00|\n",
      "|Novosibirsk| Russia|                null|  -999.999|82.9049737|   73231|               null|          null|333.33|\n",
      "|Novosibirsk|   null|       #СИБИРЬСИБИРЬ|55.0295233|82.9049737|   73231|2025-01-01 03:06:34|      BBQ ribs|  null|\n",
      "|Novosibirsk| Russia|       #СИБИРЬСИБИРЬ|55.0295233|  -999.999|   73231|2025-01-01 03:06:34|         Latte|  null|\n",
      "|Novosibirsk| Russia|       #СИБИРЬСИБИРЬ|55.0295233|82.9049737|   73231|2025-01-01 03:06:34|Sandwiches set|  null|\n",
      "|Novosibirsk| Russia|       #СИБИРЬСИБИРЬ|55.0295233|82.9049737|   73231|2025-01-01 03:06:34|          null|566.65|\n",
      "|Novosibirsk|   null|       #СИБИРЬСИБИРЬ|  -999.999|82.9049737|   73231|2025-01-01 03:06:34|          null|555.47|\n",
      "|Novosibirsk| Russia|                null|55.0295233|  -999.999|   73231|               null|          null|  null|\n",
      "|Novosibirsk| Russia|       #СИБИРЬСИБИРЬ|  -999.999|82.9049737|   73231|2025-01-01 03:06:34|     Mlikshake|221.95|\n",
      "|Vladivostok| Russia|TOKYO Kawaii на С...|  -999.999|131.882176|   23612|2025-01-01 03:13:59|        Strips|296.17|\n",
      "|Vladivostok| Russia|TOKYO Kawaii на С...| 43.119274|131.882176|   23612|               null|        Strips|  null|\n",
      "|Vladivostok| Russia|                null|  -999.999|  -999.999|   23612|2025-01-01 03:13:59|          null|  null|\n",
      "|Vladivostok|   null|                null| 43.119274|  -999.999|   23612|               null|          null|798.00|\n",
      "|Vladivostok|   null|TOKYO Kawaii на С...|  -999.999|131.882176|   23612|               null|      Khinkali|443.90|\n",
      "|       null| Russia|TOKYO Kawaii на С...| 43.119274|  -999.999|   23612|2025-01-01 03:13:59|          null|  null|\n",
      "|Vladivostok| Russia|TOKYO Kawaii на С...| 43.119274|131.882176|   23612|2025-01-01 03:13:59|      Red fish|978.71|\n",
      "+-----------+-------+--------------------+----------+----------+--------+-------------------+--------------+------+\n",
      "only showing top 20 rows\n",
      "\n"
     ]
    }
   ],
   "source": [
    "data.show()"
   ]
  },
  {
   "cell_type": "code",
   "execution_count": 55,
   "metadata": {},
   "outputs": [],
   "source": [
    "clear = data.filter((data.city.isNotNull()) & \n",
    "                    (data.country.isNotNull()) & \n",
    "                    (data.facility_name.isNotNull()) & \n",
    "                    (data.food.isNotNull()) & \n",
    "                    (data.price.isNotNull()) & \n",
    "                    (data.time.isNotNull()) & \n",
    "                    (data.lng != -999.999) & \n",
    "                    (data.lat != -999.999))"
   ]
  },
  {
   "cell_type": "code",
   "execution_count": 56,
   "metadata": {},
   "outputs": [],
   "source": [
    "dirty = data.filter((data.city.isNull()) | \n",
    "                    (data.country.isNull()) | \n",
    "                    (data.facility_name.isNull()) | \n",
    "                    (data.food.isNull()) | \n",
    "                    (data.price.isNull()) |\n",
    "                    (data.time.isNull()) |\n",
    "                    (data.lng == -999.999) |\n",
    "                    (data.lat == -999.999))"
   ]
  },
  {
   "cell_type": "code",
   "execution_count": 57,
   "metadata": {},
   "outputs": [],
   "source": [
    "clear = clear.withColumn(\"date\", col(\"time\").substr(1, 10))\n",
    "clear = clear.withColumn(\"time\", col(\"time\").substr(12, 8))"
   ]
  },
  {
   "cell_type": "code",
   "execution_count": 58,
   "metadata": {},
   "outputs": [
    {
     "name": "stdout",
     "output_type": "stream",
     "text": [
      "+----------------+-------+--------------------+----------+-----------+--------+--------+-------------------+-------+----------+\n",
      "|            city|country|       facility_name|       lat|        lng|order_id|    time|               food|  price|      date|\n",
      "+----------------+-------+--------------------+----------+-----------+--------+--------+-------------------+-------+----------+\n",
      "|     Novosibirsk| Russia|       #СИБИРЬСИБИРЬ|55.0295233| 82.9049737|   73231|03:06:34|           Red fish| 978.71|2025-01-01|\n",
      "|     Vladivostok| Russia|TOKYO Kawaii на С...| 43.119274| 131.882176|   23612|03:13:59|           Red fish| 978.71|2025-01-01|\n",
      "|       Krasnodar| Russia|        Кафе Винсент| 45.020957| 38.9700078|   73416|03:20:03|         White wine| 575.40|2025-01-01|\n",
      "|     Vladivostok| Russia|         Супра Меоре| 43.101581|131.9051689|   64036|03:33:10|         White wine| 575.40|2025-01-01|\n",
      "|     Vladivostok| Russia|         Супра Меоре| 43.101581|131.9051689|   64036|03:33:10|              Pasta| 329.13|2025-01-01|\n",
      "|           Kazan| Russia|     Ресторан Бурбон|55.7927669| 49.1172491|   51534|03:58:26|              Latte| 250.90|2025-01-01|\n",
      "|Saint-Petersburg| Russia|            Percorso| 59.935263|  30.308096|    1729|04:10:46|                Tea| 134.90|2025-01-01|\n",
      "|    Ekaterinburg| Russia|          Троекуровъ| 56.841769| 60.6620667|   79692|04:28:12|               Beef|1530.00|2025-01-01|\n",
      "|       Yaroslavl| Russia|              Брюгге|57.6230007| 39.8818897|   66006|04:30:40|             Strips| 296.17|2025-01-01|\n",
      "|          Moscow| Russia|     Любовь Пирогова| 55.712178|  37.620643|   44488|04:39:14|        Chiken bowl| 378.17|2025-01-01|\n",
      "|       Krasnodar| Russia|        Балкан-Гриль|56.3284825| 44.0083471|   70136|04:52:09|     Sandwiches set| 555.47|2025-01-01|\n",
      "|       Krasnodar| Russia|        Балкан-Гриль|56.3284825| 44.0083471|   70136|04:52:09|                Pie| 482.98|2025-01-01|\n",
      "|           Kazan| Russia|     Ресторан Бурбон|55.7927669| 49.1172491|   12501|05:25:01|         White wine| 575.40|2025-01-01|\n",
      "|          Moscow| Russia|     Любовь Пирогова| 55.712178|  37.620643|   66205|05:38:11|           Red fish| 978.71|2025-01-01|\n",
      "|          Moscow| Russia|     Любовь Пирогова| 55.712178|  37.620643|   66205|05:38:11|                Tea| 134.90|2025-01-01|\n",
      "|          Moscow| Russia|     Любовь Пирогова| 55.712178|  37.620643|   66205|05:38:11|         Cheesecake| 640.89|2025-01-01|\n",
      "|     Novosibirsk| Russia|       #СИБИРЬСИБИРЬ|55.0295233| 82.9049737|   38025|05:38:38|Salad with Red fish| 566.65|2025-01-01|\n",
      "|     Novosibirsk| Russia|       #СИБИРЬСИБИРЬ|55.0295233| 82.9049737|   38025|05:38:38|            Tom yum| 346.23|2025-01-01|\n",
      "|    Ekaterinburg| Russia|          Троекуровъ| 56.841769| 60.6620667|   64025|05:39:13|          Hamburger|  99.99|2025-01-01|\n",
      "|       Krasnodar| Russia|        Балкан-Гриль|56.3284825| 44.0083471|   18610|05:51:37|        Hamon bread| 798.00|2025-01-01|\n",
      "+----------------+-------+--------------------+----------+-----------+--------+--------+-------------------+-------+----------+\n",
      "only showing top 20 rows\n",
      "\n"
     ]
    }
   ],
   "source": [
    "clear.show()"
   ]
  },
  {
   "cell_type": "code",
   "execution_count": 59,
   "metadata": {},
   "outputs": [],
   "source": [
    "clear.write.partitionBy(\"date\", \"city\") \\\n",
    "        .format(\"avro\") \\\n",
    "        .mode(\"overwrite\") \\\n",
    "        .save(\"orders_avro\")\n",
    "\n",
    "clear.write.partitionBy(\"date\", \"city\") \\\n",
    "        .format(\"parquet\") \\\n",
    "        .mode(\"overwrite\") \\\n",
    "        .save(\"orders_parquet\")"
   ]
  }
 ],
 "metadata": {
  "kernelspec": {
   "display_name": "Python 3",
   "language": "python",
   "name": "python3"
  },
  "language_info": {
   "codemirror_mode": {
    "name": "ipython",
    "version": 3
   },
   "file_extension": ".py",
   "mimetype": "text/x-python",
   "name": "python",
   "nbconvert_exporter": "python",
   "pygments_lexer": "ipython3",
   "version": "3.11.4"
  }
 },
 "nbformat": 4,
 "nbformat_minor": 2
}
