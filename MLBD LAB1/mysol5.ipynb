{
 "cells": [
  {
   "cell_type": "code",
   "execution_count": 6,
   "metadata": {},
   "outputs": [],
   "source": [
    "from pyspark.sql import SparkSession\n",
    "\n",
    "\n",
    "spark = SparkSession.builder \\\n",
    "        .appName(\"SparkLab1\") \\\n",
    "        .config(\"spark.mongodb.input.uri\", \"mongodb://localhost:27017/test.task5\") \\\n",
    "        .config(\"spark.mongodb.output.uri\", \"mongodb://localhost:27017/test.task5\") \\\n",
    "        .config(\"spark.jars.packages\", \"org.mongodb.spark:mongo-spark-connector_2.12:3.0.2\") \\\n",
    "        .getOrCreate()"
   ]
  },
  {
   "cell_type": "code",
   "execution_count": 7,
   "metadata": {},
   "outputs": [],
   "source": [
    "data = spark.read.parquet(\"orders_parquet\")"
   ]
  },
  {
   "cell_type": "code",
   "execution_count": 14,
   "metadata": {},
   "outputs": [],
   "source": [
    "from pyspark.sql.functions import explode, struct, sum, round, collect_list\n",
    "\n",
    "asnw = data.groupBy(\"order_id\",\"date\").agg(sum(\"price\").alias(\"summary price\"),\n",
    "        collect_list(struct(\"food\", \"price\")).alias(\"check\")) \\\n",
    "        .select(\"order_id\",\"date\", \"summary price\", \"check\")"
   ]
  },
  {
   "cell_type": "code",
   "execution_count": 15,
   "metadata": {},
   "outputs": [
    {
     "name": "stdout",
     "output_type": "stream",
     "text": [
      "+--------+----------+-----------------+--------------------+\n",
      "|order_id|      date|    summary price|               check|\n",
      "+--------+----------+-----------------+--------------------+\n",
      "|   10023|2025-02-08|            443.9|[{Khinkali, 443.90}]|\n",
      "|   10075|2025-09-24|            134.9|     [{Tea, 134.90}]|\n",
      "|   10076|2025-04-19|           333.33| [{Nuggets, 333.33}]|\n",
      "|   10077|2025-10-09|953.5699999999999|[{Chiken bowl, 37...|\n",
      "|   10086|2025-06-27|            575.4|[{White wine, 575...|\n",
      "|   10095|2025-05-03|           329.13|   [{Pasta, 329.13}]|\n",
      "|    1010|2025-10-14|           1664.9|[{Beef, 1530.00},...|\n",
      "|   10110|2025-09-17|            560.0| [{Catfish, 560.00}]|\n",
      "|   10113|2025-03-27|           613.73|[{Fresh, 169.83},...|\n",
      "|   10121|2025-09-29|           482.98|     [{Pie, 482.98}]|\n",
      "|   10138|2025-08-14|           555.47|[{Sandwiches set,...|\n",
      "|   10166|2025-09-08|          2270.07|[{Strips, 296.17}...|\n",
      "|   10171|2025-04-14|           169.83|   [{Fresh, 169.83}]|\n",
      "|   10179|2025-08-29|           221.95|[{Mlikshake, 221....|\n",
      "|   10187|2025-12-12|            651.8|[{Latte, 250.90},...|\n",
      "|   10198|2025-06-18|           169.83|   [{Fresh, 169.83}]|\n",
      "|   10201|2025-01-12|           482.98|     [{Pie, 482.98}]|\n",
      "|   10206|2025-07-08|           329.13|   [{Pasta, 329.13}]|\n",
      "|   10214|2025-03-22|           378.17|[{Chiken bowl, 37...|\n",
      "|   10218|2025-08-07|           367.51|[{BBQ ribs, 367.51}]|\n",
      "+--------+----------+-----------------+--------------------+\n",
      "only showing top 20 rows\n",
      "\n"
     ]
    }
   ],
   "source": [
    "asnw.show()"
   ]
  },
  {
   "cell_type": "code",
   "execution_count": 10,
   "metadata": {},
   "outputs": [],
   "source": [
    "asnw.write.format(\"mongo\").mode(\"append\").save()"
   ]
  }
 ],
 "metadata": {
  "kernelspec": {
   "display_name": "Python 3",
   "language": "python",
   "name": "python3"
  },
  "language_info": {
   "codemirror_mode": {
    "name": "ipython",
    "version": 3
   },
   "file_extension": ".py",
   "mimetype": "text/x-python",
   "name": "python",
   "nbconvert_exporter": "python",
   "pygments_lexer": "ipython3",
   "version": "3.11.4"
  }
 },
 "nbformat": 4,
 "nbformat_minor": 2
}
