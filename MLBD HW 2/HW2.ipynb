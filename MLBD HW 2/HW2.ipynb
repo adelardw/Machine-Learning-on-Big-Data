{
 "cells": [
  {
   "cell_type": "markdown",
   "metadata": {},
   "source": [
    "Начнем с Ирисов Фишера!"
   ]
  },
  {
   "cell_type": "code",
   "execution_count": 67,
   "metadata": {},
   "outputs": [],
   "source": [
    "from pyspark.sql import SparkSession\n",
    "import os\n",
    "import sys\n",
    "from pyspark.sql.functions import *\n",
    "from pyspark.ml import *\n",
    "from pyspark.sql.types import *\n",
    "import findspark\n",
    "findspark.init('C:/Spark/spark-3.4.2-bin-hadoop3/')\n",
    "\n",
    "os.environ['PYSPARK_PYTHON'] = sys.executable\n",
    "os.environ['PYSPARK_DRIVER_PYTHON'] = sys.executable\n",
    "\n",
    "spark = SparkSession.builder\\\n",
    "    .config(\"spark.driver.memory\", \"10g\")\\\n",
    "    .master('local[*]')\\\n",
    "    .appName('HW2').getOrCreate()\n",
    "\n",
    "\n",
    "\n",
    "\n",
    "table_schema  = StructType([StructField('Id', IntegerType(), True),\n",
    "                            StructField('SepalLengthCm', FloatType(), True),\n",
    "                            StructField('SepalWidthCm', FloatType(), False),\n",
    "                            StructField('PetalLengthCm', FloatType(), False),\n",
    "                            StructField('PetalWidthCm', FloatType(), False),\n",
    "                            StructField('Species', StringType(), True)])\n",
    "\n",
    "iris_dataset = spark.read.format(\"csv\").\\\n",
    "                option(\"delimiter\", \",\").\\\n",
    "                option(\"header\",\"true\").\\\n",
    "                option(\"encoding\", \"utf-8\").\\\n",
    "                schema(table_schema).\\\n",
    "                load(\"iris.csv\")"
   ]
  },
  {
   "cell_type": "markdown",
   "metadata": {},
   "source": [
    "Смотрим на датасет"
   ]
  },
  {
   "cell_type": "code",
   "execution_count": 68,
   "metadata": {},
   "outputs": [
    {
     "name": "stdout",
     "output_type": "stream",
     "text": [
      "+---+-------------+------------+-------------+------------+-----------+\n",
      "| Id|SepalLengthCm|SepalWidthCm|PetalLengthCm|PetalWidthCm|    Species|\n",
      "+---+-------------+------------+-------------+------------+-----------+\n",
      "|  1|          5.1|         3.5|          1.4|         0.2|Iris-setosa|\n",
      "|  2|          4.9|         3.0|          1.4|         0.2|Iris-setosa|\n",
      "|  3|          4.7|         3.2|          1.3|         0.2|Iris-setosa|\n",
      "|  4|          4.6|         3.1|          1.5|         0.2|Iris-setosa|\n",
      "|  5|          5.0|         3.6|          1.4|         0.2|Iris-setosa|\n",
      "|  6|          5.4|         3.9|          1.7|         0.4|Iris-setosa|\n",
      "|  7|          4.6|         3.4|          1.4|         0.3|Iris-setosa|\n",
      "|  8|          5.0|         3.4|          1.5|         0.2|Iris-setosa|\n",
      "|  9|          4.4|         2.9|          1.4|         0.2|Iris-setosa|\n",
      "| 10|          4.9|         3.1|          1.5|         0.1|Iris-setosa|\n",
      "| 11|          5.4|         3.7|          1.5|         0.2|Iris-setosa|\n",
      "| 12|          4.8|         3.4|          1.6|         0.2|Iris-setosa|\n",
      "| 13|          4.8|         3.0|          1.4|         0.1|Iris-setosa|\n",
      "| 14|          4.3|         3.0|          1.1|         0.1|Iris-setosa|\n",
      "| 15|          5.8|         4.0|          1.2|         0.2|Iris-setosa|\n",
      "| 16|          5.7|         4.4|          1.5|         0.4|Iris-setosa|\n",
      "| 17|          5.4|         3.9|          1.3|         0.4|Iris-setosa|\n",
      "| 18|          5.1|         3.5|          1.4|         0.3|Iris-setosa|\n",
      "| 19|          5.7|         3.8|          1.7|         0.3|Iris-setosa|\n",
      "| 20|          5.1|         3.8|          1.5|         0.3|Iris-setosa|\n",
      "+---+-------------+------------+-------------+------------+-----------+\n",
      "only showing top 20 rows\n",
      "\n"
     ]
    }
   ],
   "source": [
    "iris_dataset.show()"
   ]
  },
  {
   "cell_type": "markdown",
   "metadata": {},
   "source": [
    "Также смотрим на схему"
   ]
  },
  {
   "cell_type": "code",
   "execution_count": 69,
   "metadata": {},
   "outputs": [
    {
     "name": "stdout",
     "output_type": "stream",
     "text": [
      "root\n",
      " |-- Id: integer (nullable = true)\n",
      " |-- SepalLengthCm: float (nullable = true)\n",
      " |-- SepalWidthCm: float (nullable = true)\n",
      " |-- PetalLengthCm: float (nullable = true)\n",
      " |-- PetalWidthCm: float (nullable = true)\n",
      " |-- Species: string (nullable = true)\n",
      "\n"
     ]
    }
   ],
   "source": [
    "iris_dataset.printSchema()"
   ]
  },
  {
   "cell_type": "markdown",
   "metadata": {},
   "source": [
    "Закодируем классы Ирисов"
   ]
  },
  {
   "cell_type": "code",
   "execution_count": 70,
   "metadata": {},
   "outputs": [],
   "source": [
    "classes = iris_dataset.select('Species').distinct().withColumn('class_id', monotonically_increasing_id())\n",
    "\n",
    "result = iris_dataset.join(classes,on='Species').drop('Species')"
   ]
  },
  {
   "cell_type": "code",
   "execution_count": 71,
   "metadata": {},
   "outputs": [
    {
     "name": "stdout",
     "output_type": "stream",
     "text": [
      "root\n",
      " |-- Id: integer (nullable = true)\n",
      " |-- SepalLengthCm: float (nullable = true)\n",
      " |-- SepalWidthCm: float (nullable = true)\n",
      " |-- PetalLengthCm: float (nullable = true)\n",
      " |-- PetalWidthCm: float (nullable = true)\n",
      " |-- class_id: long (nullable = false)\n",
      "\n"
     ]
    }
   ],
   "source": [
    "result.printSchema()"
   ]
  },
  {
   "cell_type": "markdown",
   "metadata": {},
   "source": [
    "Определяем фичи и таргеты"
   ]
  },
  {
   "cell_type": "code",
   "execution_count": 72,
   "metadata": {},
   "outputs": [],
   "source": [
    "from pyspark.ml.feature import VectorAssembler\n",
    "\n",
    "assembler = VectorAssembler(\n",
    "    inputCols=[\"SepalLengthCm\", \"SepalWidthCm\", \"PetalLengthCm\", \"PetalWidthCm\"],\n",
    "    outputCol=\"features\")\n",
    "\n",
    "output = assembler.transform(result).select('class_id','features')"
   ]
  },
  {
   "cell_type": "markdown",
   "metadata": {},
   "source": [
    "Смотрим на результат векторизации"
   ]
  },
  {
   "cell_type": "code",
   "execution_count": 73,
   "metadata": {},
   "outputs": [
    {
     "name": "stdout",
     "output_type": "stream",
     "text": [
      "+--------+--------------------+\n",
      "|class_id|            features|\n",
      "+--------+--------------------+\n",
      "|       1|[5.09999990463256...|\n",
      "|       1|[4.90000009536743...|\n",
      "|       1|[4.69999980926513...|\n",
      "|       1|[4.59999990463256...|\n",
      "|       1|[5.0,3.5999999046...|\n",
      "|       1|[5.40000009536743...|\n",
      "|       1|[4.59999990463256...|\n",
      "|       1|[5.0,3.4000000953...|\n",
      "|       1|[4.40000009536743...|\n",
      "|       1|[4.90000009536743...|\n",
      "|       1|[5.40000009536743...|\n",
      "|       1|[4.80000019073486...|\n",
      "|       1|[4.80000019073486...|\n",
      "|       1|[4.30000019073486...|\n",
      "|       1|[5.80000019073486...|\n",
      "|       1|[5.69999980926513...|\n",
      "|       1|[5.40000009536743...|\n",
      "|       1|[5.09999990463256...|\n",
      "|       1|[5.69999980926513...|\n",
      "|       1|[5.09999990463256...|\n",
      "+--------+--------------------+\n",
      "only showing top 20 rows\n",
      "\n"
     ]
    }
   ],
   "source": [
    "output.show()"
   ]
  },
  {
   "cell_type": "markdown",
   "metadata": {},
   "source": [
    "Разбиваем на train и test"
   ]
  },
  {
   "cell_type": "code",
   "execution_count": 74,
   "metadata": {},
   "outputs": [],
   "source": [
    "train_df, test_df = output.randomSplit(weights=[0.8,0.2], seed=100)\n",
    "\n"
   ]
  },
  {
   "cell_type": "markdown",
   "metadata": {},
   "source": [
    "Определяем и тренируем классификатор \n"
   ]
  },
  {
   "cell_type": "code",
   "execution_count": 75,
   "metadata": {},
   "outputs": [],
   "source": [
    "DT = classification.DecisionTreeClassifier(featuresCol='features',labelCol='class_id')\n",
    "model = DT.fit(train_df)"
   ]
  },
  {
   "cell_type": "markdown",
   "metadata": {},
   "source": [
    "Делаем предсказания на тесте"
   ]
  },
  {
   "cell_type": "code",
   "execution_count": 76,
   "metadata": {},
   "outputs": [
    {
     "name": "stdout",
     "output_type": "stream",
     "text": [
      "Test Error = 0.0645161\n",
      "0.9354838709677419\n"
     ]
    }
   ],
   "source": [
    "\n",
    "predictions = model.transform(test_df)\n",
    "from pyspark.ml.evaluation import MulticlassClassificationEvaluator\n",
    "\n",
    "evaluator = MulticlassClassificationEvaluator(labelCol=\"class_id\", predictionCol=\"prediction\", metricName=\"accuracy\")\n",
    "accuracy = evaluator.evaluate(predictions)\n",
    "print(\"Test Error = %g\" % (1.0 - accuracy))\n",
    "print(accuracy)"
   ]
  },
  {
   "cell_type": "markdown",
   "metadata": {},
   "source": [
    "Теперь кластеризация\n"
   ]
  },
  {
   "cell_type": "code",
   "execution_count": 77,
   "metadata": {},
   "outputs": [],
   "source": [
    "from pyspark.ml.clustering import KMeans\n",
    "from pyspark.ml.evaluation import ClusteringEvaluator\n",
    "\n",
    "output1 = output.drop('class_id')\n",
    "train_df1, test_df1 = output1.randomSplit(weights=[0.8,0.2], seed=100)\n",
    "\n",
    "kmeans = KMeans(k=3)\n",
    "model = kmeans.fit(train_df1)"
   ]
  },
  {
   "cell_type": "code",
   "execution_count": 78,
   "metadata": {},
   "outputs": [
    {
     "name": "stdout",
     "output_type": "stream",
     "text": [
      "Silhouette score =  0.7464386444766574\n"
     ]
    }
   ],
   "source": [
    "predictions = model.transform(test_df1)\n",
    "evaluator = ClusteringEvaluator()\n",
    "silhouette = evaluator.evaluate(predictions)\n",
    "print(\"Silhouette score = \", silhouette)"
   ]
  },
  {
   "cell_type": "markdown",
   "metadata": {},
   "source": [
    "Перейдем к другим датасетам"
   ]
  },
  {
   "cell_type": "code",
   "execution_count": 79,
   "metadata": {},
   "outputs": [],
   "source": [
    "youtube_dataset = spark.read.format(\"csv\").\\\n",
    "                option(\"delimiter\", \",\").\\\n",
    "                option(\"header\",\"true\").\\\n",
    "                option(\"encoding\", \"cp1251\").\\\n",
    "                load(\"youtube_channels_1M_clean.csv\")"
   ]
  },
  {
   "cell_type": "code",
   "execution_count": 80,
   "metadata": {},
   "outputs": [
    {
     "name": "stdout",
     "output_type": "stream",
     "text": [
      "+--------------------+--------------------+--------------------+--------------------+--------------------+--------------------+--------------------+--------------------+--------------------+--------------------+--------------------+------------------+-------------------------+---------------------------+------------------------+--------------------+\n",
      "|          channel_id|        channel_link|        channel_name|    subscriber_count|         banner_link|         description|            keywords|              avatar|             country|         total_views|        total_videos|         join_date|mean_views_last_30_videos|median_views_last_30_videos|std_views_last_30_videos|     videos_per_week|\n",
      "+--------------------+--------------------+--------------------+--------------------+--------------------+--------------------+--------------------+--------------------+--------------------+--------------------+--------------------+------------------+-------------------------+---------------------------+------------------------+--------------------+\n",
      "|UCUMHFa347GD8EIRa...|       /@TonettaClay|        Tonetta Clay|                 781|https://yt3.googl...|My name is Tonett...|                null|                null|                null|                null|                null|              null|                     null|                       null|                    null|                null|\n",
      "|                  ,\"|https://yt3.googl...|                null|            227567.0|              1984.0|          2015-12-08|    10.8666666666667|                 6.5|    13.9229626476871|                 1.5|                null|              null|                     null|                       null|                    null|                null|\n",
      "|UC28mqg7IlYWEhrZw...|/@FoodnHappinessV...|  Food 'n' Happiness|                   0|                null|      Hello viewers.|                null|                null|                null|                null|                null|              null|                     null|                       null|                    null|                null|\n",
      "| I am Veena from ...| Karnataka. Cooki...| I created this c...| I will try to sh...|              simple| authentic and ea...| new Breakfast Re...| Easy and Instant...| Easy and Instant...| New Recipes then...|                null|              null|                     null|                       null|                    null|                null|\n",
      "|So plz like my re...|  share and subsc...|                null|                null|                null|                null|                null|                null|                null|                null|                null|              null|                     null|                       null|                    null|                null|\n",
      "|          Thank you.|                null|                null|                null|                null|                null|                null|                null|                null|                null|                null|              null|                     null|                       null|                    null|                null|\n",
      "|  Food 'n' Happiness|                null|                null|                null|                null|                null|                null|                null|                null|                null|                null|              null|                     null|                       null|                    null|                null|\n",
      "|#FoodnHappiness #...|                null|                null|                null|                null|                null|                null|                null|                null|                null|                null|              null|                     null|                       null|                    null|                null|\n",
      "|#FestivalRecipes ...|                null|                null|                null|                null|                null|                null|                null|                null|                null|                null|              null|                     null|                       null|                    null|                null|\n",
      "| \",\"food n happiness|  food and happiness|                food|      Foodnhappiness|      Food happiness|     #foodnhappiness|    food n happiness|       Indian Recipe|      Instant Recipe|         Easy Recipe| Easy Breakfast R...|       Indian Food|       Indian Food Recipe|          Easy Lunch Recipe|           Food Channels| instant Dinner R...|\n",
      "|UCoLwWY9zQ7Jp8aDt...|         /@TimShieff|          Tim Shieff|              166000|https://yt3.googl...|The journey of re...|                null|                null|                null|                null|                null|              null|                     null|                       null|                    null|                null|\n",
      "| https://rdscvr.com\"|Tim, shieff, timo...|https://yt3.googl...|      United Kingdom|          27250763.0|               372.0|          2006-03-19|    5456.93333333333|              3430.0|    4322.80314867821|                 0.0|              null|                     null|                       null|                    null|                null|\n",
      "|UCAQOeJwsgBMC74-O...|/@JerryAndJulieMusic| Jerry & Julie Music|                1090|https://yt3.googl...|Welcome to Jerry ...|                null|                null|                null|                null|                null|              null|                     null|                       null|                    null|                null|\n",
      "| Here is the link...|                null|                null|                null|                null|                null|                null|                null|                null|                null|                null|              null|                     null|                       null|                    null|                null|\n",
      "|If you want to se...| here is my addre...|                null|                null|                null|                null|                null|                null|                null|                null|                null|              null|                     null|                       null|                    null|                null|\n",
      "|justanordinarygir...|                null|                null|                null|                null|                null|                null|                null|                null|                null|                null|              null|                     null|                       null|                    null|                null|\n",
      "|*IF YOU LIKE AND ...| TIPS ARE GREATLY...|                null|                null|                null|                null|                null|                null|                null|                null|                null|              null|                     null|                       null|                    null|                null|\n",
      "|  BuyMeACoffee Link |                null|                null|                null|                null|                null|                null|                null|                null|                null|                null|              null|                     null|                       null|                    null|                null|\n",
      "|https://www.buyme...|                null|                null|                null|                null|                null|                null|                null|                null|                null|                null|              null|                     null|                       null|                    null|                null|\n",
      "|\",\"jerryandjuliem...|      jerryspianobar| juliesguitarchannel|               music|               piano|                 fun|            concerts| tinykitchenconcerts|            keyboard|       entertainment|             concert| singersongwriters|                  husband|                       wife|                   happy|              couple|\n",
      "+--------------------+--------------------+--------------------+--------------------+--------------------+--------------------+--------------------+--------------------+--------------------+--------------------+--------------------+------------------+-------------------------+---------------------------+------------------------+--------------------+\n",
      "only showing top 20 rows\n",
      "\n"
     ]
    }
   ],
   "source": [
    "youtube_dataset.show()"
   ]
  },
  {
   "cell_type": "markdown",
   "metadata": {},
   "source": [
    "Смотри на схему"
   ]
  },
  {
   "cell_type": "code",
   "execution_count": 81,
   "metadata": {},
   "outputs": [
    {
     "name": "stdout",
     "output_type": "stream",
     "text": [
      "root\n",
      " |-- channel_id: string (nullable = true)\n",
      " |-- channel_link: string (nullable = true)\n",
      " |-- channel_name: string (nullable = true)\n",
      " |-- subscriber_count: string (nullable = true)\n",
      " |-- banner_link: string (nullable = true)\n",
      " |-- description: string (nullable = true)\n",
      " |-- keywords: string (nullable = true)\n",
      " |-- avatar: string (nullable = true)\n",
      " |-- country: string (nullable = true)\n",
      " |-- total_views: string (nullable = true)\n",
      " |-- total_videos: string (nullable = true)\n",
      " |-- join_date: string (nullable = true)\n",
      " |-- mean_views_last_30_videos: string (nullable = true)\n",
      " |-- median_views_last_30_videos: string (nullable = true)\n",
      " |-- std_views_last_30_videos: string (nullable = true)\n",
      " |-- videos_per_week: string (nullable = true)\n",
      "\n"
     ]
    }
   ],
   "source": [
    "youtube_dataset.printSchema()"
   ]
  },
  {
   "cell_type": "markdown",
   "metadata": {},
   "source": [
    "Очищаем"
   ]
  },
  {
   "cell_type": "code",
   "execution_count": 82,
   "metadata": {},
   "outputs": [
    {
     "name": "stdout",
     "output_type": "stream",
     "text": [
      "+--------------------+--------------------+--------------------+----------------+--------------------+--------------------+--------------------+--------------------+--------------------+------------+------------+----------+-------------------------+---------------------------+------------------------+---------------+\n",
      "|          channel_id|        channel_link|        channel_name|subscriber_count|         banner_link|         description|            keywords|              avatar|             country| total_views|total_videos| join_date|mean_views_last_30_videos|median_views_last_30_videos|std_views_last_30_videos|videos_per_week|\n",
      "+--------------------+--------------------+--------------------+----------------+--------------------+--------------------+--------------------+--------------------+--------------------+------------+------------+----------+-------------------------+---------------------------+------------------------+---------------+\n",
      "|UCOqwGhI1AmpWwxMY...|/@KichuandYugiMag...|Kichu and Yugi Ma...|            1160|https://yt3.googl...|Hi friends welcom...|                null|https://yt3.googl...|                null|    288328.0|       476.0|2023-12-21|                     85.7|                       66.0|        72.0320067747665|           1.25|\n",
      "|UCAR5_JQSTbYrQoqO...|/@lighttajiribey4221|    light tajiri bey|            5670|                null|my sovereigne bou...|                null|https://yt3.googl...|                null|    737050.0|       460.0|2017-09-11|         980.833333333333|                      953.5|         158.21843199268|            2.0|\n",
      "|UCc-N24Y5OA0gqbjB...|      /@WeirdHistory|       Weird History|         4420000|https://yt3.googl...|Welcome to the ch...|weird history, hi...|https://yt3.googl...|       United States| 620136241.0|       821.0|2017-06-06|         75784.2333333333|                    66888.0|        44939.1501497179|            3.0|\n",
      "|UCxVS6ZJMENAjeE70...|/@happyhealthyhadlee|Happy Healthy Hadlee|             134|https://yt3.googl...|                null|                null|https://yt3.googl...|                null|      8491.0|        60.0|2020-03-03|         73.3333333333333|                       55.0|        97.6999943136584|            1.5|\n",
      "|UCCPj1Nru-A0TPYen...|   /@TheKenContinuum|   The Ken Continuum|           22900|https://yt3.googl...|A Toronto based c...|                null|https://yt3.googl...|              Canada|  12968134.0|      1542.0|2015-05-18|         1567.03448275862|                     1480.0|        487.299418170051|            5.0|\n",
      "|UCUz1YxdzDB5s_vma...|      /@jessiraeyoga|      Jessi Rae Yoga|           10000|https://yt3.googl...|Jessi Rae is an i...|jessi rae yoga, y...|https://yt3.googl...|       United States|    713941.0|        77.0|2014-05-10|         1404.33333333333|                      872.5|        1325.33770120005|           0.25|\n",
      "|UC4zhgfTldNIpeEBJ...|           /@skmyoga|            Skm Yoga|            3240|https://yt3.googl...|Skm yoga is one o...|yoga, best yoga i...|https://yt3.googl...|               India|    176078.0|       422.0|2016-06-17|         154.933333333333|                      133.0|        98.0309248259049|            3.0|\n",
      "|UCA_1CoRZDMFTsnUw...|    /@Forolderadults|    For Older Adults|            1770|https://yt3.googl...|Unlock a pain-fre...|seniorfitness, se...|https://yt3.googl...|       United States|     98794.0|       483.0|2018-04-08|                    207.4|                      135.5|        280.140036410364|           0.75|\n",
      "|UC05lSLCL3CEGS1yD...|        /@salter3522|              Salter|            1410|https://yt3.googl...|                null|                null|https://yt3.googl...|                null|    486984.0|       191.0|2019-09-03|                    901.5|                      333.5|        1220.87492534384|           0.25|\n",
      "|UCUsPSFYW-X5fJ3s6...|       /@FellowCarer|        Fellow Carer|              30|https://yt3.googl...|Join me as I simp...|Healthcare, Healt...|https://yt3.googl...|      United Kingdom|       670.0|         9.0|2023-09-07|                    85.75|                       84.0|        32.6601821795286|            1.5|\n",
      "|UColLV_yDLUB6Ivto...|/@Punjabifoodandf...|Punjabi food and ...|             109|                null|Hi, welcome to my...|Sarabjit Kaur, sa...|https://yt3.googl...|               India|     14822.0|        31.0|2021-12-01|         97.7272727272727|                       67.0|        58.9716278608789|           1.75|\n",
      "|UCJVYrcaEUk3xWX8U...|   /@AuthenticKerala|    Authentic Kerala|          257000|https://yt3.googl...|Hi Friends, My na...|Authentic Kerala,...|https://yt3.googl...|               India|  21163261.0|       178.0|2020-04-21|                  11259.5|                     7189.5|        14418.4274240755|           0.25|\n",
      "|UCBT_miHE1PWLq-d9...|     /@sirmahadi4237|          Sir Mahadi|             769|https://yt3.googl...|                null|Entertainment, Fu...|https://yt3.googl...|          Bangladesh|     19911.0|       311.0|2011-10-21|         15.7666666666667|                       12.0|        13.6740224107206|           0.75|\n",
      "|UCHOxt9soGp5sJTTZ...|/@mywifethedietit...|My Wife the Dieti...|             235|https://yt3.googl...|My Wife the Dieti...|nutrition, health...|https://yt3.googl...|              Canada|     12800.0|       243.0|2022-03-02|                    163.2|                       57.5|        231.257778247565|            2.0|\n",
      "|UCCt0KMioh8kBkzKq...|            /@TMASTL|The Morning After...|            5050|https://yt3.googl...|The Morning After...|tma stl, the morn...|https://yt3.googl...|       United States|   1190587.0|       709.0|2021-12-02|         2190.93333333333|                      185.0|        7303.33476768585|           3.75|\n",
      "|UCb5SYiL-YDSyjt1v...|            /@bngngb|                 bng|             589|                null|Sneakerhead, Food...|                null|https://yt3.googl...|              Canada|    616484.0|       912.0|2017-01-20|         68.3666666666667|                       22.5|        124.502873683926|            1.0|\n",
      "|UCPRzmYanlUwdLQao...|     /@HolisticMomMD|     HolisticMom, MD|            3570|https://yt3.googl...|Born and raised i...|Holistic, Urdu, F...|https://yt3.googl...|       United States|    137020.0|       536.0|2015-07-04|         73.8666666666667|                       52.5|        62.7060514534992|            1.0|\n",
      "|UCu3TTD5kwNXmHNFa...|/@AppetitlichRezepte|Appetitliche Rezepte|          148000|https://yt3.googl...|Hallo Freunde! Ic...|Rezepte, Appetitl...|https://yt3.googl...|             Germany|  24791834.0|       105.0|2023-05-02|                  71292.4|                    10524.0|        183442.704220619|           2.25|\n",
      "|UCp9g6rwSkUb5sFEt...|      /@evaroque3345|EvaвЂ™s simple Cr...|               2|                null|International Hom...|                null|https://yt3.googl...|                null|       678.0|        30.0|2013-01-20|         24.7916666666667|                       11.0|        42.3526653693589|           5.75|\n",
      "|UCe9B-jmUCz8pUTUr...|     /@dalegonegro88|        Dalego Negro|             181|https://yt3.googl...|trovador alternat...|Musica, Alternati...|https://yt3.googl...|           Argentina|     38186.0|        99.0|2012-04-18|                    751.2|                       92.0|        1548.98404123477|            1.0|\n",
      "|UCdTCnB34MJUTO9Cs...| /@CrossfitAmitYadav|          Amit Yadav|             509|https://yt3.googl...|  Fitness Enthusiast|Health, Fitness, ...|https://yt3.googl...|               India|    202531.0|       339.0|2018-01-07|         201.428571428571|                       48.0|        315.968514318779|            0.5|\n",
      "|UCIlZN6BjqkKSoXYX...|        /@TumbleChef|         Tumble Chef|           53500|https://yt3.googl...|Traveling Tumblin...|Tumbling, Gymnast...|https://yt3.googl...|       United States|  46142055.0|      3208.0|2017-01-27|                    276.3|                      223.0|        195.335975522517|           0.25|\n",
      "|UCfBaEE2lAPX2BVwr...|        /@Emaaregypt|               Emaar|            6360|https://yt3.googl...|At Emaar Misr, th...|Emaar, Emaar Misr...|https://yt3.googl...|               Egypt|  11222803.0|       359.0|2011-02-16|         45294.9666666667|                     1109.0|        153876.110691357|           0.75|\n",
      "|UCGlEu1MB8kvGer_K...|/@bruno_oliveira_...|Bruno Oliveira Funny|            4990|https://yt3.googl...|Bem vindo ao meu ...|                null|https://yt3.googl...|              Brazil|   1765108.0|       797.0|2018-01-28|         104.866666666667|                       17.5|        445.751854236811|           1.25|\n",
      "|UCbZ7yo9rVVv9cq59...|  /@MohanYadav-ew1ly|     @Mshardwork7983|             943|                null|Subscribe channel...|                null|https://yt3.googl...|                null|    125612.0|       323.0|2023-08-12|         99.9333333333333|                       67.0|        161.731657039953|            7.0|\n",
      "|UCP9Wfs1RZzIActui...|     /@DeerParkChiro|Whitley Kelley (K...|              38|                null|KSW CHIROPRACTIC ...|                null|https://yt3.googl...|                null|      2478.0|        37.0|2023-05-03|         69.2333333333333|                       48.0|        72.8631975386447|           0.25|\n",
      "|UCIBl88IABUZOAKTD...|         /@RetroCudi|          Retro Cudi|            5580|https://yt3.googl...|The OG of Gaming ...|                null|https://yt3.googl...|       United States|    752246.0|      1263.0|2016-05-21|         29.8333333333333|                       10.0|        54.5643860244228|           1.25|\n",
      "|UCBQdDOniWxj9mYAn...|            /@koki88|зґ°гѓћгѓѓгѓЃгѓ§ KOKI|           33000|https://yt3.googl...|вњґпёЋеЃҐеє·гЃ§гЃ...|з­‹гѓ€гѓ¬, гѓЂг‚¤...|https://yt3.googl...|               Japan|  39655627.0|       520.0|2015-04-01|                   1952.3|                     1721.5|        1079.84008538302|           0.25|\n",
      "|UCwkmcEdzRoPjlzWc...|    /@JarredChaisson|Jarred333 Jarred ...|           18800|https://yt3.googl...|Cash App $JarredC...|eating, eat, food...|https://yt3.googl...|       United States|  16233586.0|     31344.0|2013-01-22|                     21.7|                       17.5|        25.6815757564316|            7.5|\n",
      "|UC0ys8L37nXzL7HNp...| /@dear_charotte2022|Dearcharotte KITCHEN|            1030|https://yt3.googl...|\"Me a Pilipina li...|history, germany,...|https://yt3.googl...|             Germany|     51562.0|       128.0|2021-11-02|                    403.6|                      185.5|        465.345147892042|            2.0|\n",
      "|UC_hBneA8h_0a_GOz...| /@HOLLYWOODUNLOCKED|  HOLLYWOOD UNLOCKED|          506000|https://yt3.googl...|The key to celebr...|entertainment, go...|https://yt3.googl...|       United States|  87820346.0|      1163.0|2015-04-10|         196885.866666667|                    61986.0|        364610.454857577|           2.25|\n",
      "|UCHo_QtLlTy8_RqyW...|  /@GardeningWithBen|  Gardening With Ben|            1550|https://yt3.googl...|Come and check ou...|gardening, allotm...|https://yt3.googl...|      United Kingdom|    161772.0|       324.0|2011-10-05|         795.633333333333|                      134.0|        2833.12993564048|           0.25|\n",
      "|UCVc6TcYOW1KCQAbV...|/@Weekendatthecot...|Weekend at the Co...|           33000|https://yt3.googl...|Discover the YouT...|food, recipes, dr...|https://yt3.googl...|              Canada|   5563252.0|       704.0|2015-06-24|         821.866666666667|                      535.5|        782.719691559856|            1.0|\n",
      "|UClyjw_kcMDiy3SpA...|     /@easyrecipesss|        Easy Recipes|             878|https://yt3.googl...|                null|easy recipes, che...|https://yt3.googl...|       United States|    104457.0|        24.0|2022-02-08|         4358.66666666667|                      234.5|        15189.2547481947|           0.75|\n",
      "|UCAL2bKLLxTf623Vp...|    /@Flexpresslifts|           Flexpress|              83|                null|A fitness group r...|                null|https://yt3.googl...|                null|     15274.0|        80.0|2023-10-08|                     49.5|                       32.5|        52.0402088133141|           2.25|\n",
      "|UC9vrAyQB8TmOUWYw...|/@jahanhealthandf...|JAHAN HEALTH AND FUN|             266|https://yt3.googl...|                null|                null|https://yt3.googl...|                null|     23913.0|       146.0|2021-05-16|         217.066666666667|                       57.5|        705.435181682595|           0.25|\n",
      "|UCrAseoqYG1hWlX03...|   /@madhupandey8713|       Fitness club |            1210|https://yt3.googl...|Hi, I'm Madhuri P...|                null|https://yt3.googl...|                null|    223838.0|       355.0|2019-11-27|                    935.2|                      596.0|        829.273432992199|            6.5|\n",
      "|UCxMFjBOy4aapkNFf...|         /@EGANISBIG|                EGAN|           26600|https://yt3.googl...|                null|Egan, Redneck Pud...|https://yt3.googl...|       United States|    243059.0|        52.0|2017-08-03|                  4727.72|                     2701.0|        7043.73422281108|           0.25|\n",
      "|UCo7gZhsP-uQ1-PC3...|  /@BlueOceanFitness|  Blue Ocean Fitness|             432|                null|                null|fitness, fat_loss...|https://yt3.googl...|       United States|    279204.0|       789.0|2011-08-07|         29.4666666666667|                       18.5|        37.9629058716825|            3.5|\n",
      "|UCjPawyN0WAeQblXM...|/@AnytimeFitnessI...|Anytime Fitness I...|            1830|https://yt3.googl...|Anytime Fitness u...|Fitness club, gym...|https://yt3.googl...|               India|   2516937.0|       382.0|2014-06-18|                  22677.7|                       68.5|        102306.086013541|            0.5|\n",
      "|UC5-FMQoQYChowsMf...|       /@AshnirVlogs|        Ashnir Vlogs|            1370|https://yt3.googl...|Welcome to our fa...|                null|https://yt3.googl...|       United States|    240842.0|       150.0|2023-06-27|                    320.0|                      144.0|          298.3593231563|           0.75|\n",
      "|UCfOnm59StB-yRU0F...|       /@prince59484|Rakesh Prince fit...|             605|                null|I am fitness trai...|                null|https://yt3.googl...|                null|    277970.0|       734.0|2011-02-09|         19.8333333333333|                       12.5|        21.5500708944438|           0.25|\n",
      "|UC2fG409R9ljhYuGD...|/@CuTcoPyPaSteHuS...|CuT#coPy#PaSte#Hu...|               1|                null|                null|                null|https://yt3.googl...|                null|        18.0|         2.0|2024-03-09|                      9.0|                        9.0|                     4.0|            0.5|\n",
      "|UCUIRj09ufBN3L7x7...|   /@FitnessClub1122|        FITNESS CLUB|            1020|https://yt3.googl...|THIS IS A ONLY PL...|                null|https://yt3.googl...|                null|    318147.0|        48.0|2024-01-12|                   4053.3|                     2438.5|        5676.49804104608|            6.5|\n",
      "|UCmHs0N1UKSGYXSHl...|        /@StarGate06|            StarGate|             909|https://yt3.googl...|Thank You Visit S...|funny, enjoy, pod...|https://yt3.googl...|            TГјrkiye|    917468.0|       284.0|2023-08-25|         7.63636363636364|                        5.0|        13.3264789544093|            2.0|\n",
      "|UCC3puKrIG0Z32v_1...|/@testosteronemas...|Ben Richardson - ...|            3120|https://yt3.googl...|Hello there, welc...|ben richardson, t...|https://yt3.googl...|       United States|    204255.0|       249.0|2011-11-28|         1108.56666666667|                      624.5|        1102.26883240382|            0.5|\n",
      "|UCs92TaW0BDx3yy4W...|  /@GeorgieStevenson|   Georgie Stevenson|          118000|https://yt3.googl...|Instagram: @georg...|fitness, and, health|https://yt3.googl...|           Australia|  11390271.0|       228.0|2017-01-06|         15530.9333333333|                    12870.0|        10384.0014250555|           0.25|\n",
      "|UC0Jarr48fLQ0bN1T...|/@suklachoudhury2419|     sukla choudhury|             241|                null|   Love for cooking |                null|https://yt3.googl...|                null|     79378.0|       224.0|2022-11-03|                     35.8|                       27.0|        29.5165490304451|           1.25|\n",
      "|UCKDglQ2pOZD4B6R6...|        /@DashDining|         Dash Dining|             581|https://yt3.googl...|Making quick easy...|                null|https://yt3.googl...|      United Kingdom|     56043.0|        29.0|2022-09-12|                  2214.32|                      549.0|        3917.38723865793|           0.25|\n",
      "|UCDQeP58Wc2SJqvkV...|/@TheAverageManwi...|AverageManwithlil...|            5240|https://yt3.googl...|                null|                null|https://yt3.googl...|                null|    270921.0|        71.0|2022-12-30|         5611.86666666667|                     3252.5|        6242.46808953709|           1.25|\n",
      "|UCRrduIt829Bu49do...|  /@QwikKiwiCoaching|  Qwik Kiwi Coaching|             401|https://yt3.googl...|Qwik Kiwi is a Ne...|Triathlon, Marath...|https://yt3.googl...|                null|    295345.0|       291.0|2008-03-21|         735.733333333333|                       29.5|        2043.34715492878|           0.25|\n",
      "|UCeSA0irjULyTv8di...|     /@AnabolicCoach|      Anabolic Coach|             568|https://yt3.googl...|Health Coach - Pr...|Healthcoach, Body...|https://yt3.googl...|       United States|      6008.0|        80.0|2022-10-16|                     50.3|                       36.0|        47.7054504223574|           0.75|\n",
      "|UCVZ6jwTTwhssn4RV...|/@seemassmallkitc...|Seema's small kit...|            1180|https://yt3.googl...|I am seema. My ch...|banana flower rec...|https://yt3.googl...|               India|    371928.0|       500.0|2018-11-12|         116.133333333333|                       27.5|         401.83327664869|            3.5|\n",
      "|UC2mLNKZLi1SXKpwC...|     /@muattermohsin|      Muatter Mohsin|          132000|https://yt3.googl...|                null|                null|https://yt3.googl...|                null|  32918951.0|       397.0|2020-07-27|         72515.4333333333|                    61729.5|        37932.8045405586|            2.5|\n",
      "|UCv9hjmC-M77u3E8l...|       /@Neurohacker|Neurohacker Colle...|           19400|https://yt3.googl...|We are scientists...|Neurohacker, Noot...|https://yt3.googl...|       United States|   1599507.0|       359.0|2016-04-14|         515.333333333333|                      233.5|        840.657256093244|           0.75|\n",
      "|UCYyW9TJhQdhKFR9T...|     /@keeppushinpod|Keep Pushin' with...|            1490|https://yt3.googl...|Diving deep into ...|                null|https://yt3.googl...|                null|     50519.0|        15.0|2019-08-19|         1721.09090909091|                     1032.0|        2661.25450440015|           0.25|\n",
      "|UCn9ZE1X8y61XI132...|        /@vichyspace|        Vichy Space |            1250|https://yt3.googl...|HELLO EVERYONE, Y...|                null|https://yt3.googl...|                null|    250825.0|       924.0|2021-10-09|                     15.0|                        5.0|        42.0309409839942|           2.25|\n",
      "|UC20Usl5hjz4InRE4...|     /@TomHallOnline|            Tom Hall|           27200|                null|Welcome to my You...|                null|https://yt3.googl...|       United States|  16390162.0|      2924.0|2006-06-21|                    511.1|                      426.5|        264.805255486619|           0.75|\n",
      "|UCzAiRdiPlsYyfICV...|      /@DharmiPatil-|Dharmi ki simple ...|               8|https://yt3.googl...|Hii everyone my n...|Dharmi Patil pati...|https://yt3.googl...|               India|      5392.0|        88.0|2023-10-17|         8.47058823529412|                        2.0|         13.469432264811|            1.0|\n",
      "|UCoSSaRIh1BigbAkr...|/@station2fitness...|Station2 Fitness Gym|              39|                null|                null|                null|https://yt3.googl...|                null|     14390.0|       244.0|2020-04-28|                    100.3|                       11.5|        274.483533203724|           0.75|\n",
      "|UCMmeON8ooLYzZvfq...| /@Healthy-recipes25|  HEALTHY RECIPES 25|               4|                null|Hello . Welcome t...|                null|https://yt3.googl...|                null|        36.0|         6.0|2023-12-06|                      6.0|                        5.0|        2.70801280154532|            1.0|\n",
      "|UCAKkBhWaZm4dFFRz...|        /@JOAT_Vlogs|         NAG FITNESS|             537|                null|                null|NAG FITNESS, NAGF...|https://yt3.googl...|               India|     29193.0|        47.0|2021-07-19|         456.608695652174|                      369.0|        284.165710860289|           0.25|\n",
      "|UCTuEmSEiVTLDFzVz...|/@FreeFlowMusic-w...|     Free Flow Music|              36|https://yt3.googl...|                null|mrsuicidesheep, m...|https://yt3.googl...|               Ghana|      1504.0|        40.0|2023-05-22|         44.4333333333333|                       32.0|        49.4103115643778|           0.25|\n",
      "|UC0H_trVLLThIjH3U...| /@workingmomkitchen| workingmomkitchen07|            1500|                null|It's easy and hea...|Workingmomkitchen...|https://yt3.googl...|               India|    378604.0|       336.0|2023-07-18|                     83.9|                       69.5|        65.2356497629939|            2.5|\n",
      "|UCMSjcDBHYi8tNA2n...|       /@cozyhomeetc|       Cozy Home Etc|             365|https://yt3.googl...|Welcome to our co...|cooking, how to m...|https://yt3.googl...|                null|     67721.0|        38.0|2022-10-07|         2567.39130434783|                      227.0|        6885.42865792702|           0.25|\n",
      "|UCUHqFuSL8JLdevXX...|   /@SeanLeeDavies88|     Sean Lee-Davies|           26800|https://yt3.googl...|Sean Lee-Davies i...|Sean Lee-Davies, ...|https://yt3.googl...|           Hong Kong|    330835.0|        25.0|2010-02-01|                 13233.68|                     1964.0|        51857.8607778763|            0.5|\n",
      "|UCAfquicUYGba3nuz...|      /@RVingTodayTV|      RVing Today TV|           10200|https://yt3.googl...|After 12 years, R...|RVing, RV Lifesty...|https://yt3.googl...|       United States|   2087185.0|       675.0|2010-12-17|         309.033333333333|                      193.0|        304.624302306227|           0.75|\n",
      "|UCJGfhjwcqg7ebxE-...|/@ashevillevehicl...|Asheville Vehicle...|            2710|https://yt3.googl...|                null|                null|https://yt3.googl...|       United States|    405770.0|        85.0|2019-10-09|         3892.06666666667|                     1369.0|        6342.71129687893|           0.25|\n",
      "|UC-cDt6ME2j4gRpNB...| /@MyCurlyAdventures| My Curly Adventures|           17800|                null|I love sharing ho...|My, Curly, Advent...|https://yt3.googl...|       United States|   5745060.0|      1113.0|2017-10-17|         4534.53333333333|                     2031.0|        5449.85746439503|           0.25|\n",
      "|UCTjJZJjyH9hGXbgT...|            /@SCGoat|              SCGoat|             199|https://yt3.googl...|Ranting about gam...|                null|https://yt3.googl...|                null|     35827.0|        14.0|2023-04-05|         1239.33333333333|                     1522.5|        836.392783857494|           0.25|\n",
      "|UCsaCWFB2OKhURCsz...| /@HomeKitchen-hs7qz|        Home Kitchen|              15|                null|                null|                null|https://yt3.googl...|                null|        62.0|         4.0|2024-02-27|                     15.5|                       15.5|                     7.5|            1.0|\n",
      "|UCTa09RrKTIbOXizM...|           /@MDVegan|            MD Vegan|            9110|https://yt3.googl...|Daily new video r...|                null|https://yt3.googl...|             Germany|   1623820.0|      3962.0|2013-07-09|         77.9666666666667|                       64.0|        52.8579753259199|            7.0|\n",
      "|UCoq-esaiThmy5HvM...|  /@GoodLifeTV-zs9kv|          GoodLifeTV|               4|https://yt3.googl...| On GoodLifeTV, w...|                null|https://yt3.googl...|           Sri Lanka|       129.0|         8.0|2024-02-01|         10.8571428571429|                       14.0|          7.586238884201|           1.75|\n",
      "|UCKZvKRtsC3zZ0cF4...|    /@SMCookandvlogs|     SM cook & vlogs|            1100|https://yt3.googl...|Hello viewers. Th...|How to make food ...|https://yt3.googl...|               India|    225008.0|       330.0|2022-10-16|         242.333333333333|                      230.0|        52.9706417639893|           3.25|\n",
      "|UCBJ6cBW_wCv4ItHH...|       /@jovmeena557|      jovmeena volgs|            2760|https://yt3.googl...|Hi friends my nam...|Cooking videos, V...|https://yt3.googl...|               India|    870984.0|       766.0|2023-04-26|         59.4666666666667|                       55.0|        40.4266688654353|           2.25|\n",
      "|UCFrztwe_CJu7RtBU...|/@naturallythinfo...|         Laura Dixon|            1180|https://yt3.googl...|Live in your DREA...|weight loss, natu...|https://yt3.googl...|                null|     81728.0|       356.0|2016-08-31|         92.7666666666667|                       78.0|        48.7788774869706|           1.25|\n",
      "|UC8Oju9kp1MXEdt1s...|          /@machunec|Machaune The Goddess|             248|https://yt3.googl...|Hi! I'm Machaune ...|                null|https://yt3.googl...|                null|     44343.0|       294.0|2012-02-01|         77.9666666666667|                       35.0|        167.440234777135|            0.5|\n",
      "|UCm3dUMybBAA1dN0o...|         /@ashazapff|           Asha Zapf|          181000|https://yt3.googl...|Hi, I'm Asha! I a...|           Asha Zapf|https://yt3.googl...|                null|   8937159.0|       286.0|2018-03-06|                   9509.4|                     5776.5|        11944.0484387274|            0.5|\n",
      "|UCHG4MLfnHMUWVqZO...|/@NortonChildrens...|   Norton Children's|            1060|https://yt3.googl...|The Norton Childr...|                null|https://yt3.googl...|                null|    307792.0|       449.0|2015-11-02|         65.3666666666667|                       47.5|        63.8568625042672|           1.75|\n",
      "|UCav5PlGXhPC7u23i...|   /@naykitchen-7179|             iamlaos|            1210|https://yt3.googl...|аёЄаёљаёІаёўаё”аё...|                null|https://yt3.googl...|       United States|    282997.0|       551.0|2016-10-07|         222.233333333333|                       26.0|        629.874944378291|           1.25|\n",
      "|UCFhEsCNs0xaQbeB5...|        /@ConnorPugs|         Connor Pugs|          940000|https://yt3.googl...|Hi, I'm Connor an...|connor pugs, comm...|https://yt3.googl...|       United States| 144588582.0|      2742.0|2016-03-07|         7864.23333333333|                     6565.0|        5248.62525291676|            7.5|\n",
      "|UC540Fr32K--jGQfA...|    /@FiveX3Training|      FiveX3Training|             400|https://yt3.googl...|FiveX3 Training i...|                null|https://yt3.googl...|       United States|    221818.0|       330.0|2011-03-29|         40.8333333333333|                       12.0|        110.809771931701|            4.5|\n",
      "|UCkTNGVDj6AZT9kjm...|   /@ShaneDaniels009|       Shane Daniels|            5090|                null|hey youtube! i ho...|Tempest, Parkour,...|https://yt3.googl...|                null|    210863.0|       114.0|2012-10-09|                     42.6|                       36.5|        26.0622332120638|           0.75|\n",
      "|UCEEBViXxXYHNLqHh...|    /@garrystutz2973|         Garry Stutz|               3|https://yt3.googl...|                null|                null|https://yt3.googl...|                null|     55463.0|        55.0|2011-11-05|                      8.3|                        5.5|        7.53724087448451|            1.5|\n",
      "|UCbt5eKTbezIvlnxm...|      /@Rameensdiary|     Rameen's diary |            1370|https://yt3.googl...|Entertain and skills|Rameens diary, Yt...|https://yt3.googl...|            Pakistan|     56104.0|       119.0|2021-09-01|                    603.0|                      239.0|           1414.66240967|            2.0|\n",
      "|UCoBSi6AOGXWb_NBI...|       /@yellowstone|         Yellowstone|         1290000|https://yt3.googl...|The home for all ...|Paramount Network...|https://yt3.googl...|       United States| 423045403.0|       752.0|2017-02-09|                 314666.2|                   196416.0|        393936.968952175|            0.5|\n",
      "|UCzH0DzJsYE-eLTa1...|/@BhanupriyaEnter...|Bhanupriyaenterta...|            2980|https://yt3.googl...|                null|Bhanu Priya, Ente...|https://yt3.googl...|               India|    602228.0|       278.0|2023-11-11|         75.0333333333333|                       56.0|        52.4890358921641|           0.75|\n",
      "|UCKlJ2rQ8TbvvcY13...|   /@SiddiquiKitchen|    Siddiqui Kitchen|            1990|https://yt3.googl...|Hello!, Cook Sidd...|Siddiqui Kitchen,...|https://yt3.googl...|               India|    527478.0|       287.0|2022-03-07|                    726.7|                      450.0|        756.399724572486|            1.5|\n",
      "|UCmJ4AsFtnQKY8bZj...|/@staceygarskarod...|1 Minute Recipe &...|            1630|https://yt3.googl...|Learn how to make...|parenting, family...|https://yt3.googl...|       United States|    674715.0|       280.0|2015-06-10|         404.733333333333|                      162.5|        601.431898795607|            2.0|\n",
      "|UC6i_OxbwmFaYaoDO...|       /@BruceElgort|        Bruce Elgort|             736|https://yt3.googl...|                null|cs50p, cs50, pyth...|https://yt3.googl...|       United States|    168454.0|       440.0|2006-07-06|         436.866666666667|                       89.5|        648.128934360715|           0.25|\n",
      "|UCrbhySapxnINyEt2...|  /@buddiesclips2007|       Buddies Clips|             288|                null|  Educational Videos|English I Malayal...|https://yt3.googl...|United Arab Emirates|     64294.0|       143.0|2021-08-11|         189.366666666667|                       19.0|        635.667810696401|           0.25|\n",
      "|UCSIKb02mmVRHM0dU...|/@mamtaskitchenco...|     mamta's kitchen|            1740|https://yt3.googl...|Hello friends,my ...|                null|https://yt3.googl...|                null|    485236.0|      1304.0|2017-05-19|                    125.6|                       91.0|        206.626813361674|            3.5|\n",
      "|UCNYTKEoX5ZE3_t6S...|      /@normitayumul|            Smurfshy|           13500|https://yt3.googl...|                null|                null|https://yt3.googl...|               Qatar|    688477.0|      1629.0|2021-09-26|         618.766666666667|                      590.0|         238.10819436177|            0.5|\n",
      "|UCRR-58ewa0wZlMP6...|/@Mindfulcookinga...|Mindful Cooking A...|            2360|https://yt3.googl...|Food is Memory. C...|Geethas, kitchen,...|https://yt3.googl...|       United States|    388104.0|       527.0|2010-11-27|         412.533333333333|                      277.0|         401.54408087891|           0.25|\n",
      "|UCa8sCXjWaBoSB5eP...|         /@Omogebubu|Omogebubu enterta...|              26|                null|Am here to entert...|                null|https://yt3.googl...|                null|     11123.0|        46.0|2022-03-01|                     25.5|                       13.0|        23.7188392071225|           0.25|\n",
      "|UCo3SvnPYUljC0Vh2...|   /@DarkFeminine111|вЂўDFM Collection...|              40|                null|                null|                null|https://yt3.googl...|                null|     38088.0|       266.0|2024-02-08|                    198.6|                       17.5|        474.173568783977|            7.5|\n",
      "|UCi2DPZWP-7qcUI3b...| /@Fitnessfreakshowz|              Kinisi|            2580|https://yt3.googl...|Calisthenics, Cli...|fitness, calisthe...|https://yt3.googl...|             Ireland|    194560.0|       146.0|2016-04-04|         550.933333333333|                      196.0|        962.003324087581|           0.25|\n",
      "|UCLA-8uhl-xN_eio7...|/@MohanChouhan-qd5qe|     Chouhan Fitness|            3650|https://yt3.googl...|https://youtube.c...|                null|https://yt3.googl...|                null|   1151833.0|       632.0|2023-09-03|         981.633333333333|                       69.0|        3654.30214480899|           1.25|\n",
      "|UC32hFCd35FKaKKVu...|          /@ytbharat|            ytbharat|           60200|https://yt3.googl...|Travel Fun Entert...|YTBHARAT, travel,...|https://yt3.googl...|               India|   7446160.0|      1096.0|2015-02-10|                    614.9|                      571.5|        353.894461669012|           6.75|\n",
      "|UCbfyWhWriJUcXtSL...|        /@Jerendelle|          Jerendelle|             752|                null|Hi! IвЂ™m Jeremyр...|jeremy, rossella,...|https://yt3.googl...|                null|    161337.0|       127.0|2009-09-14|         512.066666666667|                      300.0|        529.135454197589|           0.75|\n",
      "|UC4wH-Z_Wq9r0oqVg...|           /@Jhavaun|       Jhavaun Blake|            3270|https://yt3.googl...|                null|                null|https://yt3.googl...|              Canada|   2652538.0|      1137.0|2014-04-27|                    143.6|                       99.5|        171.765654308421|            0.5|\n",
      "|UCGU7vcNwsPx3hJhg...|        /@yurilotlot|        Lotlot kulot|               7|                null|       Vlog abt fish|                null|https://yt3.googl...|                null|        39.0|         7.0|2024-03-05|                      5.5|                        4.5|        3.90512483795333|            1.5|\n",
      "|UCEXv002x7GgComrU...|    /@ironskyfitness|     IRONSKY Fitness|             397|https://yt3.googl...|Advocates of Fitn...|Training, Strengt...|https://yt3.googl...|              Cyprus|     41176.0|        90.0|2019-06-30|         90.2333333333333|                       78.5|        51.5316623273713|           0.75|\n",
      "|UCZoraWOThD9v4qEX...|   /@CoolStuff-qz9be|        CoolStuff123|               4|                null|                null|                null|https://yt3.googl...|                null|       118.0|         8.0|2021-12-07|         12.1428571428571|                        7.0|        8.62601665111459|            1.0|\n",
      "|UC-NwUaXV0cLgWRhP...|       /@Sharmanit08|      Nitesh Sharma |             104|https://yt3.googl...|Creator. Daily wo...|Sharmanit08, SHAR...|https://yt3.googl...|               India|     28986.0|        40.0|2019-07-10|         143.538461538462|                       57.0|         212.29972114356|            0.5|\n",
      "|UCt44NQBpf7eqlqyt...|     /@SpursTalkShow|       SpursTalkShow|           22800|https://yt3.googl...|This channel is f...|Tottenham, Spurs,...|https://yt3.googl...|      United Kingdom|   4401139.0|       770.0|2021-10-13|         8741.26666666667|                     8494.5|         3886.5611529417|           3.75|\n",
      "|UC6ynp-itFDX0tJMF...|        /@DeejimonTV|         Deejimon TV|            9290|https://yt3.googl...|I vlog about anyt...|pinoy youtuber, r...|https://yt3.googl...|         Philippines|   1287165.0|       364.0|2012-12-01|         2059.16666666667|                      365.0|        5310.67012772923|            3.5|\n",
      "|UCCO0x1WusvAr6w_7...|        /@genelybean|         Von Genelyn|               7|https://yt3.googl...|                null|                null|https://yt3.googl...|                null|      6981.0|        16.0|2010-10-23|         21.5714285714286|                       17.0|        17.0114007389762|           0.25|\n",
      "|UC3K69lB2RqFLRFzf...|/@DailyCookingwit...|Daily Cooking wit...|              71|https://yt3.googl...|                null|Pakistani cooking...|https://yt3.googl...|            Pakistan|      2349.0|        36.0|2023-12-24|                     67.7|                       57.5|        33.4814874221561|            3.0|\n",
      "|UCawiyLLiDJU3N-o_...|   /@itsyahboidonnie|     ItsYahBoiDonnie|            1080|https://yt3.googl...| professional yapper|gaming, gym, game...|https://yt3.googl...|           Australia|    340129.0|       524.0|2022-10-03|                   1129.2|                      658.5|        1164.31915441314|            6.0|\n",
      "|UCDaEyllgFUO815d6...|   /@monikamanvi9714| Herbalife@Monika_SM|              22|https://yt3.googl...|     health fitness |                null|https://yt3.googl...|                null|      6750.0|        51.0|2022-11-30|                      4.0|                        4.0|        2.44948974278318|           0.25|\n",
      "|UCxxCk1SC5UMX7X8t...| /@themobilitymanual| The Mobility Manual|            1270|https://yt3.googl...|Holistic Mobility...|                null|https://yt3.googl...|                null|    112505.0|        58.0|2023-02-03|                   7452.2|                     1268.0|         11917.758873211|           0.75|\n",
      "|UC6Hxin_aG15y1vJe...|      /@anna.antonje|                Anna|         1040000|https://yt3.googl...|Just a girl who l...|                null|https://yt3.googl...|                null| 570717957.0|       486.0|2018-11-30|         16281.7407407407|                    10248.0|        14598.6376117078|           0.25|\n",
      "|UCV1AVTmvECyLJ_w5...|     /@dreamclub1442|          Dream Club|          197000|                null|                null|                null|https://yt3.googl...|       United States|  50118368.0|       237.0|2021-12-20|         39267.2666666667|                    23036.5|        46911.0398285473|           3.75|\n",
      "|UCsxwBC0NQCFMGXQl...|         /@erwin5948|               Erwin|               8|                null|                null|                null|https://yt3.googl...|                null|      1527.0|       283.0|2015-04-05|         5.26666666666667|                        1.0|        23.7443794518946|            7.5|\n",
      "|UCqb0Cejsx3N-INRs...|     /@juliamccoy753|         Julia McCoy|              99|                null|                null|                null|https://yt3.googl...|                null|       667.0|         2.0|2022-06-30|                    335.0|                      335.0|                    55.0|           0.25|\n",
      "|UCMMZGP5gtwQnoqIW...| /@ManishYadav-rf5qu|    fitness club 820|             126|                null|                null|                null|https://yt3.googl...|                null|     46117.0|       171.0|2023-03-29|         103.944444444444|                       36.0|        200.340119747011|           0.25|\n",
      "|UCy-tgs7aixfTw6fp...|        /@speczx8896|              SpecZX|             318|                null|                null|                null|https://yt3.googl...|                null|    236178.0|      1087.0|2020-03-13|         63.6666666666667|                       53.0|        54.1401473543945|           1.25|\n",
      "|UCDABnqcJxJqtsMLn...|    /@fitnessclub418|     Fitness Club 07|            5780|https://yt3.googl...|  рџ™Џа¤ња¤Ї а¤¶а...|                null|https://yt3.googl...|                null|   1316944.0|       323.0|2022-11-09|         153.714285714286|                       60.0|         205.99540976327|            0.5|\n",
      "|UCKH9HfYY_GEcyltl...|/channel/UCKH9HfY...|       CaravanPalace|         1730000|https://yt3.googl...|Hi, we're Caravan...|Caravan, palace, ...|https://yt3.googl...|              France|1031479359.0|       140.0|2006-11-26|                1213586.8|                   223671.5|        2572792.93466169|            2.0|\n",
      "|UCiCMZExLWo-2SIjP...|  /@Lightfoodrecipes|          Light food|             813|https://yt3.googl...|Asslam o Alikam t...|pakistan cooking ...|https://yt3.googl...|            Pakistan|    168381.0|       272.0|2023-06-20|                    127.3|                       76.0|         157.54875435877|           2.25|\n",
      "|UCU2nVTHqiOAP_q5n...|    /@thedktales1133|          TheDKtales|          417000|https://yt3.googl...|                null|        Kukku, Deepa|https://yt3.googl...|               India|  59905374.0|       270.0|2020-02-26|         85041.4333333333|                    42140.0|        89814.3219231333|           0.75|\n",
      "|UCBxc4OXPgeaUcLk7...|/@johairahbuenavi...|  Johairah's Cooking|            1000|https://yt3.googl...|рџЊєHi Welcome to...|Johairahs Cooking...|https://yt3.googl...|         Philippines|    124944.0|       522.0|2023-02-08|         159.833333333333|                       60.0|         332.96387024554|            7.0|\n",
      "|UCSajpxKcvZC7v8hZ...|  /@wellnourished201|      Well Nourished|             350|https://yt3.googl...|Simple, easy, and...|healthy, kids, re...|https://yt3.googl...|           Australia|     74991.0|       118.0|2015-01-07|         1449.90476190476|                      680.0|        2455.24241659821|           0.75|\n",
      "|UC5rG8ZrDf6ilxvn0...|     /@D-MATAFITNESS|      D-MATA FITNESS|            1200|https://yt3.googl...|Welcome to D-Mata...|                null|https://yt3.googl...|                null|    282824.0|       185.0|2023-04-24|         106.933333333333|                       75.5|        179.322973678469|           3.25|\n",
      "|UCLruLwetDTH49458...| /@cinematicbaba3033|      Cinematic Baba|            6500|https://yt3.googl...|                null|                null|https://yt3.googl...|                null|    449881.0|        42.0|2015-09-09|         15525.7857142857|                      886.0|        61373.3553677566|           0.25|\n",
      "|UCoJ1cgrM4PwwMSi_...|   /@MarriageColours|    Marriage Colours|            4690|https://yt3.googl...|Wedding designers...|                null|https://yt3.googl...|               India|   1034010.0|       486.0|2015-03-12|                    189.0|                      147.5|        122.688494434754|            1.5|\n",
      "|UCLBk7XpqhnB228JX...|   /@bromptonbicycle|    Brompton Bicycle|           50800|https://yt3.googl...|Official channel ...|                null|https://yt3.googl...|      United Kingdom|  29097279.0|       374.0|2009-07-28|         10529.0666666667|                     4044.0|        15285.5744542217|           0.75|\n",
      "|UC4Yz1BeUBbLraIvG...|     /@natebakes2248|          Nate Bakes|            4270|https://yt3.googl...|My name is Nate, ...|                null|https://yt3.googl...|       United States|    534614.0|       561.0|2018-01-24|                    253.1|                      210.5|        140.961306747632|            0.5|\n",
      "|UCOlFdOCvwXjNNeKI...|           /@fit4145|    fitness workout |             441|https://yt3.googl...|                null|Fitness blogger k...|https://yt3.googl...|               India|    160606.0|        99.0|2023-08-14|         332.888888888889|                       34.0|          823.8251492539|           0.75|\n",
      "|UCJO4ruvyj6Meqd_M...|       /@DinnerDeeAs|        Dinner DeeAs|             203|https://yt3.googl...|Dinner DeeAs is a...|Dinner Deeas, din...|https://yt3.googl...|       United States|      7775.0|        80.0|2023-09-05|         98.6666666666667|                       79.0|        57.6924797718231|            3.5|\n",
      "|UC1E4iwQj69hw4oVU...|         /@saadirfan|          Saad Irfan|            1060|                null|                null|                null|https://yt3.googl...|                null|    442165.0|       657.0|2013-07-30|         51.2666666666667|                       36.0|         71.392312066652|           0.25|\n",
      "|UCKBFc2_HDAV_mxWu...|   /@EvaRoutineEra24| Eva Routine Era 24.|              93|                null|                null|                null|https://yt3.googl...|                null|     14472.0|       162.0|2019-12-13|         49.3846153846154|                       47.0|        26.0533135690836|           0.25|\n",
      "|UCluIy1TgWZg9Elms...|      /@RubedFitness|   Rubed Fitness 139|             823|https://yt3.googl...|Fitness video rea...|                null|https://yt3.googl...|                null|    306720.0|       177.0|2023-11-16|         21.6666666666667|                       26.0|        8.33999733546454|           0.75|\n",
      "|UCCoVgsc3GfgIlgRH...|    /@DaybyDay-bm9gg|          Day by Day|               6|                null|                null|                null|https://yt3.googl...|       United States|       308.0|        11.0|2024-01-08|         28.3636363636364|                       11.0|        31.6810029893819|            0.5|\n",
      "|UC1eBVBH8N5zeqyMB...|/@MyraBeautyOfficial|         Myra Beauty|             983|https://yt3.googl...|Hey my name is Ci...|                null|https://yt3.googl...|       United States|    131850.0|       257.0|2020-03-30|                    161.7|                       91.0|        165.692918778484|           0.25|\n",
      "|UCQakvcxSS4bA2TBa...|/@donpraisefitnes...|  Don Praise Fitness|            2360|https://yt3.googl...|Get fit,Stay heal...|                null|https://yt3.googl...|United Arab Emirates|     18071.0|        31.0|2019-07-23|         652.611111111111|                      483.5|        785.886911491928|            0.5|\n",
      "|UC57nvqOIY7PULk4Z...|          /@AdamMark|  Adam Mark Explores|          282000|https://yt3.googl...|Welcome to the mo...|haunted house, Ab...|https://yt3.googl...|      United Kingdom|  48362788.0|       202.0|2014-09-09|         205515.931034483|                   145766.0|        156931.499159815|           0.75|\n",
      "|UC8Ue5ehXx-vc0UdX...|/@bmhealthyfoodst...|B&M healthy food ...|              57|                null|                null|                 B&m|https://yt3.googl...|       United States|      3257.0|        52.0|2020-11-24|         38.5333333333333|                       13.0|          56.18346929678|            0.5|\n",
      "|UCGKvjFRinHk0Jioy...|   /@Sanjovlog-in1ny|Manoy J's Kusina ...|            1250|https://yt3.googl...|Sumama sa akin sa...|                null|https://yt3.googl...|                null|     22266.0|        37.0|2023-08-03|                   846.12|                      108.0|        2970.27288066265|            1.0|\n",
      "|UCIS05R5ELN6gTBif...|   /@cookingwithnimu|   cooking with nimu|            1180|https://yt3.googl...|How to make recip...|recipe, simpleand...|https://yt3.googl...|            Pakistan|    189353.0|       435.0|2021-12-31|         121.766666666667|                       86.0|        158.988193132558|            0.5|\n",
      "|UCxImT36tcY39Cj3K...|     /@RadiantShenti|Radiant Shenti - ...|            2140|https://yt3.googl...|Embark on a daily...|Chinese medicine,...|https://yt3.googl...|       United States|    145338.0|       331.0|2019-09-11|                    284.2|                      200.5|        496.443712821504|           1.75|\n",
      "|UCXmZHHVxZs9MCEfc...|/@shobhahealthyki...|Shobha healthy ki...|            4870|                null|    New food recipe |                null|https://yt3.googl...|                null|   1705778.0|       912.0|2022-11-04|         72.9666666666667|                       56.0|        63.0272339724838|            1.0|\n",
      "|UC2btcdRPqRQaVHtu...|   /@DecliciousBytes|      KITCHENINSIDER|             858|https://yt3.googl...|                null|New food ideas, c...|https://yt3.googl...|              Canada|    350825.0|       744.0|2011-09-06|         12.2666666666667|                       12.5|        7.06131873110273|           1.25|\n",
      "|UCU8xunTIbzIl0E0A...|  /@AllHandsMagazine|  All Hands Magazine|          111000|https://yt3.googl...|Welcome to All Ha...|                null|https://yt3.googl...|       United States|  48421053.0|       427.0|2015-09-18|         29512.9333333333|                     2559.0|        69670.1059876393|            0.5|\n",
      "|UCkGGfT4FHkjo_N2M...|/@superfitbootcam...|   Superfit Bootcamp|               4|                null|                null|                null|https://yt3.googl...|      United Kingdom|       494.0|        15.0|2018-03-04|         28.3076923076923|                       24.0|        25.1621957443017|            1.0|\n",
      "|UCoHiCI4GIbW-dyAN...|   /@ColletteBarbera|    Collette Barbera|             517|https://yt3.googl...|Welcome to my You...|                null|https://yt3.googl...|       United States|    166496.0|       838.0|2015-02-15|                    346.5|                       22.5|        1486.28143925256|           2.75|\n",
      "|UC5wRp2wNdK61JZo7...|/@HC_Training_Adv...|Herschel Curley T...|             622|https://yt3.googl...|THESE VIDEOS ON M...|                null|https://yt3.googl...|       United States|    190549.0|       284.0|2020-03-10|         21.8666666666667|                       10.5|        32.6095418891806|           2.25|\n",
      "|UC3FhFT4XnVKIRMpK...|      /@AlmanRecipes|     Alman Recipe's |              19|                null|                null|                null|https://yt3.googl...|                null|       120.0|         3.0|2024-03-07|         43.6666666666667|                       27.0|        27.9205221218292|           0.75|\n",
      "|UCol5aRQkH5WqdkpO...|/@propheticmental...| Prophetic MenTality|            6390|https://yt3.googl...|Joins us for enga...|                null|https://yt3.googl...|       United States|    301065.0|        47.0|2019-07-11|         8848.16666666667|                      858.5|        29094.0820249105|            1.5|\n",
      "|UCq-gbRQMyt8Elq7Y...|      /@KBcommunity5|       KB community |             153|                null|                null|KB community, kb ...|https://yt3.googl...|            Pakistan|      2412.0|        40.0|2024-01-22|         43.1333333333333|                       20.0|        42.9012302335907|           0.75|\n",
      "|UCiM3WcZoxxfsZEYr...|    /@TheBariatricPT|    The Bariatric PT|              87|https://yt3.googl...|As the Personal T...|weightloss, weigh...|https://yt3.googl...|      United Kingdom|     16483.0|        22.0|2024-02-06|                     98.4|                       66.5|        82.7673848807608|            2.5|\n",
      "|UCfyKktpUgdV5xDEh...|      /@HomeBollywud|       Home Bollywud|         6150000|https://yt3.googl...|Welcome To Home B...|Home Bollywood, B...|https://yt3.googl...|               India|2666867746.0|      7553.0|2018-01-04|         3041.03333333333|                     1554.5|        3969.04651424271|           4.25|\n",
      "|UC_Lh9LmG4yNuamdw...|  /@healthcoachshiva|  health coach Shiva|           13500|https://yt3.googl...|                null|herbalife kannada...|https://yt3.googl...|               India|   1232497.0|       288.0|2020-07-07|         469.933333333333|                      307.5|         350.10864345546|            1.5|\n",
      "|UCbTLErAyh5JSv9FZ...|/@keepfitandstayh...|keep fit and stay...|           29800|https://yt3.googl...|All about staying...|Fitness motivatio...|https://yt3.googl...|               India|   1040235.0|       970.0|2022-02-21|         3080.33333333333|                     1754.0|        3347.15081159418|            5.0|\n",
      "|UCTB4eW4ziVgBGUpX...|/@LifespanHealthS...|LifespanHealthSystem|            9210|https://yt3.googl...|We are Lifespan, ...|Lifespan, hospita...|https://yt3.googl...|       United States|   4580398.0|      1178.0|2009-05-29|         186.833333333333|                      109.5|        308.914452379439|            0.5|\n",
      "|UCAZQtI7hKILIF0Ns...|      /@cheekoobunny|        CheekooBunny|             224|                null|Welcome to Cheeku...|                null|https://yt3.googl...|           Australia|    107203.0|       425.0|2023-12-04|         233.111111111111|                       34.0|        479.204768211402|            2.0|\n",
      "|UCTaBaBrx5JtxYV2w...|          /@matteNT1|             MatteNT|             416|https://yt3.googl...|22 ГҐrig kille fr...|                null|https://yt3.googl...|                null|     57489.0|       158.0|2021-08-16|         301.033333333333|                      242.5|        201.064083206215|           0.75|\n",
      "|UCyhpw4-Etc79Sq77...|       /@IDGTECHtalk|            TECHtalk|           61500|https://yt3.googl...|We provide lively...|Data center, AI, ...|https://yt3.googl...|       United States|  31247755.0|      1450.0|2006-07-29|         346.566666666667|                      282.5|        258.491351671364|            1.5|\n",
      "|UCNufue8_ttY0qHIk...|           /@latruth|             LATRUTH|          306000|https://yt3.googl...|Rapper / Sing / A...|Entertainer, Rapp...|https://yt3.googl...|       United States|  36703774.0|       603.0|2015-02-18|         1516.66666666667|                      899.0|         2109.5743225168|            7.5|\n",
      "|UCgGwtlIR5QHYUFn3...|/@Narendra_gurjar...|Narendra Fitness ...|           51000|https://yt3.googl...|Instagarm link  h...|                null|https://yt3.googl...|                null|  15841161.0|        84.0|2017-09-20|         501463.555555556|                    10774.0|        772052.110286477|           0.25|\n",
      "|UCw2Bu3UGivHGUYjE...|     /@TannerMarkley|      Tanner Markley|           20000|https://yt3.googl...|Subscribe to my c...|Driver tips, how ...|https://yt3.googl...|       United States|   3509592.0|       867.0|2008-01-30|                    615.9|                      259.0|        831.044136413143|           0.25|\n",
      "|UCZzT0dYYjBBtfEg9...|          /@Babay211|       Babay Samanta|             868|https://yt3.googl...|                null|                null|https://yt3.googl...|                null|    302809.0|       152.0|2022-04-22|                 9316.875|                      570.5|        19944.0173262403|           0.25|\n",
      "|UC-qluzbGwn6ZBclY...|        /@Sanikingso|        Sani king so|            1400|                null|Jai shree ram.рџ™...|                null|https://yt3.googl...|                null|    269331.0|       278.0|2023-10-13|         56.0769230769231|                       46.0|        31.8710419285198|           0.75|\n",
      "|UCOYXMJcUXo58HmJN...|         /@JOE_co_uk|                 JOE|          403000|https://yt3.googl...|Welcome to JOE UK...|JOE, PoliticsJOE,...|https://yt3.googl...|      United Kingdom| 171481854.0|      2420.0|2015-06-02|         56297.5333333333|                     9701.0|        111515.385286436|            0.5|\n",
      "|UC0gvegWui7fbJqhp...|        /@OwenBowlby|         Owen Bowlby|             704|https://yt3.googl...|the fat kid in th...|                null|https://yt3.googl...|                null|      4450.0|         4.0|2023-09-06|                  1137.75|                     1181.0|        400.667801925735|           0.75|\n",
      "|UCW25gvpJ_fVEwI_G...|   /@CitiSportsGhana|   Citi Sports Ghana|           36200|https://yt3.googl...|Official Account ...|Sports, Football,...|https://yt3.googl...|               Ghana|   6823457.0|      3376.0|2019-08-14|                    851.6|                      306.5|        1105.09880704548|            7.5|\n",
      "|UCkRvX2SnXlA7ew_T...| /@BodyweightProcess|The Bodyweight Pr...|            6570|https://yt3.googl...|                null|                null|https://yt3.googl...|                null|    589148.0|        89.0|2019-08-20|         4729.63333333333|                     2465.0|        5387.29661632086|           0.25|\n",
      "|UCduLWdBFPnEqDpGh...|  /@jen2dfirstpower1|      Jennifer Smith|              64|                null|                null|walk, work out, w...|https://yt3.googl...|       United States|       483.0|        25.0|2012-09-09|                     28.0|                       28.0|                    11.0|            0.5|\n",
      "|UCpwevBnHO5zgLSRb...|      /@Coralie_Anne|        Coralie Anne|           20000|https://yt3.googl...|Hi, I'm Coralie! ...|                null|https://yt3.googl...|           Australia|   1470422.0|       761.0|2011-08-15|         425.466666666667|                      258.5|        401.001723465401|            2.0|\n",
      "|UC0EWQDzCvBoSoVE4...|   /@juliakocovskire|Julia Kocovski - ...|             145|https://yt3.googl...|Welcome to my cha...|                null|https://yt3.googl...|                null|     24261.0|        71.0|2014-12-07|         189.066666666667|                      182.0|        92.7149514491715|           2.25|\n",
      "|UC5ujUzkcMevE-_v0...| /@nogainsnolife3831|      NoGains NoLife|            1000|                null|This channel is a...|                null|https://yt3.googl...|                null|    113352.0|       236.0|2022-08-31|         398.233333333333|                      191.0|        445.292913584855|            3.0|\n",
      "|UCG8X4U_maa5l35sc...|/@chyvanmahabeer9530|     Chyvan Mahabeer|             818|https://yt3.googl...|                null|                null|https://yt3.googl...|        South Africa|     56800.0|        41.0|2013-05-21|         1403.36666666667|                      509.5|        1823.19886432854|           0.25|\n",
      "|UCJ1rSlahM7TYWGxE...|      /@Neweggstudio|      Newegg Studios|          725000|https://yt3.googl...|Welcome to Newegg...|Newegg, review, t...|https://yt3.googl...|       United States|  63316105.0|      1956.0|2006-04-11|         37914.0333333333|                     1022.0|        102645.214649453|           0.25|\n",
      "|UCCZHaQtbENKFSFuo...|      /@samtaylorr16|     Samantha Taylor|           11800|https://yt3.googl...|                null|                null|https://yt3.googl...|                null|    289146.0|        49.0|2018-11-12|                   5497.6|                     4929.0|        3254.99571530696|            1.0|\n",
      "|UCBNY1kfx3HGskb5z...|       /@1sanamalik1|Lunchbox ideas by...|              18|                null|Small facts about...|                null|https://yt3.googl...|                null|      5031.0|        61.0|2008-10-23|         46.9583333333333|                       21.5|        98.3613572355639|           2.75|\n",
      "|UCDnLqU7-NYMkYCxB...|/@creationofnaban...|creation of Naban...|            3920|https://yt3.googl...|                null|                null|https://yt3.googl...|                null|   1232959.0|       767.0|2021-02-22|         80.6666666666667|                       56.5|        65.3719273762744|           1.25|\n",
      "|UCAxGdCC62pYS54Zz...|          /@nica3427|                Nica|           17000|                null|This channel is d...|Gardening, Cookin...|https://yt3.googl...|       United States|   3227749.0|       315.0|2011-12-09|         180.133333333333|                      110.0|        203.281042456551|            1.0|\n",
      "|UCpHHsnio5JFw524S...|/@recetasdecasaLM...|recetas de casa L...|          360000|https://yt3.googl...|                null|RECETAS BAJAS EN ...|https://yt3.googl...|               Spain|  27257929.0|       429.0|2019-04-19|         4949.16666666667|                     2760.0|        6250.92779824634|           1.75|\n",
      "|UC9yT7GMrOXsOCUhn...|    /@zachsdiary2014|      ZachвЂ™s Diary|           28700|                null|This channel is a...|                null|https://yt3.googl...|                null|   1853036.0|      1098.0|2016-07-04|         262.866666666667|                      230.0|        120.938478391104|           1.75|\n",
      "|UCCKHbIisHu_5yMR4...|   /@life_of_susmita|     Life of susmita|             414|                null|Cooking ,bengali ...|                null|https://yt3.googl...|                null|    107354.0|       219.0|2016-12-16|                     80.0|                       55.0|        64.2386176688135|           0.75|\n",
      "|UCxKdN2lgV9Vl5Kj8...|         /@Cook22413| Cooking Official 24|             892|https://yt3.googl...|             cooking|cake recipe, cake...|https://yt3.googl...|            Pakistan|    232180.0|       311.0|2022-02-01|         9.03333333333333|                        2.0|        37.8976545741583|           2.25|\n",
      "|UCaNTKP_MIdgJBVK2...|         /@YogaDance|        Yoga & Dance|            4470|https://yt3.googl...|I'm Hena Mondal h...|         Yoga, Dance|https://yt3.googl...|               India|    592210.0|       304.0|2018-09-01|         291.066666666667|                      278.0|        210.635535674513|            2.5|\n",
      "|UCYl3WTfhXNqsG1KD...|    /@shamas_kitchen|     Shama's Kitchen|           16500|https://yt3.googl...|Shamas Kitchen of...|shamas kitchen, c...|https://yt3.googl...|            Pakistan|    624396.0|       311.0|2017-12-31|                    264.5|                      194.0|         229.08641018911|            2.0|\n",
      "|UCfQ912vMo5vkn1g3...|/@kitchentechnomusic|      KITCHEN TECHNO|              57|https://yt3.googl...|Join us in the he...|                null|https://yt3.googl...|                null|      2151.0|        11.0|2023-12-18|                  254.375|                      141.5|        215.091223379756|            1.0|\n",
      "|UCsQQeubzv3O0vxiq...|/@SyedBabaFitness...|Syed Baba Fitness...|            1790|https://yt3.googl...|babasyed.sb@gmail...|                null|https://yt3.googl...|      United Kingdom|    108498.0|       141.0|2015-06-03|         988.466666666667|                      107.5|         1658.9568154583|           0.25|\n",
      "|UCIXoqJp42oB46cxt...|       /@pannoni1491|           pannoni14|           16800|https://yt3.googl...|                null|                null|https://yt3.googl...|                null|   7794106.0|      2111.0|2020-06-29|         393.566666666667|                      379.5|        170.726620328784|           5.75|\n",
      "|UCnCxkGFGAubF2J_C...|      /@ShowUpForYou|             Show Up|              17|                null|                null|                null|https://yt3.googl...|                null|       600.0|       124.0|2022-12-19|         11.1428571428571|                       11.0|         7.9359682356178|           1.25|\n",
      "|UCWzrKvVazhZZJKpV...|/@LingokidsCartoo...|Lingokids Cartoon...|             238|https://yt3.googl...|Prepare for a cos...|lingokids, lingo ...|https://yt3.googl...|       United States|     89818.0|        24.0|2024-01-14|         5157.11764705882|                     3559.0|        5118.52357943362|           4.25|\n",
      "|UCwW8NHR9J6fzVqOq...|  /@ihsanelectronics|    Electronics shop|           11300|https://yt3.googl...|All kind of elect...|ihsan lot electro...|https://yt3.googl...|            Pakistan|   5747789.0|       105.0|2023-08-13|         563.346153846154|                       38.0|        1305.81660104401|           0.25|\n",
      "|UCyaLI0iYgA3KdLkv...|    /@ATPCOMBATMEDIA|       Claymore Rain|             575|                null|Fight Analyst , C...|       At This Point|https://yt3.googl...|                null|     47448.0|        97.0|2009-10-06|                    325.9|                      217.0|        419.589271391282|            3.0|\n",
      "|UC7O46asr5k1RSo0p...|/@everydaylifewit...|Every Day  Life W...|             538|https://yt3.googl...|Join me on my jou...|                null|https://yt3.googl...|                null|     30200.0|       260.0|2013-10-17|                    307.2|                      115.5|        623.929931963518|           2.75|\n",
      "|UCH2c0ynrljAA-jW8...|/@thesipwithrylan...|The Sip with Ryla...|          218000|https://yt3.googl...|With Ryland Adams...|                null|https://yt3.googl...|       United States|  35019721.0|       160.0|2020-09-28|                 204034.6|                   170571.5|        94805.6196015827|            1.0|\n",
      "|UC6CI3LbV47eFnSpz...|     /@deondrerutues|     Deondre' Rutues|             143|https://yt3.googl...|The official YouT...|                null|https://yt3.googl...|                null|     21806.0|       295.0|2018-04-08|         21.4333333333333|                        6.5|        66.9266679948202|            7.5|\n",
      "|UCCTvQztzIHQiklKL...|     /@BismiKitchenS|       Bismi Kitchen|          287000|https://yt3.googl...|                null|                null|https://yt3.googl...|               India|  29244935.0|      1284.0|2018-02-17|         9412.26666666667|                     3306.0|        16346.5249435129|           2.75|\n",
      "|UCgj9Vf0vN0J3IaMa...|       /@reapervegas|        Reaper Vegas|             245|https://yt3.googl...|                null|                null|https://yt3.googl...|                null|     55755.0|       773.0|2018-06-30|                     32.6|                       17.0|        36.0976453525711|           4.25|\n",
      "|UCKvKjZ3l9azWz4F4...|/@coffeerelaxingjazz|Coffee Relaxing Jazz|          216000|https://yt3.googl...|All music in this...|jazz music, Coffe...|https://yt3.googl...|              Canada|  62757464.0|       481.0|2022-02-21|         13126.1666666667|                     6139.0|        13991.7634225362|            0.5|\n",
      "|UC1cbrvXHBtIgSPtv...|           /@LianLim|           Lian Lim |          410000|https://yt3.googl...|                null|                null|https://yt3.googl...|               Japan|  53714212.0|       875.0|2014-09-23|                   1385.8|                     1125.0|        1125.30284516362|           4.75|\n",
      "|UCaREqwM4ZnNnsnqn...|      /@Shefnahashim|      Shefna Hashim |             886|                null|Laughter is brigh...|                null|https://yt3.googl...|                null|    273394.0|       157.0|2014-06-11|         422.166666666667|                      234.0|        747.025750708918|            3.0|\n",
      "|UC8fa9h4fbXn44yZ1...|           /@Arisyax|   Arisyax Edelsteen|             232|https://yt3.googl...|DIY, cooking, gam...|                null|https://yt3.googl...|                null|     91984.0|       153.0|2009-05-09|         188.066666666667|                       56.0|        302.687069796882|           1.75|\n",
      "|UCkyC-z6V-L5eDT5u...|/@recettesavoureuses|Recettes savoureuses|            1060|https://yt3.googl...|Recettes Savoureu...|                null|https://yt3.googl...|                null|     59211.0|       100.0|2022-10-10|         461.733333333333|                      179.0|        1222.15492562204|            3.0|\n",
      "|UCo9F1gwgW7FqvHVV...| /@allneedsoflife369|   ALL NEEDS OF LIFE|             248|https://yt3.googl...|Welcome to our Yo...|                null|https://yt3.googl...|               India|    110043.0|       163.0|2020-06-14|         99.6333333333333|                       51.5|        109.299735691456|           0.75|\n",
      "|UCp7EwodJcppc6Gqi...|    /@BlenderSecrets|     Blender Secrets|          236000|https://yt3.googl...|Get your free 30-...|yt:cc=on, blender...|https://yt3.googl...|             Belgium|  22065914.0|       875.0|2015-02-24|         23471.3333333333|                    15520.0|        18799.0930549558|            0.5|\n",
      "|UCQeRaTukNYft1_6A...|           /@AsmonTV|      Asmongold TV  |         2440000|https://yt3.googl...|The official Asmo...|mmo, mmorpg, wow,...|https://yt3.googl...|       United States|2133053445.0|      4178.0|2019-12-09|         408408.933333333|                   329289.0|        313532.575480649|            7.5|\n",
      "|UCgleEh5Ed9vJ_yC7...|      /@motivemystic|        MotiveMystic|            1180|https://yt3.googl...|Welcome to Motive...|                null|https://yt3.googl...|                null|    141828.0|       164.0|2023-09-19|         1552.93333333333|                      205.5|        5051.95002570515|            5.0|\n",
      "|UC4it4GxJx53ltb_5...|      /@9vibesHealth|       9vibes Health|             491|https://yt3.googl...|                null|Wellness, Fitness...|https://yt3.googl...|               India|    120621.0|       120.0|2023-07-13|                     88.9|                       32.0|        129.993422910546|            3.0|\n",
      "|UC2pvAaEDEtAWs5ud...|/@wajihaskitchenv...|Wajiha's Kitchen ...|            4820|https://yt3.googl...|Hi, my name is wa...|                null|https://yt3.googl...|      United Kingdom|    230845.0|       269.0|2020-11-19|                    655.9|                      544.0|        318.649373659095|            0.5|\n",
      "|UCAToN68i5bjjEUV5...|       /@binyobasics|        Binyo Basics|            8029|                null|Welcome and feel ...|                null|https://yt3.googl...|                null|   5608434.0|       279.0|2021-08-24|         491.966666666667|                      397.0|        385.391963532655|            1.0|\n",
      "|UCRXoGyLligcyVA1U...|     /@delaneychilds|      Delaney Childs|          242000|https://yt3.googl...|                null|The, Styled, Seed...|https://yt3.googl...|       United States|  22517605.0|       544.0|2016-06-09|                  25114.6|                    19081.5|        16996.7454955353|            2.0|\n",
      "|UCh8fpqB3yg0xfniw...|      /@kstatesports|      K-State Sports|           13800|https://yt3.googl...|Official YouTube ...|                null|https://yt3.googl...|       United States|   7709101.0|      2050.0|2008-08-04|         444.133333333333|                      322.5|        541.120241310151|            7.5|\n",
      "|UCkjdDCVkGkfv_kbz...| /@Wildlifeworldwide|  Wildlife Worldwide|             377|https://yt3.googl...|At Wildlife World...|                null|https://yt3.googl...|                null|    108979.0|       135.0|2014-06-19|                     29.9|                       20.0|        23.8988842138428|            7.5|\n",
      "|UC-wsN8gD2Sc8jdhV...|/@familytravelafr...|  FamilyTravelAfrica|             182|https://yt3.googl...|                null|Travel, Africa, F...|https://yt3.googl...|       United States|     24335.0|       149.0|2021-01-31|                     76.7|                       63.5|        45.6859934772136|           0.25|\n",
      "|UC1w9Xz6ga2vXEvFa...| /@DeepakFitnessPali|      Deepak Fitnees|             668|                null|Welcome to Deepak...|                null|https://yt3.googl...|                null|    211066.0|       348.0|2021-05-01|         56.6666666666667|                       68.0|        18.1903515328563|           0.25|\n",
      "|UCgSKIKruvdsydAdk...|     /@garyordog2861|          Gary Ordog|             412|                null|Medical by Gary J...|                null|https://yt3.googl...|              Canada|    288909.0|       833.0|2016-09-07|         134.766666666667|                      100.0|        239.537009434636|            5.5|\n",
      "|UCFs78LXpVu5Hjvbl...| /@stratisdelicacies|Strati's Italian ...|              33|                null|Healthy and simpl...|Italian food, hom...|https://yt3.googl...|       United States|       902.0|        21.0|2010-08-27|         43.6190476190476|                       21.0|        61.2826987085077|            1.5|\n",
      "|UCOByvcTqZtScBFKI...|/@FreedomFriendsP...|FreedomFriends Po...|            4650|                null|                null|Podcast, comedy, ...|https://yt3.googl...|       United States|    746281.0|       780.0|2019-08-05|         511.266666666667|                      499.5|        137.058851917302|            1.5|\n",
      "|UC5d0tQaBP8zSHAm7...|    /@aarphawaii2881|        AARP Hawai`i|              92|                null|                null|                null|https://yt3.googl...|       United States|      5284.0|       156.0|2017-05-07|                     30.8|                       12.5|        50.0542372498739|           0.75|\n",
      "|UCcJBbXILSRvk_ICA...|/@fitnesswithyash...|    fitnesswithyashu|              28|                null|                null|fitnesswithyashu,...|https://yt3.googl...|               India|      7434.0|       246.0|2023-10-16|         12.1666666666667|                        2.5|        29.5583227610168|           1.25|\n",
      "|UCePUgPyYl1J74Qoc...|/@cookwith_harshi...|     cookwith_harshi|             413|                null|Enjoy a taste of ...|                null|https://yt3.googl...|                null|    101436.0|       131.0|2020-05-17|                    185.7|                       55.5|        542.558208858736|            2.5|\n",
      "|UCIOAkxd3w5fRV_Nh...|/@ourlittleginger...|ourlittlegingerbr...|             565|https://yt3.googl...|Jesus is my Lord ...|                null|https://yt3.googl...|                null|     66945.0|       399.0|2023-03-10|         86.7666666666667|                       89.0|        35.1185452748576|           7.25|\n",
      "|UC98IGCta1sJ1PUoL...|   /@yesicancook9905|      yes i can cook|           16000|                null|                null|                null|https://yt3.googl...|                null|   7438142.0|      4427.0|2021-01-24|         87.4333333333333|                       54.5|        92.8894265003049|           0.25|\n",
      "|UCndqejwK-45JRbiR...| /@chefhackerkitchen| Chef Hacker Kitchen|             990|https://yt3.googl...|Chef Hacker Kitch...|                null|https://yt3.googl...|       United States|    109254.0|        48.0|2021-06-21|         3329.73333333333|                       82.5|         16838.233036621|           0.25|\n",
      "|UCxEKel7Cj0vy4scU...|    /@RanisKitchen30|      Rani's Kitchen|            3010|                null|                null|                null|https://yt3.googl...|               India|    144175.0|       213.0|2019-02-13|                    698.6|                      685.5|        475.592094131095|            0.5|\n",
      "|UCMJ49QX2BXGIQm87...|   /@mikaylajmakeupp|      Mikayla makeup|          602000|https://yt3.googl...| mikaylajmakeup F...|      Mikayla makeup|https://yt3.googl...|       United States| 258065347.0|      3195.0|2020-04-28|         7544.86666666667|                     6747.0|        3358.06930376502|            7.5|\n",
      "|UCd9cIdUCZqmsjSmR...|   /@MohiniSolanki01|Mohini Solanki Ki...|             151|                null|                null|                null|https://yt3.googl...|                null|     21407.0|       165.0|2023-04-07|         210.733333333333|                      126.5|        248.681581322158|            1.5|\n",
      "|UCexPc5idC98Frx93...|   /@anuscuisine5109|      Annu's Cuisine|             317|                null|                null|                null|https://yt3.googl...|                null|     49867.0|        55.0|2021-01-31|                    316.5|                      139.0|        723.926135734855|            1.0|\n",
      "|UCq2V7RaAzQsSPtBq...|       /@GILLVLOGS82|    Dil Jatt's vlogs|              38|                null|travelling,daily ...|                null|https://yt3.googl...|                null|      1012.0|         4.0|2021-06-27|         172.333333333333|                      200.0|        60.0240692463356|            0.5|\n",
      "|UCTEzXscFhp3VhCCG...|/@kilakaraikitche...|   Kilakarai Kitchen|           16400|https://yt3.googl...|Kilakarai Kitchen...|kilakarai, kilaka...|https://yt3.googl...|               India|   1728526.0|       498.0|2019-03-02|         910.666666666667|                      626.5|        1017.02757528441|            2.0|\n",
      "|UCCEhzkOE7OoMSyY1...|    /@cookwithdj3334|        Cook with Dj|           33000|https://yt3.googl...|\"My  Primary obje...|                null|https://yt3.googl...|                null|   3632562.0|       329.0|2011-10-22|         1674.03333333333|                      893.5|        1774.55520217196|            0.5|\n",
      "|UCuIqNLprScOdDyNs...|       /@journalsofa|       Journals of A|             126|https://yt3.googl...|Lifestyle, cookin...|lifestyle, motiva...|https://yt3.googl...|      United Kingdom|     22760.0|        44.0|2021-12-11|                    552.3|                      152.5|        1199.93330786896|            0.5|\n",
      "|UCtqBYY1mYo-OSklJ...|/@tastytreatsbysu...|Tasty Treats by S...|            1310|                null|Learn simple ways...|                null|https://yt3.googl...|               India|     39785.0|       135.0|2011-11-17|         91.4333333333333|                       81.5|        46.7073751016784|            3.0|\n",
      "|UCkfWV1SKR6yqItXW...|        /@AKBKitchen|         AKB Kitchen|          401000|https://yt3.googl...|Hi Viewers!! , We...|Tamil Cooking Cha...|https://yt3.googl...|               India|  81682466.0|       763.0|2020-12-02|         53203.0666666667|                    40857.0|        55208.7342111333|            5.5|\n",
      "|UC8gEdpQ0qQjsfixH...|/@ritukitchenlife...|Ritu's Kitchen an...|            1080|                null|Welcome to my cha...|                null|https://yt3.googl...|               India|    327406.0|       754.0|2020-06-08|                     41.2|                       31.5|        26.6125283779401|            1.0|\n",
      "|UCauInCIi7WTAfV07...|    /@LFamilyJourney|          Lynn'sLife|            3750|https://yt3.googl...|                null|video youtube Lyn...|https://yt3.googl...|       United States|    782340.0|      1478.0|2013-11-12|         70.8333333333333|                       44.0|        92.8884934866651|            7.5|\n",
      "|UCaFUGDnWoxeGtxyU...|         /@YWMFamily|          YWM Family|            4450|https://yt3.googl...|Family of 6 shari...|                null|https://yt3.googl...|       United States|   2361919.0|       407.0|2019-09-08|         59.8333333333333|                       58.0|        10.8230720633695|            0.5|\n",
      "|UC4I2bYqU5faqtPPp...|         /@TexasHHSC|           TexasHHSC|           18300|https://yt3.googl...|Texas Health and ...|         HHSC, Texas|https://yt3.googl...|       United States|  23401347.0|       586.0|2013-04-30|                  40481.4|                     1371.5|        138411.608605781|            0.5|\n",
      "|UCbIzet8yahMFLFYJ...|         /@mamoni901|         Mamoni vlog|            1920|https://yt3.googl...|а¦¤а§‹а¦®а¦ѕа¦¦а§...|Mamoni vlog, MAMO...|https://yt3.googl...|               India|    858323.0|       814.0|2022-04-18|         100.233333333333|                       84.0|        48.3105808516336|            0.5|\n",
      "|UCYc6xSuLLiddJjLk...|     /@medadakumetha|       Medadakumetha|            1250|                null|                null|                null|https://yt3.googl...|               India|    382874.0|       102.0|2022-11-27|         106.166666666667|                       40.5|         102.18841530341|           0.25|\n",
      "|UCl9qgv-QTihuFpxE...|  /@outofthedoldrums| Out of the Doldrums|          115000|https://yt3.googl...|Russell (yogi) & ...|vegan, plant base...|https://yt3.googl...|       United States|   8611946.0|       143.0|2016-08-08|         65499.2333333333|                     8874.0|        139530.218594321|           0.25|\n",
      "|UC6H9n2mH0HqqrZ5T...|        /@Sebster456|               Rabbi|             158|https://yt3.googl...|Random posts and ...|                null|https://yt3.googl...|              Canada|     51358.0|        26.0|2016-04-01|                  5981.75|                     2872.5|         7411.0931843757|            0.5|\n",
      "|UCj2YpB7s9QZ1osin...| /@MelbourneUniSport| Melbourne Uni Sport|             634|                null|                null|                null|https://yt3.googl...|                null|    113221.0|       125.0|2012-03-21|         220.766666666667|                      175.5|        269.025486194565|           0.25|\n",
      "|UCKW5VH1WxFWSu4Qt...|         /@RizaDabon|       Hanna Cooking|           76000|https://yt3.googl...|Make your own foo...|                null|https://yt3.googl...|                null|   5863777.0|       649.0|2012-01-15|         259.733333333333|                      186.5|         279.01612060158|           2.75|\n",
      "|UCh87IF45n1qtMUDX...|     /@LaFilleduSud.|     La Fille du Sud|            3300|https://yt3.googl...|Bienvenue sur ma ...|                null|https://yt3.googl...|              France|    959589.0|       433.0|2016-11-29|                    255.0|                      179.5|         176.25303779888|           0.25|\n",
      "|UCe8IdiKY9sKFwrjf...|/@IndianBreakfast...|Indian Breakfast ...|              31|                null|Welcome to my cha...|Indian breakfast ...|https://yt3.googl...|               India|      6969.0|        70.0|2024-01-13|         31.7333333333333|                       15.5|        50.6477596301708|           3.75|\n",
      "|UCtKn6QypA_yxDAio...|    /@balducci-is8dm|  Total Perfect Body|               5|                null|                null|fitness, wellness...|https://yt3.googl...|               Italy|        62.0|        17.0|2024-01-19|                   3.8125|                        1.0|        11.7005274987925|           3.75|\n",
      "|UCVTUBt1Qv4dIDvT4...|      /@OPPOMalaysia|       OPPO Malaysia|          222000|https://yt3.googl...|OPPO is a leading...|  AI-powered, selfie|https://yt3.googl...|            Malaysia| 421071661.0|       617.0|2014-01-08|         508518.466666667|                      825.5|        961383.206018104|           2.75|\n",
      "|UCAIhFz3fZh23HTRA...|     /@tomscratcherd|      Tom Scratcherd|              10|                null|                null|                null|https://yt3.googl...|      United Kingdom|        33.0|        13.0|2006-07-24|         2.69230769230769|                        1.0|        4.98281068944666|           3.25|\n",
      "|UCB8U0kL9oEOqsA5f...|/@anthonyvazquez4826|     Anthony Vazquez|              83|https://yt3.googl...|Former profession...|                null|https://yt3.googl...|                null|     59464.0|       575.0|2014-01-20|         480.466666666667|                       21.5|        2420.87256629138|            0.5|\n",
      "|UCKUvnBtoPn0kDZ3N...|/@successnfundrai...|Success N Fundrai...|              19|                null|                null|                null|https://yt3.googl...|                null|      3319.0|       125.0|2018-02-06|                      9.7|                        8.5|        6.77815117368544|            1.0|\n",
      "|UCcKKyaPLkP0aNHvb...|         /@TessaPeay|          Tessa Peay|         1150000|                null|Haircare, fashion...|                null|https://yt3.googl...|                null| 921676560.0|       610.0|2023-05-15|                 219409.0|                   219409.0|                201702.0|           0.25|\n",
      "|UCnapGMqJEcGJ9pfy...|       /@ksbhospital|        KSB Hospital|             319|https://yt3.googl...|A collection of v...|hospital, healthc...|https://yt3.googl...|                null|    105402.0|       303.0|2011-06-29|         73.4333333333333|                       21.5|        138.308997859463|           1.25|\n",
      "|UCHs_XdW23ArpXSfY...|       /@GolfMonthly|        Golf Monthly|          140000|https://yt3.googl...|Enjoy golf more! ...|Golf, sport, tips...|https://yt3.googl...|      United Kingdom|  67845101.0|      2553.0|2006-10-22|                  12723.7|                     6933.0|        18206.6264532999|            2.5|\n",
      "|UC80nlQP3jJgsNubI...|      /@VTVChannel17|Villanova Television|            1350|https://yt3.googl...|Welcome to VTV! W...|vtv, vtvchannel17...|https://yt3.googl...|                null|    618601.0|       977.0|2013-01-31|         83.7666666666667|                       78.0|        48.4710795790186|           4.25|\n",
      "|UCaxKSzvqo23joXVX...|       /@AdrianWidjy|         AdrianWidjy|          129000|                null|Interested in wha...|Places in sydney,...|https://yt3.googl...|           Australia| 159093613.0|      2452.0|2006-05-23|         767.833333333333|                      498.0|        1346.96310474918|            0.5|\n",
      "|UCLk4QG8N7y66YDif...|/@hazelanndechave...| Hazel Ann De Chavez|              94|                null|    Dreamer рџЊџрџЊ€|                null|https://yt3.googl...|                null|      3814.0|        52.0|2011-10-01|         81.8333333333333|                       32.5|        163.127574479472|            0.5|\n",
      "|UCgTH-uKHg4tovS9N...|/@INJOYphysioLengede| INJOYphysio Lengede|             126|https://yt3.googl...|\"\"\"Training ist d...|INJOY, INJOYLenge...|https://yt3.googl...|             Germany|     15747.0|       463.0|2015-11-18|         76.4333333333333|                       57.0|        65.7812958894007|            1.0|\n",
      "|UCflew8EKjpL4X3D5...|/@omahaworld-hera...|  Omaha World-Herald|           15200|https://yt3.googl...|                null|Huskers, Nebraska...|https://yt3.googl...|       United States|   8477006.0|      6836.0|2020-04-24|         269.266666666667|                       94.5|        399.089040468693|            7.5|\n",
      "|UCjTInuIOzwV_47tx...|       /@vibewithmel|       Vibe With Mel|            1180|https://yt3.googl...|                null|                null|https://yt3.googl...|                null|     94522.0|       135.0|2019-12-30|                    140.2|                       48.5|        236.456817763131|            1.0|\n",
      "|UCLrfykWk89D_2mA5...| /@lavanyasharivillu|Lavanya's harivillu |             312|                null|                null|                null|https://yt3.googl...|               India|    140552.0|       596.0|2023-01-17|         82.3333333333333|                       43.5|        92.6345268005162|           1.25|\n",
      "|UCz0zSuukBglV2YwG...|    /@TheAppleCircle|    The Apple Circle|          303000|https://yt3.googl...|Dedicated to cove...|Apple, iPhone, iP...|https://yt3.googl...|       United States|  79580212.0|       281.0|2018-11-29|         220559.233333333|                   195102.0|        139311.423093175|           0.75|\n",
      "|UCdll-plo00UVy_RF...|      /@marissaunger|       Marissa Unger|              22|                null|                null|                null|https://yt3.googl...|                null|      9399.0|        23.0|2022-09-20|         502.153846153846|                       24.0|        1061.46008629289|           0.25|\n",
      "|UCM8nwY4XvhPX1HnG...|    /@nazninkeya6774|         Naznin Keya|          555000|https://yt3.googl...|Hello everyone , ...|                null|https://yt3.googl...|          Bangladesh| 103711629.0|      1419.0|2018-09-17|                   2824.1|                     1167.5|        4057.17769186085|           3.75|\n",
      "|UCi-THnEE4EuHCllc...|         /@TheTCTech|              The TC|            1130|https://yt3.googl...|Hi! My YouTube Ch...|tech, Technology,...|https://yt3.googl...|       United States|    585803.0|        60.0|2019-07-14|                   2163.9|                      290.0|        3963.49171270316|           0.25|\n",
      "|UC9z5nkEoph8WwuXv...|       /@WOWHD-yz7jw|              WOW HD|               5|                null|                null|camping, camping ...|https://yt3.googl...|       United States|       385.0|        18.0|2024-01-25|         21.4444444444444|                       20.0|        8.88958330620872|            1.5|\n",
      "|UCKYYHD9ovVxrIn12...|     /@SYEDAKBAR1015|  SYED AKBAR FITNESS|            1140|https://yt3.googl...|Hello This is Sye...|                null|https://yt3.googl...|                null|    116505.0|       148.0|2023-07-09|                     96.2|                       93.0|         13.614697940094|           1.25|\n",
      "|UCYp-8eSX9jPG53vq...| /@caloriebeefitness|  caloriebee fitness|            1310|                null|Exercise to enjoy...|                null|https://yt3.googl...|                null|    174113.0|       218.0|2020-02-07|                    252.2|                      205.5|        175.295826153011|            1.5|\n",
      "|UCxpE-CRvCNWL6jc2...|           /@DrEhsan|            Dr Ehsan|              43|https://yt3.googl...|Doctor by profess...|                null|https://yt3.googl...|                null|      6277.0|        27.0|2021-01-01|         227.269230769231|                      154.0|        239.887082041067|           0.25|\n",
      "|UCXF85mM28a_ClQ0x...|   /@EDMVibeofficial|            EDM Vibe|           23000|https://yt3.googl...|Happiness brings ...|EDM Vibe, edm, mu...|https://yt3.googl...|       United States|   8478973.0|       138.0|2023-05-31|         20005.3666666667|                     7198.0|        32999.3749117397|            3.5|\n",
      "|UCzEEMPZgsAFcoJrN...|   /@KamiyabKitchens|    Kamiyab Kitchens|             181|                null|                null|cooking, hyderaba...|https://yt3.googl...|               India|     13419.0|        60.0|2023-12-31|         148.947368421053|                      141.0|        45.9043326520786|            1.5|\n",
      "|UC4mBP5tmRcZNOQRU...|/@jennywaterswell...|Jenny Waters Well...|             847|https://yt3.googl...|Empowering Empty ...|#healthyemptynest...|https://yt3.googl...|       United States|     75581.0|       162.0|2019-06-29|                   1245.9|                      281.0|        5218.23646678965|            1.0|\n",
      "|UCOal4wuJa67MJHew...| /@alexmcdonough7612|      Alex McDonough|            1260|https://yt3.googl...|                null|                null|https://yt3.googl...|                null|    127159.0|       223.0|2016-12-25|                      8.3|                        6.0|        7.37179308807113|            7.5|\n",
      "|UCC9-wAlGM-aYX6dt...|     /@corporateglow|      Corporate Glow|            2720|https://yt3.googl...|DISCLAIMER the in...|                null|https://yt3.googl...|              Canada|    331596.0|       243.0|2020-06-29|         34.6333333333333|                       23.5|        27.5214865554574|            1.0|\n",
      "|UCWOtvAuD0EHo4BzK...|  /@rattledmamba7372|        RattledMamba|              23|https://yt3.googl...|                null|wildrift, leagueo...|https://yt3.googl...|               India|      1525.0|        32.0|2020-07-30|         49.0666666666667|                       30.5|        61.9391816399137|            0.5|\n",
      "|UCsqZkNWeOvMi8Zm1...|       /@jpappas8169|         John Pappas|             208|https://yt3.googl...|The Cycling Life:...|                null|https://yt3.googl...|                null|     86781.0|        49.0|2011-02-26|         396.266666666667|                       14.5|        1582.93046664161|           0.25|\n",
      "|UCrz3ARDdBQ2Eb2OU...| /@Thestoryofnight11|The story of nigh...|               1|                null|                null|Mother-in-law, si...|https://yt3.googl...|       United States|        33.0|        22.0|2024-02-28|         1.90909090909091|                        1.0|        2.69526674188611|            5.5|\n",
      "|UCzmx7A3hDoiCmHI2...|   /@PuwakAdventures|    Puwak Adventures|               1|https://yt3.googl...|рџљґвЂЌв™‚пёЏ Ped...|Puwak, Adventure,...|https://yt3.googl...|       United States|      1908.0|        23.0|2023-12-15|                      6.0|                        2.0|        10.5227027292076|            1.0|\n",
      "|UCq5Dpjl7Yd3Q3TYt...|/@shawn_YourFrien...|Shawn, Your Frien...|              45|                null|Baking, food, hom...|                null|https://yt3.googl...|                null|      1353.0|        52.0|2013-11-06|         20.0333333333333|                        8.0|        50.6184968388258|            7.5|\n",
      "|UCMddpC5B-qgZ-fKN...|/@MirchMasalaFood...|Mirch Masala Food...|             124|https://yt3.googl...|At Mirch Masala F...|                null|https://yt3.googl...|                null|      4584.0|        38.0|2023-12-28|         128.733333333333|                       83.5|        137.669152519929|            3.0|\n",
      "|UCD5B-cwvWUuqLejY...|        /@funblend44|          Fun Blend |              96|https://yt3.googl...|                null|                null|https://yt3.googl...|                null|     17374.0|        38.0|2021-12-29|         241.333333333333|                      266.0|        62.1038556684598|           0.25|\n",
      "|UCY9QV419iMpaxEAs...|     /@Kathrynraaker|      Kathryn Raaker|             359|https://yt3.googl...|We post various s...|kathryn raaker, t...|https://yt3.googl...|       United States|    116301.0|       955.0|2009-03-19|         29.3333333333333|                       20.5|        27.5962960477589|            2.5|\n",
      "|UCbDP_dNLQmHhlumo...|      /@miyasimm5541|           Miya Simm|             349|                null|                null|                null|https://yt3.googl...|                null|     20835.0|        84.0|2021-11-30|         104.266666666667|                       77.0|          70.96568810974|            1.0|\n",
      "|UCrMkzCHFSRVVKnaa...| /@fitnessconsciente|      Soy Alex Silva|            9850|https://yt3.googl...|                null|                null|https://yt3.googl...|              Mexico|    822619.0|       321.0|2018-05-17|                    203.6|                      167.0|        151.243864889346|            1.5|\n",
      "|UCS_QrWBFGGBptTWY...|          /@cookpro6|          Cook Pro 6|          567000|https://yt3.googl...|    Anyone can cook |Food recipe, indi...|https://yt3.googl...|               India| 208770539.0|       657.0|2020-11-16|         21987.0333333333|                     3108.5|        97870.4074489946|            1.5|\n",
      "|UC575dLt7-qKDaniI...|       /@Deestar5489|             Stella |             176|                null|HEALTHY EASY COOK...|cooking, food, fi...|https://yt3.googl...|       United States|     16667.0|       143.0|2015-10-17|                    179.2|                       64.5|        483.119474526402|           1.75|\n",
      "|UCFJRxU_T26U4wXPK...|/@Yummyfoodstuff-...|    Yummy food stuff|              61|                null|Hi viewer welcome...|                null|https://yt3.googl...|                null|      9753.0|        90.0|2024-01-10|         100.366666666667|                       46.5|        196.296626449757|            2.5|\n",
      "|UCFsbfdZU9fydq8U1...|     /@Lucy_Verse007|          Lucy_Verse|            1670|                null|                null|                null|https://yt3.googl...|               India|   1201251.0|       135.0|2020-07-12|                   1317.2|                      210.0|        5116.67746622096|            0.5|\n",
      "|UCTMY2-J7ShIbpR4D...|       /@NDTVHOPLIVE|            HOP LIVE|            6880|https://yt3.googl...|View the world fr...|ndtv hop live, ho...|https://yt3.googl...|               India|   1643642.0|       925.0|2019-04-30|         595.133333333333|                      464.0|        503.646220630668|           3.75|\n",
      "|UCz8DWvXJVqon8dhH...|    /@Drdattaambekar|Dr Datta Ambekar'...|            1610|https://yt3.googl...| Get started with...|Wellness, Fitness...|https://yt3.googl...|               India|    401932.0|       576.0|2020-04-04|                    150.0|                       60.0|        354.815257093979|           0.25|\n",
      "|UC0nHi5gEudfpLCbx...|   /@aniverseenglish|    AniVerse English|            4250|https://yt3.googl...|вЂў Suggesting Ma...|                null|https://yt3.googl...|               India|    345000.0|        93.0|2022-12-14|         2587.13333333333|                     1272.0|        3544.26622150324|            7.5|\n",
      "|UCvNGMZ-FXlihsMEC...|  /@SantagatoStudios|   Santagato Studios|          775000|https://yt3.googl...|Subscribing would...|santagato, santag...|https://yt3.googl...|       United States|  95111532.0|       263.0|2011-10-21|         197459.933333333|                   177849.0|        78459.1687082877|            1.0|\n",
      "|UC90Rjr__UJ1NybFn...|            /@01gt46|              01gt46|             607|https://yt3.googl...|                null|                null|https://yt3.googl...|                null|   1059476.0|        85.0|2007-12-07|                   4182.9|                      310.5|        13520.4998584865|            0.5|\n",
      "|UCJmUvmJp07s9dvDc...| /@kevinclarkfitness|         Kevin Clark|             263|https://yt3.googl...|Recovery вЂў Fitn...|motivation, inspi...|https://yt3.googl...|       United States|     48320.0|        79.0|2020-01-17|         143.266666666667|                       90.5|        160.179468791173|            0.5|\n",
      "|UC8JkvoYUOJyjullr...|         /@uhaweekly|                uha |              41|https://yt3.googl...|                null|                null|https://yt3.googl...|                null|      2528.0|        24.0|2023-12-25|         127.909090909091|                       98.0|        81.3594209167004|           0.75|\n",
      "|UCRZqZLJWvLE_XFLQ...|        /@3amkitchen|         3am kitchen|             681|https://yt3.googl...|Good food is good...|3am kitchen, Madu...|https://yt3.googl...|               India|    329550.0|       396.0|2023-05-30|                    103.3|                       75.0|        127.590529951613|            1.0|\n",
      "|UCLBDriCnjaFhCCl_...|  /@MeisterdipperGAP|George's Total Fi...|              49|https://yt3.googl...|                null|                null|https://yt3.googl...|                null|     37190.0|       457.0|2010-04-06|                    110.8|                       33.0|        410.269293675914|            0.5|\n",
      "|UCywhnhPP3dAw7huG...|     /@BrandonRogers|      Brandon Rogers|         6680000|https://yt3.googl...|Youtube's little ...|Brandon, Rogers, ...|https://yt3.googl...|                null|1392557231.0|       253.0|2006-01-07|         1149542.36666667|                   798589.0|        1053035.88086606|            0.5|\n",
      "|UCGiSY-wqHv35wFvi...|/@PaytasHacmonFam...|Paytas-Hacmon Fam...|         1430000|https://yt3.googl...|the lives of Tris...|                null|https://yt3.googl...|                null|  90192942.0|       856.0|2014-06-12|                  35694.5|                    28294.0|        24218.2572105564|           0.25|\n",
      "|UCSIJgYbK5Zy3uC_U...|  /@VanithaVantakalu|   Vanitha Vantakalu|             230|https://yt3.googl...|                null|#YouTubeViral, #Y...|https://yt3.googl...|               India|     95196.0|       286.0|2023-07-23|         60.1333333333333|                       50.0|        40.7788616265285|            0.5|\n",
      "|UCnW2aiFz4PXsq_Mg...|/@shreescreationr...|Shree's Creation ...|              91|                null|Sharing with delight|                null|https://yt3.googl...|                null|      9337.0|        47.0|2014-12-15|                    38.75|                       23.5|         38.537203731311|           0.75|\n",
      "|UCMgDtzdYjHJfyIbK...|  /@Mudasirhakeem560|      Mudasir hakeem|            1780|https://yt3.googl...|Hamra apna dawa k...|                null|https://yt3.googl...|                null|    285163.0|        55.0|2023-06-12|         5119.13333333333|                     1217.5|        18412.0247659572|            7.5|\n",
      "|UCkOjSM5uHtNsr1gP...|   /@TheCookinCamper|  The Cookin' Camper|            3180|https://yt3.googl...|Hey there, I'm Lu...|cooking, campgrou...|https://yt3.googl...|       United States|   1961312.0|      1561.0|2020-05-15|                    141.6|                       31.0|        487.683134832444|           4.25|\n",
      "|UCIchVn3GkAUasfAO...|/@dontwastethecrumbs|      Tiffany Crumbs|            1740|                null|                null|                null|https://yt3.googl...|                null|    199291.0|       208.0|2012-03-07|         97.6666666666667|                       62.5|        90.6522047289652|            3.0|\n",
      "|UCy39DSRdsAi1CPLW...|/@KitchenTimewith...|Kitchen Time with...|          107000|https://yt3.googl...|A collection of s...|Kitchen Time with...|https://yt3.googl...|               India|  20205648.0|       253.0|2013-04-27|                   3613.5|                     1785.0|        4645.98591438531|           0.25|\n",
      "|UCcrPyLdl0l7sPAeZ...|/@TheManifestatio...|The Manifestation...|             875|https://yt3.googl...|Welcome! My chann...|Cooking as therap...|https://yt3.googl...|       United States|     99788.0|       222.0|2011-10-19|         51.2333333333333|                       39.5|        38.5051367424602|           0.25|\n",
      "|UCixdzoY3X-shnEec...|      /@mrs.annalina|       Mrs. Annalina|             917|                null|Beauty and Lifest...|                null|https://yt3.googl...|                null|    204111.0|        44.0|2016-11-17|                   5473.9|                      216.0|         13848.136141373|           0.25|\n",
      "|UCChQgeNDOn97W1bZ...|/@PositivelyParal...|Positively Paralyzed|           20400|https://yt3.googl...|Leveraging the po...|Epidural, Transcu...|https://yt3.googl...|       United States|   9091200.0|       214.0|2019-01-14|         283.933333333333|                      173.0|         368.97325407436|           4.25|\n",
      "|UChtJrLuU-Xv9P-IO...|/@HilltopintheValley|Hilltop in the Va...|            1400|https://yt3.googl...|Hi there friend! ...|Farmhouse, Mother...|https://yt3.googl...|       United States|     64797.0|        80.0|2020-05-18|         602.633333333333|                      278.5|        1002.83376765821|            0.5|\n",
      "|UC6k_GngLDtxbkUlZ...|  /@TheMcElroyFamily|  The McElroy Family|          390000|https://yt3.googl...|The home of all (...|                null|https://yt3.googl...|       United States|  72495273.0|      1220.0|2010-10-12|                  30123.5|                    16093.0|        28190.3864851714|           1.75|\n",
      "|UCGVJ1cRQUWckZ5Ed...|     /@FSAdoctortips|     FSA doctor tips|             420|https://yt3.googl...|FSA doctor tips a...|FSA, DOCTOR, TIPS...|https://yt3.googl...|            Pakistan|     52112.0|        63.0|2023-12-25|         170.533333333333|                       97.0|          213.3770892627|           6.75|\n",
      "|UCtSDbB7Mq0YkpCKb...|/@RunningAndStuff...|     RunningAndStuff|               6|https://yt3.googl...|We run because pi...|                null|https://yt3.googl...|       United States|       838.0|        49.0|2024-01-04|         12.6086956521739|                        8.0|        17.1559069062798|            0.5|\n",
      "|UCJenA8uG5uhiYNML...|      /@lifewaykefir|        lifewaykefir|            1480|https://yt3.googl...|                null|lifeway, lifeway ...|https://yt3.googl...|                null|  23867763.0|       219.0|2009-05-11|         5662.86666666667|                       69.5|        20045.2766634825|           0.75|\n",
      "|UCEg6H5ITyvMLL8Gp...|        /@askhan3039|            A S KHAN|            2290|                null|                null|                null|https://yt3.googl...|                null|    557560.0|       589.0|2012-04-30|                    563.5|                      337.5|        445.958125836944|            0.5|\n",
      "|UCxdFetayYZWmiIiw...|      /@inseason8298|            InSeason|             433|https://yt3.googl...|As your go-to for...|Recipes, How to, ...|https://yt3.googl...|       United States|     25766.0|       159.0|2015-12-07|                     98.3|                       44.5|        139.845426572818|           0.25|\n",
      "|UCpyvymruzUg5bPqs...|   /@NickShellVideos|          Nick Shell|           13500|https://yt3.googl...|I am a Certified ...|hair loss, recedi...|https://yt3.googl...|       United States|  10081398.0|      4534.0|2006-12-25|                    373.1|                      357.0|        243.379449967878|            1.0|\n",
      "|UCTIgKXJ3T1JeD54R...|      /@Roothealthmd|        Roothealthmd|            3710|https://yt3.googl...|Dr. Sailaja Reddy...|health, healthy, ...|https://yt3.googl...|       United States|    509390.0|       123.0|2012-05-05|                    171.5|                      125.0|        225.658997900224|           0.25|\n",
      "|UCLXHz587QDXchHoL...|/@PratikshaRecipe...|Pratiksha Recipes...|           22800|                null|                null|                null|https://yt3.googl...|                null|   8722601.0|       423.0|2020-11-12|         1571.73333333333|                      946.0|        1833.45111621651|            2.0|\n",
      "|UCNwGfI_DewoSPz34...|     /@boldbycrystal|     BOLD by Crystal|             359|https://yt3.googl...|Here we will disp...|Fitness, athliesu...|https://yt3.googl...|       United States|     10145.0|        23.0|2019-11-06|                   280.85|                      240.5|        196.380568030546|           0.25|\n",
      "|UCUsMHZbC7HTKD9sr...|    /@DailyManhattan|     Daily Manhattan|            1850|https://yt3.googl...|I post daily vide...|                null|https://yt3.googl...|                null|   1678088.0|      1635.0|2007-11-13|                    104.5|                       27.0|        214.568365173744|           0.75|\n",
      "|UCd2bUM1I-N-7nKKk...|/@AustralianSeanA...|          Sean Allen|             388|https://yt3.googl...|                null|                null|https://yt3.googl...|                null|    124865.0|       252.0|2010-02-10|         136.833333333333|                       87.5|        112.925368668377|           0.75|\n",
      "|UC46fZkmsP85pUQDL...|     /@PurpleStars02|       PurpleStars02|         3870000|https://yt3.googl...|Welcome to my cha...|                null|https://yt3.googl...|                null|2114383941.0|      1972.0|2013-06-13|                 343347.2|                   209433.0|        377999.337776968|            3.0|\n",
      "|UCJOOZMAnWa9cPqnG...|   /@TheRunningBisht|     TheRunningBisht|              11|https://yt3.googl...|Welcome to TheRun...|#RunFitWithDeepak...|https://yt3.googl...|               India|       253.0|         5.0|2024-03-02|                    47.75|                       37.5|        29.3800527569302|            1.0|\n",
      "|UCl2KFMsIWCBkAeQC...|  /@Vijayaskitchen24|    Vijayaskitchen24|              85|                null|                null|                null|https://yt3.googl...|                null|     28735.0|        60.0|2023-03-23|         86.3333333333333|                       78.0|        68.3224381558178|            2.5|\n",
      "|UCaiVt4r6YLPzJVgr...|        /@AbaNPreach|        Aba N Preach|         2089999|https://yt3.googl...|         Value Value|Comedy, stand up ...|https://yt3.googl...|              Canada| 931210827.0|      1001.0|2012-06-16|         688091.933333333|                   684440.5|        233425.718497475|            3.0|\n",
      "|UCq5ZltOgkMhTx8xJ...|        /@chefgarrin|         CHEF GARRIN|            2710|https://yt3.googl...|Private Chef spec...|Thai, Indian, Ita...|https://yt3.googl...|                null|    641821.0|        44.0|2014-02-27|         21023.0333333333|                      210.0|        96457.4095043967|            0.5|\n",
      "|UCLNW9MAi3oMnBB05...|/@vitositaliancucina|Vito's Italian Cu...|           10100|https://yt3.googl...|Chef Vito Giambal...|FOOD, в™Є, FUN, L...|https://yt3.googl...|       United States|    353066.0|       244.0|2006-11-18|         797.733333333333|                      666.0|        705.001226161266|            1.0|\n",
      "|UC4z3y41UuXRmT-QF...|      /@AndresAyesta|       Andres Ayesta|            1680|https://yt3.googl...|Andres Ayesta, MS...|nutrition, health...|https://yt3.googl...|       United States|    193837.0|       350.0|2015-09-30|         1393.13333333333|                      488.5|        3520.46580945697|            1.0|\n",
      "|UC8ObK4o5ZyxDx-b6...|        /@BodyByTrin|        Body by Trin|              96|https://yt3.googl...|                null|                null|https://yt3.googl...|                null|     31252.0|       117.0|2021-07-26|         111.366666666667|                       35.5|        296.856248413643|            0.5|\n",
      "|UC4QdCQHGt-8f5HI1...|     /@dannylatrenta|      Danny Latrenta|            2510|https://yt3.googl...|    Creative... ish.|Cooking, Cook, Fo...|https://yt3.googl...|       United States|    493251.0|       254.0|2019-11-15|         519.533333333333|                      132.5|        1212.08601821635|           2.25|\n",
      "|UCApZnLL5SYyvU5E_...|   /@dohasfoodreview|  Doha's Food Review|               1|https://yt3.googl...|Welcome to Doha's...|                null|https://yt3.googl...|                null|         8.0|         2.0|2020-08-20|                      4.0|                        4.0|                     3.0|            0.5|\n",
      "|UCc9CjaAjsMMvaSgh...|    /@Beardmeatsfood|      BeardMeatsFood|         3780000|https://yt3.googl...|Bearded eating fe...|eating challenges...|https://yt3.googl...|      United Kingdom|1158358118.0|       635.0|2015-01-12|                3324595.1|                  3327542.5|        1224320.80302172|            1.0|\n",
      "|UCujuVKmt_utAQZJg...|      /@espncricinfo|        ESPNcricinfo|         1680000|https://yt3.googl...|Join Cricket's Bi...|ESPN, ESPNcricinf...|https://yt3.googl...|               India| 725030267.0|     16030.0|2009-12-23|         9424.83333333333|                     1059.5|        14340.2068722487|            7.5|\n",
      "|UCLjOY9B64h742WKj...|/@nutripluswellne...|Nutriplus wellnes...|             197|https://yt3.googl...|Hi! On my channel...|                null|https://yt3.googl...|                null|     88642.0|        87.0|2021-07-18|         1230.53333333333|                      169.5|        2933.01910135084|            1.0|\n",
      "|UCuGT3XfVkrDjcPbW...|         /@Kapa_boys|          Kapa Boys |             362|https://yt3.googl...|Daily gym fanny v...|                null|https://yt3.googl...|                null|     67860.0|        36.0|2023-05-13|                    232.0|                      232.0|                    22.0|           0.25|\n",
      "|UCNl-wPn0ArzO7tPr...| /@awkwardlymadelife| Awkwardly made life|             698|https://yt3.googl...|This is a channel...|                null|https://yt3.googl...|        South Africa|     59053.0|       359.0|2012-10-03|                    324.7|                      201.0|        350.350600589371|            2.0|\n",
      "|UCXfQLy_5c73HDw1M...|  /@LasheekaBrown615|      Lasheeka Brown|            8680|https://yt3.googl...|Hello everyone I ...|vlogs, Grocery sh...|https://yt3.googl...|       United States|   2628478.0|       891.0|2017-07-24|                   4307.3|                     3957.5|        1687.38887337804|            7.5|\n",
      "|UCE-1v-OHA3grY7gt...|    /@DejaDoesNegril|    Deja Does Negril|            1100|https://yt3.googl...|I will be coverin...|jamaica, vlog, ne...|https://yt3.googl...|             Jamaica|    301504.0|       289.0|2016-04-12|                    420.9|                      257.5|        424.051125062376|           0.25|\n",
      "|UCYglJ7v6sM4NHIkA...|/@fitnfinevlogger...|  Fit 'N' Fine Video|             516|                null|                null|AJ Vlogs, Aman Jh...|https://yt3.googl...|               India|      8507.0|        68.0|2017-02-18|         84.2307692307692|                       10.0|        135.154699879095|           3.25|\n",
      "|UCvtRTOMP2TqYqu51...|          /@Brawadis|            Brawadis|         6430000|https://yt3.googl...|Hi! IвЂ™m Brandon...|                null|https://yt3.googl...|       United States|1916461174.0|      2007.0|2015-04-03|                 457130.5|                   455471.0|        115407.049349032|           1.25|\n",
      "|UCpmEVhShKdJg4_vI...| /@beranilangsingkuy|   beranilangsingkuy|              71|                null|                null|                null|https://yt3.googl...|                null|       975.0|        10.0|2023-04-13|         138.142857142857|                      118.0|        153.293768926975|            1.5|\n",
      "|UCMpOz2KEfkSdd5Je...|          /@shaaanxo|            Shaaanxo|         2980000|https://yt3.googl...|Hello! IвЂ™m Shan...|shaaanxo, shaanxo...|https://yt3.googl...|         New Zealand| 477344230.0|      1786.0|2009-01-18|         27800.9666666667|                    27920.0|        8899.65406999371|            1.0|\n",
      "|UC2JSY3WdkKej0_5r...|      /@quanutrition|Quanutrition - Be...|            9680|https://yt3.googl...|Book your appoint...|Sports nutrition ...|https://yt3.googl...|               India|    444018.0|       482.0|2009-12-31|                    156.6|                      120.0|        126.606634897228|           7.25|\n",
      "|UCsyhe2vQDABvnUMo...|         /@tapri_tea|            TapriTea|              12|                null|                null|teatime, teaofthe...|https://yt3.googl...|                null|      5011.0|        59.0|2024-01-01|                     20.0|                       25.0|        13.9283882771841|            0.5|\n",
      "|UC1tggDmEWyZCthO8...|  /@cookinwivroy6932|      Cookin Wiv Roy|             791|                null|Hi I'm Roy and I ...|                null|https://yt3.googl...|       United States|     43123.0|        35.0|2021-05-05|                   1340.8|                      128.5|        4887.54112957971|           0.75|\n",
      "|UCRic4-QpOeYyKLI_...|/@FadelellahMounshed| Fadelellah Mounshed|            3770|https://yt3.googl...|Hey there, IвЂ™m ...|Fadelellah, Fadel...|https://yt3.googl...|       United States|    284155.0|       234.0|2014-03-05|         442.366666666667|                      346.0|        298.180759868164|           0.25|\n",
      "|UC8En1XPTon6l7RLY...|         /@TALLIEFIT|          TALLIE FIT|               8|https://yt3.googl...|Fitness is a Life...|                null|https://yt3.googl...|                null|      3775.0|        20.0|2023-12-28|         3.76470588235294|                        3.0|        4.13776597531035|           4.25|\n",
      "|UCpnWdu_BG-q3blmo...| /@Simple_Kitchen100|      Simple Kitchen|               2|https://yt3.googl...|Famous chef Alex ...|Simple Kitchen, R...|https://yt3.googl...|       United States|        88.0|         2.0|2023-12-04|                     44.5|                       44.5|                    24.5|            0.5|\n",
      "|UCZTdZSYSrcDLE4JG...|/@SpecialcookingS...|      Chef Esso Plus|              43|https://yt3.googl...|Hello my friends,...|cooking channels ...|https://yt3.googl...|       United States|      3810.0|        21.0|2023-04-29|         182.047619047619|                      123.0|        199.471080656171|            1.0|\n",
      "|UCNXLp9UBILSuF8N_...|/@gymgharmaldafit...|        Ayub bhai ji|             409|https://yt3.googl...|                null|                null|https://yt3.googl...|                null|    101572.0|        46.0|2023-01-17|                    166.0|                       55.0|        180.079612023868|           0.25|\n",
      "|UCGNpzkUCCDUmQ2Dx...|          /@MyCHEFiQ|             CHEF iQ|            1890|https://yt3.googl...|Never over or und...|                null|https://yt3.googl...|       United States|   5597063.0|       246.0|2020-03-16|                  22670.5|                      552.5|         68066.798593612|           0.25|\n",
      "|UCKN55JzDcTiEo_4l...|/@ShaniceShopping...|Shanice Shopping ...|           25500|https://yt3.googl...|Welcome to Shanic...|shop with me, sho...|https://yt3.googl...|       United States|   7308030.0|      1757.0|2019-04-13|         1920.46666666667|                     1886.5|        825.349369795738|            7.5|\n",
      "|UCzfVmyl18x2TTaWp...|   /@MiniminterClips|     MiniminterClips|         1430000|https://yt3.googl...|3rd channel where...|MiniminterClips, ...|https://yt3.googl...|      United Kingdom| 632456080.0|      1873.0|2020-01-09|         147354.066666667|                   120719.0|        112427.790532393|           6.75|\n",
      "|UCk9xn_Z1Y9QormZG...|        /@gymhotties|         gym hotties|             214|https://yt3.googl...|gym fitness & mot...|girl flexing, mus...|https://yt3.googl...|       United States|    107735.0|      1509.0|2023-05-13|         117.033333333333|                       78.5|        106.560931969565|           2.75|\n",
      "|UCVnbbVi8ZcREpTth...|/@greatplainspvaa...|Great Plains PVA ...|              62|                null|This channel will...|                null|https://yt3.googl...|       United States|     21249.0|      1795.0|2021-03-13|         19.7666666666667|                       15.0|        16.6306611079923|            7.5|\n",
      "|UCWZiVLXXCYoD_B1o...|/@OxfamTrailwalke...|OxfamTrailwalkerAust|             584|https://yt3.googl...|                null|                null|https://yt3.googl...|                null|    425549.0|        50.0|2007-12-03|         2372.13333333333|                      408.5|        7407.74472532333|            0.5|\n",
      "|UCPcO3Bxx41Jf9UHq...|      /@foodiekaadda|      Foodie Ka Adda|          151000|https://yt3.googl...|Business And Prom...|indian street foo...|https://yt3.googl...|               India|  65392384.0|      1495.0|2021-01-30|         513.333333333333|                      234.5|        629.134767403261|            0.5|\n",
      "|UC4ez5rMI0XhGGN0H...|   /@dawgcanjumphigh|      Ronald Weidner|             431|https://yt3.googl...|Hi I'm Ronald Wei...|dawg, jumpman, Ro...|https://yt3.googl...|       United States|    324337.0|       586.0|2009-08-08|         235.866666666667|                      111.0|        317.951645520021|           0.75|\n",
      "|UC7yp8G71NWB6R9m5...|      /@jatinp1.13.7|   JATINPALIKONDA 13|              27|https://yt3.googl...|       Don't give up|                null|https://yt3.googl...|                null|     17095.0|        59.0|2022-08-08|         17.9666666666667|                       16.5|         8.9497982596754|           0.75|\n",
      "|UCxRkATQG5ogPrEbU...|    /@lowelltrey7228|         Lowell Trey|            1520|https://yt3.googl...|Husband, Parent, ...|                null|https://yt3.googl...|       United States|    242534.0|       439.0|2020-01-31|         105.666666666667|                       26.5|        221.300449364408|           2.25|\n",
      "|UC0Ik25PHaiHCbfGr...|         /@AllAttack|           AllAttack|         3160000|https://yt3.googl...|Your home for pre...|football, skills,...|https://yt3.googl...|       United States| 325120964.0|       224.0|2014-10-27|                1385692.0|                   898632.5|        1504974.82153454|           0.25|\n",
      "|UCxUZ-nHB0_oqw9I8...|     /@ShutUpCamilla|     Shut Up Camilla|           18100|https://yt3.googl...|New England gal w...|                null|https://yt3.googl...|                null|  25965941.0|      1056.0|2008-01-05|                    555.7|                      591.0|        241.838120788817|           1.25|\n",
      "|UCVuIIm6TH5CWw7KO...|/@UnityPointCedar...|UnityPoint Health...|           41900|https://yt3.googl...|St. Luke's is a 5...|iowa, Cedar Rapid...|https://yt3.googl...|       United States|  15642881.0|      1105.0|2009-05-07|         194.033333333333|                      125.5|         246.23762010618|            0.5|\n",
      "|UCOaFlCQ1TyduH3T_...|/channel/UCOaFlCQ...|           Mo Dollaz|            2410|https://yt3.googl...|                null|                null|https://yt3.googl...|                null|    656180.0|       167.0|2012-12-07|         9628.66666666667|                       78.5|        47737.5185078664|            0.5|\n",
      "|UC8muz01U3hSMcvem...|   /@AngelicaRoseNo1|       Angelica Rose|              39|                null|                null|                null|https://yt3.googl...|       United States|     22654.0|       101.0|2016-02-22|                    146.1|                       26.5|        341.369042728443|            2.0|\n",
      "|UCcRiZ-xtEzbZ6isx...|  /@Cookwithsafysmom|Cook with Safy's Mom|             281|https://yt3.googl...|Hy everyone Assal...|Cook with safys m...|https://yt3.googl...|United Arab Emirates|     12416.0|        45.0|2017-12-23|                    299.3|                      247.5|        296.797815580461|           2.25|\n",
      "|UCPUdB2SoW4VM0GDB...|      /@Wildlife0300|Wild Animals of S...|            7960|https://yt3.googl...|#deerdogs#cat#bir...|Wildlife, wildlif...|https://yt3.googl...|            Pakistan|   1751887.0|       870.0|2016-01-03|         136.566666666667|                       76.5|        166.576645688671|           0.75|\n",
      "|UCYL1ApPAa8spRG8y...|/@budgetfriendlyc...|What's in Your Ki...|            6310|https://yt3.googl...|The channel is ab...|budget friendly r...|https://yt3.googl...|       United States|    149420.0|       167.0|2019-02-02|         1596.56666666667|                      437.5|        3949.48890941038|           0.25|\n",
      "|UC9cz44FWlfgM2fYZ...|/@PaxtonHabershaw...|   Paxton Habershaw |               1|                null|                null|                null|https://yt3.googl...|                null|        40.0|         5.0|2023-12-30|                      8.2|                        1.0|        14.4138821973818|           1.25|\n",
      "|UCko19ikl0ierSZjy...|     /@maskladyvlogs|     Mask Lady Vlogs|            1980|https://yt3.googl...|                null|natashas kitchen,...|https://yt3.googl...|            Pakistan|     76843.0|        45.0|2022-02-23|         2505.83333333333|                       69.0|        9939.75662037166|            4.0|\n",
      "|UClPOW9v0yp0zvOie...|          /@najam121|      NaJaM Ul HaSaN|            1340|https://yt3.googl...|Here You'll Find ...|Tips And Tricks, ...|https://yt3.googl...|                null|     89359.0|       225.0|2011-03-26|         57.5333333333333|                       32.5|        61.8464406592831|           0.25|\n",
      "|UC5eRcVSfYz123I1s...|    /@JamesBeardwell|     James Beardwell|           29100|https://yt3.googl...|GYMSHARK CODE JAMES |                null|https://yt3.googl...|      United Kingdom|   1663682.0|       194.0|2013-01-02|                  14400.5|                    12135.0|        7994.87122577135|           0.25|\n",
      "|UCFUIGnPcutFgdr6C...|       /@BakeWithRai|       Raihanah Raja|            3220|https://yt3.googl...|Spreading the в™Ґ...|                null|https://yt3.googl...|      United Kingdom|    183527.0|       186.0|2019-10-20|         148.133333333333|                      117.5|        125.518320929213|           1.75|\n",
      "|UC1ng9yMQBxnJaPvc...|     /@MattMarcGVlog| Matt & Marc G. Vlog|            1410|https://yt3.googl...|To share memories...|                null|https://yt3.googl...|              Canada|     64897.0|       139.0|2020-12-19|         26.5666666666667|                       22.0|        18.0271708509375|           0.25|\n",
      "|UCtQOP_97O1qkA9CU...| /@FloraintheKitchen|Flora in the Kitchen|           11700|https://yt3.googl...|Flora in the Kitc...|flora in the kitc...|https://yt3.googl...|               Italy|   1276174.0|       230.0|2010-02-03|         492.733333333333|                      184.5|        1565.50730719754|           0.25|\n",
      "|UC4Xs1wD5j3m3pU5k...|/@ZarasKitchen-mz9pu|      Zara's kitchen|             517|                null|Learn how to cook...|Zaras kitchen, ba...|https://yt3.googl...|                null|     30088.0|       182.0|2023-06-21|         70.9666666666667|                       64.0|        31.6517333209766|            2.5|\n",
      "|UC3hDOYkBbl69gT9P...|   /@vaishnavivedant|2012vaishnavi vedant|              29|                null|                null|                null|https://yt3.googl...|                null|      3477.0|        30.0|2020-07-14|                     60.8|                       42.0|        49.5132305550749|           0.25|\n",
      "|UCP4uqIzm-ff9PGCF...|/@mymomsrecipesde...|My Mom's Recipes ...|            3560|https://yt3.googl...|Although my mom l...|                null|https://yt3.googl...|                null|    354053.0|       508.0|2011-10-07|         31.3333333333333|                       29.5|        10.4955016819376|            1.0|\n",
      "|UCCKn6YDydzEW8e6R...|     /@breketefamily|      Brekete Family|          422000|https://yt3.googl...|Reality Radio and...|Brekete, Family, ...|https://yt3.googl...|             Nigeria|  58128155.0|      7909.0|2012-07-16|         13292.7333333333|                     8569.0|          12939.29116537|            7.5|\n",
      "|UCMls4SunPnivCekK...|/@LingokidsCartoo...|Lingokids Cartoon...|              48|https://yt3.googl...|Prepare for a cos...|lingokids, lingo ...|https://yt3.googl...|       United States|     15788.0|        21.0|2024-01-17|         1129.61111111111|                      533.5|        1438.45287795561|            4.5|\n",
      "|UCE-GIe53ghn2ULfi...|/@rhythmsofflavou...|Rhythms Of Flavours |             373|                null|                null|                null|https://yt3.googl...|                null|    156142.0|       104.0|2022-08-31|                    177.4|                      130.0|        297.827533985694|           0.75|\n",
      "|UCyYbA0kZcbrBfXAF...|          /@HowToDoe|           How To Do|            6210|                null|this channel is a...|tech, beauty, rev...|https://yt3.googl...|               India|   1539201.0|       150.0|2021-05-28|         995.533333333333|                      214.5|         1896.3534609584|           0.25|\n",
      "|UCyQkMUy1w7X7pZEq...|        /@Newstalkfm|            Newstalk|           74000|https://yt3.googl...|CONVERSATION THAT...|Newstalk, Ireland...|https://yt3.googl...|             Ireland|  45783057.0|      5660.0|2008-08-14|                   5768.6|                     2492.5|        8311.53121311992|            7.5|\n",
      "|UCMURcNXDqZGQyk_U...|        /@GiGiBeauty|         GiGi Beauty|          350000|https://yt3.googl...|                null|gsterl, family, f...|https://yt3.googl...|      United Kingdom|  69006723.0|       788.0|2015-10-30|                  11405.4|                     3794.5|        29757.1921296348|            1.0|\n",
      "|UC_rZRa2fTu6K20Ry...|   /@chammusvlog8668|       Chammu's Vlog|               8|                null|                null|                null|https://yt3.googl...|                null|      1382.0|         9.0|2023-02-05|         154.111111111111|                       21.0|        242.707159828668|            1.0|\n",
      "|UCpFuaxD-0PKLolFR...|/@SousVideEverything|Sous Vide Everything|         1960000|https://yt3.googl...|Sous Vide Everyth...|Sous Vide, steak,...|https://yt3.googl...|       United States| 360057893.0|       600.0|2017-01-20|         376160.266666667|                   325486.5|        225746.617979677|            1.0|\n",
      "|UC9ce5vGQXk8CW-Ch...|  /@AmazonDealsHub47|Amazon Deals Expl...|             113|https://yt3.googl...|Welcome to Amazon...|Product link hub,...|https://yt3.googl...|               India|       421.0|        13.0|2021-10-31|         38.4444444444444|                        5.0|        70.7579773454887|           1.75|\n",
      "|UC4AkVj-qnJxNtKuz...|/@ThinkingandTink...| Robert Murray-Smith|          492000|https://yt3.googl...|Oddly enough the ...|science, technolo...|https://yt3.googl...|      United Kingdom|  66204381.0|      2346.0|2012-01-01|                  30087.3|                    27659.0|        20824.4975564038|            7.0|\n",
      "|UCD2Knv7deWoIAYA6...|      /@seylamas3315|       SeylasKitchen|             176|                null|    Kitchen Cooking |                null|https://yt3.googl...|                null|      1059.0|        22.0|2022-08-30|         48.1363636363636|                       31.0|        48.2100474764955|            1.0|\n",
      "|UC3puZ_HWd1JbuqGy...|       /@Food_Bar659|            Food Bar|             458|https://yt3.googl...|hy i,m chef kashi...|                null|https://yt3.googl...|                null|     60653.0|       215.0|2023-06-04|                    115.5|                       66.0|        175.627968539562|            3.0|\n",
      "|UCAkomoSLlewMvwWr...|/@monalizaskitche...| Mona Liza's Kitchen|            2700|https://yt3.googl...|Hi I'm Mona Liza....|Mona Lizas Kitche...|https://yt3.googl...|         Philippines|    251318.0|       479.0|2015-11-29|         98.0333333333333|                       38.0|        115.697445472616|           0.25|\n",
      "|UCmWz5y4khjQlxj7i...|  /@Tasteandtellblog|      Taste and Tell|           36400|https://yt3.googl...|                null|food, recipes, tr...|https://yt3.googl...|                null|   4845513.0|       170.0|2015-06-11|         488.666666666667|                      361.0|        389.312585063582|           0.75|\n",
      "|UC2t88Q4xCmU-O-RM...|  /@lillysfreshpasta| Lilly's Fresh Pasta|             152|https://yt3.googl...|LillyвЂ™s Fresh P...|                null|https://yt3.googl...|       United States|     38756.0|       123.0|2019-06-05|         314.066666666667|                      137.0|        534.964106791807|            0.5|\n",
      "|UCFBu5cZVMHug6mbn...| /@ArkansasChildrens| Arkansas Children's|            9720|https://yt3.googl...|Arkansas Children...|arkansas, childre...|https://yt3.googl...|       United States|   3459104.0|       733.0|2010-10-12|         737.833333333333|                      448.5|        811.802155016165|            1.0|\n",
      "|UCntJREG5tRLjAvbb...|  /@moonscooking-786|    MoonвЂ™s Cooking|            3230|https://yt3.googl...|Delicious Recipes...|Moons Cooking, He...|https://yt3.googl...|              Canada|     87234.0|       159.0|2011-12-10|         826.833333333333|                      703.0|         526.79503182505|            0.5|\n",
      "|UCRYl7f-Jq5r8KQ_V...|  /@TheSheenMagazine|    Sheen MagazineTV|            2760|https://yt3.googl...|   Sheen Magazine TV|Beauty, Fashion, ...|https://yt3.googl...|       United States|    601512.0|       992.0|2011-08-09|         206.966666666667|                       80.0|        380.848656146886|           0.75|\n",
      "|UCvYlF5cHgJGwlZ34...|         /@Kbeasvlog|        Kbea's vlog |            7290|https://yt3.googl...|Mix videos,Travel...|Food, Vacuuming, ...|https://yt3.googl...|           Australia|   3196705.0|      3124.0|2016-06-20|                     92.3|                       56.5|        100.525005181132|           2.25|\n",
      "|UC2-muYRnOS8ARfx5...|/@WoodCarvingArtO...|    Wood Carving Art|          736000|https://yt3.googl...|We are sharing wo...|                null|https://yt3.googl...|          Bangladesh| 371050506.0|        96.0|2022-11-01|         1775.36666666667|                     1668.5|        1050.22481667287|            1.0|\n",
      "|UCXVHXiWhW2pgSsR-...| /@MadiskartengNanay|  Madiskarteng Nanay|         1670000|https://yt3.googl...|                null|        food, recipe|https://yt3.googl...|         Philippines| 160300217.0|       855.0|2019-07-30|         5481.63333333333|                     4427.0|         3990.9764676775|            2.5|\n",
      "|UCyo5XWi77SZ6ClrG...|         /@taofisica|      Vicente Torres|            1120|https://yt3.googl...|                null|fisica, programac...|https://yt3.googl...|              Mexico|    807420.0|       253.0|2009-07-29|         20.9333333333333|                       16.5|        19.0769203198233|           0.25|\n",
      "|UCofLgHoFov7ssBIv...|/@realsciencenara...|Real science Nara...|            1840|                null|                null|                null|https://yt3.googl...|               India|    167382.0|       272.0|2013-07-15|         99.4333333333333|                       93.5|        69.6690669442967|           0.75|\n",
      "|UCRUwlbQdavsQ01ZN...|   /@antonio23goat15|       Antonio23goat|             407|                null|I will have a suc...|                null|https://yt3.googl...|                null|     78495.0|      1035.0|2022-01-03|         33.0333333333333|                       31.0|        19.2743064437839|            1.0|\n",
      "|UCAKBMZIe-8KYEQtz...|        /@estazainal|         Esta Zainal|            4510|https://yt3.googl...|From the Best Bra...|esta zainal, mala...|https://yt3.googl...|            Malaysia|   3413813.0|      1850.0|2006-06-16|         53.7333333333333|                       16.5|        101.123664666366|            7.5|\n",
      "|UC2ME6cK8jWnRSWyU...|   /@alexander_avila|     Alexander Avila|          528000|https://yt3.googl...|Social analysisвЂ...|                 gay|https://yt3.googl...|       United States|  34328882.0|        79.0|2013-11-28|                 464565.3|                   393697.0|        317062.375586167|           0.25|\n",
      "|UC4GVURDVpkUr9UNl...|    /@varuthattuprem|а®Ёа®їа®љаЇЌа®ља®...|            1590|https://yt3.googl...|рџ“±9486374288, 9...|                null|https://yt3.googl...|                null|    197788.0|       641.0|2012-07-03|                     64.7|                       33.5|        88.3391759074081|           1.25|\n",
      "|UCWRUdemmejjTVZFW...|      /@LeilaniMelad|       Leilani Melad|            3240|https://yt3.googl...|Pet Lover, OFW Li...|Hairstyle, Leilan...|https://yt3.googl...|                null|    659967.0|       668.0|2019-01-29|                    245.2|                       95.0|        513.577024408219|            0.5|\n",
      "|UCZrye5Gy5lMMj7iP...|  /@fastracktohealth|            FASTrack|            1840|                null|FAST TRACK to HEA...|                null|https://yt3.googl...|                null|    522775.0|       119.0|2022-01-09|                    640.7|                      372.0|        733.509016077285|           1.25|\n",
      "|UC59pHypZpIZsplgv...|   /@coachscottblack|Scott Black - Aut...|            2240|https://yt3.googl...|Creating awarenes...|raw, foods, welln...|https://yt3.googl...|       United States|    685868.0|       124.0|2011-04-29|         443.433333333333|                       25.5|        835.828478550208|           1.25|\n",
      "|UCQ6BHL2H7wqMrir1...|   /@mocuisinelocale|   Mo Cuisine Locale|             663|https://yt3.googl...|Easy and simple c...|                null|https://yt3.googl...|                null|     94126.0|        56.0|2021-10-18|         1579.43333333333|                      195.0|        3004.36304600862|            0.5|\n",
      "|UCnE88-vstou5gmF4...|       /@nikimajlesi|        Niki Majlesi|           76100|https://yt3.googl...|Щ‡Ш± Щ‡ЩЃШЄЩ‡ Щ€Щ...|                null|https://yt3.googl...|                null|  51766936.0|       155.0|2015-08-14|                 152258.9|                   130429.0|        77816.9048606407|            0.5|\n",
      "|UCzKrLr1ZD1uds-7c...|       /@UcheNancytv|       Uche Nancy tv|         1390000|https://yt3.googl...|Uche Nancy is an ...|nigerian movies, ...|https://yt3.googl...|       United States| 327113401.0|      1662.0|2015-01-23|         417521.833333333|                   269194.5|        494770.317025593|           3.75|\n",
      "|UCzHfx6HCnksZkofp...|/@funandeasyhealt...| Fun and Easy Health|              20|https://yt3.googl...|Holistic health e...|                null|https://yt3.googl...|                null|      2251.0|        42.0|2020-04-16|                    40.16|                       16.0|        64.6025881834466|            0.5|\n",
      "|UCeCmnibUIaXUI1WE...|   /@EssentialTennis|Essential Tennis ...|          300000|https://yt3.googl...|Welcome to the be...|tennis, instructi...|https://yt3.googl...|       United States|  86347562.0|      2380.0|2009-03-02|         14197.4666666667|                    10260.0|        13344.5234877666|            1.0|\n",
      "|UCRn8I0yBRYimIL_Q...| /@indianthrowers899|     Indian Throwers|            4930|                null|                null|                null|https://yt3.googl...|                null|    972332.0|       474.0|2019-11-11|         414.566666666667|                      341.5|        315.255418492512|            1.5|\n",
      "|UCnXlm-YCQFnJgh7L...| /@BeyondBipolarBlog|   BeyondBipolarBlog|            1970|https://yt3.googl...|My name is Travis...|Bipolar, Mental I...|https://yt3.googl...|       United States|    836728.0|       799.0|2019-08-20|         104.966666666667|                       59.0|        143.336313922498|           0.75|\n",
      "|UCCWShMrGammmqWe8...|        /@MRSAHIN0.1|    BIO HEALTH CARE |            9300|https://yt3.googl...|Health tips suppo...|                null|https://yt3.googl...|                null|   2976769.0|       307.0|2023-10-28|         51.3846153846154|                       42.0|        19.0163430179188|           0.75|\n",
      "|UCwkwbTPS7hSGV6vX...| /@NutritionistAmita|Nutritionist Amit...|           15600|                null|Nutritionist Amit...|                null|https://yt3.googl...|               India|    628507.0|        94.0|2021-03-15|                  18105.4|                     2269.5|        29251.5704553904|            1.0|\n",
      "|UC-CHqLW6tGeLOF36...|       /@RKsKhichidi|       RK's Khichidi|           13200|https://yt3.googl...|Hi,Hello, Namaste...|rks khichidi, rk,...|https://yt3.googl...|               India|   3551208.0|      1129.0|2020-04-02|         297.233333333333|                      165.5|        379.466000526471|           0.25|\n",
      "|UCA0k1xHOIK78nLjt...|           /@ItsMock|                Mock|            3920|https://yt3.googl...|I love to try all...| Gaming, Entertainer|https://yt3.googl...|       United States|    146149.0|       321.0|2013-05-31|                   1050.6|                      300.5|        2737.32629403219|           0.75|\n",
      "|UCe9c_A7-z7-wdsl6...|           /@wiyz_ta|     Wiyz_Ta workout|             604|https://yt3.googl...|Wiyz_Ta fitness w...|Waziri fitness wo...|https://yt3.googl...|            Tanzania|    193335.0|       213.0|2022-06-27|         131.033333333333|                      119.0|        113.971190316774|            1.0|\n",
      "|UC6RVp6KM7fp4sSwj...|/@secretrecipesof...|Secret Recipes Of...|            1320|https://yt3.googl...|Secret Recipes Of...|#pakistanifoodrec...|https://yt3.googl...|            Pakistan|    203304.0|       843.0|2021-11-11|         24.2666666666667|                       18.5|        19.9598485854867|            7.0|\n",
      "|UChDZO5oMLWEpkZCL...|/@sweetdesirecook...|Sweet Desire Cook...|            2050|https://yt3.googl...|                null|                null|https://yt3.googl...|                null|     96860.0|        96.0|2020-08-31|         360.933333333333|                      279.5|        266.489265991876|            1.0|\n",
      "|UCzOsYg6IXr6640QF...| /@Cookingwitheli336|         Eli Robarge|              14|                null|                null|                null|https://yt3.googl...|                null|       124.0|         7.0|2023-04-22|                     18.0|                       17.0|        10.5830052442584|           0.25|\n",
      "|UCpJAetAvDGA5FbjB...|       /@MiloPantone|        Milo Pantone|            1020|https://yt3.googl...|Keep it hardcore ...|coffee, sunkist s...|https://yt3.googl...|       United States|    394648.0|      2007.0|2014-11-09|         42.7666666666667|                       22.5|        70.9073025545011|            3.0|\n",
      "|UCSWikkn-4AF5ykqi...|      /@FoodBankofDE|        FoodBankofDE|             222|https://yt3.googl...|                null|                null|https://yt3.googl...|       United States|     41619.0|       233.0|2010-01-29|         80.5666666666667|                       44.0|        122.345598840153|           0.25|\n",
      "|UC9xu3mC6sUpndmzG...|      /@LindsaySaenz|       Lindsay Saenz|             436|https://yt3.googl...|I help Moms/Women...|tutorials, fitnes...|https://yt3.googl...|       United States|    219291.0|      1047.0|2013-04-28|         90.7666666666667|                       28.5|        205.899924450906|           0.25|\n",
      "|UCbiwyigBPb5hzOag...|   /@DasweetestmcMcB|    Dasweetestmc McB|            2020|https://yt3.googl...|Here, we are crea...|lifestyle, consci...|https://yt3.googl...|       United States|    445807.0|       238.0|2013-02-20|                    937.0|                       66.5|        4229.40783089075|            0.5|\n",
      "|UCpjs8ca_snn1pWB4...|         /@OTAEXPERT|Travel with OTA E...|          389000|https://yt3.googl...|                null|Hotels, Resorts, ...|https://yt3.googl...|               India|  64551827.0|       635.0|2014-03-04|         32536.5666666667|                    26757.5|        30709.6056955945|            2.5|\n",
      "|UCb8giuasNNua8HZ0...|          /@jhulz734|       Jhulz Channel|           18700|https://yt3.googl...|Welcome to my cha...|                null|https://yt3.googl...|                null|    755102.0|       403.0|2018-09-02|                    349.5|                      229.0|         360.74060394324|           1.75|\n",
      "|UCiMZpDBayyVL3f03...|  /@allaboutkids9938|  All about kidsрџ’“|              40|https://yt3.googl...| Just health with...|                null|https://yt3.googl...|                null|      6236.0|        62.0|2022-02-20|                     17.5|                       16.5|        10.5086544420215|           0.25|\n",
      "|UC5kcEkLItuQy1rtD...| /@rlegsfoodvlog9031|     rlegs food vlog|            1560|https://yt3.googl...|EASY AND ECONOMIC...|                null|https://yt3.googl...|United Arab Emirates|    144884.0|       188.0|2012-09-19|         460.066666666667|                      423.5|        141.355328477171|           0.25|\n",
      "|UCvFPvlK7c9GoJEU1...|     /@zooculturegym|     ZOO CULTURE GYM|          102000|https://yt3.googl...|ZOO CULTURE GYM, ...|bradley martyn, n...|https://yt3.googl...|       United States|  70932018.0|       376.0|2023-01-27|                  50416.6|                    42650.0|        26709.8159030221|           1.25|\n",
      "|UCfZ1oJbj5pJJ21T8...|      /@FerminBanawa|       Fermin Banawa|            1510|https://yt3.googl...|I have a passion ...|                null|https://yt3.googl...|       United States|    781385.0|       193.0|2011-01-29|         1772.23333333333|                      226.5|        4062.24402420906|           0.25|\n",
      "|UCClWBG7a0l9u13Wz...|           /@Hezeleo|             Hezeleo|           14600|https://yt3.googl...|Hezeleo is a form...|PORT arthur tx, H...|https://yt3.googl...|       United States|   4339876.0|      2323.0|2006-05-22|                    967.5|                      187.0|        1897.00748109577|            0.5|\n",
      "|UCoDhaGDwZOo5PqXE...|/@thecarpentersfa...|THE INOJALES FAMI...|            2660|https://yt3.googl...|HI GUYS, WE ARE T...|THE CARPENTERS FA...|https://yt3.googl...|         Philippines|    194546.0|       559.0|2021-04-24|         81.8333333333333|                       74.5|        46.2003487240326|           0.25|\n",
      "|UCp463GAIrD3YGWL4...|   /@dessertfirst417|       Dessert First|             649|https://yt3.googl...|Hi, welcome to De...|       Dessert First|https://yt3.googl...|       United States|     69573.0|       192.0|2021-07-18|                    195.1|                       57.5|        365.108417688043|           0.25|\n",
      "|UCijDos-LUTh9RQvS...|    /@EWTNcatholictv|                EWTN|          918000|https://yt3.googl...|EWTN Global Catho...|catholic, Catholi...|https://yt3.googl...|       United States| 335834324.0|     54467.0|2006-11-23|         1331.56666666667|                      468.0|        2197.83606733735|            7.5|\n",
      "|UChEV0ymtWANCbMU_...|       /@nooriesvlog|      noorie's vlogs|            2850|https://yt3.googl...|BUHAY SA DUBAI | ...|Noorie fashion vl...|https://yt3.googl...|         Philippines|    248573.0|       675.0|2018-12-06|         89.9333333333333|                       56.5|        92.6653237312762|           0.25|\n",
      "|UCruWfd-zme4B5iyt...| /@ChefGulzarRecipes| Chef Gulzar Recipes|          299000|https://yt3.googl...|Executive Chef at...|Chef, Gulzar, Rec...|https://yt3.googl...|            Pakistan|  14892572.0|       388.0|2018-02-03|         833.933333333333|                      679.0|        753.890661096746|           0.25|\n",
      "|UC1qWPyWxxbTGyn__...|  /@cruisinginthe808| Cruising In the 808|            2720|https://yt3.googl...|Just a place for ...|BMX, Big Bike, Bi...|https://yt3.googl...|       United States|    585739.0|       202.0|2021-03-11|         1803.73333333333|                     1456.5|        1315.04118904652|            1.0|\n",
      "|UCmRsoM1d7fi79Xy7...|    /@shanlynyap5600|         Shanlyn Yap|              16|                null|з€±еїѓе¦€е¦€рџ’—е...|                null|https://yt3.googl...|                null|      6794.0|        65.0|2018-02-08|         20.1666666666667|                        7.0|         26.326264874118|           0.75|\n",
      "|UCVvEzGhaHP9NTrZC...|/@GeorgeTheVideoR...|GeorgeTheVideoRec...|             193|https://yt3.googl...|                null|                null|https://yt3.googl...|                null|    109094.0|      4329.0|2021-09-10|         3.43333333333333|                        3.0|        5.14900206080967|           2.75|\n",
      "|UC5eleJrFhZR02A0f...|     /@thedewsweeper|     Dewsweepers TV |            3620|                null|Everything you ne...|dewsweepers, golf...|https://yt3.googl...|                null|   3589611.0|       560.0|2014-09-05|         577.066666666667|                      359.0|        686.728424407268|           0.25|\n",
      "|UCb5HpCkNqVIECJku...| /@jessielizacabanay|Nursing Student рџҐ°|            1330|https://yt3.googl...|             My Life|                null|https://yt3.googl...|                null|     78668.0|       124.0|2022-12-18|         57.5333333333333|                       23.0|        66.2589532734172|           0.25|\n",
      "|UCANXhyQafVrnghKM...|/@wilmingtonmonte...|Wilmington Montes...|              70|https://yt3.googl...|                null|montessori, schoo...|https://yt3.googl...|       United States|      6495.0|       189.0|2014-10-15|                     20.8|                        7.0|        45.5861089953215|           0.25|\n",
      "|UCVEUtrduC9DmsbBL...|/@zafarullahmagsi...|    Zafarullah Magsi|            2170|                null|                null|                null|https://yt3.googl...|                null|   1166639.0|      1232.0|2022-05-05|                   1337.8|                       40.0|        6839.68807963248|           0.75|\n",
      "|UCGWHU54Bj8CXvx-V...|/@MichaelCorneliu...|  GOAT MIKE FITNESS |             180|https://yt3.googl...|Sports content li...|                null|https://yt3.googl...|                null|     84232.0|       255.0|2023-05-09|         110.033333333333|                       25.5|        266.895045955438|           0.75|\n",
      "|UCvjf3DuCyX1fg6o4...| /@indiancarsbikes07|indian car's & bi...|              27|                null|Join our you tube...|                null|https://yt3.googl...|                null|      1722.0|        68.0|2021-11-28|                      3.0|                        3.0|                     2.0|            0.5|\n",
      "|UCpx-VIY6V6m7kGev...|         /@adriannep|            Adrianne|            1620|https://yt3.googl...|I make video essa...|                null|https://yt3.googl...|       United States|    266634.0|       179.0|2014-01-14|         1614.53333333333|                      608.5|        2675.07818868076|           0.25|\n",
      "|UCsuj8up_JNnSwOXX...|         /@mexgrocer|           mexgrocer|            4250|https://yt3.googl...|MexGrocer.com is ...|           mexgrocer|https://yt3.googl...|       United States|   1776893.0|        53.0|2007-10-19|                  13361.7|                     2929.0|        28093.6824786285|           0.75|\n",
      "|UCXxrg53LoPO2VaFb...|   /@goddess_fireleg|     Goddess Fireleg|            5320|                null|зѕЋеҐіеЃҐиє«иЃЇз›...|                null|https://yt3.googl...|                null|    997673.0|        84.0|2023-10-31|         5720.83333333333|                     1208.5|        18196.1136200075|           5.25|\n",
      "|UCpfS3WvAwl3OQShn...|/@AppleWatchJourn...| Apple Watch Journal|          145000|https://yt3.googl...|Apple WatchгЃ«й–ў...|apple, apple watc...|https://yt3.googl...|               Japan|  35651873.0|       244.0|2019-02-14|         78348.5333333333|                    30471.5|        99351.3634815793|           0.25|\n",
      "|UCGfU4YzRrAZAKeDT...|  /@PertainingtoRose|    PertainingtoRose|             766|https://yt3.googl...|Pertaining to Ros...|Journals Jesus se...|https://yt3.googl...|       United States|    143646.0|       646.0|2020-01-10|         157.833333333333|                       78.0|        196.537542356557|           0.25|\n",
      "|UCtmwbtBqYNhvEIsM...|      /@babyyuga3187|           Baby Yuga|             938|https://yt3.googl...|                null|                null|https://yt3.googl...|                null|    155262.0|       825.0|2021-04-29|         110.433333333333|                      106.5|        62.2295124697456|            7.5|\n",
      "|UCygkzPpueoIJQsLU...|      /@kirbyallison|       Kirby Allison|          734000|https://yt3.googl...|Join Kirby Alliso...|Cigar smoking, ci...|https://yt3.googl...|       United States| 202680963.0|      1089.0|2015-06-12|         31321.7333333333|                    22205.0|         28326.746310314|           2.25|\n",
      "|UCGghWcIG-4KZ6ueg...|/@ArchitectureStu...|Architecture Stud...|              24|                null|                null|                null|https://yt3.googl...|                null|       152.0|         4.0|2023-12-19|                     40.5|                       40.5|                    30.5|            0.5|\n",
      "|UC7VABfqOYIa_tIwZ...|           /@villevn|             villevn|           10800|                null|I heard there mig...|                null|https://yt3.googl...|             Finland|   7159449.0|      2080.0|2010-06-02|                   6097.0|                      284.0|        23064.2679976336|           0.25|\n",
      "|UCfJc6p9YpQD6ZWSi...|       /@matteo_alfa|       Matteo Alfano|              49|https://yt3.googl...|Ti spiego in modo...|alfa, matteo alfa...|https://yt3.googl...|               Italy|     11269.0|        24.0|2020-11-26|                    100.4|                       85.0|        35.2056813596897|           1.25|\n",
      "|UCYmiD99CT8DNL6Vk...|   /@allyshappyworld|   Allys happy world|           15300|https://yt3.googl...|Cooking, gardenin...|Allys happy world...|https://yt3.googl...|               India|    917992.0|       316.0|2021-03-30|         4229.36666666667|                     1179.5|        13605.8988518053|            2.0|\n",
      "|UCSTC76U6am2S0w6w...|/@fehmidakakitche...|  Fehmida ka Kitchen|            1050|https://yt3.googl...|Welcome All Viewv...|Cooking, Recipe, ...|https://yt3.googl...|            Pakistan|     57322.0|       447.0|2020-05-02|                     37.7|                       37.0|         21.822236365689|            1.5|\n",
      "|UCaJof9Mz_YOTt8TB...|/@happypoefamilyv...|Happy Poe Family ...|           13500|https://yt3.googl...|Need your support...|                null|https://yt3.googl...|                null|   3461943.0|       330.0|2021-08-22|         7968.33333333333|                     7293.5|        5602.68239526588|           3.25|\n",
      "|UCMaEEjX6yHXRiqz1...|          /@farmtrue|            Farmtrue|               9|https://yt3.googl...|Farmtrue is an Ay...|ghee, Ayurveda, A...|https://yt3.googl...|       United States|     10611.0|        11.0|2018-03-21|                   1506.6|                        6.0|        3000.70229113119|           0.25|\n",
      "|UC6GadA-uWcfhqnZz...|      /@molybasu9867|           Moly Basu|              21|https://yt3.googl...|Friends if you li...|                null|https://yt3.googl...|               India|       272.0|        13.0|2013-06-29|                     21.4|                        9.0|        24.8443152451421|           1.25|\n",
      "|UCgRZzYUwoU8_AZdM...|             /@byPDC|              by PDC|           65600|https://yt3.googl...|A Content Storage...|                null|https://yt3.googl...|                null|  38506560.0|       161.0|2023-01-17|                 275436.7|                   155351.0|        454343.925015999|           0.75|\n",
      "|UCFmVgmnhjyBczTtn...|    /@ruthiaskitchen|   All Things Ruthia|            3140|https://yt3.googl...|Cooking good Sout...|                null|https://yt3.googl...|                null|    258260.0|       275.0|2017-04-10|                    218.5|                      168.0|        176.565710147809|            4.0|\n",
      "|UCWPaSIbuY9QoT7K8...|/@TotallyWorthItP...|Totally Worth It ...|           17300|                null|The Totally Worth...|totally worth it ...|https://yt3.googl...|       United States|   6582873.0|        18.0|2015-11-10|              411458.8125|                       34.5|        1582386.63109669|            1.5|\n",
      "|UCawcOBjvNv87HcLq...|     /@cookathomedad|    Cook at home Dad|            1220|https://yt3.googl...|A collection of s...|home cook, recipe...|https://yt3.googl...|       United States|    594801.0|       501.0|2008-10-16|         42.1333333333333|                       28.5|        42.0798711447119|           0.25|\n",
      "|UC0M804XXF_gwPPNq...|    /@JulieEigenmann|     Julie Eigenmann|           56900|https://yt3.googl...|For anyone who ha...|Julie Eigenmann, ...|https://yt3.googl...|         Philippines|  19713337.0|       319.0|2015-03-13|         2245.43333333333|                     1094.5|        3156.75977001031|           0.25|\n",
      "|UCwTBiWvAl8H8hRGN...|/@VoicesFromTheSt...|Voices From The S...|            5430|https://yt3.googl...|                null|voicesfromthestai...|https://yt3.googl...|              Canada|    542341.0|       137.0|2021-03-24|         3158.86666666667|                     2654.5|        1883.32659113837|           0.75|\n",
      "|UCLsSjtkzHtNeFb7B...|            /@JUBARA|              Jubara|           27200|https://yt3.googl...|Hi guys! Welcome ...|cleaning, cleanin...|https://yt3.googl...|       United States|   5269704.0|       347.0|2019-04-07|                   9576.2|                     7262.5|        8618.73761212549|           1.25|\n",
      "|UCB7-xSTjuBJU52zu...|/@salarieaffranch...|SalariГ© Affranch...|            2070|https://yt3.googl...|Le but de cette c...|                null|https://yt3.googl...|              Canada|    144422.0|       375.0|2021-01-12|         369.333333333333|                      352.5|        96.8646248924526|            4.0|\n",
      "|UCVDr5Uqelnbteka_...|    /@HeavyDutyTamil|             ONE SET|           18900|https://yt3.googl...|This channel cont...|                null|https://yt3.googl...|                null|   7250853.0|       258.0|2023-05-26|                    604.5|                      565.5|        247.962866843673|           2.75|\n",
      "|UCQZlViIkt4gp7Smh...|/@atlantaproperty...|Atlanta Property ...|            1400|https://yt3.googl...|                null|                null|https://yt3.googl...|       United States|    293468.0|       180.0|2014-04-16|         107.166666666667|                       37.5|        115.729305805497|            0.5|\n",
      "|UCyIl7pasSbqZzlHu...|    /@flipzzilla4556|          Flipzzilla|             448|https://yt3.googl...|BEYOND PERFECTION!!!|                null|https://yt3.googl...|                null|    423371.0|       210.0|2017-10-29|                  266.625|                      157.5|        442.996455262342|           0.25|\n",
      "|UCmduO77DIyYOHADg...|    /@physio_finesse|      Physio_finesse|            1120|https://yt3.googl...|Health | Fitness ...|Africa, Nigeria, ...|https://yt3.googl...|             Nigeria|     50569.0|        98.0|2022-03-09|                    221.7|                      168.0|        134.171817706501|            1.0|\n",
      "|UCNkYtGj3dwmJB3KW...|          /@ecressey|        Eric Cressey|           56300|https://yt3.googl...|                null|                null|https://yt3.googl...|                null|  21871408.0|       957.0|2006-09-27|         381.466666666667|                      146.5|        572.625516565776|            1.0|\n",
      "|UCPkmY76VKaVrkf_3...| /@mermaidglacia3427|           Chantal K|          362000|                null|                null|                null|https://yt3.googl...|                null| 213781280.0|        33.0|2011-10-07|         3321.07692307692|                     1711.5|        3551.17203754432|           0.25|\n",
      "|UCV9Hfav1iWivR8NG...|    /@velouniversity|     Velo University|            3490|https://yt3.googl...|Velo University i...|                null|https://yt3.googl...|                null|   1363990.0|       492.0|2021-02-07|         2969.63333333333|                      637.5|        5824.61931507593|            1.5|\n",
      "|UCkGY6yxE8kogYHKX...|/@KeyWestKayakFis...|Key West Kayak Fi...|          157000|https://yt3.googl...|Hello , my name i...|Key West Kayak Fi...|https://yt3.googl...|       United States|  45335419.0|      1317.0|2015-10-19|                   5925.8|                     5055.5|        4514.16752310619|            1.0|\n",
      "|UCNcjDqD9K9yyLtBn...|/@growearth2healh...|GrowEarth2Heal Herbs|             333|https://yt3.googl...|                null|                null|https://yt3.googl...|                null|     19706.0|       146.0|2020-12-23|         78.2333333333333|                       22.0|        196.609373010433|           0.25|\n",
      "|UCwbwG_xm4Hhr-laG...|     /@KansasCityPBS|     Kansas City PBS|           19400|https://yt3.googl...|Kansas City PBS p...|Kansas, City, PBS...|https://yt3.googl...|       United States|   6981099.0|      3118.0|2009-06-16|                    935.2|                      536.5|        1810.28444173837|            1.5|\n",
      "|UCQaW717EYFMqyh3o...| /@lovinglifeasmegan|Loving Life as Megan|          184000|https://yt3.googl...|Keeping a clean h...|                null|https://yt3.googl...|       United States|  27764835.0|       241.0|2015-01-23|         19980.7666666667|                    15704.5|        11972.3886246183|            1.0|\n",
      "|UC8uRyvHEfWU8Lgsj...|     /@plan4sunshine|       Plan4sunshine|               1|https://yt3.googl...|Discovering and s...|                null|https://yt3.googl...|                null|        83.0|         7.0|2023-12-09|         10.3333333333333|                       11.0|        3.29983164553722|           0.25|\n",
      "|UCFUfjmQzs00ylWW0...|      /@AdreanaAnyae|       Adreana Anyae|             936|https://yt3.googl...|As long as you're...|                null|https://yt3.googl...|       United States|     58861.0|        62.0|2023-08-25|         985.366666666667|                      792.0|        862.542771242228|           1.25|\n",
      "|UCl3Y6kyFQL4JlXCy...|     /@woodsthriving|     Wood's Thriving|             886|https://yt3.googl...|Wood's Thriving i...|                null|https://yt3.googl...|       United States|     72730.0|       272.0|2022-08-23|         249.333333333333|                      197.0|        138.473663761582|            1.5|\n",
      "|UCl4h_3qTOIUnUX8K...|      /@RyanSeacrest|On Air With Ryan ...|          803000|https://yt3.googl...|\"The official hom...|ryan, seacrest, a...|https://yt3.googl...|                null| 526698251.0|      3135.0|2006-03-17|         1025.33333333333|                      617.0|        1856.56301326462|            7.5|\n",
      "|UCa_PhsRCpwxM2hAx...|        /@thecakebee|Sally Kwok - Cake...|              66|https://yt3.googl...|Hi! My name is Sa...|Cake designer, we...|https://yt3.googl...|       United States|      1588.0|         5.0|2020-04-19|         268.666666666667|                       95.0|          280.9630264327|           0.25|\n",
      "|UC1GY8q-npBSk-Z16...|       /@laurenbatte|   Live-Laugh-Lauren|             605|https://yt3.googl...|                null|                null|https://yt3.googl...|                null|    103900.0|       288.0|2023-02-28|         53.9333333333333|                       43.0|        59.5421046170038|            1.5|\n",
      "|UCALvGYb5h_MZCzW_...|/channel/UCALvGYb...|          Steve Aoki|         3200000|https://yt3.googl...|New videos every ...|steve aoki, EDM, ...|https://yt3.googl...|                null| 597382262.0|      1550.0|2009-11-07|         29862.5333333333|                     4912.0|        97795.7065955124|           1.75|\n",
      "|UCmhDoY7nPOOZSmVC...| /@nainaskitchen3550|     Naina's kitchen|            1070|https://yt3.googl...|EASY TO MAKE DELI...|                null|https://yt3.googl...|                null|     23252.0|       154.0|2020-11-22|         260.866666666667|                      221.0|        152.523163996672|           0.75|\n",
      "|UCweCc7bSMX5J4jEH...|          /@GMHikaru|            GMHikaru|         2270000|https://yt3.googl...|As one of the str...|chess, Hikaru Nak...|https://yt3.googl...|       United States| 735798220.0|      3459.0|2017-07-28|                  73233.5|                    61885.5|        44233.9249790249|            7.5|\n",
      "|UCa6RF2mWpLVJp5FW...|   /@LockedOnOrioles|   Locked On Orioles|            6140|https://yt3.googl...|Locked On Orioles...|                null|https://yt3.googl...|       United States|    707790.0|       483.0|2022-02-24|         2759.06666666667|                     2849.5|        911.464094496078|           4.25|\n",
      "|UC57kv9u2zRWk6n8s...|      /@MoreGMHikaru|       More GMHikaru|          152000|https://yt3.googl...|More GM Hikaru vi...|gmhikaru, more gm...|https://yt3.googl...|       United States|  39934399.0|      1406.0|2020-09-10|         14177.8666666667|                    12095.5|        10537.5163131019|            7.5|\n",
      "|UCmcPKlSYG55dbcpr...|/@mamalatheexplor...| Mamala The Explorer|            9890|https://yt3.googl...|ilonggang probins...|                null|https://yt3.googl...|         Philippines|   2049878.0|      2434.0|2021-11-27|                    254.4|                      255.0|        100.129782449246|           0.25|\n",
      "|UCslRGT7arvSKDSou...|/@superduperindia...|SUPER duper INDIA...|           46700|                null|                null|INDIA, DELHI, HEA...|https://yt3.googl...|               India|   8155847.0|      2004.0|2018-10-16|         17.9666666666667|                       10.5|        32.5345798941509|            7.5|\n",
      "|UCD2bvjNj-fSAApUE...|    /@RanbirSanghera|     Ranbir Sanghera|             168|                null|I help people get...|                null|https://yt3.googl...|                null|     11913.0|       388.0|2013-09-24|         9.86666666666667|                        6.0|        9.03966567720043|            7.5|\n",
      "|UCwR85Fd6BFjhCftJ...|     /@Srabonishares|      Sraboni Shares|            4770|https://yt3.googl...|Subscribe to know...|cooking channel b...|https://yt3.googl...|              France|    569039.0|       370.0|2014-07-06|         191.333333333333|                      153.0|        107.988682534586|           0.75|\n",
      "|UCVcb6q5wqVzEwxYP...|       /@tcthongkaew| Chayaphol Thongkaew|              11|                null|                null|                null|https://yt3.googl...|                null|      1109.0|        24.0|2012-07-11|         46.2083333333333|                       21.5|        79.2417078557049|           0.25|\n",
      "|UCC0uIbqLBkek8Y3N...| /@nothingbutawesome| Nothing But Awesome|             885|https://yt3.googl...|SUBSCRIBE FOR AWE...|fitness, challeng...|https://yt3.googl...|        South Africa|    426536.0|       341.0|2012-04-14|         404.366666666667|                      111.0|        533.231874724516|           1.25|\n",
      "|UCf-3WcMT8uIISSRg...|     /@MeenasSamayal|     Meena's Samayal|            9810|https://yt3.googl...|                null|                null|https://yt3.googl...|                null|    749533.0|       599.0|2018-07-05|         394.366666666667|                      271.5|         479.00420898174|            1.0|\n",
      "|UC8-TZnI51jusbi0X...|    /@ChrisSanMartin|Christiano San Ma...|             125|https://yt3.googl...|                null|                null|https://yt3.googl...|                null|      2153.0|        16.0|2020-07-16|         151.928571428571|                      131.0|         87.387858167494|           0.25|\n",
      "|UCZOpDwbiKsu3u-Zp...|   /@LivinLifeUnited|     LivinLifeUnited|           16500|                null|Living life, lovi...|                null|https://yt3.googl...|                null|   9350618.0|       388.0|2022-06-27|         30.8666666666667|                       22.0|        20.9280248046064|           2.25|\n",
      "|UCQBvm5LT4MljjpV6...|      /@djwavepad420|Trevers phone rev...|            4360|https://yt3.googl...|On this channel y...|    android, reviews|https://yt3.googl...|       United States|   3747240.0|      1044.0|2009-05-04|         102.666666666667|                       32.0|         196.90036961762|           0.25|\n",
      "|UC54z-EewwtxU15Gn...|/@with-eyes-unclo...| with eyes unclouded|             254|https://yt3.googl...|I start friendly ...|                null|https://yt3.googl...|                null|     37456.0|        37.0|2021-05-19|         581.090909090909|                      309.0|        711.566575757699|           1.25|\n",
      "|UCBVBIL8rHpGiqP_P...|/@HowToDoAnything777| How To Do Anything!|            2500|https://yt3.googl...|Thanks for subscr...|how do I, how do ...|https://yt3.googl...|       United States|   1107455.0|        46.0|2011-03-21|         15617.1333333333|                     2381.5|         36146.184103566|           0.25|\n",
      "|UCCrOP5MI5yrfO0jn...|     /@diabetesboost|      Diabetes Boost|               5|https://yt3.googl...|                null|                null|https://yt3.googl...|                null|        32.0|         4.0|2024-02-14|                      9.5|                        8.5|        8.20060973342836|            1.0|\n",
      "|UCyWi2qIqXKGZSya5...|       /@LokmatSakhi|        Lokmat Sakhi|          592000|https://yt3.googl...|Lokmat Sakhi is a...|lokmat sakhi, lok...|https://yt3.googl...|               India| 168431349.0|      6303.0|2020-02-24|                   3995.2|                     2271.0|         4994.1020173801|            7.5|\n",
      "|UCxeqmMyKGyszdLK4...|/@RPLvirtualYouth...|RPLvirtualYouthSe...|             582|https://yt3.googl...|The Youth Service...|Content for kids,...|https://yt3.googl...|       United States|    200541.0|       649.0|2020-04-21|         91.6333333333333|                       59.5|        106.654421172099|           1.75|\n",
      "|UCGUwSjGn6E3oaT6m...|     /@globalearth01|        Global Earth|          377000|https://yt3.googl...|          Earth? us!|                null|https://yt3.googl...|       United States| 121436879.0|       521.0|2006-10-09|                  95310.3|                    45845.0|        120958.893683254|            1.0|\n",
      "|UCnJ8y3pp97LUfagp...|/@activegirlwithaoae|Activegirl with Aoae|             463|https://yt3.googl...|My routine health...|                null|https://yt3.googl...|                null|    160998.0|       224.0|2018-11-10|         88.6333333333333|                       71.5|        59.5340145537733|            2.0|\n",
      "|UCjYKEw239NkU49Yg...|  /@englishwithshiko|ENGLISH WITH SHIK...|            2740|https://yt3.googl...|Welcome to our en...|english speaking ...|https://yt3.googl...|       United States|     90211.0|       197.0|2022-06-17|         467.866666666667|                      349.0|        515.081529684595|           2.75|\n",
      "|UCXo550aFklkFvDUm...|      /@S.HassanBhai|  S.Hassan Bhai рџ–¤|              83|https://yt3.googl...| Speak your mind ...|                null|https://yt3.googl...|          Bangladesh|      6036.0|       119.0|2024-01-17|         13.2666666666667|                       10.5|        14.3036902775317|            4.5|\n",
      "|UC-MezYoWO5AfwD5W...|        /@sparketech|        Spark E Tech|            2710|https://yt3.googl...|Tech Reviews, Com...|Spark E Tech, Spa...|https://yt3.googl...|              Canada|   1311318.0|       221.0|2019-08-16|         2851.26666666667|                     1065.0|        4228.90001405672|           0.75|\n",
      "|UC3PqMpK4ajaz4qQa...|/@Terrifyingtales168|        Fact Fiesta |             386|https://yt3.googl...|                null|Facts, Amazing fa...|https://yt3.googl...|               India|    167110.0|        43.0|2024-01-29|                     94.0|                       19.0|        110.853055889317|           1.25|\n",
      "|UClomJuFBz0Gp7uat...|/@hakeemishaquesu...|Hakeem Ishaque Su...|           46900|                null|                null|                null|https://yt3.googl...|                null|   3087549.0|       170.0|2020-11-08|         1192.83333333333|                     1050.0|        629.837073288711|           0.75|\n",
      "|UCQkgMAYVXtGvcwAJ...|     /@ummizalin9504|           ummiZALiN|             500|https://yt3.googl...|                null|                null|https://yt3.googl...|                null|    107761.0|        57.0|2020-07-17|         52.5333333333333|                       28.5|        57.7377596455637|           1.25|\n",
      "|UCYA17z7qGR0PiNG2...|       /@XHfit-xt2wb|               XHfit|               4|https://yt3.googl...|Welcome to XHfit,...|Fitness, Health, ...|https://yt3.googl...|       United States|        29.0|         3.0|2024-03-01|         9.66666666666667|                        9.0|        3.29983164553722|           0.75|\n",
      "|UCSVyoAwHf2K6Q7v0...|        /@juliusjulu|    Health & Fitness|             995|https://yt3.googl...|It is better to k...|                null|https://yt3.googl...|                null|    106792.0|       127.0|2021-07-27|         818.928571428571|                      334.0|        995.413838151587|            2.0|\n",
      "|UCSk6OK5krxH7r3PS...|  /@fitnessclub00913|     fitness club 09|            1220|https://yt3.googl...|рџљ©рџљ©а¤ња¤Ї а¤...|                null|https://yt3.googl...|                null|    343351.0|       181.0|2023-08-22|         164.777777777778|                       59.0|        271.369275988674|            1.5|\n",
      "|UCOrWx1zDhibPGHu3...|   /@Ayaaninstitutes|    Ayaan Institute |          326000|https://yt3.googl...|Anwarism is not m...|SI, CONSTABLE, SS...|https://yt3.googl...|               India|  46826091.0|      2748.0|2017-07-16|                   4619.0|                     1932.0|        7839.57207590652|           3.25|\n",
      "|UC3Q5bSNW-UTrpVMG...|       /@welikeittoo|         WeLikeItToo|             886|https://yt3.googl...|                null|recipe, entertain...|https://yt3.googl...|       United States|    591295.0|       472.0|2022-11-10|         219.166666666667|                       95.5|        345.128486541204|            0.5|\n",
      "|UCoSun8qCg7P2qD92...|      /@milaninvegas|       Milan Thakkar|            5230|https://yt3.googl...|Please help suppo...|las, vegas, milan...|https://yt3.googl...|       United States|   1283227.0|      1017.0|2009-05-19|         186.766666666667|                       77.5|        296.326810951842|           0.25|\n",
      "|UC9ViRVVteml8Lk69...|      /@veneraserova|       Venera Serova|            2250|https://yt3.googl...|                null|ABS, Gym, Fitness...|https://yt3.googl...|       United States|    140355.0|        21.0|2021-08-31|                  12091.6|                     1366.5|        32671.4356837896|           0.25|\n",
      "|UCufY6mpOxuRC5yv8...|  /@RunningWithDusty|  Running With Dusty|            7980|https://yt3.googl...|Welcome to Runnin...|triathlon, dusty ...|https://yt3.googl...|              Canada|   3307202.0|       407.0|2008-03-22|         2032.63333333333|                      791.0|        2405.32119107246|           1.25|\n",
      "|UCopDWc-VJ1PYzCwv...| /@FilmiBoyOffical90|   Filmi Boy Offical|              31|https://yt3.googl...|Welcome To My cha...|Filmi boy officia...|https://yt3.googl...|               India|      9618.0|        32.0|2024-02-29|         1108.66666666667|                     1032.0|        350.413406643575|           0.75|\n",
      "|UC_6byrsrFjhMAcmU...|      /@Sapaskitchen|       Sapa'skitchen|              26|                null|Food, smoothies, ...|                null|https://yt3.googl...|                null|      6458.0|        60.0|2013-11-24|         14.4210526315789|                        7.0|        15.4317369130997|            0.5|\n",
      "|UC_vxppcTIDKfRJw2...|    /@maleehanoor462|          HealthClub|              50|                null|Welcome to Health...|HealthClub, Healt...|https://yt3.googl...|            Pakistan|      1244.0|        35.0|2020-10-13|         38.1923076923077|                       19.0|         59.044324439532|           2.25|\n",
      "|UCbI26f48vrc5My84...|      /@Speckfitness|       Speck Fitness|             300|https://yt3.googl...|Speck Fitness is ...|                null|https://yt3.googl...|                null|     46102.0|        52.0|2011-10-07|                    313.4|                      221.5|        312.220285482328|            1.5|\n",
      "|UCcDXhavtyDfhSRG-...| /@stevedoes_fitness|   stevedoes_fitness|            1540|https://yt3.googl...|Washed up All-Sta...|                null|https://yt3.googl...|                null|   1100319.0|       365.0|2019-11-28|                     68.1|                       60.5|        50.5538326934764|            1.0|\n",
      "|UCHbKvwg6MVmfHezH...|       /@KCBariatric|        KC Bariatric|             808|                null|                null|                null|https://yt3.googl...|       United States|     77326.0|       111.0|2018-09-17|         241.033333333333|                      200.0|        163.187312279138|            0.5|\n",
      "|UC8O4a-ZTamKbEg4U...|        /@erinw.1588|             Erin W.|              17|https://yt3.googl...|                null|                null|https://yt3.googl...|                null|      6121.0|        25.0|2016-01-13|                     46.0|                       46.0|                    14.0|           0.25|\n",
      "|UC25210DeWafZjI3V...|         /@yeasports|    YEA Sports Media|            8810|                null|Young Elite Athle...|                null|https://yt3.googl...|                null|   3512869.0|      1852.0|2017-02-13|         559.433333333333|                      391.0|        495.451422666463|           3.25|\n",
      "|UCkIyBIO25pyfstd1...|       /@UHAthletics|   Houston Athletics|           13900|https://yt3.googl...|The official YouT...|UH Athletics, Cou...|https://yt3.googl...|       United States|   9951500.0|      3837.0|2010-03-09|                    977.5|                      438.0|        1081.19097141378|            7.5|\n",
      "|UCN0ie1TZA8DHLgWT...|       /@fabulousmag|   Fabulous Magazine|          120000|https://yt3.googl...|Subscribe for fas...|fashion, celebrit...|https://yt3.googl...|      United Kingdom|  98232004.0|      1580.0|2011-11-11|                   4074.3|                      726.0|        9843.80076037706|            6.0|\n",
      "|UCYeC6gZ6siixWGBL...|       /@ARachman101|           A Rachman|           68600|https://yt3.googl...|Halo temen-temen,...|Sepeda, lari, run...|https://yt3.googl...|           Indonesia|  10960101.0|       340.0|2016-06-27|                  21017.5|                    18037.0|        13685.8674983844|           2.75|\n",
      "|UCihpiRI4UgDaWJjY...|   /@kingsofdocs7228|       Kings of Docs|           51600|                null|                null|free, documentary...|https://yt3.googl...|                null|   6907567.0|       749.0|2014-12-11|         1733.73913043478|                      188.0|        6515.75867795442|           4.75|\n",
      "|UC2CP-eoctMEvgRe4...|/@homesteadpatch8663|    Homestead Patch |            1080|https://yt3.googl...|Welcome to Homest...|Homesteading, Can...|https://yt3.googl...|       United States|    107113.0|       316.0|2013-12-01|                    342.0|                      139.5|        542.890535313827|           3.75|\n",
      "|UCzDgrG1x1kYb5ldz...|     /@Appletechpage|      Apple TechPage|           61600|https://yt3.googl...|This channel is t...|iPhone 7, 7 Plus,...|https://yt3.googl...|               India|  35678052.0|      1098.0|2018-12-28|                    742.2|                      181.0|         1041.3811790118|            3.0|\n",
      "|UCtJR4rY0ZFZl8Gi-...| /@ummeaimanfood8127|       UmmeAimanFood|            3480|https://yt3.googl...|Assalamu alaikum ...|Chinese khane., U...|https://yt3.googl...|            Pakistan|    244986.0|       342.0|2022-12-27|                   4509.8|                      403.5|        19717.6653763404|            6.0|\n",
      "|UCIfeLOgtm3L6P922...|/@FoodSecretbyNabrah|Food Secret by Na...|              72|https://yt3.googl...|Your Never Try th...|FoodSecretbyNabra...|https://yt3.googl...|            Pakistan|     15290.0|        80.0|2023-10-16|                     27.8|                       21.0|        18.2537667345674|           0.25|\n",
      "|UCAcJ3UHPKB1PpJOk...|   /@LiveFitWithWhit|  Live Fit With Whit|            1760|https://yt3.googl...|I make fitness fe...|natural hair, fit...|https://yt3.googl...|                null|    199311.0|        31.0|2012-01-06|                   6619.5|                     1199.5|        11500.7586119351|           0.25|\n",
      "|UCzUdWeiokKTNuQ3f...| /@edmondsbaking9255|      Edmonds Baking|             489|https://yt3.googl...|                null|                null|https://yt3.googl...|         New Zealand|    175802.0|        51.0|2018-02-28|         4837.26923076923|                      261.5|        9745.93222662544|           0.75|\n",
      "|UCeAVXeirf-IoyhvI...|   /@odeezhaiftikhar|   odeezha iftikhar |            5200|https://yt3.googl...|I came from a bea...|                null|https://yt3.googl...|            Pakistan|    393018.0|       459.0|2016-11-14|         479.866666666667|                      437.0|        283.280042047127|           2.25|\n",
      "|UCU5fkkP0GBt8Fs2S...|  /@Ad_astra_gardens|    Ad astra gardens|             106|https://yt3.googl...|Gardening, plant ...|                null|https://yt3.googl...|       United States|      3352.0|        21.0|2022-10-07|                   149.15|                       70.0|        199.001827881052|            1.0|\n",
      "|UCpBDEXtFYZqUv5H_...|    /@Home_cook_8207|      Rachana Kumari|              41|                null|                null|                null|https://yt3.googl...|                null|      3359.0|         7.0|2021-02-06|                     87.5|                       70.0|        51.7566420858232|           0.25|\n",
      "|UCSzGbFvE5iMOWqNP...|     /@NewYorkLivetv|       New York Live|           18100|https://yt3.googl...|www.newyorklivetv...|new york live, wn...|https://yt3.googl...|                null|  10780785.0|      4105.0|2013-05-02|                    498.8|                      251.0|         510.20246961378|            7.5|\n",
      "|UCf0yXTcW1aZ4v1fS...|/@fishorpriceranc...| Fish or Price Ranch|            3640|https://yt3.googl...|We share educatio...|kiko, goats, ranc...|https://yt3.googl...|       United States|    574307.0|       557.0|2019-12-27|                    398.3|                      372.5|        246.750636608432|            5.0|\n",
      "|UCywIpldZnRVFTJPG...|  /@AliHasnain-kz7mp|          A.H foodie|             150|                null|Pakistan k mazeda...|                null|https://yt3.googl...|                null|       940.0|         8.0|2024-02-09|                   120.75|                      100.5|        88.8872178662377|            1.5|\n",
      "|UC7k5Oou3LmKw1I_s...|        /@eatandroam|        EAT and ROAM|          157000|https://yt3.googl...|Hello Makkale! Ea...|Food and Travel v...|https://yt3.googl...|              Canada|  21201100.0|       355.0|2020-01-04|         16631.9333333333|                     8720.0|        20617.4654826651|           0.75|\n",
      "|UCv9IavukSMtMvuod...|  /@GonzoGainz-yr1pb|         Gonzo Gainz|               6|                null|                null|                null|https://yt3.googl...|                null|        45.0|         3.0|2024-03-02|                     21.5|                       21.5|                    19.5|            0.5|\n",
      "|UC_I2Ud-EI5olL_oB...|   /@CorrectSpelling|    Correct Spelling|            4030|https://yt3.googl...|                null|spelling, how do ...|https://yt3.googl...|       United States|    416618.0|     22966.0|2019-01-08|                      2.8|                        1.0|        4.62889475649065|            7.5|\n",
      "|UC9IzYdedzPkBI0er...|           /@gocards|             GoCards|           13200|https://yt3.googl...|Official Channel ...|University of Lou...|https://yt3.googl...|       United States|   5902675.0|      6179.0|2010-07-01|         189.666666666667|                      115.5|        218.435090791038|            7.5|\n",
      "|UCk_uf-xmXWXK0jgV...|  /@StudyForceOnline|         Study Force|           49800|https://yt3.googl...|Study Force invit...|                null|https://yt3.googl...|              Canada|  14440724.0|      2121.0|2010-07-16|         557.666666666667|                      118.0|        1563.33061833453|           1.25|\n",
      "|UCIDi-VeffZzCjgtZ...|   /@DelhiDeckerzzzz|       Delhi Deckers|               5|                null|                null|                null|https://yt3.googl...|               India|       925.0|        28.0|2023-08-26|                      8.0|                        5.0|        8.71779788708135|           0.75|\n",
      "|UC_0XkJPy5QTA_2FY...|/@archanachintala...|Archana Chintalapati|             245|                null|                null|                null|https://yt3.googl...|                null|    126744.0|       242.0|2013-09-06|                     52.1|                       14.0|        91.5970705499545|            0.5|\n",
      "|UCAf9JQyV5ZsmcjDY...|    /@sweetlybakeryy|      sweetlybakeryy|             254|                null|Benvenuti sul mio...|                null|https://yt3.googl...|                null|    135322.0|        48.0|2023-11-11|                    526.5|                      526.5|                    17.5|            0.5|\n",
      "|UC3S9qc408MSmEu3X...|     /@khanalazzatka|Khana lazzat ka рџЊЌ|              29|                null|                null|recipe, video, co...|https://yt3.googl...|                null|      1546.0|        26.0|2021-11-26|                    61.88|                       42.0|        70.4018863383645|           1.25|\n",
      "|UC7Ks6K9taDHfbdjd...|    /@dimplerana2657|Let's cook with D...|             132|                null|                null|                null|https://yt3.googl...|                null|     14088.0|       137.0|2020-06-19|         91.8666666666667|                       52.5|        103.543141840598|            4.5|\n",
      "|UCDGD3riWiiw8S_Hk...|/@YanisYoussefSah...|Yanis Youssef Sah...|             582|https://yt3.googl...|Hello everyone, t...|brazilian jiu jit...|https://yt3.googl...|               Spain|     26270.0|       234.0|2015-04-22|         30.2666666666667|                       11.0|        35.0237379818634|           1.75|\n",
      "|UCm-D9Z90zsX2OrEp...|        /@indundiCom|          Indundi TV|          241000|https://yt3.googl...|                null|Burundi, Movies, ...|https://yt3.googl...|       United States|  30662239.0|      6164.0|2012-01-21|         2590.66666666667|                      608.0|        7615.61214581964|            7.5|\n",
      "|UCyu5DbOfurVwGf-w...|   /@lifewithkristin|     LifewithKristin|             515|https://yt3.googl...|                null|beauty, fashion, ...|https://yt3.googl...|       United States|    325252.0|       343.0|2019-12-31|         178.086956521739|                       59.0|        284.712656526522|           0.25|\n",
      "|UCMzbSGI3GyPY9VTv...|  /@DrewTimmermansND|Drew Timmermans, ...|           20000|https://yt3.googl...|Dr. Drew Timmerma...|Naturopathic Doct...|https://yt3.googl...|       United States|   2524371.0|      1741.0|2011-10-15|         682.966666666667|                      373.0|        908.656205002139|            1.5|\n",
      "|UCcJHYsxUpEsk0Bvi...|        /@zannari1tv|        ZANNARI 1 TV|            1460|https://yt3.googl...|ZANNARI 1 CHANNEL...|Music production,...|https://yt3.googl...|             Nigeria|    151010.0|       671.0|2022-01-12|                     16.6|                        9.0|        18.8124072533705|           0.25|\n",
      "|UC2vwMpqJp9fG1jD-...|          /@kirastus|             MYK2000|              91|https://yt3.googl...|Hi everyone, my n...|                null|https://yt3.googl...|                null|      7928.0|       219.0|2007-05-12|         49.8333333333333|                       37.0|        48.8003301446027|           0.25|\n",
      "|UC32-nGEvzSatFwdQ...|    /@getgutsycanada|Crohn's and Colit...|            4470|https://yt3.googl...|CrohnвЂ™s and Col...|crohns disease, c...|https://yt3.googl...|              Canada|    834080.0|       771.0|2009-10-29|         160.566666666667|                       55.0|        391.162002528648|            3.0|\n",
      "|UCaJaX6nRdpcqCQnQ...|    /@DoubleX_Gaming|      DoubleX Gaming|           24900|https://yt3.googl...|I am a gamer.I am...|Welcome, to, my, ...|https://yt3.googl...|               India|   2537683.0|        39.0|2018-11-08|         167657.466666667|                       15.0|        627002.011852154|            0.5|\n",
      "|UCKd0CK44ndRCRwUR...|    /@chashealth6340|         CHAS Health|             362|https://yt3.googl...|                null|                null|https://yt3.googl...|                null|     69968.0|       147.0|2013-08-21|         370.866666666667|                       72.5|        1124.36938572497|           0.25|\n",
      "|UCD0GTet7PkOuVH26...|            /@Olav3D|    Olav3D Tutorials|          124000|https://yt3.googl...|Quick and easy tu...|Blender, Tutorial...|https://yt3.googl...|              Norway|  18835608.0|       488.0|2013-11-27|         1947.76666666667|                     1203.0|        2295.41343673761|            1.0|\n",
      "|UCROU0V-BbFBQpE_4...|/@karensocietyofn...|Karen Society of ...|             619|https://yt3.googl...|The Karen Society...|Karen Society of ...|https://yt3.googl...|       United States|     85045.0|       475.0|2020-10-02|         10.8666666666667|                        9.0|        8.57023272081271|            2.0|\n",
      "|UCtbG48_XmasV8_-J...|        /@TundeFunny|               TUNDE|          246000|https://yt3.googl...|issa cold, cold, ...|EDUCATION, financ...|https://yt3.googl...|       United States|  21855568.0|        99.0|2013-10-22|                 192005.8|                   111581.0|        234970.203449345|           0.75|\n",
      "|UCl8A8BRcxlGVaLi-...|        /@BeardofPOP|          BeardofPOP|           56600|https://yt3.googl...|Dedicated To Ever...|funko, collectibl...|https://yt3.googl...|       United States|   7025842.0|      1112.0|2006-11-05|                   5649.2|                     5918.0|        2240.79670950609|           2.25|\n",
      "|UC4VapJkWx3l0ZP1x...| /@fullbodyworkout23|   full body workout|             376|https://yt3.googl...|Welcome to the Fu...|Full Body Workout...|https://yt3.googl...|              Jordan|     35682.0|       200.0|2023-10-14|         233.633333333333|                       53.0|        405.357166240122|           6.75|\n",
      "|UCCX_tcQxtLDb5Ddp...| /@archanasonwal6407|         SWAAD CHAWK|             298|                null|Welcome to Swaad ...|                null|https://yt3.googl...|                null|      8860.0|        33.0|2012-08-19|         303.611111111111|                      195.5|        244.393612138945|           2.25|\n",
      "|UCfgzA93716HtLh51...|        /@nakochan59|              Nanako|             959|https://yt3.googl...|ж–°еЌ’жЌЁгЃ¦гЃ¦14...|japan, vegan, jap...|https://yt3.googl...|       United States|     95266.0|        80.0|2020-06-18|                    867.1|                      651.5|        774.505620810247|           0.25|\n",
      "|UC1Nyts2szxxChqUR...|      /@bannerhealth|       Banner Health|           11500|https://yt3.googl...|As one of the lar...|healthcare, arizo...|https://yt3.googl...|       United States|  12258544.0|       824.0|2008-09-22|         27020.7666666667|                       63.0|        94974.0630778331|            0.5|\n",
      "|UCJ68qqBhLjdC1IV6...|    /@keyahgabrielle|      KEYAHGABRIELLE|           17400|https://yt3.googl...|Hey bawse babes!!...|                null|https://yt3.googl...|                null|   1336168.0|       199.0|2018-12-07|         7474.96666666667|                     6535.5|        3801.28954859035|           1.25|\n",
      "|UCBlYq7m1WSDbiKLr...|/@anjanettesvideo...|  Anjanette's Videos|             311|https://yt3.googl...|My channel has no...|                null|https://yt3.googl...|                null|    136435.0|       318.0|2013-05-05|                    521.6|                       77.5|        1181.39247218413|           3.25|\n",
      "|UCka-LOLt8jecvEor...|/@ParleProductsOf...|      Parle Products|          316000|https://yt3.googl...|                null|                null|https://yt3.googl...|               India| 817545579.0|      1057.0|2012-10-17|         1315791.53333333|                   488182.0|        1794439.69669656|           5.75|\n",
      "|UCpG93gLnBjDRkUkj...|   /@Cookauthentic84|      Cook Authentic|             641|https://yt3.googl...|Assalam O Alaikum...|Cook Authentic, P...|https://yt3.googl...|            Pakistan|     52475.0|        78.0|2015-10-28|         549.233333333333|                      346.5|          665.1958951233|            1.0|\n",
      "|UCleefUXWDJ5IGp3r...|           /@shompsz|        Shompa Kabir|            1640|https://yt3.googl...|Hi I'm Shompa! I'...|Bengali, Bangla, ...|https://yt3.googl...|       United States|    705866.0|       294.0|2019-04-12|         2259.94444444444|                      308.5|        5477.24180863388|            0.5|\n",
      "|UCo4WAdGJuQPu9lhB...|       /@somaswooshi|         Somaswooshi|            1320|https://yt3.googl...|A Korean-American...|somaswooshi, soma...|https://yt3.googl...|       United States|    149223.0|        63.0|2021-08-24|                    416.3|                      215.5|        520.311967317045|            0.5|\n",
      "|UCsHG_tDEfi5-acpn...|          /@KXNewsND|             KX News|           23200|https://yt3.googl...|                null|                null|https://yt3.googl...|                null|   6945328.0|     43241.0|2017-08-29|         49.7333333333333|                       25.5|        57.8572572995145|            7.5|\n",
      "|UCmeV01P9S5yncJkJ...| /@universityofmiami| University of Miami|            5500|https://yt3.googl...|It's All About Th...|                null|https://yt3.googl...|                null|   1026282.0|       692.0|2006-09-19|         1178.83333333333|                      683.5|        1485.94167860728|            0.5|\n",
      "|UCWTP_Bbvp4gCY2uW...|     /@benitassamyal|     BENITA,S SAMYAL|           29100|https://yt3.googl...|                null|                null|https://yt3.googl...|                null|   1316023.0|      1568.0|2022-07-30|         183.733333333333|                       50.5|        449.470275868037|            7.5|\n",
      "|UCsn4KIihoP0XfcRD...|/@Escapetothe8thC...|Escape to the 8th...|             993|https://yt3.googl...|We've left the ci...|                null|https://yt3.googl...|                null|     64408.0|       129.0|2011-03-31|         193.533333333333|                       80.0|        373.812496075535|            1.0|\n",
      "|UCmKtekknjFQPQYt9...|       /@ihackmo2660|             ihackmo|             468|https://yt3.googl...|Everyday hacks an...|Everyday hacks th...|https://yt3.googl...|         Philippines|    180513.0|       277.0|2019-12-17|         82.4666666666667|                       36.0|        125.310742644923|            0.5|\n",
      "|UCbZai7Xdev1GemvA...|           /@JWOLFIO|             JWOLFIO|             346|https://yt3.googl...|    use your blinker|                null|https://yt3.googl...|                null|     60850.0|        53.0|2015-11-27|                    633.7|                       66.0|        1918.61511078521|            3.0|\n",
      "|UCiamdYB-u2uSMwxU...|/@universalkitche...|   Universal Kitchen|             897|                null|Namaste, welcome ...|Healthy and quick...|https://yt3.googl...|               India|    345374.0|       323.0|2022-12-31|                    331.9|                      280.0|        195.149575112698|            1.0|\n",
      "|UC5TXIRj9wS123GI4...|           /@post-up|             Post-Up|           13500|https://yt3.googl...|We are Action Jun...|                null|https://yt3.googl...|                null|   1984315.0|       390.0|2021-09-22|         15808.1481481481|                     6369.0|        23173.2458790443|           2.25|\n",
      "|UCjL-93BoJjvFzZiY...|  /@fuelhousegym3397|       FUELHOUSE Gym|             172|                null|                null|                null|https://yt3.googl...|       United States|     16805.0|       303.0|2016-03-19|         40.4333333333333|                       25.5|        54.9476619662343|           0.25|\n",
      "|UCmRK5O0GpFr-7Lwg...|/@pkvtkidschannel...|   pkvt kids channel|             618|https://yt3.googl...|Song, music, ente...|music, ownvoice, ...|https://yt3.googl...|               India|    176802.0|       383.0|2012-03-15|         1255.86666666667|                      116.5|        4028.04456888065|            3.0|\n",
      "|UCGtJwwWvPmAPy7iF...|         /@UMNAlumni|UMN Alumni Associ...|             833|https://yt3.googl...|University of Min...|university of min...|https://yt3.googl...|                null|    116196.0|       343.0|2013-02-20|         90.5666666666667|                       58.0|        112.241609436469|           0.25|\n",
      "|UCtBWnLMeLvnniqnj...|/@marouskaazzopar...|Marouska Azzopard...|              23|                null|                null|                null|https://yt3.googl...|                null|      1864.0|        78.0|2013-08-19|         9.96666666666667|                        9.0|        7.49881472115575|            0.5|\n",
      "|UCY1ORHH8PoY7HGXF...|/@mohammadanwarul...|Khoka English Aca...|              11|                null|English Class For...|                null|https://yt3.googl...|                null|       827.0|        28.0|2020-03-31|                    31.24|                       27.0|        24.8681000480535|           0.75|\n",
      "|UCNEfc5MnJbU6tf_W...|     /@javeriaimtiaz|      Javeria Imtiaz|            2320|https://yt3.googl...|Javeria's Fun,Coo...|ramzan special, r...|https://yt3.googl...|                null|    370428.0|      1429.0|2020-04-23|         58.4333333333333|                       28.0|        125.057768873251|            0.5|\n",
      "|UCPWyycxlEz1JnWrN...|/@LearnEnglishWithLF|Learn English wit...|            5360|https://yt3.googl...|                null|                null|https://yt3.googl...|       United States|    507535.0|     24726.0|2019-09-02|         3.66666666666667|                        3.0|        3.83260862714795|            7.5|\n",
      "|UCnwbOYMn5NffB4aY...|/@recreationunlim...|Recreation Unlimited|             153|                null|                null|                null|https://yt3.googl...|                null|    239234.0|        52.0|2014-05-20|         28.0666666666667|                       27.5|        12.2825983497883|           0.75|\n",
      "|UC1fv0SlCfkTaNwGd...|   /@themintleaf1778|       The Mint Leaf|            1110|                null|This Channel will...|                null|https://yt3.googl...|                null|    394771.0|      1488.0|2014-11-28|         66.3333333333333|                       48.0|        71.2995246984314|           7.25|\n",
      "|UCF5EOMngymGgwy4h...|      /@TodaysAsmr40|  TODAY's VIRAL ASMR|               5|                null|                null|                null|https://yt3.googl...|                null|       287.0|        32.0|2024-02-26|                      4.0|                        3.0|        2.60768096208106|           1.25|\n",
      "|UCSZX3G18aqqEdiBd...|/@melissaeverson9170|     Melissa Everson|               2|                null|                null|                null|https://yt3.googl...|                null|      2876.0|        23.0|2017-06-07|         256.666666666667|                       31.0|        378.888579341679|           0.25|\n",
      "|UCn_-9vBwE5GA7BCA...|     /@KrystenJanzen|      Krysten Janzen|            4230|https://yt3.googl...|Here to teach you...|Fitness, Macros, ...|https://yt3.googl...|              Canada|   1339015.0|      1132.0|2014-10-01|                    407.0|                      250.5|        344.108122542901|           1.25|\n",
      "|UCYw4tOHNXBzSxKYv...|        /@Leopard20C|      AlmostMartha21|            1380|                null|I'm Laura Leopard...|                null|https://yt3.googl...|                null|     48779.0|        33.0|2009-04-06|         1614.93333333333|                      198.5|        3362.18099783789|            1.0|\n",
      "|UC0XE3xZDUZFXDiBX...|    /@UKbloggerRosie|        Rosie Rahman|           60100|https://yt3.googl...|а¦†а¦ёа¦ёа¦ѕа¦Іа¦...|                null|https://yt3.googl...|      United Kingdom|   4519501.0|       971.0|2015-03-25|         156.066666666667|                       91.0|        152.631786408409|           0.75|\n",
      "|UCcFOs_IJerav3pjz...|     /@tabbuskitchen|     Tabbu's Kitchen|             302|                null|Make Recipe With ...|Cooking, Foods, r...|https://yt3.googl...|                null|     95933.0|       174.0|2021-10-08|         331.666666666667|                      124.5|        1005.86822640388|            0.5|\n",
      "|UCMm_xRWwaU2j4437...|    /@phiitwithkatya|    Phiit with Katya|            1010|https://yt3.googl...|Full-length Pilat...|pilates, workout,...|https://yt3.googl...|              Canada|     67833.0|        67.0|2020-03-20|                    279.0|                       90.5|        548.624400964206|            0.5|\n",
      "|UCjNReB3oymxw8BUR...|     /@PeachMcIntyre|      Peach McIntyre|          539000|https://yt3.googl...|   PEACHMcINTYRE.COM|                null|https://yt3.googl...|       United States| 325873781.0|      4958.0|2019-09-25|         9645.86666666667|                     7118.0|         6383.7084505969|           3.75|\n",
      "|UCotn34PsDhkX5-No...|/@TheReelStory-ke4lb|      The Reel Story|             398|https://yt3.googl...|                null|Fishing Stories, ...|https://yt3.googl...|            Cambodia|     31158.0|        19.0|2024-01-20|         1872.94117647059|                      637.0|        3012.41711568845|            2.5|\n",
      "|UCMOgmvqFofCpD3kq...|     /@hiit_fit_club|            HIIT FIT|            1870|https://yt3.googl...|                null|como entrenar cro...|https://yt3.googl...|               Spain|    144451.0|       180.0|2022-02-05|         591.034482758621|                      522.0|        409.206674260349|            0.5|\n",
      "|UC5hsF70Lf5B64pFc...|   /@ICanYouCanVegan|     ICanYouCanVegan|            5710|https://yt3.googl...|ICanYouCanVegan i...|Vegan, Vegan Cook...|https://yt3.googl...|       United States|    253613.0|       182.0|2017-08-05|         745.666666666667|                      402.5|        878.813341323906|            0.5|\n",
      "|UCvlWlnGWZPoxXKVb...|/@CouponingForACause|Couponing For A C...|          104000|https://yt3.googl...|My hobby is findi...|couponing for a c...|https://yt3.googl...|       United States|  13891762.0|      2921.0|2017-09-13|         6775.63333333333|                     4556.0|        6063.82808949008|            7.5|\n",
      "|UCiYDDqu07eZ6jHhq...|/@apoorvaasnalabagam|ApoorvaaвЂ™s Nala...|         1030000|https://yt3.googl...|How to make tasty...|healthy snacks, s...|https://yt3.googl...|               India| 244403597.0|      1288.0|2017-02-20|         31779.5666666667|                     7800.5|        50569.7386946537|            5.5|\n",
      "|UCBsMazghxpg85EcD...|/@shonuffgonnakee...|sho'nuff gonna ke...|            1860|https://yt3.googl...|The reason I am h...|entertainment, ho...|https://yt3.googl...|       United States|    396837.0|       470.0|2013-09-11|         57.6666666666667|                       37.0|        45.4586503197014|           1.25|\n",
      "|UCNLAlwUW1CCe4nBf...|/@LingokidsSnazzy...|Lingokids Snazzy ...|             110|https://yt3.googl...|Welcome to this L...|lingokids, lingo ...|https://yt3.googl...|       United States|     32582.0|        21.0|2024-01-17|         2191.83333333333|                     1095.0|        2656.25986534116|            4.5|\n",
      "|UC5G8NNSNe17L72T5...|/@cookingwithjohn...|Cooking with John...|             723|https://yt3.googl...|Join us as we go ...|johnhenrys organi...|https://yt3.googl...|       United States|     87885.0|       147.0|2016-05-18|         361.066666666667|                      172.5|        549.455969320766|           0.75|\n",
      "|UCH3Cozsn6572FGYa...|/@LingokidsSprigh...|Lingokids Spright...|             177|https://yt3.googl...|Welcome to this L...|lingokids, lingo ...|https://yt3.googl...|       United States|     59136.0|        24.0|2024-01-14|         3404.52941176471|                     1132.0|        4305.26243126666|           4.25|\n",
      "|UCKvn9VBLAiLiYL4F...|             /@thef2|F2Freestylers - U...|        14100000|https://yt3.googl...|Ultimate Soccer S...|F2Freestylers, Th...|https://yt3.googl...|      United Kingdom|3334131993.0|       779.0|2011-04-09|                1479228.6|                   906970.5|        1696740.73549985|           0.25|\n",
      "|UC5pWmK_BxE-nHMZK...|         /@modgranny|          Mod Granny|            2950|                null|                null|                null|https://yt3.googl...|                null|   1194712.0|       996.0|2009-03-19|         37.4666666666667|                       27.0|        26.5389441303823|            1.5|\n",
      "|UC0NyKtJiEBqeQbb5...|     /@GleneaglesFLA|Gleneagles Countr...|             902|https://yt3.googl...|                null|Gleneagles, Count...|https://yt3.googl...|                null|    118260.0|       452.0|2011-04-20|         264.275862068966|                      104.0|        266.192812741613|            0.5|\n",
      "|UC7_E3ZwrWWnoleNx...|   /@BeyondGrappling|     BeyondGrappling|           83500|https://yt3.googl...|Matt D'Aquino fro...|beyond grappling,...|https://yt3.googl...|           Australia|  15705978.0|       954.0|2009-05-26|         818.533333333333|                      682.5|        529.945137621706|           0.75|\n",
      "|UCb-ClCZx1wZg_fPV...|  /@fitwithsikka6800|      Fit With Sikka|            2440|https://yt3.googl...|GYM CARDIO WEIGHT...|                null|https://yt3.googl...|                null|   1387532.0|      1411.0|2018-06-26|         42.6333333333333|                       38.0|        25.0139738723956|           1.75|\n",
      "|UCKgObbutYFxFgh4t...|      /@RicarlosLife|      Ricarlo's Life|            1240|https://yt3.googl...|Follow me on inst...|Glowup, looksmaxxing|https://yt3.googl...|      United Kingdom|      5503.0|         3.0|2024-02-20|                   1859.0|                     1785.0|        337.215064906656|           0.75|\n",
      "|UCo0EqbzxI9YYQnuU...|        /@TheBealles|         The Bealles|           65800|https://yt3.googl...|Welcome to The Be...|                null|https://yt3.googl...|       United States|   9070518.0|       966.0|2015-05-11|         2825.33333333333|                     2796.5|        1138.71126961823|           1.25|\n",
      "|UCiA5zsMaMuw2Hmth...|        /@comose2547|              Comose|            1160|https://yt3.googl...|  PURE ENTERTAINMENT|                null|https://yt3.googl...|                null|    827155.0|       510.0|2014-07-05|                    166.7|                      102.5|        205.118689218381|            7.5|\n",
      "|UCiQENgQytLzVi8Zn...|       /@ballerscuba|         ballerscuba|            4810|https://yt3.googl...|Welcome to Video ...|Lets Play, Walkth...|https://yt3.googl...|       United States|   4281835.0|      9299.0|2006-10-10|         131.633333333333|                       90.5|        137.484419319265|            2.0|\n",
      "|UC2doJkLrbskwe7wg...|      /@goldginger_1|         Gold Ginger|             185|https://yt3.googl...|A channel for a l...|                null|https://yt3.googl...|       United States|    100400.0|       528.0|2012-01-18|         43.0666666666667|                       28.0|        45.3180856710529|           0.25|\n",
      "|UCnhOJQeuxU08Cd0q...|  /@gabriellannalisa|  Gabriella Annalisa|          229000|https://yt3.googl...|                null|                null|https://yt3.googl...|       United States| 106571452.0|       197.0|2011-08-14|                   5612.5|                     3262.5|        5587.36265006428|            1.0|\n",
      "|UChTt6Bv8rRdq6xWm...| /@countitalljoy2023|    Count It All Joy|           42800|                null|                null|                null|https://yt3.googl...|                null|   3243681.0|       114.0|2019-10-27|         21190.4666666667|                    18343.0|        8144.31316004541|            0.5|\n",
      "|UCFhrDy3FuHuN3eBY...|    /@nicole_noelani|      Nicole Noelani|             926|https://yt3.googl...|                null|                null|https://yt3.googl...|       United States|     84296.0|       146.0|2012-09-26|         383.133333333333|                      138.0|        908.593922253256|           1.75|\n",
      "|UCdmi832DSjKU2u2z...|/@BBilionsNursery...|B Billions - Nurs...|             825|https://yt3.googl...|B Billions - Nurs...|3d, 3d kids song,...|https://yt3.googl...|       United States|    301626.0|         9.0|2024-02-26|         35019.6666666667|                    27162.0|        34499.7499443434|           2.25|\n",
      "|UCqNAR8T5qIfzwZFK...|   /@AshleyFloresFit|       Ashley Flores|           60700|https://yt3.googl...|Official YouTube ...|                null|https://yt3.googl...|                null|   3192784.0|        97.0|2015-07-24|         26255.9333333333|                    12817.5|        36761.0368043243|           0.25|\n",
      "|UC9CvUI5Yb9pMzVWd...|         /@ByLoriAna|    Good Vibes Only |             454|https://yt3.googl...|Welcome to my cha...|                null|https://yt3.googl...|                null|     71333.0|       258.0|2022-03-21|                     32.4|                       22.0|        28.4576878892155|            0.5|\n",
      "|UC4BxWU1bbTPHATB2...|/@violetchapinduk...|       Belly smasher|            1880|                null|                null|                null|https://yt3.googl...|                null|    224386.0|       342.0|2015-02-22|         159.733333333333|                      145.0|         117.01023696906|            1.5|\n",
      "|UC6OIYyPq927fasvm...|         /@Tocayerik|           Tocayerik|           35500|https://yt3.googl...|The crazy daycare...|                null|https://yt3.googl...|                null|   4582136.0|       203.0|2022-04-20|         10917.3666666667|                      150.0|         55785.407069402|           0.25|\n",
      "|UCgGDjl1NnshkpBIY...|    /@dvafitness2660|       D V A Fitness|             199|https://yt3.googl...|                null|Gym/Exercise, Equ...|https://yt3.googl...|              France|     15836.0|        24.0|2015-02-12|                    514.0|                      480.0|         418.58298375079|           0.25|\n",
      "|UCnxG0VhWnMKSG3Zj...|      /@sunberrychii|        sunberrychii|            6200|https://yt3.googl...|weight tracking j...|                null|https://yt3.googl...|        South Africa|    257995.0|        46.0|2019-07-19|                   3994.2|                     1955.0|        4761.73984589667|            0.5|\n",
      "|UCcwLTaLBtkWmtVuE...|  /@gelaimercado4288|       Gelai Mercado|            6360|https://yt3.googl...|Sharing recipe of...|                null|https://yt3.googl...|         Philippines|    340071.0|       143.0|2020-01-29|         817.566666666667|                      598.5|        627.998443911731|           0.25|\n",
      "|UCJSljhuFfpZm0kRL...|/@CookingWithAnge...|   Cooking With Ange|               5|                null|Follow me while I...|                null|https://yt3.googl...|                null|       910.0|        13.0|2024-02-01|                     13.5|                        7.0|         15.607156478146|           1.25|\n",
      "|UCYu3WV20g7CuOmEF...|  /@kylelovescountry|              Kyle K|            2080|https://yt3.googl...|Country music con...|                null|https://yt3.googl...|                null|   1178106.0|      1046.0|2018-07-29|                     63.4|                       57.0|        39.7648085623457|            7.5|\n",
      "|UCuhRaQcrs0vU9C34...|        /@SamhamLive|         Samham Live|           16500|https://yt3.googl...|The official seco...|reaction, reactio...|https://yt3.googl...|      United Kingdom|   5265887.0|       685.0|2013-07-25|         3524.86666666667|                      603.0|        11190.6460633672|           4.75|\n",
      "|UCQ92tDbTftlI7A1w...|    /@AdventuresASMR|    Adventures ASMR |            1970|https://yt3.googl...|Hello Everyone! E...|                null|https://yt3.googl...|       United States|    382606.0|       370.0|2023-05-21|                   1215.9|                      524.5|        2244.66223665537|           2.25|\n",
      "|UCwD5OE0SYdukvKzX...|         /@FitwithE.|          Fit with E|               3|                null|            FitwithE|                null|https://yt3.googl...|                null|        57.0|         5.0|2012-02-19|                    14.75|                       12.5|        9.47034846243791|            1.0|\n",
      "|UCXPKBrjkVcWfmVj8...|/@HealthBeautyWel...|        WellnessWise|               4|https://yt3.googl...|Welcome to our ch...|Health, Wellness,...|https://yt3.googl...|              Brazil|        63.0|         8.0|2020-07-18|         5.83333333333333|                        2.5|        8.74483974822994|            1.5|\n",
      "|UC_MmE2kVSgIUUhX5...|/@revolutionarynu...|Revolutionary Nut...|             182|                null|                null|                null|https://yt3.googl...|         Philippines|     19950.0|       308.0|2021-03-22|         24.4666666666667|                       16.0|        24.7557849580434|           4.75|\n",
      "|UCTLDbr7fXm6Rh17O...|      /@DamienWalter|Science Fiction w...|           35800|https://yt3.googl...|The Science Ficti...|Writing, Science ...|https://yt3.googl...|                null|   1737295.0|        91.0|2006-11-24|                  53379.4|                    21220.0|        112593.812340229|           0.75|\n",
      "|UCLjRM0LyQ8xTIJUb...|      /@NazomsCorner|        NazomsCorner|           45500|https://yt3.googl...|Family, Food & Be...|Healthy, Nigerian...|https://yt3.googl...|             Nigeria|   8537943.0|       368.0|2016-03-10|         14687.2666666667|                    12713.0|        8026.55340700824|           1.75|\n",
      "|UCPv27XLTDgp0xg1x...|   /@vaibhavikrishna|    Vaibhavi Krishna|            1020|https://yt3.googl...|                null|                null|https://yt3.googl...|               India|    169680.0|        90.0|2019-02-21|         1542.52631578947|                      639.0|        2171.37956071155|           0.25|\n",
      "|UCbLHB3SjOUR3pDgg...|    /@GenevieveMason|     Genevieve Mason|            3300|https://yt3.googl...|lifestyle, fitnes...|contortion, conto...|https://yt3.googl...|              Canada|    363917.0|       171.0|2016-03-19|         1522.86666666667|                      842.0|        2863.99432882741|            1.0|\n",
      "|UCqvXWpwqMoEZwbOi...|     /@mayaskitchenn|      Maya's Kitchen|           51200|https://yt3.googl...|                null|                null|https://yt3.googl...|               India|  16139512.0|       657.0|2020-04-19|         641.866666666667|                      274.0|        1134.13325887608|           3.25|\n",
      "|UC-C8ctdM277CcDXX...|              /@UCLH|University Colleg...|           27500|https://yt3.googl...|University Colleg...|                null|https://yt3.googl...|      United Kingdom|   7843764.0|       412.0|2011-08-24|         1122.66666666667|                      452.5|        1314.55805839411|           0.25|\n",
      "|UC1bmLjKECqHEdXD9...|   /@gastonspotlight|    Gaston Spotlight|             212|https://yt3.googl...|Gaston College Br...|                null|https://yt3.googl...|                null|     26778.0|       225.0|2013-09-24|                     64.0|                       44.0|        63.7400972700858|            1.0|\n",
      "|UCxLuFd376gsRb7gs...|         /@spinmom27|Debbie Wolff. Hom...|             441|                null|        Home fitness|Fitness, yoga, ro...|https://yt3.googl...|       United States|     92241.0|       972.0|2012-02-05|         58.6333333333333|                       55.0|        30.7337852461352|            3.0|\n",
      "|UCjb6D12L5_mVdVEZ...|/@TheWorldNeedsMo...|                Meur|           79200|                null|Thank you for bei...|                null|https://yt3.googl...|       United States|  24439040.0|       322.0|2023-03-06|                  35601.2|                    13010.0|        71016.3625640364|           2.25|\n",
      "|UCgtX7eei9MQfEWO8...|       /@correcttoes|Northwest Foot & ...|           48800|https://yt3.googl...|Natural foot Heal...|                null|https://yt3.googl...|       United States|  13777841.0|       105.0|2011-12-27|         124256.066666667|                    11877.0|         410472.56388135|            0.5|\n",
      "|UCe1_GzLpMd0xMox4...|           /@AliLong|            Ali Long|             176|https://yt3.googl...|Hi! Welcome to my...|fitness, workout,...|https://yt3.googl...|       United States|      9769.0|       110.0|2020-03-15|         45.6666666666667|                       39.0|         30.831080998816|           0.25|\n",
      "|UCYJX47bofEwHutci...|       /@TheRayfords|        The Rayfords|            1160|https://yt3.googl...|Life is busy. It ...|The Rayfords, Fam...|https://yt3.googl...|       United States|    415287.0|       476.0|2019-01-21|         101.733333333333|                       66.0|        146.400349119195|           0.75|\n",
      "|UC_FVV8Km4v5eSKMv...|/@iowa4-hfoundati...| Iowa 4-H Foundation|              28|https://yt3.googl...|The Iowa 4-H Foun...|                null|https://yt3.googl...|       United States|      8606.0|        57.0|2016-03-01|                     99.4|                       30.5|        146.864245705572|           1.25|\n",
      "|UCnpb88fNrhh_mkX-...|/@tiktokquickeasy...|TikTok Quick & Ea...|            1130|https://yt3.googl...|                null|                null|https://yt3.googl...|                null|    639341.0|       595.0|2020-05-27|         18.2666666666667|                        5.0|        37.5436930640672|           0.25|\n",
      "|UCqVauXbHd2PU-bjq...|      /@mikeypiscopo|       Mikey Piscopo|          211000|https://yt3.googl...|I play guitar a l...|                null|https://yt3.googl...|                null| 120275820.0|       253.0|2012-06-09|         81417.0344827586|                    32688.0|        156748.257356091|            1.0|\n",
      "|UCuXbe0qjsxG890AH...|          /@ekyyerin|           EKY YERIN|             149|https://yt3.googl...|FITNESS, WELLNESS...|                null|https://yt3.googl...|                null|      8907.0|        17.0|2016-09-11|                   348.75|                      237.5|        261.466417537702|            1.0|\n",
      "|UC1xqRGyi1g5BRD3B...|            /@OBM759|Only the best of ...|               1|https://yt3.googl...|Welcome to Only T...|                null|https://yt3.googl...|                null|        40.0|         6.0|2023-09-30|                      4.0|                        4.0|       0.816496580927726|           0.75|\n",
      "|UC5eJIyQ8H7ztcrbk...|      /@Yummyfood894|   Yummyfood passion|             163|                null|                null|                null|https://yt3.googl...|                null|     31775.0|        36.0|2021-01-19|                    177.0|                      183.0|        108.758907681164|            1.0|\n",
      "|UCBz8B963kGOxVtwo...|/@chekaykikayvlog...|  CHEKAY KIKAY VLOGS|             482|https://yt3.googl...|Product Reviews |...|                null|https://yt3.googl...|                null|     89929.0|       270.0|2015-10-09|                    378.9|                       44.0|        1121.94602811365|            0.5|\n",
      "|UC5oss4Reb0rFYvGT...|/@HakeemSarfrazGl...|Hakeem Sarfraz Gl...|         1170000|https://yt3.googl...|                null|health, Healthdoc...|https://yt3.googl...|       United States| 129010483.0|       839.0|2016-07-07|         702.466666666667|                      550.5|        473.488312656418|           1.75|\n",
      "|UCDX6M4onZL7TqKlt...|/@Victoriaintheki...|Victoria in the k...|         1550000|https://yt3.googl...|Victoria's in the...|man in the kitche...|https://yt3.googl...|             Ukraine| 517528524.0|       216.0|2020-02-24|                1043942.4|                   461120.5|        1523579.78629937|            1.0|\n",
      "|UCopwh9YJuhQw0tyr...|      /@AthleticsIRL|Athletics Ireland TV|            9750|https://yt3.googl...|                null|                null|https://yt3.googl...|                null|   1642786.0|       449.0|2009-01-14|         3456.13333333333|                     1030.5|        7414.14373448179|           0.25|\n",
      "|UCBTXFkPXWXLk15tq...|        /@_Dreambig-|              Dreams|             201|https://yt3.googl...|        вќ¤пёЏвќ¤пёЏ|                null|https://yt3.googl...|                null|     62389.0|       471.0|2023-07-25|                      3.0|                        2.0|        3.32665998663324|           0.25|\n",
      "|UCFn8jtNaVtiM606F...|    /@AZaZaChallenge|               AZaZa|            2100|https://yt3.googl...|                null|challenge, challe...|https://yt3.googl...|       United States|    550428.0|        14.0|2024-02-04|                  39529.5|                     5679.5|        59203.4824684567|            3.0|\n",
      "|UCOO3ETX8Y7fWZzj3...|/@thecartoon-quai...|    TheCartoon-Quail|            2490|                null|Uploading funny C...|                null|https://yt3.googl...|       United States|   2737456.0|       642.0|2021-02-08|                    902.1|                      335.5|        1696.45179418691|           0.25|\n",
      "|UC0gR8B_t2N_hCZm4...|     /@workoutlabstv|         WorkoutLabs|              33|                null|Simple Fitness fo...|       fitness, yoga|https://yt3.googl...|       United States|      1159.0|        12.0|2013-11-18|         102.909090909091|                       37.0|        159.066855324451|           0.75|\n",
      "|UC4eYXhJI4-7wSWc8...|          /@nprmusic|           NPR Music|         8950000|https://yt3.googl...|The official YouT...|tiny desk, NPR, m...|https://yt3.googl...|       United States|2946022452.0|      2480.0|2008-01-03|         664126.533333333|                   190006.0|        1173751.14035579|           2.25|\n",
      "|UCEdEjoX8F8ee9i0r...| /@CrowMossChocolate|Crow & Moss Choco...|             116|https://yt3.googl...|                null|                null|https://yt3.googl...|                null|      6165.0|        17.0|2023-11-18|         462.222222222222|                      127.0|        863.739644128661|           1.25|\n",
      "|UC3VVgK15gGxMyiLM...|          /@qiqihill|    TheQii_ToFitness|           28100|https://yt3.googl...|Hiiiiii !  My nam...|                null|https://yt3.googl...|                null|   1159937.0|       101.0|2014-05-11|                   9107.1|                     7568.0|        3814.51382092135|            0.5|\n",
      "|UC9SUk2EfigjxtHUU...|/@FitnessWorkout-...|     Fitness Workout|             255|                null|Welcome to our ch...|Fitness workout r...|https://yt3.googl...|            Pakistan|     47088.0|        52.0|2024-02-08|                     38.0|                       16.0|        37.6563407675255|           0.75|\n",
      "|UCufrpKCwF1syZFFu...|      /@Prabhakar916|             Fitp YT|              26|                null|                null|                null|https://yt3.googl...|                null|       585.0|         3.0|2024-02-29|                     57.0|                       57.0|                     1.0|            0.5|\n",
      "|UCi8L4N3ZJss_KcnM...|     /@caliyahamanie|      Caliyah Amanie|            2700|https://yt3.googl...|Welcome to my cha...|                null|https://yt3.googl...|       United States|     25974.0|        73.0|2013-12-25|         422.233333333333|                      333.0|        360.492504160011|           0.75|\n",
      "|UCzU8AV8ISerC5mJc...|     /@kalenwalker13|        Kalen Walker|            1980|https://yt3.googl...|  I hate runningрџ‘Ќ|                null|https://yt3.googl...|                null|    115777.0|        19.0|2017-06-29|                   6379.8|                     4789.0|        6226.94057784399|            0.5|\n",
      "|UCGV3L8VTtvew5_yY...| /@carokowanzenglish| Caro Kowanz English|         1000000|https://yt3.googl...| вњЁA safe place ...|english, ingles, ...|https://yt3.googl...|             Germany| 420157627.0|       375.0|2022-03-13|         31096.4705882353|                    15486.0|          36023.93474625|           0.25|\n",
      "|UCFoYhDTyQoLRLEvu...|/@sachinsharmavlo...| Sachin Sharma vlogs|             880|https://yt3.googl...|Join me on my jou...|                null|https://yt3.googl...|                null|    181699.0|       234.0|2016-11-16|         59.4666666666667|                       32.5|        57.6331694618839|            5.5|\n",
      "|UCR1IuLEqb6UEA_zQ...|   /@RealEngineering|    Real Engineering|         4250000|https://yt3.googl...|The home of innov...|science, engineer...|https://yt3.googl...|       United States| 470529630.0|       189.0|2013-09-12|                2294453.9|                  1899539.0|         1734767.5475973|           0.25|\n",
      "|UCR62TBPrXIhO702K...|/@Maheshchoudhary131|    Mahesh Choudhary|               7|https://yt3.googl...|                null|                null|https://yt3.googl...|                null|       618.0|         7.0|2016-09-08|                     10.0|                        9.0|        2.16024689946929|           0.75|\n",
      "|UCzRu_d-kuTq_qog1...|/@punjabidakitche...|  Punjabi Da Kitchen|          910000|https://yt3.googl...|punjabidakitchen@...|Punjabi, Da, Kitchen|https://yt3.googl...|            Pakistan| 129601689.0|      1195.0|2017-04-22|         3448.66666666667|                     2218.0|        6300.57741974672|            1.5|\n",
      "|UCqMsoer2h0TBwOtt...|/@smartcookingwithme|smart cooking wit...|            4830|                null|Huge variety of r...|Cooking tips and ...|https://yt3.googl...|        Saudi Arabia|    135233.0|       121.0|2021-03-20|         609.933333333333|                      512.0|        255.428128617208|           1.25|\n",
      "|UCNbZViwXAiUoBTSA...|   /@cookbesfood6341|        Cookbes food|              78|                null|                null|                null|https://yt3.googl...|                null|     46598.0|       152.0|2022-09-22|         23.1666666666667|                        6.0|        48.3660234278385|           0.25|\n",
      "|UCPFw_P8MbXH7wLzz...|       /@BBQatHolmes|       BBQ at Holmes|             447|https://yt3.googl...|Sharing our love ...|                null|https://yt3.googl...|       United States|    153420.0|       162.0|2022-06-29|         320.566666666667|                      122.5|        501.366578020071|            1.5|\n",
      "|UCIqfH5hylIUmi98q...|/@FeedingtheGulfC...|Feeding the Gulf ...|             321|https://yt3.googl...|Feeding the Gulf ...|Feeding the Gulf ...|https://yt3.googl...|       United States|     71425.0|       121.0|2010-12-15|         137.833333333333|                       50.5|        221.312009514973|           0.25|\n",
      "|UCbNia91b5S7Vcjoa...|        /@Workout123|     Workout at home|             375|                null|                null|                null|https://yt3.googl...|                null|     87250.0|        64.0|2024-01-29|                     41.5|                       41.5|                    23.5|           0.25|\n",
      "|UCppkY9PJTT4cnNo9...|  /@rupeshsharma7376|Rupesh sharma coach |             728|                null|Body building onl...|                null|https://yt3.googl...|                null|     80872.0|       238.0|2018-07-21|         100.166666666667|                       73.5|        96.9226782314416|           1.75|\n",
      "|UCOonbEqU5e83n_fa...|  /@dermisskinclinic|  Dermis Skin Clinic|           63000|https://yt3.googl...|                null|dermatologist, be...|https://yt3.googl...|               India|  18958867.0|       187.0|2021-06-29|         39808.9545454545|                    11740.5|        89413.8539923801|           0.25|\n",
      "|UCIhQxIv7uC0B4CJy...|  /@chiscoughlan5221|      chris coughlan|              28|                null|                null|                null|https://yt3.googl...|               Spain|     16364.0|        91.0|2019-02-10|                     10.4|                        6.0|        12.0570864363383|           0.25|\n",
      "|UCP8n1xKrCxbUdI52...|/@drsyedazharnaqv...| Dr syed Azhar Naqvi|             389|                null|      Homoeo  Doctor|Healthcare tips. ...|https://yt3.googl...|            Pakistan|     20091.0|       121.0|2015-12-16|                     25.1|                       22.5|        16.1293727921041|            0.5|\n",
      "|UCZOxaa5nBvZsN1iC...|   /@Sheenavlogs_123|        Sheena vlogs|            1360|                null|Entertaining, inf...|                null|https://yt3.googl...|                null|     46388.0|       191.0|2021-08-18|         296.633333333333|                       75.0|        513.985050582429|            0.5|\n",
      "|UCzxa3KseF0KhoJsm...|   /@quakerindonesia|    Quaker Indonesia|           20200|https://yt3.googl...|                null|                null|https://yt3.googl...|           Indonesia|  71337363.0|       128.0|2016-06-01|         846131.466666667|                    12933.0|        1280354.97545771|           0.75|\n",
      "|UCjFnMcb1aVDh6d8R...|  /@OETforNurses2023|      OET FOR NURSES|            1070|                null|                null|                null|https://yt3.googl...|               India|     31229.0|        33.0|2023-05-16|         813.066666666667|                      411.5|        892.663129193887|            1.5|\n",
      "|UCkezWgXNsj-xmTyd...|/@TasteWithHealth...|Taste With Health...|            6000|https://yt3.googl...|                null|cooking, channel,...|https://yt3.googl...|               India|   1206670.0|       703.0|2021-03-31|         144.366666666667|                      117.5|        122.534480408124|           0.75|\n",
      "|UCcYgG_KRyqbq9TlX...|/@EssentialSports...|Essential Sports ...|               1|                null|                null|                null|https://yt3.googl...|                null|        12.0|        10.0|2024-03-06|                      1.2|                        1.0|        1.98997487421324|            2.5|\n",
      "|UCrLP1UFB4zZicdDA...| /@Mashalfatimavlogs| Mashal Fatima Vlogs|               3|https://yt3.googl...|AOA well come to ...|pakistan, pakista...|https://yt3.googl...|            Pakistan|       112.0|        26.0|2024-02-25|                     5.35|                        4.0|        3.78516842425803|            5.0|\n",
      "|UCb940PXKYdiqnWzc...|     /@zipaworld1133|           ZIPAWORLD|            1580|                null|                null|what is logistics...|https://yt3.googl...|               India|    408499.0|       466.0|2021-10-20|                   2537.1|                      135.5|        12003.8804624449|           0.75|\n",
      "|UCQwWhX28OHtqk-eI...|/@fitnesssaveslivess|       Latoya Italia|             252|https://yt3.googl...|Welcome to my cha...|                null|https://yt3.googl...|                null|     17630.0|        65.0|2020-04-10|         67.6333333333333|                       45.0|        61.6384530053188|            0.5|\n",
      "|UCTs5PJGf9AwnA7mN...|           /@ZackTTG|             ZackTTG|         1210000|https://yt3.googl...|                null|TTG, TheTraveling...|https://yt3.googl...|       United States| 135796320.0|       299.0|2015-07-11|         160225.866666667|                   112498.5|        147357.775622628|           0.25|\n",
      "|UCNo1eTCp26XyNZp1...| /@flipdogdoylestown|    flip dog pilates|               4|                null|вЂњEvery moment o...|                null|https://yt3.googl...|                null|        65.0|        10.0|2021-03-24|                      7.9|                        3.0|        9.63794583923359|           1.75|\n",
      "|UCHia02_AKmqXtxsD...|       /@KidssmileTV|       Kids smile TV|        12300000|https://yt3.googl...|This is a fun cha...|kids smile tv, al...|https://yt3.googl...|       United States|5556259242.0|       299.0|2017-11-24|         3321816.16666667|                  1860066.0|        3932512.57337426|           0.25|\n",
      "|UCb_nk879qGEHSnG8...|  /@cookingwithRaisa|  Raisa ka Jahan 2.0|            3670|                null|Hi! I am Raeesa y...|Recipe, Idea, Dha...|https://yt3.googl...|        Saudi Arabia|   1197879.0|       752.0|2016-08-30|         719.733333333333|                       90.0|        2106.91355515334|           1.25|\n",
      "|UCby-lf41M60E1YjS...|/channel/UCby-lf4...| Joey Valence & Brae|          203000|https://yt3.googl...| ALTERNATIVE RAP DUO|Joey Valence, Fun...|https://yt3.googl...|                null|  54732180.0|       130.0|2014-08-01|         106798.266666667|                    20878.0|        183432.928782327|            0.5|\n",
      "|UC83_Z692SQxS5hEP...|/@jasminebresniha...|Jasmine Bresnihan...|              94|https://yt3.googl...|                null|                null|https://yt3.googl...|       United States|     10820.0|       116.0|2018-11-12|                    112.4|                       28.5|        220.862038385957|            1.0|\n",
      "|UCAJVeDBxft6WRFc4...|       /@NatalieNino|        Natalie Nino|            2260|https://yt3.googl...|hey lovelies, my ...|                null|https://yt3.googl...|                null|    437672.0|       163.0|2018-12-30|         486.466666666667|                      232.5|         987.80155676915|            0.5|\n",
      "|UCPfeM2tm3T19uPf8...|          /@TyTurner|           Ty Turner|          376000|https://yt3.googl...|I'm Ty and I make...|Partar400, ty, tu...|https://yt3.googl...|       United States|  41488049.0|       441.0|2008-12-08|         61965.4333333333|                    41069.5|          49482.23647107|           0.75|\n",
      "|UCzcp6jwblk-4NKZg...|    /@winterroses320|          Jeni Rose |            2450|https://yt3.googl...|I'm grateful you ...|                null|https://yt3.googl...|                null|    953061.0|       715.0|2011-12-12|                    439.7|                      130.0|        622.763258924823|            2.5|\n",
      "|UCGfheKfkhp3Bsy29...|/@pgparksandrecre...|Parks and Recreat...|            2580|https://yt3.googl...|                null|M-NCPPC, Departme...|https://yt3.googl...|       United States|    727058.0|       550.0|2010-03-04|                     72.5|                       61.0|        51.7653358918881|            0.5|\n",
      "|UCQq1s1uhIXeo_OgA...| /@bricevincentbaisa| brice vincent baisa|           10000|                null|A 15 years old te...|BVB, BriceVincent...|https://yt3.googl...|         Philippines|     24705.0|        96.0|2023-09-22|         463.066666666667|                      252.0|        588.028850388218|            1.5|\n",
      "|UCJW4XSEXo358ewL-...|        /@CakeCrafts|         Cake Crafts|            1460|https://yt3.googl...|cake crafts is a ...|cake, cake decora...|https://yt3.googl...|            Pakistan|    323218.0|       142.0|2023-09-01|         75.0666666666667|                       65.0|        44.3357894056508|           3.25|\n",
      "|UCANqVFHy1QlnHrG7...|/@travelsutrasuma...|Travelsutra Suman...|           22100|https://yt3.googl...|Travel sutra is a...|budget travel, tr...|https://yt3.googl...|               India|   3083554.0|       945.0|2020-06-12|         764.733333333333|                      339.5|        911.079320854605|           0.75|\n",
      "|UCem2r1fjrOi3EM5M...|         /@mreesking|       mia rees-king|            4310|https://yt3.googl...|hi friend! make s...|                null|https://yt3.googl...|      United Kingdom|    627732.0|       119.0|2020-10-30|         1229.86666666667|                      780.5|        1553.26955663064|            1.0|\n",
      "|UCkzHuXcSGa1yVHGH...|/@WalkFitforBegin...|WalkFit for Begin...|              11|                null|We create videos ...|                null|https://yt3.googl...|               Japan|       817.0|         8.0|2024-02-12|                     76.5|                       76.5|                     7.5|            0.5|\n",
      "|UCOf15K-IZ3TxFwAq...|      /@hungryjustin|           Justin Oh|            1410|https://yt3.googl...|Thanks for stoppi...|                null|https://yt3.googl...|       United States|    436152.0|       393.0|2012-04-27|         195.966666666667|                      118.0|        224.442640531805|            1.0|\n",
      "|UCBtO2vu3tOlrAGxl...|       /@mahidaislam|     It's me Afsana |             164|https://yt3.googl...|а¦†а¦ёа¦ёа¦ѕа¦Іа¦...|                null|https://yt3.googl...|                null|     30136.0|       356.0|2023-02-07|         54.0666666666667|                       41.0|        44.1481848123139|           0.25|\n",
      "|UCWzH7OV0BNtcTZXl...|/@salmasfavoriter...|SalmaвЂ™s Favorit...|            3870|https://yt3.googl...|Hi friends!! I am...|kitchen, food, co...|https://yt3.googl...|       United States|    615013.0|       162.0|2020-05-08|         1262.73333333333|                      581.0|        1665.49556055314|            0.5|\n",
      "|UCDYiNABkeKvGpPyU...|    /@EverydayDishes|     Everyday Dishes|           24500|https://yt3.googl...|At EverydayDishes...|quick and easy re...|https://yt3.googl...|       United States|   7462295.0|       359.0|2011-05-09|         5785.43333333333|                      639.0|        20132.5841257124|            0.5|\n",
      "|UCxpk1hN7_Jziwq3G...|          /@Sehar324|  Sehar Family Vlog |            1310|                null|                null|                null|https://yt3.googl...|                null|     28600.0|       139.0|2024-01-17|         142.666666666667|                      109.5|        178.192841856481|            6.5|\n",
      "|UCIXAG5ovySJvp-cp...|/@MomsThoughtPrap...|        MomsThought |            1090|https://yt3.googl...|Hi Everyone Welco...|Cooking, Fashion,...|https://yt3.googl...|               India|    349121.0|       284.0|2016-10-22|         416.566666666667|                      141.0|        1284.60361417659|           1.75|\n",
      "|UCzfCR1kOa484bnUp...|    /@FitDeliciouzzz|      FitDeliciouzzz|             743|https://yt3.googl...|For everyone who ...|                null|https://yt3.googl...|      United Kingdom|    456890.0|       565.0|2023-03-16|         96.6666666666667|                       42.5|        236.524605250466|           3.75|\n",
      "|UCE34rLcnwsst3TDB...|        /@abenatalks|         Abena Talks|            8310|https://yt3.googl...|Build a life of a...|make money online...|https://yt3.googl...|      United Kingdom|   3824740.0|      1301.0|2012-07-01|         52.5666666666667|                       39.0|        46.6380983984363|            1.5|\n",
      "|UCeL0Q3I9v49VRc9i...|    /@mummyandme6097|        mummy and me|            1670|https://yt3.googl...|Welcome to our ch...|                null|https://yt3.googl...|               India|    196484.0|        75.0|2020-10-15|         2071.33333333333|                     1771.5|        1333.25534771934|           0.25|\n",
      "|UColtQUERPAJ1Xg11...|/@weightlosstamil188|Weight Loss Tamil...|           14300|https://yt3.googl...|                null|herbalife tamil, ...|https://yt3.googl...|               India|    768844.0|       380.0|2018-12-17|         561.833333333333|                      384.5|        479.990075128874|           1.75|\n",
      "|UCTA6Ru3SE0eFtZlq...|  /@SvartmanCoaching|     Pierre Svartman|             833|https://yt3.googl...|You have dreamed ...|                null|https://yt3.googl...|              Canada|    168013.0|       130.0|2011-09-30|         3583.45454545455|                      278.0|        8105.34970210345|           0.75|\n",
      "|UCIfRR1N2Gm1vjj9X...|     /@NorCalCycling|      NorCal Cycling|          182000|https://yt3.googl...|I'm a Category 1 ...|                null|https://yt3.googl...|       United States|  49006474.0|       489.0|2014-12-21|                  44564.0|                    34100.5|        32993.1537292209|            1.5|\n",
      "|UCllzJkW9vCJilevn...|   /@kumbofishingusa|   Kumbo Fishing USA|            5190|https://yt3.googl...|Hello folks, welc...|Catch, cook, prim...|https://yt3.googl...|       United States|   1097556.0|       749.0|2018-06-11|         1093.76666666667|                     1055.0|        615.219293332783|           2.25|\n",
      "|UCIQzw8wGPDbHFcZk...|/@newportbeachder...|Newport Beach Der...|             725|https://yt3.googl...|Newport Beach Der...|                null|https://yt3.googl...|       United States|    259973.0|       159.0|2013-11-12|         151.166666666667|                       80.5|        189.846268216037|            0.5|\n",
      "|UChwhk2zV9LYG_n_H...|          /@MoniBurk|           Moni Burk|           41700|https://yt3.googl...|I am a digital co...|movie reviews, fu...|https://yt3.googl...|       United States|  17542209.0|       323.0|2021-12-31|         389.333333333333|                      234.5|        633.421099181965|           0.25|\n",
      "|UCBcvx7Pj9ZujMBpb...|      /@anantkachare|       Anant Kachare|              83|https://yt3.googl...|      Fitness Lover!|                null|https://yt3.googl...|                null|     17640.0|        62.0|2011-02-09|         490.533333333333|                       43.5|        1717.20215725723|            0.5|\n",
      "|UChW6fu6EzOAMWVqZ...| /@mommybooosethseth|  mommy booosethseth|            2320|https://yt3.googl...|My page is a diar...|                null|https://yt3.googl...|                null|    409495.0|       221.0|2011-10-12|         662.866666666667|                      248.0|        1456.02796981682|           0.25|\n",
      "|UCplJNPXrv-4mfZ2t...|   /@ToniToniKitchen|   Toni Toni Kitchen|            7120|https://yt3.googl...|https://www.insta...|cooking, recipe food|https://yt3.googl...|       United States|    500553.0|       188.0|2014-01-20|                   2554.6|                      240.5|        9195.34764831289|            1.0|\n",
      "|UCahFnKtMw5H3Ih_D...|          /@JunextTV|      JUNEXT VLOG NZ|            2340|https://yt3.googl...| LIFE IN NEW ZEALAND|MUSIC, VIDEOS, EN...|https://yt3.googl...|         Philippines|     86004.0|       258.0|2019-09-20|         38.0666666666667|                       29.0|        30.1196871755926|           0.75|\n",
      "|UC-enORJniAk6nzad...|   /@rabailaijaz1261|             Pinkooz|             130|                null|                null|happy, hub, enter...|https://yt3.googl...|            Pakistan|     39286.0|       162.0|2015-12-10|         24.3703703703704|                       22.0|        11.1227099953475|           1.25|\n",
      "|UCG9Xk--q86JklbaB...|/@starsglobalcuis...|Star's Global Cui...|             439|                null|                null|                null|https://yt3.googl...|                null|     43471.0|        55.0|2022-08-01|                   1295.7|                       80.0|        5559.65359322563|            0.5|\n",
      "|UCD3ZYSno6zhWzy7T...|         /@FitPanda.|            FitPanda|             585|https://yt3.googl...|Like Subscribe an...|HealthyEating, Fi...|https://yt3.googl...|                null|    257993.0|        79.0|2023-12-22|                    551.0|                       38.0|        908.877583362282|            2.5|\n",
      "|UCkqshhduxJ2La4XP...|     /@Faaalifestyle|      FAAA Lifestyle|            2580|                null|                null|fa lifestyle, FA ...|https://yt3.googl...|            Pakistan|   1342588.0|       711.0|2023-05-26|         147.333333333333|                      106.0|         129.27034548659|            3.5|\n",
      "|UCsjInJwm1vIMCeeg...|             /@5news|               5NEWS|           54700|https://yt3.googl...|5NEWS is a CBS-af...|5NEWS, KFSM, Arka...|https://yt3.googl...|       United States|  40779564.0|     13325.0|2011-12-05|         268.633333333333|                      179.5|        332.266106540459|            7.5|\n",
      "|UCKZJSP-gjBPymMI8...|       /@CurrentBody|         CURRENTBODY|            6720|https://yt3.googl...|Discover the best...|Clarisonic, PMD, ...|https://yt3.googl...|      United Kingdom|   3273373.0|       395.0|2009-06-25|         5872.33333333333|                     2192.0|         6302.7992793326|           0.25|\n",
      "|UCgFcAtKTSZ-qn5e5...|     /@LayneJackson_|       Layne Jackson|           53200|https://yt3.googl...|                null|                null|https://yt3.googl...|       United States|   7449203.0|       567.0|2009-12-19|         1655.06666666667|                     1429.0|        1055.33517371918|           0.25|\n",
      "|UCg7kdHgUSDj_XZF2...|/@ontariofiredepa...|Ontario Fire Depa...|             294|                null|                null|                null|https://yt3.googl...|                null|     23973.0|        14.0|2022-05-29|                   2064.0|                     1196.5|        2339.57072985623|            0.5|\n",
      "|UCuBQxdk9g0kXauHf...|       /@kris10mills|         Kris10Mills|             755|https://yt3.googl...|How to build musc...|workout, abs work...|https://yt3.googl...|       United States|    134619.0|        69.0|2018-11-24|         557.366666666667|                      121.5|        1725.31453138905|           0.75|\n",
      "|UCgTNIa7SIpia7TfQ...|/@homekitchenquee...|  Home Kitchen Queen|            1370|                null|Everyone loves a ...|Home kitchen quee...|https://yt3.googl...|            Pakistan|     58595.0|       484.0|2022-06-17|                     22.0|                       11.0|        45.6289381861993|            6.5|\n",
      "|UCTTFouKizmvOygaa...|    /@mehaksalman558|Tasty Treats with...|             167|https://yt3.googl...|Asalam o aleikum ...|Tasty treats with...|https://yt3.googl...|            Pakistan|     24935.0|       181.0|2022-05-28|         113.366666666667|                      103.0|        78.1811926801382|            5.0|\n",
      "|UCrX4KdFjTBbkbbUt...|          /@Rctolver|       Raquel Tolver|           11600|https://yt3.googl...|Welcome to The To...|                null|https://yt3.googl...|                null|   1874686.0|        54.0|2023-12-05|         1519.19230769231|                     1001.0|        1755.00050447573|           3.25|\n",
      "|UC0mMLLaZhEjm80Yf...|    /@foodandfun5518|        Food and fun|            3870|                null|Food lover.Travel...|                null|https://yt3.googl...|                null|   1012400.0|       494.0|2014-03-10|         95.9333333333333|                       60.5|        130.737888752861|           4.25|\n",
      "|UCOk3hP-dejM_hZSW...|/@EasyCookingchan...|Easy Cooking chan...|              17|https://yt3.googl...|                null|                null|https://yt3.googl...|                null|      2567.0|        46.0|2024-02-10|         34.5833333333333|                       14.5|         46.429980137359|           5.75|\n",
      "|UCWn4RfAUaYbgd5Ro...|      /@cecillGesell|       cecill Gesell|           20100|https://yt3.googl...|                null|Travel, Touristic...|https://yt3.googl...|                null|   6091464.0|      5632.0|2016-04-28|         175.428571428571|                      139.0|        115.243973679268|            2.5|\n",
      "|UCxmpgADV88JVhRNQ...|/@TheAlanRosenber...|The Alan Rosenber...|            1900|https://yt3.googl...|As a classic rock...|Rock music, Class...|https://yt3.googl...|       United States|    222022.0|       304.0|2015-09-01|                    567.8|                      428.0|        411.825076134678|            2.5|\n",
      "|UCvc9V05fmypIq1zD...|     /@rumankilledar|      ruman killedar|             304|                null|                null|                null|https://yt3.googl...|                null|     97103.0|        53.0|2021-05-10|         397.769230769231|                      323.0|        251.644179148671|            0.5|\n",
      "|UCa6Pg_F0Q0RtlNwT...| /@dnlaibakhaliq1123|     Dn Laiba Khaliq|            1600|https://yt3.googl...|Lifestyle, advent...|                null|https://yt3.googl...|                null|    243426.0|       415.0|2017-02-24|                    207.9|                      141.0|        178.408398531758|           0.25|\n",
      "|UCXNC1mHmQISOIFMM...|/@ProtonJonLivest...|Proton Jon's Live...|           21200|https://yt3.googl...|The official chan...|protonjon, livest...|https://yt3.googl...|              Canada|   9311807.0|      2378.0|2014-08-15|         3927.03333333333|                     3712.5|        1983.67538479012|           3.75|\n",
      "|UCMCxYAb6EFMlPp99...|/@LifeExtensionWe...|Life Extension We...|            8080|https://yt3.googl...|At Life Extension...|vitamins, healthy...|https://yt3.googl...|       United States|    495932.0|       387.0|2013-09-23|         144.566666666667|                      109.0|        116.076320678346|            1.0|\n",
      "|UC5oZSRG_PQ3Hf1DS...|       /@AveraHealth|        Avera Health|            9590|https://yt3.googl...|Health care guide...|                null|https://yt3.googl...|                null|   5514806.0|      1555.0|2011-09-28|                    602.6|                       76.0|        2146.53138186548|           2.25|\n",
      "|UC2Fp8HByerbGjBq9...|   /@HAWWAANDFRIENDS|   HAWWA AND FRIENDS|           10200|https://yt3.googl...|     Hai Wellcome :)|talking ginger, t...|https://yt3.googl...|           Indonesia|    544589.0|       993.0|2020-12-30|         116.566666666667|                       43.5|        249.515221089928|            7.5|\n",
      "|UCG82tTxZbLV2BGNZ...|  /@BeyondEssentials|   Beyond Essentials|              75|https://yt3.googl...|                null|supplements, hear...|https://yt3.googl...|              Brazil|      1744.0|        79.0|2022-12-11|         10.5333333333333|                        7.0|        9.06176338002464|            7.5|\n",
      "|UCKNskoTLxHY7EYjM...|       /@surthycooks|     surthany hejeij|        10600000|https://yt3.googl...|just my kitchen ,...|                null|https://yt3.googl...|           Venezuela|3741253300.0|       369.0|2020-08-18|                 157795.2|                    71301.5|        257948.683486903|           0.25|\n",
      "|UCKIsLCavIYTEv4mN...|  /@malayalilifeplus|  Malayali life plus|           36900|https://yt3.googl...|                null|                null|https://yt3.googl...|                null|   9887079.0|      2495.0|2023-01-25|                    971.5|                      682.5|        1026.03030332117|            7.5|\n",
      "|UC9Nryzz3nxfOBfe3...|    /@BISeniorCenter|BI Senior Communi...|             642|https://yt3.googl...|The Senior/Commun...|information, agin...|https://yt3.googl...|       United States|     88960.0|       673.0|2020-04-14|                     77.9|                       48.0|        166.075755806399|           1.75|\n",
      "|UChqGMNS0uFHS1U0P...|/@QueensCuisine-o...|      Queens Cuisine|            2220|https://yt3.googl...|Welcome to Queens...|food channel, hom...|https://yt3.googl...|       United States|      8012.0|        58.0|2023-05-01|         134.633333333333|                      107.5|        90.4081424553244|            1.0|\n",
      "|UC44alhKluoSKSDBB...|/@AllAboutHealth-...|    All About Health|             307|                null|                null|health, all about...|https://yt3.googl...|       United States|     42874.0|       215.0|2023-07-02|         270.666666666667|                       38.5|        549.134430009831|            7.0|\n",
      "|UCS-6u9Lzjkl16e7k...|/@thepracticalhom...|The Practical Hom...|           10900|https://yt3.googl...|Hi! Thank you so ...|Homeschooling, ho...|https://yt3.googl...|       United States|    852922.0|       204.0|2021-04-11|                   2904.9|                     2686.5|        1491.50569001038|           0.75|\n",
      "|UChPGeD-N9t2GsZhJ...|       /@ajayrecipes|        ajay recipes|           54200|https://yt3.googl...|When you want a s...|here you can see ...|https://yt3.googl...|                null|   7996321.0|       448.0|2017-08-08|         170.566666666667|                      137.0|        128.313076323326|            1.0|\n",
      "|UC5SJjoYO0cKJmx37...|            /@emeril|      Emeril Lagasse|          109000|https://yt3.googl...|The Emeril Channe...|Emeril, Emeril La...|https://yt3.googl...|       United States|  15373358.0|       512.0|2006-01-27|         3780.86666666667|                     2289.5|        3496.49674896968|            1.0|\n",
      "|UC80ZBOFdVKGS3wqa...|        /@WhiskoMama|         Whisko Mama|              59|https://yt3.googl...|Heelllo Wisconsin...|                null|https://yt3.googl...|                null|     11011.0|        59.0|2024-03-02|         91.3888888888889|                       30.0|        194.988358310293|            4.5|\n",
      "|UCDHyHgpeIlK-FM1N...|    /@gamingarea8511|         gaming area|               1|https://yt3.googl...|                null|                null|https://yt3.googl...|               India|        32.0|         4.0|2021-02-24|                      8.0|                        6.5|        6.96419413859206|           0.25|\n",
      "|UCLbtYHNvy78C_DRb...|/@rebasfooddiaries22| Reba's Food Diaries|             590|https://yt3.googl...|Hi and welcome to...|home cooking, reb...|https://yt3.googl...|               India|    332661.0|       300.0|2017-11-01|         1130.33333333333|                     1236.0|        401.747958578786|           0.25|\n",
      "|UC24n9BiJc3MK-iHu...|/@deadwater2ndcha...|Deadwater 2nd Cha...|           10400|https://yt3.googl...|Deadwater Gaming'...|                null|https://yt3.googl...|       United States|   1818320.0|       188.0|2020-01-10|         4472.03333333333|                     3004.0|        4811.50834620034|           0.75|\n",
      "|UCiQBposIqoe7FRau...|/@chef.johnny.winter|    Behind The Apron|               3|                null|                null|                null|https://yt3.googl...|      United Kingdom|       792.0|         8.0|2023-12-07|         12.3333333333333|                        9.0|        11.6714276000077|           0.75|\n",
      "|UCSqoTCkuGhMvpZDQ...| /@Facsinating_Facts|   Facsinating Facts|              86|https://yt3.googl...|                null|                null|https://yt3.googl...|                null|     40247.0|       156.0|2023-09-24|         9.58823529411765|                        3.0|         16.481928868878|           3.75|\n",
      "|UC66kaH9xaBJ1gMuw...|/@EastJeffersonGe...|East Jefferson Ge...|             526|https://yt3.googl...|Together with LCM...|                null|https://yt3.googl...|                null|    268668.0|       826.0|2008-10-10|         2860.53333333333|                      171.0|        13216.0290575077|           0.25|\n",
      "|UCD2OnT16QMtE_OD5...| /@JAG-TVProductions|  Jerome A. Gratigny|             542|https://yt3.googl...|Welcome to JAG-TV...|                null|https://yt3.googl...|                null|    560328.0|       106.0|2007-02-16|                    437.6|                       98.0|         895.10623578061|           0.25|\n",
      "|UC8zTxXa2ZZjknRLr...|      /@Nabeel-xv5wl|Interesting healt...|              12|                null|                null|                null|https://yt3.googl...|                null|      2662.0|        55.0|2023-12-13|                     10.2|                        7.0|        8.63481325796916|            0.5|\n",
      "|UC0eA-LnLXWTSK0TF...| /@jenstrickland4335|      Jen Strickland|              30|                null|                null|                null|https://yt3.googl...|                null|       480.0|        21.0|2017-10-31|         22.8571428571429|                       17.0|        20.8515974363179|           0.75|\n",
      "|UCW305WqEev0aujh9...|      /@mfreihaendig|      Matthias Frank|            9100|https://yt3.googl...|Hey I am Matthias...|Notion, Productiv...|https://yt3.googl...|             Germany|    986977.0|       108.0|2021-08-23|         10777.1666666667|                     5618.0|        11291.5661390359|           0.75|\n",
      "|UC7f2J0K5AtmlnA7f...|           /@Oruoonu|аґ’аґ°аµЃ аґЉаґЈаµЌ |             169|https://yt3.googl...|Kerala food recei...|Cooking channel, ...|https://yt3.googl...|               Qatar|     12819.0|        36.0|2012-11-11|         376.153846153846|                      208.0|        566.370203224527|           1.75|\n",
      "|UCzCbT1KwaTCEVSfX...|  /@SaturatedContent|    SaturatedContent|           19300|https://yt3.googl...|      lolcow central|                null|https://yt3.googl...|       United States|   3827407.0|       263.0|2018-07-17|         28687.1666666667|                    27270.5|        11661.7178353887|            3.5|\n",
      "|UCr3WCT1xxnCZyeF7...|          /@iricooks|          Iri Cooks |             335|https://yt3.googl...|                null|food, foodie, che...|https://yt3.googl...|       United States|    123350.0|        87.0|2022-04-20|                   246.56|                      123.0|        297.380171497698|           1.25|\n",
      "|UCAnd3hJZV-q05Lrp...| /@daceyskitchen2755|     Dacey's Kitchen|              31|                null| I like to cook d...|kitchen, cooking,...|https://yt3.googl...|       United States|       757.0|        12.0|2021-03-03|                     63.5|                       56.0|        26.1486137299858|            1.0|\n",
      "|UCpxv83vhnqiWoAVQ...|       /@MtwarriorTV|           Mtwarrior|            2270|https://yt3.googl...|                null|mtwarrior, gunz, ...|https://yt3.googl...|       United States|    403105.0|      2081.0|2006-12-16|                     72.2|                       22.5|        114.187973680827|            7.5|\n",
      "|UCCF0JDdfPbcf3TIA...|   /@_DoctorFootball|     Doctor Football|           50500|https://yt3.googl...|Subscribe for Foo...|                null|https://yt3.googl...|                null|  22376813.0|        72.0|2022-10-23|                 149842.6|                    26257.5|        336194.226833597|           0.25|\n",
      "|UCdKNVxIPAzUhggYn...|        /@toyinviola|         Toyin Viola|            2480|https://yt3.googl...|hey hey! IвЂ™m a ...| girlboss, girltalks|https://yt3.googl...|              Canada|    190822.0|        40.0|2013-12-26|                   6011.4|                      459.0|         23368.909089643|           0.75|\n",
      "|UC87nQIeBl0GiQSVQ...|      /@Realbrettski|            Brettski|          169000|https://yt3.googl...|I love you all. L...|                null|https://yt3.googl...|                null|  56939147.0|       378.0|2014-09-03|         149435.066666667|                    96591.5|        162536.358913718|            0.5|\n",
      "|UCPQ-LUfOavwHJXnY...|       /@nutreatlife|        Nutreat life|            1100|https://yt3.googl...|Experience the re...|Healthy foods, Fu...|https://yt3.googl...|                null|    113802.0|       112.0|2014-11-25|         1579.26666666667|                       56.0|        6456.72526354412|           0.25|\n",
      "|UCLi_tcac18wQexef...|/@TheUglyMugsProd...|TheUglyMugs Produ...|             278|https://yt3.googl...|Justin, Quincey, ...|Cliff, Koder, Jes...|https://yt3.googl...|       United States|     42690.0|      1032.0|2011-03-30|         7.96666666666667|                        5.5|        6.78470502101766|           0.75|\n",
      "|UCsD7hT6DlOtXgspI...|  /@mamaknowshersalt|    MamaKnowsHerSalt|              94|https://yt3.googl...|A Southern mama w...|                null|https://yt3.googl...|       United States|      3978.0|         7.0|2018-12-10|         568.428571428571|                      218.0|        603.703535838306|           0.25|\n",
      "|UCuWC8mOxHHfpG_8K...|  /@dbgrinderstreams|  DB Grinder Streams|            5000|                null|                null|db grinder live, ...|https://yt3.googl...|                null|    939962.0|       372.0|2023-01-24|                   4250.6|                     3079.5|        3369.14383387432|            6.5|\n",
      "|UCg6MRrJenyf88PTj...|      /@AdamWoodRuns|           Adam Wood|           47000|https://yt3.googl...|2:18 Marathoner, ...|                null|https://yt3.googl...|                null|  25139323.0|       136.0|2018-01-23|                  31871.5|                    21037.5|        39976.7537016543|            0.5|\n",
      "|UC_5D28IfcG1jfoQw...|/@mrinalkidscorne...|  Mrinal kids corner|            1520|                null|   Learning is a fun|                null|https://yt3.googl...|               India|    311053.0|       392.0|2019-01-04|         150.033333333333|                       77.0|         225.72010445584|            0.5|\n",
      "|UCQSfcikymnrcuakA...|       /@thekitchenn|         The Kitchen|          435000|https://yt3.googl...|Welcome to the sp...|The kitchen, The ...|https://yt3.googl...|               India|  77816512.0|        94.0|2019-07-31|                 491365.4|                    77584.5|         862885.78368494|           0.25|\n",
      "|UCEiwv0qZJqXx64bC...|/@VidingFitnessCe...|Viding Fitness Ce...|            9120|https://yt3.googl...|Canal oficial de ...|                null|https://yt3.googl...|                null|   1876457.0|       831.0|2013-06-06|                    407.2|                      207.0|          783.6731206313|           1.75|\n",
      "|UCGkEY84qfJ6vYEAX...|        /@DrJimCares|       Dr. Jim Cares|            2360|https://yt3.googl...|With over 30 year...|Functional Medici...|https://yt3.googl...|       United States|    247947.0|       564.0|2007-06-03|                     47.6|                       32.5|        42.6204958519568|           0.25|\n",
      "|UCB_R_rMvM6854vYU...|     /@elev8tedminds|рџ§їElevated Mind...|           21000|https://yt3.googl...|This channel is m...|frequency, vibrat...|https://yt3.googl...|       United States|   1626197.0|      2354.0|2012-10-06|                    181.7|                       50.0|        423.571021199515|            2.0|\n",
      "|UC9w_XKhJllCGRchY...|/@oursilvermoment...|  Our Silver Moments|           38900|https://yt3.googl...|I am a retired mu...|                null|https://yt3.googl...|              Canada|   2003433.0|       162.0|2020-03-26|                  18490.9|                     2853.0|        51248.1240107707|            1.0|\n",
      "|UCstpe1bUlbHk7GcE...|     /@streetfoodlab|     Street Food Lab|           25400|https://yt3.googl...|Street Food Lab i...|Hyderabad street ...|https://yt3.googl...|               India|  14818311.0|       271.0|2019-05-29|         2567.73333333333|                     2718.5|        1370.81374697254|           1.25|\n",
      "|UCVAYATU4KQj2oEeV...| /@swapnas_foodworld| Swapna's Food World|          339000|https://yt3.googl...|A cooking channel...|Swapnas, Food, Wo...|https://yt3.googl...|               India|  36799603.0|       622.0|2017-11-05|         10980.0666666667|                     9321.5|        5479.44423540279|            1.5|\n",
      "|UCWcUGFRSSDl_vnIf...|      /@ronkesHub247|          Ronkes Hub|            1110|https://yt3.googl...|                null|                null|https://yt3.googl...|                null|      8069.0|       135.0|2021-08-24|                     38.4|                       35.5|        25.5455149357638|            7.5|\n",
      "|UClCmTG_1I6Ve_HFM...| /@theglenmerzershow|The Glen Merzer Show|             871|https://yt3.googl...|Glen Merzer is an...|health, wellness,...|https://yt3.googl...|       United States|     22780.0|        81.0|2022-11-24|                    277.2|                      192.5|        364.537094591666|            1.0|\n",
      "|UCq-4XjmKxFzzDsjh...|/@BirdmanVeganFuture|BIRDMANрџђЈVegan ...|             358|                null|Meat.org рџђҐрџђЈ...|                null|https://yt3.googl...|                null|    231515.0|      7240.0|2017-10-28|         2.03333333333333|                        1.0|        3.97058629871655|            7.5|\n",
      "|UCdGv85I0zWlvU4RY...|      /@sonaicooking|         Sonai Ghosh|               9|https://yt3.googl...|                null|                null|https://yt3.googl...|                null|        68.0|         3.0|2022-06-12|         27.6666666666667|                       36.0|        15.4560308258262|           0.75|\n",
      "|UC7AtW87i_x5sWkS3...|/@risingstarengli...|Rising Star Engli...|             479|                null|                null|                null|https://yt3.googl...|                null|    146834.0|       690.0|2022-03-26|         175.233333333333|                       32.5|        614.614713097202|            0.5|\n",
      "|UCfd1HWEMoRwU864m...|       /@gyanballoon|        GYAN BALLOON|             356|https://yt3.googl...|Art, Lifestyle, F...|                null|https://yt3.googl...|               India|    116014.0|       157.0|2019-09-03|         349.566666666667|                      271.5|        338.453116727003|           0.25|\n",
      "|UCxOSwAMiyGdM8Rgk...|        /@VasilCooks|         Vasil Cooks|              57|                null|Explore authentic...|cooking, traditio...|https://yt3.googl...|            Bulgaria|      1169.0|         6.0|2023-09-20|                    115.8|                      116.0|        35.8686492636676|           0.75|\n",
      "|UCuAk8k5GnN6U_b5T...|         /@SujataRoy|          Sujata Roy|             365|https://yt3.googl...|I am Sujata Roy. ...|food, recipe, veg...|https://yt3.googl...|               India|     57731.0|       194.0|2011-12-18|         64.2666666666667|                       50.5|        44.8389215848117|            1.0|\n",
      "|UCA8PRPKT9KndU5-w...|      /@NiandraVlogz|       Niandra Vlogz|            5050|https://yt3.googl...|                null|                null|https://yt3.googl...|         Philippines|    285055.0|      1096.0|2018-06-09|                    122.0|                      107.0|        51.6453422808906|            2.5|\n",
      "|UCbbtHuBeqqlRB9yN...|          /@WooGlobe|            WooGlobe|         1170000|https://yt3.googl...|WooGlobe is a lea...|Best Viral Videos...|https://yt3.googl...|       United States|1068956601.0|     10138.0|2017-09-07|                   2235.1|                      347.5|        6773.23359678866|            7.5|\n",
      "|UCanGuyWlftab88g4...|     /@maymelynn6504|          Mayme Lynn|             306|https://yt3.googl...|Hello everyone! I...|                null|https://yt3.googl...|       United States|    112882.0|       232.0|2017-08-17|         48.8666666666667|                       31.0|        52.6774672469696|           0.75|\n",
      "|UCQ5LVg1AwHGO2YOc...|   /@spartagymjaipur|   Sparta Gym Jaipur|             186|https://yt3.googl...|Free full length ...|Sparta gym, Thesp...|https://yt3.googl...|               India|     30759.0|        70.0|2014-02-20|                     76.0|                       33.0|        72.4200708827785|            0.5|\n",
      "|UCd0RequLxV8m4Xtf...|       /@science_sir|         Science Sir|          341000|https://yt3.googl...|I am a Science Te...|                null|https://yt3.googl...|                null|  73329853.0|      2983.0|2011-09-21|         115.866666666667|                      116.0|        45.3510259592388|            7.5|\n",
      "|UCvlonkOfLafHR5F7...|   /@newdaynewrecipe|perfect recipe by...|            2180|https://yt3.googl...|Assalamu alaikum ...|                null|https://yt3.googl...|                null|    172380.0|      1065.0|2023-01-08|                    118.4|                      137.0|        66.0871142255937|            7.0|\n",
      "|UC3-Z0eRQ9fuj1_WX...|      /@advtennispro|                 ADV|             447|                null|                null|ADV Tennis Pickle...|https://yt3.googl...|       United States|     77357.0|        40.0|2017-08-18|         2222.76666666667|                      988.5|        3009.98270962181|           0.25|\n",
      "|UCwSrs4DH2ozTxDQt...|       /@sergioorduz|        Sergio Orduz|          138000|https://yt3.googl...|                null|perder peso, perd...|https://yt3.googl...|            Colombia|  14952518.0|       719.0|2008-03-10|         13908.9666666667|                    10206.0|        16017.8221251274|            1.0|\n",
      "|UCDHyeGwtNIcsiYns...|     /@shaheenaahsan|       S A S gellary|            1150|                null|                null|#S A S Gallery #A...|https://yt3.googl...|            Pakistan|      8304.0|       100.0|2023-08-28|         80.4666666666667|                       77.0|        36.3333944953614|            2.5|\n",
      "|UCSxdIYNHriGIGdxU...|    /@prorecipes5155|         Pro Recipes|            2510|https://yt3.googl...|Welcome to My Pro...|Pro Recipes, heal...|https://yt3.googl...|            Pakistan|    348786.0|       316.0|2019-06-30|         84.2666666666667|                       43.5|        93.5314326250213|           4.75|\n",
      "|UCzeY336g0iEFDiGi...|/@cookingwithcaju...|    CookingWithCajun|           87100|https://yt3.googl...|Born and raised i...|                null|https://yt3.googl...|       United States|   1801086.0|        65.0|2021-06-02|                  49020.8|                    13945.0|        102293.390966181|            0.5|\n",
      "|UCupgCqRoypu73Qj5...|/@pakistralialife...|    pakistralia life|            5320|                null|                null|                null|https://yt3.googl...|                null|   1284279.0|       633.0|2020-04-10|         266.633333333333|                      278.0|        148.745304314306|            0.5|\n",
      "|UClDXYom4sNR1XF5a...|          /@SG.FIT01|SG.FIT- Sharon Gambu|            1540|https://yt3.googl...|Congratulations o...|                null|https://yt3.googl...|                null|     18112.0|         8.0|2015-12-22|                   2631.5|                     1478.5|        2372.61970193287|           0.25|\n",
      "|UCQbUBA48r1GrwL-F...| /@UnaChefenlaCocina|Una Chef en la Co...|          124000|https://yt3.googl...|Canal de Cocina p...|una chef en la co...|https://yt3.googl...|      United Kingdom|   9297594.0|      1071.0|2015-08-19|         309.433333333333|                      188.5|        395.333334738617|            5.0|\n",
      "|UCeOYbGzrVFmKdgUB...|      /@SunitasTwist|      Sunita's Twist|             539|https://yt3.googl...|Hi, I am Sunita -...|Sunita Manihar, S...|https://yt3.googl...|           Australia|     76506.0|       100.0|2022-04-07|         353.633333333333|                      245.0|        497.386401324184|            0.5|\n",
      "|UCOG0mNVn7crJ44Cr...|/@TravelTouristVi...| TravelTouristVideos|           36400|https://yt3.googl...|We're fellow tour...|Cruise Ship, crui...|https://yt3.googl...|       United States|  21180487.0|      1336.0|2010-06-23|         10410.6333333333|                     4403.5|        14890.1517151065|           1.25|\n",
      "|UC0oT3cAzZ1FX7ni6...| /@Ummaahmedvlogs786|Umma Ahmed food s...|            3710|                null|                null|                null|https://yt3.googl...|                null|     26215.0|       239.0|2023-05-08|         51.1333333333333|                       49.5|        12.0242347873876|           6.75|\n",
      "|UCmP__pZ-wiLSMm-4...|  /@BeryIstanbulTips|  Bery Istanbul Tips|          117000|https://yt3.googl...|Do you plan to tr...|Istanbul, Bery Is...|https://yt3.googl...|            TГјrkiye|  15321619.0|       236.0|2019-07-06|                  30347.0|                    23401.0|        29444.6972781178|            0.5|\n",
      "|UC0Tf9kbbrNgTGWVO...|    /@suhendartv9200|         SUHENDAR TV|            2080|                null|Jangan Lupa Subsc...|                null|https://yt3.googl...|                null|    798033.0|       907.0|2019-11-07|          237.04347826087|                      117.0|        467.232693006374|           0.25|\n",
      "|UCkVIW5Jz2tzqkwDv...|  /@tanayscanvas2019|      Tanay's Canvas|             611|https://yt3.googl...|Photographer and ...| Photography, travel|https://yt3.googl...|               India|    112498.0|       182.0|2018-08-26|         586.433333333333|                      260.5|         910.92490299085|            0.5|\n",
      "|UCgqviExbS6xlip9T...|      /@basudevvlogs|       Basudev Vlogs|          186000|https://yt3.googl...|Plz do subscribe,...|odisha, odiafood,...|https://yt3.googl...|               India|  60078580.0|       552.0|2019-01-07|         95215.6666666667|                    78153.5|        80268.1867871007|           1.75|\n",
      "|UC7vstLCUimxLJ5M5...|      /@HowToWithGEO|       HowToWith GEO|           96200|https://yt3.googl...|HowToWith Geo is ...|                null|https://yt3.googl...|                null|  76222178.0|       520.0|2012-05-06|         1921.16666666667|                      679.0|        2899.46260633855|           1.25|\n",
      "|UC05poLe1PboSLdUj...|   /@robsfitness1778|         RobsFitness|              80|https://yt3.googl...|Yes u can get a d...|                null|https://yt3.googl...|                null|     43230.0|        51.0|2022-09-20|         28.7142857142857|                       23.0|        22.4290263830108|            0.5|\n",
      "|UCeTJIlUHkeg0oesB...| /@KatieMakesItVegan|Katie Makes It Vegan|            9820|https://yt3.googl...|I can make anythi...|Vegan, recipes, h...|https://yt3.googl...|       United States|    328885.0|       372.0|2019-10-17|                    292.7|                      280.0|        122.304851361942|            0.5|\n",
      "|UC-kS8eBbOMb0UM2M...|/@dailydoseofwell...|daily dose of wel...|              88|https://yt3.googl...|Daily reminders o...|                null|https://yt3.googl...|       United States|     22731.0|       117.0|2023-09-21|                    65.75|                       44.5|        65.1190256376737|           0.75|\n",
      "|UCpzYnwTM4bEXXqTF...|  /@Easyandquickfood| Easy and quick food|            1670|https://yt3.googl...|Hi,I'm Nasire,I d...|Instant cooking, ...|https://yt3.googl...|            TГјrkiye|     38108.0|        44.0|2023-10-25|         575.192307692308|                      292.0|        834.688012614514|            3.0|\n",
      "|UCUYK0BJZF3yNb2fw...|  /@restishistorypod| The Rest is History|           38500|                null|                null|                null|https://yt3.googl...|                null|   1961651.0|       250.0|2022-04-22|                  19154.5|                    13059.0|        16434.5322715109|           2.25|\n",
      "|UCtyYbLVmG3NK9IeM...|      /@yamyamfoods5|       YamYam Foods5|            3070|https://yt3.googl...|Welcome to Yamyam...|youtube, cooking,...|https://yt3.googl...|               India|   1191679.0|       314.0|2022-10-19|         509.266666666667|                      232.5|        712.043300805662|            3.0|\n",
      "|UC9RrbwTv6v-N-ah2...|   /@JKCooking-qu3hf|          JK Cooking|              78|                null|                null|Cooking, jk cooki...|https://yt3.googl...|               India|      9114.0|        75.0|2023-08-29|         85.3333333333333|                       38.5|        179.720029181193|           3.25|\n",
      "|UCCvbeY5MrHlXHflo...|           /@fitjohn|         Fit John 08|             337|https://yt3.googl...|Welcome to my cha...|                null|https://yt3.googl...|                null|     20065.0|        41.0|2018-06-29|                    146.5|                      144.0|        9.09670269933013|           0.25|\n",
      "|UCwEG-vwbSPLEJGlL...|     /@LuhTylerMusic|           Luh Tyler|          389000|https://yt3.googl...|The Official Yout...|                null|https://yt3.googl...|                null| 111899061.0|       116.0|2022-06-15|                 850269.0|                   184321.0|        1568571.41468584|            0.5|\n",
      "|UCm0WqY-hbPzBeuJa...|        /@JenCooking|         Jen Cooking|            7590|https://yt3.googl...|Hi, I'm Jen, this...|Cooking and bakin...|https://yt3.googl...|      United Kingdom|   1064673.0|       187.0|2017-09-24|                    240.0|                      148.5|        250.065324798675|           1.75|\n",
      "|UCUMj4BOjFAK7SNzd...|       /@mittuls3173|            Mittul's|             657|https://yt3.googl...|Hi i am Minakshi,...|                null|https://yt3.googl...|                null|    240645.0|       304.0|2022-03-01|                    126.0|                      126.0|                    15.0|           0.25|\n",
      "|UCrFB97LRiTqB9rPu...|/@KitchenofMadhu6806|Madhu Singh  вЂў ...|              91|                null|           Eat good |#Festival food, S...|https://yt3.googl...|               India|     28301.0|        99.0|2022-03-08|         32.0833333333333|                       20.0|        26.5155876587506|            1.5|\n",
      "|UCleeqn61KSWipVWW...|   /@ChinaCultureOrg|       China Culture|           25800|https://yt3.googl...|Visit China and d...|                null|https://yt3.googl...|           Hong Kong|   3790055.0|      1280.0|2014-09-28|                     78.1|                       46.5|        69.4950118114003|            7.5|\n",
      "|UCJF6tdC7IDUvOLwY...|           /@_Guessr|              Guessr|          261000|https://yt3.googl...|рџ§ Entertainment...|Quiz, disney quiz...|https://yt3.googl...|                null| 114707012.0|       340.0|2022-07-05|                   4753.7|                     2512.5|         5482.4315964725|           2.75|\n",
      "|UCcZCuk0iDntFarxA...|/@playswellwithbu...|Plays Well With B...|           10600|https://yt3.googl...|                null|                null|https://yt3.googl...|       United States|    847053.0|       103.0|2012-11-18|         1851.26666666667|                     1228.0|        1934.34412542225|            0.5|\n",
      "|UCuKvbl1PuXkk8wcc...|/@CeceromedKitche...|   Ceceromed Kitchen|         2000000|https://yt3.googl...|Ceceromed Kitchen...|Home cooking and ...|https://yt3.googl...|           Indonesia| 280415635.0|      2208.0|2019-05-04|         4013.96666666667|                     3674.0|        1560.12938530395|           5.75|\n",
      "|UCiLOXA1CG3a2UC8m...|           /@ZaxvidZ|     ZaQue Hutchings|             391|https://yt3.googl...|Welcome to my cha...|awesome, ZaQue, z...|https://yt3.googl...|       United States|    207102.0|       451.0|2008-11-30|         132.862068965517|                       19.0|           340.696419031|           0.25|\n",
      "|UCh0Ob3N4miyi773t...|       /@historytv18|        HISTORY TV18|         3940000|https://yt3.googl...|HISTORY is made b...|history, history ...|https://yt3.googl...|               India| 363673264.0|      3079.0|2011-09-17|                  20144.1|                     1285.5|        74528.5060775853|            7.5|\n",
      "|UCb9HdjO7qvNx8Bfl...|  /@katesbestrecipes| Kate's Best Recipes|              75|https://yt3.googl...|Your Guide To Eat...|                null|https://yt3.googl...|                null|     16092.0|        57.0|2022-11-02|         260.333333333333|                       67.5|        837.631236815395|           0.25|\n",
      "|UCSFklEUCg9d-NwSu...|/@ManjitKarmakar-...|          Desi Fire |               6|https://yt3.googl...|                null|Desi Fire, Desi F...|https://yt3.googl...|               India|       574.0|        10.0|2024-01-11|                   12.125|                        1.5|        25.5413268057867|           0.75|\n",
      "|UCNmDTpNhe71EwGfj...|   /@runjisfoodmasti|  RUNJI'S FOOD MASTI|            2210|                null|Welcome to my foo...|                null|https://yt3.googl...|United Arab Emirates|     91712.0|       207.0|2017-02-17|                    787.6|                      829.0|         402.44797593395|            0.5|\n",
      "|UCnF5MnAA_JLZKHwC...|/@tinychef_advent...| Tinychef_adventures|           14500|                null|This channel is f...|                null|https://yt3.googl...|                null|   4033780.0|       130.0|2021-02-27|         2233.53333333333|                      148.5|        5567.78338140253|           0.25|\n",
      "|UCFKbykICr9seM34C...|/@JoseVisionProdu...|JoseVisionProduction|            1480|https://yt3.googl...|Our channel has d...|                null|https://yt3.googl...|       United States|   1242484.0|       120.0|2006-11-12|         2578.83333333333|                      404.5|        8578.16941265572|           0.25|\n",
      "|UCeStfE9fACeMe4MU...| /@Poojaskitchen9806|    Pooja's kitchen |           26800|                null|                null|Poojas kitchen, K...|https://yt3.googl...|               India|  12827708.0|       329.0|2022-06-10|         233.366666666667|                      182.0|        249.676521834864|           1.25|\n",
      "|UCTpd23ZwnpRC8Uhr...|     /@massivebeefuk|        MASSIVE Beef|             100|                null|Scott Clarke & Pa...|                null|https://yt3.googl...|                null|      3422.0|         6.0|2024-02-07|                    600.4|                      262.0|        789.390803088052|            1.0|\n",
      "|UCcdL7raTH-tCkLKr...|   /@sherisworld8552|     SheriвЂ™s World|             267|https://yt3.googl...|I have a lot of d...|video poetry, rec...|https://yt3.googl...|       United States|     33954.0|       137.0|2013-03-24|         30.9333333333333|                       19.0|        32.3851131780569|           0.75|\n",
      "|UCojhNx9sf_LPUr2g...|      /@Tastescience|       Taste Science|              70|https://yt3.googl...|Authentic and del...|                null|https://yt3.googl...|                null|     14220.0|        29.0|2023-06-27|         72.5714285714286|                       49.0|        42.4360262811047|           0.75|\n",
      "|UCw2TWHWpRkExVXEs...|       /@MaddiePerry|        Maddie Perry|           31800|https://yt3.googl...|                null|                null|https://yt3.googl...|       United States|   3047045.0|       160.0|2016-02-17|         6498.93333333333|                     3514.5|        8848.02075017659|            0.5|\n",
      "|UC8F3J7cWRNYZFU0Q...|         /@ShelitaRN|Shelita Williams ...|            4190|https://yt3.googl...|RN Health Coach, ...|vegan recipes, ga...|https://yt3.googl...|       United States|    364254.0|       133.0|2008-11-19|         520.966666666667|                      214.0|        1009.16802312048|           0.75|\n",
      "|UC9avJ7nTcTF31O6J...|/@athletictrainin...|Athletic Training...|            7950|https://yt3.googl...|                null|Sport, PrГ©parati...|https://yt3.googl...|              France|    424835.0|       282.0|2018-03-02|         980.666666666667|                      423.0|        1406.83100935716|           0.25|\n",
      "|UCl_cuRBmeOO0rPJi...|/@liveyoungandcre...|Live young and cr...|            5770|                null|                null|                null|https://yt3.googl...|               India|   1013990.0|        69.0|2019-05-07|         9512.03333333333|                      708.5|        31688.6449057948|           0.25|\n",
      "|UCBpmDJ7mNqvKQ1Bt...|/@abcownedtelevis...|ABC Television St...|          138000|https://yt3.googl...|Explore today's t...|   abc, disney, news|https://yt3.googl...|       United States| 113240040.0|      1928.0|2014-08-07|         8754.26666666667|                     1370.0|        36358.2228562154|           0.25|\n",
      "|UC6q_5yyrSTAMbaAa...|     /@poochesatplay|     Pooches at Play|            2660|https://yt3.googl...|Pooches at Play i...|dogs, dog trainin...|https://yt3.googl...|           Australia|   1179792.0|       530.0|2015-10-23|         169.266666666667|                       68.0|        417.552226939603|            1.0|\n",
      "|UCGERnPMUkIrDlNf7...|               /@Pew|                 Pew|            9640|https://yt3.googl...|Founded in 1948, ...|Pew, Pew Center o...|https://yt3.googl...|       United States|   5390247.0|       945.0|2005-10-24|                    470.2|                       94.0|        1639.11590804311|           0.25|\n",
      "|UCUouZAyabaPP6Kki...| /@bobbybushnell3838|      Bobby Bushnell|              12|                null|Bobby is the Owne...|                null|https://yt3.googl...|                null|     23717.0|       232.0|2017-09-22|                    114.1|                       25.5|        441.467730039996|           0.25|\n",
      "|UC0WhUW_miCziqq7_...|     /@noahknows2452|          Noah Knows|             250|https://yt3.googl...|                null|Food review, chea...|https://yt3.googl...|                null|     81034.0|       187.0|2015-05-10|         400.666666666667|                       43.0|        1175.84929117449|            1.5|\n",
      "|UCs1eN9iRByxEup2d...|/@Namitarrannagho...|  Namitar rannaghor |             100|                null|Welcome to my cha...|                null|https://yt3.googl...|                null|     72872.0|        43.0|2024-02-16|         7.33333333333333|                        5.0|        4.02768199119819|           0.75|\n",
      "|UCkE-6iit1BCWRxiI...|    /@biakadhaba1421|        Bia ka Dhaba|            1300|https://yt3.googl...|                null|Cooking, food, Re...|https://yt3.googl...|              Canada|     56999.0|       174.0|2021-04-23|         126.866666666667|                      128.5|        62.4162016004036|            1.0|\n",
      "|UCav1uD6PJSSNtVOs...|   /@MeshiaLattimore|    Meshia Lattimore|           26000|https://yt3.googl...|Videos will go up...|                null|https://yt3.googl...|       United States|   3074395.0|       354.0|2017-01-10|                   1605.0|                     1113.0|        1676.07648990134|           0.25|\n",
      "|UCXONXE80O2S2ehtY...|    /@NewFreshVideos|    New Fresh Videos|             110|                null|                null|                null|https://yt3.googl...|                null|     26157.0|        69.0|2024-01-26|                     71.5|                       36.5|         75.731433368186|           0.25|\n",
      "|UCtewzjp1LbktrRhJ...| /@cookingwithdarryl|   Darryl Postelnick|           32700|                null|   CookingwithDarryl|                null|https://yt3.googl...|                null|  14367556.0|       391.0|2020-12-19|         909.966666666667|                      787.0|        534.181772017312|            2.0|\n",
      "|UCjbKGThd8c8bNTjm...|         /@Sharivari|           Sharivari|          503000|https://yt3.googl...|Free pool lessons...|Billiards, Billia...|https://yt3.googl...|             Germany|  88221617.0|       232.0|2015-04-25|         88475.3666666667|                    52106.5|         104970.12280628|           1.25|\n",
      "|UCRkTVqyDYYGNuOHv...|      /@carnivore974|       Eat Prey Meat|              34|                null|                null|                null|https://yt3.googl...|                null|      5734.0|         9.0|2020-02-27|                      8.5|                        8.5|                     1.5|            0.5|\n",
      "|UCGW1B6eXEymikLoV...|/@cookingwithalit...|Cooking With A Li...|           27200|https://yt3.googl...|My passion is coo...|grilling, barbecu...|https://yt3.googl...|       United States|   7225501.0|       367.0|2012-03-08|                    540.3|                      253.0|        790.575661569888|            0.5|\n",
      "|UCieORPCvi3T59wtq...| /@USMastersSwimming|U.S. Masters Swim...|           40200|https://yt3.googl...|U.S. Masters Swim...|USMS, Masters, Sw...|https://yt3.googl...|       United States|   9314621.0|       520.0|2008-10-28|         4642.66666666667|                     4069.5|        3615.49190137233|            2.5|\n",
      "|UCAAsOppS99AbZV1M...|   /@eufeniavlog6362|        Eufenia Vlog|            3940|https://yt3.googl...|                null|                null|https://yt3.googl...|                null|    455372.0|      1324.0|2020-11-15|          324.62962962963|                      275.0|        151.436369267425|            1.0|\n",
      "|UC4PVTFJYM4hfBZ4Z...|     /@SeasonalFoods| Foods and Beverages|              74|https://yt3.googl...|                null|                null|https://yt3.googl...|                null|     10578.0|       172.0|2024-01-08|         54.6666666666667|                       40.0|        49.5979390252816|            7.5|\n",
      "|UCoGK3ug1dvdrt0RM...|   /@PragathiVlogs19|     PragathiVlogs19|            8890|                null|Hello everyone вќ...|                null|https://yt3.googl...|                null|   3651393.0|       111.0|2023-09-20|                   2105.0|                     1874.0|        944.125214710756|           0.75|\n",
      "|UCCJkXM5yAxZM3qjc...|/@shalinisumanbab...|         Sha's vibes|            2120|                null|hi friends рџ–ђпё...|                null|https://yt3.googl...|                null|    758434.0|       218.0|2020-04-29|         349.153846153846|                      282.0|        226.064267973596|           0.25|\n",
      "|UCqD4jxX5SWls_GFU...|/@shaz_kitchen_world|  Shaz Kitchen World|          161000|https://yt3.googl...|                null|                null|https://yt3.googl...|               India|  28674734.0|       680.0|2019-11-01|         2207.93333333333|                     1892.0|          1431.420644752|           2.25|\n",
      "|UCBBeMyGMKkrDyDov...|        /@ithban_ali|          ithban ali|              34|                null|  THE JOURNEY TO ...|                null|https://yt3.googl...|                null|     20597.0|        36.0|2023-07-06|                    45.75|                       23.5|        46.5262022950509|            1.0|\n",
      "|UC2a2x4_Vi-LbSBzK...|/@ClaytonSchickOu...|Clayton Schick Ou...|          103000|https://yt3.googl...|Just a dude that ...|Fishing, Ice fish...|https://yt3.googl...|              Canada|  21319365.0|       429.0|2013-12-26|         63828.6666666667|                    51808.0|        48317.6919270318|            1.5|\n",
      "|UCAFZs5cx3bu-0hYH...|       /@JDCHospital|Joe DiMaggio Chil...|            3350|https://yt3.googl...|Joe DiMaggio Chil...|Joe, DiMaggio, Ch...|https://yt3.googl...|                null|   9398145.0|       741.0|2011-08-02|         451.266666666667|                      239.0|        862.543175086841|           0.25|\n",
      "|UCddBealAfQczLG8x...|/@theindiankitche...|  The Indian Kitchen|             895|https://yt3.googl...|                null|                null|https://yt3.googl...|               India|    303862.0|       263.0|2022-10-01|         414.466666666667|                      146.5|        1334.62523412213|           0.25|\n",
      "|UC4T61TDdHL758Gre...|        /@Foodzone75|          Food zone7|              35|https://yt3.googl...|You can find easy...|                null|https://yt3.googl...|                null|       752.0|         9.0|2024-02-25|         40.8571428571429|                       38.0|        21.1823954630023|           1.75|\n",
      "|UCYd7Nj29sVd92CAg...|   /@RanisFoodCorner|  Rani's Food Corner|            1790|https://yt3.googl...|Hi everyone! This...|food, cooking, re...|https://yt3.googl...|            Pakistan|    217507.0|       598.0|2017-03-01|         230.933333333333|                      152.0|        236.031203210272|            3.0|\n",
      "|UCA2Y2KXiNAp83iVm...|      /@kristheninja|      Kris the Ninja|             524|https://yt3.googl...|We have officiall...|                null|https://yt3.googl...|       United States|    102318.0|       578.0|2014-03-03|         97.5666666666667|                       23.5|        344.008980825921|           0.25|\n",
      "|UCMLJsWSWbo-rl9ya...|  /@SunkissedKitchen|   Sunkissed Kitchen|             907|https://yt3.googl...|Sunkissed Kitchen...|                null|https://yt3.googl...|                null|    203477.0|        74.0|2014-07-19|         5001.93333333333|                       64.0|        25808.0095744626|           1.25|\n",
      "|UCap90SqPpWvGsDm7...| /@sunbeliciousfoods|  Sunbelicious Foods|             568|https://yt3.googl...|Healthy and delic...|Healthy food reci...|https://yt3.googl...|               Ghana|     54583.0|        43.0|2021-05-21|         1474.92592592593|                      138.0|        5115.19319302022|            0.5|\n",
      "|UCeZkHHXkbqJ--S7J...|    /@mariamsnursery|    Mariam's Nursery|          368000|https://yt3.googl...|Hi everyone welco...|toys, baby alives...|https://yt3.googl...|                null| 146523122.0|      1630.0|2015-06-17|                  27429.9|                    24626.5|        24749.5557271237|            7.0|\n",
      "|UCVeJK8n9SzIPmQ3C...|       /@hylifedaily|        Hylife Daily|              78|https://yt3.googl...|                null|                null|https://yt3.googl...|                null|      5653.0|        17.0|2012-07-13|         251.285714285714|                      153.0|        190.023092044636|            1.0|\n",
      "|UCJLqELLaCRrgkePa...|  /@shashifoodaholic| Shashi's foodaholic|             115|                null|                null|                null|https://yt3.googl...|               India|      9107.0|        54.0|2021-03-16|         177.033333333333|                       56.5|        383.296098191579|           1.75|\n",
      "|UCFetmni6x2HHjYUn...|        /@ToddFam808|            Todd Fam|            1390|https://yt3.googl...|Aloha & Welcome T...|                null|https://yt3.googl...|                null|    336261.0|       268.0|2018-07-01|         317.133333333333|                      132.5|        483.668945549421|            0.5|\n",
      "|UCC-tEn4Hh9QHcLzx...|  /@poonamprasad9435|    cook with poonam|             236|https://yt3.googl...|Come and learn ho...|                null|https://yt3.googl...|                null|     57347.0|       226.0|2017-12-15|                    303.4|                      150.5|        439.927539488039|           3.25|\n",
      "|UC4HuhBzeNEAuYzEy...|     /@SpearItAnimal|     Spear It Animal|           68800|https://yt3.googl...|We met on a tiny ...|sailing, boating,...|https://yt3.googl...|       United States|   4999441.0|        55.0|2020-08-20|         103689.233333333|                    93599.5|        38335.8184545327|           0.75|\n",
      "|UCOysxJSVeN20R7sp...|    /@Poojakhanna104|         SB Kitchen |             101|                null|         SB Kitchen |SB Kitchen, @Pooj...|https://yt3.googl...|               India|     16720.0|        60.0|2023-12-12|                    102.4|                       74.0|        102.126588114947|            2.5|\n",
      "|UC2clqu9AfCAhGsdS...|/@regularcooking2705|     Regular Cooking|             532|https://yt3.googl...|                null|                null|https://yt3.googl...|          Bangladesh|    131195.0|       175.0|2022-01-02|                    650.7|                      343.5|        709.132575757171|           2.25|\n",
      "|UCGPSGzPXeiNgB42Z...|  /@FAUMedicalSchool|Florida Atlantic ...|            1090|https://yt3.googl...|Based in Boca Rat...|                null|https://yt3.googl...|                null|     78773.0|       173.0|2014-01-14|         185.066666666667|                      140.5|        246.761819485016|           0.75|\n",
      "|UC9UDiDP8jlw1SMri...|    /@ktvhhelena3221|         KTVH Helena|            2800|https://yt3.googl...|                null|                null|https://yt3.googl...|       United States|   2120723.0|     19229.0|2015-11-16|         176.166666666667|                      107.5|        270.912419222318|            7.5|\n",
      "|UCKFp2RsrROvgVuCR...|          /@blin247k|            Blin247K|           10300|https://yt3.googl...|I'm Blinyi am on ...|                null|https://yt3.googl...|       United States|    112435.0|       156.0|2021-03-15|         141.433333333333|                       43.5|        283.922487466014|           0.75|\n",
      "|UCRK0kbXa4WiTx1y-...|/@Acreativekitche...|  A creative kitchen|            1770|                null|#A creative kitch...|                null|https://yt3.googl...|                null|    126542.0|       165.0|2011-12-04|         464.266666666667|                      291.0|        561.934511803249|           1.75|\n",
      "|UC2l-06S71bhYJx2I...|       /@manunaykene|        Manu Naykene|           17100|https://yt3.googl...|Deep House all da...|                null|https://yt3.googl...|      United Kingdom|   1032745.0|       355.0|2013-11-29|         4662.06666666667|                     3427.5|        3684.11605801024|           2.25|\n",
      "|UCpLko26m3JshFxNB...|  /@GracieParkerBell|         Gracie Bell|            1010|https://yt3.googl...|just documenting ...|                null|https://yt3.googl...|                null|     23402.0|        18.0|2023-12-11|                  1391.25|                     1365.0|        294.867025114712|            1.0|\n",
      "|UCSX68Em1RSK29pEn...|/@Health_promotio...|    Health promotion|             808|https://yt3.googl...|This channel is a...|health promotion,...|https://yt3.googl...|             Nigeria|     53739.0|        77.0|2023-03-02|         99.0666666666667|                       37.5|        159.967482806837|           4.25|\n",
      "|UCIK0rlPzvgI0tCwu...|     /@Taraandhunter|     Tara and Hunter|          773000|https://yt3.googl...|Just running arou...|                null|https://yt3.googl...|       United States| 341685914.0|       414.0|2017-11-11|         81991.3666666667|                    62601.5|        67711.2985886813|            1.0|\n",
      "|UCUpSk66Zn-kDFi7F...|    /@theendorsement|      theendorsement|           77300|https://yt3.googl...|What is up everyo...|theendorsement, f...|https://yt3.googl...|       United States|  24254310.0|      3065.0|2010-03-28|         3071.36666666667|                     2007.0|        2656.80175503472|            7.5|\n",
      "|UCfoRVIzEeLSRGXY2...|     /@jayshreev1268|          Jayshree V|           30900|                null|                null|                null|https://yt3.googl...|               India|   5153414.0|      1291.0|2014-08-20|                   1889.8|                     1470.5|        1937.29382386875|            1.5|\n",
      "|UCHNiCrO3LnbzR4oW...|         /@troyndaUA|a rose in the kit...|              10|https://yt3.googl...|Kitchen recipes, ...|                null|https://yt3.googl...|                null|       758.0|        11.0|2023-04-09|         69.5454545454545|                       53.0|         61.974134834056|            2.5|\n",
      "|UCPoqbuslUOB1aXEg...|  /@akhtarcakemaster|  akhtar cake master|          138000|https://yt3.googl...|                null|Akhtar cake maste...|https://yt3.googl...|               India|  33440725.0|      1311.0|2020-07-26|                    445.9|                      352.5|        265.698996359916|            1.5|\n",
      "|UCH1m9o_Vw0b4phQf...|     /@foodmyvillage|     Food my village|         1850000|https://yt3.googl...|Welcome to (Food ...|Survival Skills P...|https://yt3.googl...|       United States| 420785554.0|       491.0|2017-12-17|         9537.26666666667|                     9223.0|        4899.71127675453|            1.0|\n",
      "|UCD5ZYlhNP_5urR-P...|     /@2NURFMMorning|              2NURFM|             650|https://yt3.googl...|These are videos ...|2NURFM, Newcastle...|https://yt3.googl...|           Australia|    194379.0|       953.0|2012-07-13|                     39.3|                       35.0|        24.6402786780778|           0.75|\n",
      "|UCMJHD7nXE53Gn_tb...|/@voitenkowellnes...|Voitenko Wellness...|              76|                null|Voitenko Wellness...|                null|https://yt3.googl...|                null|     16277.0|       183.0|2015-08-27|         29.8333333333333|                       28.5|        21.2792282650371|            0.5|\n",
      "|UCgnU5LjRKBkIEB0C...|  /@retropalview2456|      Retro pal view|              57|                null|A look at video g...|                null|https://yt3.googl...|                null|     24590.0|       124.0|2022-03-09|         367.041666666667|                       15.0|        1642.32757794049|           0.75|\n",
      "|UCinYqJCf_JoIN3ik...|/@ookingwithelena...| РЎooking with Elena|             682|https://yt3.googl...|I like to cook an...|                null|https://yt3.googl...|             Belarus|    109822.0|        90.0|2023-03-13|         85.9666666666667|                       17.5|        99.4261814390735|           1.75|\n",
      "|UCTdQABZhCmAVVGFJ...|/@SandeepKumarMau...|Sandeep Kumar Maurya|               1|                null|Hello friends mai...|@SandeepKumarMaur...|https://yt3.googl...|               India|         1.0|         4.0|2024-03-07|                      2.0|                        1.0|        2.34520787991171|            1.0|\n",
      "|UCfBiUidLlWw99jzr...|         /@SisterDIY|     Sister Michelle|            4000|https://yt3.googl...|DIY projects, rec...|                null|https://yt3.googl...|                null|    371937.0|        39.0|2010-12-10|         12734.7931034483|                      611.0|        28294.7478913147|            0.5|\n",
      "|UCfdaG7Qu5ignR4jQ...|        /@TMaster515|       T MASTERMIND |           10100|https://yt3.googl...|TMASTER рџ•µпёЏвЂ...|                null|https://yt3.googl...|       United States|   4645869.0|       591.0|2022-09-06|         1835.46666666667|                      854.5|        3368.27566897696|            7.5|\n",
      "|UCb8aWwaLF5AM6R2e...|     /@GlobeTrendEra|       GlobeTrendEra|              10|                null|                null|                null|https://yt3.googl...|           Australia|      2459.0|        15.0|2023-11-01|                     14.0|                       13.0|        11.0453610171873|           0.75|\n",
      "|UCDZtuODr72PsbNDf...|         /@suviefood|               Suvie|            1710|https://yt3.googl...|Meet Suvie - the ...|                null|https://yt3.googl...|                null|  37168808.0|       301.0|2018-02-01|         5174744.28571429|                    43297.0|        8603193.90882492|           0.75|\n",
      "|UCxqwKT3qVyvNa1gJ...|      /@cerberus9704|            Cerberus|             172|https://yt3.googl...|Just a simple cha...|                null|https://yt3.googl...|       United States|     31990.0|       197.0|2019-12-03|                    374.7|                      234.5|        353.936166561147|           0.25|\n",
      "|UCoYATiiqNT7csPFq...|    /@Skillshare-com|          Skillshare|          542000|https://yt3.googl...|Skillshare is an ...|          Skillshare|https://yt3.googl...|       United States|  18702976.0|       656.0|2009-10-06|                   1976.4|                     1378.5|        1995.58836102706|           1.75|\n",
      "|UCcVw00VGEWXvtqFo...|    /@rubyandfam4516|          RubyandFam|             541|https://yt3.googl...|                null|                null|https://yt3.googl...|                null|     68327.0|       185.0|2013-03-19|         763.633333333333|                      125.0|        2367.32796605981|           0.75|\n",
      "|UCuAlmzLtZUIOMbFV...|         /@Hammer834|              Hammer|             129|https://yt3.googl...|      Subscribe рџ—Ў|workout, fitness,...|https://yt3.googl...|               India|     74071.0|       509.0|2023-03-19|         25.0416666666667|                       15.0|        31.6062746495411|           2.75|\n",
      "|UCZA-1bFk3mI3e6Cb...| /@paigesfitfoodpage|          Paige Dana|            5900|https://yt3.googl...|just me, running,...|food, fitness, wh...|https://yt3.googl...|      United Kingdom|   1400862.0|       208.0|2020-07-10|         2428.66666666667|                     2231.5|        1506.12797892108|           0.25|\n",
      "|UCT5_L4yLC1u0R0Yq...|         /@vortex677|       Vortex Cinema|            8770|https://yt3.googl...|Hello all. You wi...|Spiritual, Spirit...|https://yt3.googl...|                null|   3279046.0|      1302.0|2007-01-01|         202.633333333333|                       55.0|        395.316622749692|            3.5|\n",
      "|UCMQjxBl8rbIJGAkU...|    /@umeshwadhavani|  Dr Umesh Wadhavani|           17200|https://yt3.googl...|This is a Wellnes...|umesh wadhavani, ...|https://yt3.googl...|               India|   1120292.0|       388.0|2011-07-27|                    821.2|                      637.0|        555.092749006866|           1.25|\n",
      "|UC75gnUpM1CVv7i9H...|     /@iqrabhatti729|     Cooked by Iqra |             109|                null|Aslam o Alaikum W...|                null|https://yt3.googl...|                null|      8273.0|        90.0|2016-10-08|         51.3666666666667|                       40.0|        40.1484606042235|            3.0|\n",
      "|UCT6L9vnNMiW77sXY...|        /@AXAMansard|         AXA Mansard|            1610|https://yt3.googl...|To be the leading...|                null|https://yt3.googl...|                null|   3760529.0|       128.0|2012-07-23|         43513.4333333333|                      163.0|        119023.979370457|            1.0|\n",
      "|UCDwifmadlchc2gI_...|      /@healthinyoga|        Healthinyoga|            1560|https://yt3.googl...|The secret to a h...|yoga, yogaforweig...|https://yt3.googl...|               India|    153935.0|       491.0|2023-02-23|                    101.9|                       60.0|        100.975690143717|           1.75|\n",
      "|UCAU8qaokJVQSGN1R...|/@mr.laskyseuhsma...|Mr. Lasky's EUHS ...|              82|                null|This website is u...|                null|https://yt3.googl...|       United States|     10287.0|       332.0|2016-01-19|         23.1666666666667|                       19.5|        14.1917425130093|            0.5|\n",
      "|UCagRLQOEqJKNquvP...|   /@morelifeproject|The More Life Pro...|             110|https://yt3.googl...|Holistic hormone ...|hormone, optimiza...|https://yt3.googl...|       United States|     56581.0|        85.0|2018-11-16|         11.7666666666667|                        4.5|        16.9365154490396|           1.25|\n",
      "|UCngnKyumodg3ukgZ...| /@cheridanangel7998|       cheridanangel|             286|https://yt3.googl...|Hey IвЂ™m Cherida...|vlogs, lifestyle,...|https://yt3.googl...|       United States|     39888.0|       589.0|2013-11-15|         34.1333333333333|                       26.5|        27.6607222529629|           0.25|\n",
      "|UC6jkHGlr8MgTsUMq...| /@utsatriathlon1483|      UTSA Triathlon|              16|https://yt3.googl...|Welcome to the yo...|           Triathlon|https://yt3.googl...|                null|      4799.0|        34.0|2014-06-16|                    148.8|                       78.5|        234.874775146247|           0.25|\n",
      "|UCG3B5UDD0rgEgKrp...|    /@YogambalSundar|     Yogambal Sundar|          622000|                null|Original recipe v...|Yogambal, Sundar,...|https://yt3.googl...|               India| 120950556.0|       986.0|2018-04-10|         31251.1333333333|                    20567.0|        27280.1800736155|            3.0|\n",
      "|UC-OFvaIDmhJP4Pjb...|/@pushuntilsometh...|Push Until Someth...|             146|                null|Zico is a fitness...|Home Workouts, Gy...|https://yt3.googl...|       United States|     85794.0|       153.0|2020-08-23|                    21.75|                        5.5|        41.0875589442838|            0.5|\n",
      "|UC85sC6mhn8cd094h...|       /@Dr.Reese730|          Dr. Reese |             798|https://yt3.googl...|Dr. Kevin Reese h...|dr reese, dr. kev...|https://yt3.googl...|       United States|     13496.0|        76.0|2023-01-01|                     90.4|                       37.5|        258.212264103263|           5.75|\n",
      "|UCemCZasqxFtjWZZL...|        /@GejoGaming|         Gejo Gaming|             899|https://yt3.googl...|РџСЂРёРІРµС‚, РґС...|РёРіСЂС‹, РїСЂРѕС...|https://yt3.googl...|             Georgia|    288367.0|       676.0|2011-05-23|                    118.8|                       28.5|        270.841208090645|            4.5|\n",
      "|UC8u3fHzUSe3lQksY...|/@mrs_katie_in_el...|Mrs. Katie in Ele...|           21700|https://yt3.googl...|                null|                null|https://yt3.googl...|       United States|   2186060.0|       208.0|2020-10-24|         7576.63333333333|                     6612.0|        3796.61342499982|            1.0|\n",
      "|UCLbI5InLD3IKOxRq...|    /@Starfitness161|STAR FITNESS Damb...|               5|https://yt3.googl...|I'm gym Love you ...|Stargym, Fitness,...|https://yt3.googl...|             Hungary|       224.0|         8.0|2023-07-23|                    11.75|                        8.0|         8.5841423566947|            1.0|\n",
      "|UCD-WsAZRF5RDvfHr...|          /@Joelw711|       Joel Williams|           12900|https://yt3.googl...|A Lowly Tarnished...|                null|https://yt3.googl...|                null|    513578.0|        20.0|2023-07-26|         26521.5263157895|                     9220.0|         52043.873039832|           0.25|\n",
      "|UCTGOq5WXe-CRJ-n-...|       /@emi1ylouise|        Emily Louise|           13900|https://yt3.googl...|                null|fitness, health, ...|https://yt3.googl...|      United Kingdom|   1226445.0|       148.0|2016-06-03|                   3166.4|                     2280.5|        4279.00600295598|           0.25|\n",
      "|UCSvgLqfamoVHlz71...|/@misseverything5315|    Miss everything |            4960|https://yt3.googl...|I am Irha Asadi ....|#Recipes, #remedi...|https://yt3.googl...|            Pakistan|    310295.0|       645.0|2023-02-18|         134.266666666667|                       99.0|        126.518755746156|           0.75|\n",
      "|UCnJ1SDubTMoN8Wlw...|/@SoapMakingforSe...|Soap Making for S...|               1|https://yt3.googl...|Hi my name is Jen...|                null|https://yt3.googl...|                null|       108.0|        49.0|2024-01-30|         1.71428571428571|                        1.0|        1.82946406783796|           1.75|\n",
      "|UCPscaeR_0Upb0_u0...|/@HealthHackofficial|         Health Hack|               1|                null|                null|Health hack, Hack...|https://yt3.googl...|               India|         6.0|         2.0|2024-03-04|                      3.0|                        3.0|                     2.0|            0.5|\n",
      "|UCueGBJqIbU8VKGdO...|   /@suzanfravel1287|        Suzan Fravel|           12300|https://yt3.googl...|                null|                null|https://yt3.googl...|                null|   4953118.0|       408.0|2015-11-29|         9.16666666666667|                        3.0|        20.6172796998591|            7.5|\n",
      "|UC1GVlxGJuJ350j5q...|/@smarthomewithhe...|Smart home with h...|            9110|                null|Smart home рџЏЎwi...|                null|https://yt3.googl...|               India|    368177.0|       175.0|2014-11-11|                   4780.5|                     5153.0|        2527.15547272686|            0.5|\n",
      "|UCscPPp0XjZjGcsk3...|      /@mdamindu3006|           m damindu|            1560|                null|Exercise and self...|home workout, gym...|https://yt3.googl...|           Sri Lanka|    315886.0|       243.0|2013-11-16|                    569.9|                      247.0|         880.79529782275|           0.25|\n",
      "|UC5gERMKO5_iUAUtR...| /@vladyslav_mateiko|    Vlad Ideal Sport|            1220|https://yt3.googl...|videoblog of a pe...|РґС–С”С‚Р°, РґРёР...|https://yt3.googl...|             Ukraine|    125809.0|       369.0|2016-04-09|                    818.9|                      571.0|        577.011285273809|           0.75|\n",
      "|UC8U5Mgl9nbkm5vOJ...|       /@Recordinglk|        Recording lk|           95600|https://yt3.googl...|                null|music, video, sou...|https://yt3.googl...|           Sri Lanka|  11935679.0|      3440.0|2009-04-13|         394.966666666667|                      256.0|         426.96545397595|           0.75|\n",
      "|UC4eXSSTNIrmF3ayd...|/@JackedNutrition...|    Jacked Nutrition|            9030|https://yt3.googl...|We are a group of...|gym, supplements,...|https://yt3.googl...|                null|   1278677.0|       305.0|2016-12-26|         6693.66666666667|                      250.5|        12988.9799993003|           0.25|\n",
      "|UCCeEo9Aize5joFHm...|     /@KellyHomeChef|     Kelly Home Chef|            6100|https://yt3.googl...|The culinary adve...|malaysian food re...|https://yt3.googl...|            Malaysia|   1109361.0|       132.0|2019-07-22|         8670.33333333333|                     1426.5|        16221.5509191391|           0.75|\n",
      "|UCx3Jp1qi88hwrl2w...|  /@AskAboutInsights|О›sk О›bout Insights|           29200|https://yt3.googl...|Dive into the wor...|celebrities, late...|https://yt3.googl...|       United States|  13501843.0|     23620.0|2019-07-08|         2.23333333333333|                        1.5|        2.41775837410514|            7.5|\n",
      "|UCUSzVcnVuH0lVzyZ...|  /@Simplelittlelife|  Simple Little Life|          297000|https://yt3.googl...|Making stuff, inc...|simple little lif...|https://yt3.googl...|              Canada|  49717058.0|       685.0|2015-03-25|         9414.53333333333|                     5903.5|        7990.80851033792|           0.75|\n",
      "|UC7hqN5ie0Gy4fMP7...|      /@westuartdunn|         Stuart Dunn|            1420|https://yt3.googl...|We buy everything...|                null|https://yt3.googl...|       United States|    537634.0|       475.0|2014-06-16|                     60.5|                       25.0|        89.2463818127473|            2.5|\n",
      "|UCfXrlhkEr8TLBejr...|/@Student_Life_Again|        Student Life|              15|                null|student life full...|studentlife, late...|https://yt3.googl...|               India|       814.0|        11.0|2022-04-22|         6.66666666666667|                        7.0|       0.471404520791032|           0.75|\n",
      "|UCno8-u32swujnCjl...|    /@chrisklassen82|       Chris Klassen|              15|                null|Posting videos ab...|                null|https://yt3.googl...|                null|      4050.0|        11.0|2015-07-11|                    47.75|                       19.5|        58.8531010228008|           0.25|\n",
      "|UCl6YY-E0gt9beqOY...| /@pauletteseats6496|   PauletteвЂ™s Eats|             423|                null|Baking, sourdough...|                null|https://yt3.googl...|                null|     56972.0|        71.0|2022-07-17|         225.733333333333|                      118.5|        293.357112672517|            1.0|\n",
      "|UC-vnXdQ5rNnIgjKQ...|          /@w0wStuff|            WowStuff|             131|                null|Dive into a world...|                null|https://yt3.googl...|               India|     45447.0|        47.0|2009-05-30|         472.866666666667|                      219.0|        465.187398319812|           1.75|\n",
      "|UC_hVMOQ2DF8UMGTW...|/@Yasmincreativec...|yasmincreativecoo...|           88300|https://yt3.googl...|                null|Yasmine creative ...|https://yt3.googl...|               India|  32246415.0|       655.0|2021-12-07|         281.466666666667|                      170.0|        282.054218586112|            1.0|\n",
      "|UCSYC4i4iCtXXEl7r...|    /@jmossmentality|      Jmossmentality|            3870|https://yt3.googl...|https://linktr.ee...|                null|https://yt3.googl...|                null|    528578.0|       213.0|2022-04-04|         2096.58333333333|                      848.5|        3961.88080247949|           0.25|\n",
      "|UC61fRBx8yHY3yBUn...|      /@WOOLWORTHSSA|       WOOLWORTHS SA|           37400|https://yt3.googl...|Woolworths is a l...|Woolworths, Wooli...|https://yt3.googl...|        South Africa|  18755610.0|       457.0|2010-05-13|         40799.7333333333|                      462.5|        192152.099156186|           2.75|\n",
      "|UC1QAvLc_DdzrePUF...|/@Cooking_for_family|       Amandeep Kaur|             511|https://yt3.googl...|Cooking for your ...|                null|https://yt3.googl...|                null|    105718.0|       167.0|2014-08-14|         72.2666666666667|                       47.0|        119.510092553818|            3.0|\n",
      "|UCzb9pSHe_w_e1jeg...|     /@ClutterbugPod|  Clutterbug Podcast|           37600|                null|Weekly Clutterbug...|clutterbug, podca...|https://yt3.googl...|              Canada|   2455825.0|        79.0|2023-03-16|                  39386.7|                    29642.5|        25979.0190091286|            1.0|\n",
      "|UCWCw67J7-zhvryLI...| /@AmrutakitchenVlog|Amruta's Kitchen ...|             706|                null|Easy and Quick Ta...|#Amrutas kitchen ...|https://yt3.googl...|               India|    198806.0|       346.0|2013-11-14|                    125.9|                      103.5|        75.6779800646573|            0.5|\n",
      "|UCOkB8JH2rXEf49mW...|          /@shopgovx|                GOVX|            1670|https://yt3.googl...|                null|                null|https://yt3.googl...|                null|  13837175.0|        58.0|2013-08-21|                 458675.9|                     6350.5|        986737.381494973|           0.25|\n",
      "|UCeCX-OyAP0ez9V8O...|/@Santa_TV_INTERN...|    Getting Strength|             399|https://yt3.googl...|Personal account ...|fitness, workout,...|https://yt3.googl...|       United States|    209767.0|       126.0|2023-01-30|         204.433333333333|                       67.5|        409.223955256233|            2.5|\n",
      "|UCP_-1n4D29V-29xO...|   /@Shallu_vlog_SMI|      shalluвЂЊ vlog|             236|                null|а¤†а¤Є а¤ёа¤¬ а¤¦...|                null|https://yt3.googl...|                null|     94450.0|       580.0|2020-09-29|         85.4666666666667|                       19.0|        164.976914209905|            0.5|\n",
      "|UC7SRTpKLCLo2VKJh...|/@germanarovinell...|   Germana Rovinelli|             299|https://yt3.googl...|                null|                null|https://yt3.googl...|                null|     73020.0|        90.0|2011-12-10|         430.966666666667|                      129.0|        650.565368651674|           0.25|\n",
      "|UCi158hHGF6CziyFq...|   /@user-mn4br2so9j|    Prakash Fitness |             122|https://yt3.googl...|All friends sapor...|                null|https://yt3.googl...|                null|       741.0|         5.0|2023-07-09|         221.666666666667|                      161.0|        110.710834559626|           0.75|\n",
      "|UCJ0WU6HvoOOYoKt_...|         /@Witapedia|           Witapedia|            1810|https://yt3.googl...|                null|                null|https://yt3.googl...|                null|    148465.0|      1111.0|2023-03-22|         44.6666666666667|                       20.5|        69.2489871566525|            7.5|\n",
      "|UCYzhNqQSNEPgpwDs...|         /@Packernet|   Packernet Podcast|            4300|https://yt3.googl...|The official YouT...|Sports, NFL, Pack...|https://yt3.googl...|       United States|    630122.0|       390.0|2017-10-14|         214.233333333333|                      147.0|        177.686368513613|           0.25|\n",
      "|UCywlF7UMiENBZvMx...|   /@TheFitnessHub22|     The Fitness Hub|              26|https://yt3.googl...|I post videos abo...|                null|https://yt3.googl...|                null|     13839.0|        25.0|2024-01-03|                      3.5|                        3.5|                     0.5|            0.5|\n",
      "|UC4xbMV3vVoJE-wU0...|      /@BodySettings|       Body Settings|            4940|https://yt3.googl...|Body Settings  is...|Body Settings, Tr...|https://yt3.googl...|       United States|    544221.0|       125.0|2023-08-07|         707.633333333333|                      394.5|        790.055461484966|            3.5|\n",
      "|UCOQxKSPqJ35YE_BU...|  /@magicalkitchen23|     MAGICAL KITCHEN|             720|https://yt3.googl...|                null|MAGICAL KITCHEN, ...|https://yt3.googl...|               India|    249072.0|       369.0|2017-01-27|         93.3666666666667|                       94.5|         56.831612877185|            1.5|\n",
      "|UC6VroAlEXUAT1OkH...| /@problemsolvedshow|      Problem Solved|          908000|https://yt3.googl...|Common problems, ...|problem solved, l...|https://yt3.googl...|       United States| 308762220.0|       597.0|2021-11-04|         3463.56666666667|                     2889.0|        2045.04700326314|            1.0|\n",
      "|UCbu9HTst_gAxBMLw...|/@ForTheRecordSto...|      For The Record|            3430|https://yt3.googl...|                null|                null|https://yt3.googl...|                null|   1047559.0|       158.0|2022-04-17|         1382.56666666667|                      352.5|        2786.54945148217|           0.75|\n",
      "|UCb4yhtQFjjaejwsf...|    /@madeforfoodiee|     Made For Foodie|         1250000|https://yt3.googl...|One-stop destinat...|indian street foo...|https://yt3.googl...|               India| 557570478.0|       836.0|2022-01-29|         781.633333333333|                      637.0|        621.124758446768|            6.5|\n",
      "|UChcYrTbdc5NmZgsq...|       /@Mr.BubbleYT|          Mr. Bubble|             828|https://yt3.googl...|Hi there. I play ...|              Gaming|https://yt3.googl...|       United States|    289225.0|       360.0|2015-08-11|         520.633333333333|                      283.5|        469.383033590076|            0.5|\n",
      "|UCrZpJ_-1K_Et57h8...|       /@SportsAidUK|         SportsAidUK|             549|https://yt3.googl...|                null|British sport, yo...|https://yt3.googl...|                null|    234134.0|       223.0|2010-11-17|         176.666666666667|                       66.0|        217.571035654003|           1.25|\n",
      "|UC2k_OmEkHEiI0qy6...|          /@madmanks|            madmanks|            1450|                null|Expect the unexpe...|                null|https://yt3.googl...|                null|   1408291.0|      1093.0|2006-08-17|                    174.2|                       51.0|         452.64212500974|            1.5|\n",
      "|UClU9fmCiVWdG9xX3...|    /@MamaJoansHouse|   Mama Joan's House|          187000|https://yt3.googl...|Just a mom trying...|                null|https://yt3.googl...|       United States|  13953905.0|       184.0|2021-09-24|         38476.5333333333|                    15913.0|        53547.8641022735|            0.5|\n",
      "|UCpxk8tE2AF6K1IxG...|/@Healthiswealth1220|   Health is wealth |             128|https://yt3.googl...|Join this health ...|                null|https://yt3.googl...|       United States|       768.0|         6.0|2022-09-07|                    178.0|                      178.0|                   135.0|           0.25|\n",
      "|UC1LZhUXp-7zCU9Te...|    /@LizKellerandCo|    Liz Keller & Co.|               2|https://yt3.googl...|Whether you are b...|                null|https://yt3.googl...|                null|         4.0|        10.0|2024-02-28|                      0.6|                        0.5|        0.66332495807108|            2.5|\n",
      "|UCe75VK0MAzOosqRq...|    /@DiptiAgrawal19| Explore with Dipti |             407|https://yt3.googl...|Explore with Dipt...|                null|https://yt3.googl...|                null|     23658.0|        55.0|2020-09-14|                    187.0|                      155.0|        104.044673663033|            2.5|\n",
      "|UCih2bH3c0FfdaY7T...|/@Naseemcookoffic...|Naseem cooks offi...|               6|                null|                null|Naseem cooks offi...|https://yt3.googl...|            Pakistan|        97.0|         5.0|2024-02-28|                     19.4|                        7.0|        27.5579389650242|           1.25|\n",
      "|UCbHdj5VL7tXurD28...|       /@cokyafamily|      Cokya & Family|            3680|https://yt3.googl...|       Makan2 jalan2|azura jamaludin, ...|https://yt3.googl...|            Malaysia|    409882.0|       188.0|2015-11-12|         1605.33333333333|                      404.5|        2523.28871823174|           0.25|\n",
      "|UCw-iZov1s1lbBE9u...|     /@wowbeauty5422|          Wow Beauty|            4440|                null|Welcome to my cha...|                null|https://yt3.googl...|                null|   1108020.0|       259.0|2021-07-17|         447.633333333333|                      137.5|        661.374653447063|            3.5|\n",
      "|UCprGf89lXPqrsszY...|/@GrowingOrganicT...|Growing Organic T...|           30400|https://yt3.googl...|Learn organic gar...|Growing Organic, ...|https://yt3.googl...|       United States|   4626456.0|       255.0|2018-03-19|         599.666666666667|                      404.0|        533.856056338119|            0.5|\n",
      "|UCSeph5-Muusu30UG...|/@Fortheloveoffoo...| For My Love Of Food|              59|                null|Cooking! Send rec...|                null|https://yt3.googl...|                null|     10830.0|        42.0|2020-07-18|         85.8235294117647|                       70.0|        62.9446398167541|            3.0|\n",
      "|UCapgeQWByZf--rLq...|/@simplelifewithr...|Simple Life with ...|             415|                null|How to make life ...|                null|https://yt3.googl...|                null|    132322.0|       298.0|2014-11-19|         470.666666666667|                       51.0|        1611.05612013431|            0.5|\n",
      "|UCuRyEO1DUFB-cNDX...|  /@kitchenvarieties|   Kitchen Varieties|               9|https://yt3.googl...|Welcome to Kitche...|Kitchen Varieties...|https://yt3.googl...|            Pakistan|       249.0|        15.0|2024-02-14|         17.5333333333333|                       14.0|        9.08380732708238|           3.75|\n",
      "|UCPj0rJ-EtCgJ2xYo...|/@portsmouth_hosp...|Portsmouth Hospit...|            2080|https://yt3.googl...|The official chan...|                null|https://yt3.googl...|      United Kingdom|    332997.0|       242.0|2014-04-07|         177.333333333333|                      126.5|        134.463212647756|            0.5|\n",
      "|UCyKSOZ1P9rN8ZN2g...|/@akcidovadventur...|  Akcidov Adventures|             838|https://yt3.googl...|Family adventures...|                null|https://yt3.googl...|                null|    455373.0|       288.0|2021-10-17|         102.470588235294|                       49.0|        130.394928468258|           1.25|\n",
      "|UCNgmt3f5FBCDIc0z...|/@StewLeonardsVideos|     Stew Leonard's |            5780|https://yt3.googl...|Stew Leonard's ch...|Stew Leonards, Fa...|https://yt3.googl...|       United States|   2005708.0|       555.0|2010-10-06|         797.133333333333|                      479.0|         1638.5776704881|           0.75|\n",
      "|UCPKzOvPHRPCXW3R8...|    /@OliverJonesP2F|        Oliver Jones|              10|                null|                null|                null|https://yt3.googl...|                null|      5496.0|        86.0|2023-10-19|         21.7666666666667|                       15.0|        21.2472481878373|           0.25|\n",
      "|UCx75mlKF8nKOc-d-...|/@costpricesupple...|Cost Price Supple...|             233|                null|                null|                null|https://yt3.googl...|                null|    313171.0|       266.0|2019-08-20|                  6841.24|                       44.0|        25823.2233034995|           1.25|\n",
      "|UC_VLw2Q-7kC159C1...|     /@MahaSahid6178|   Maha Shahid Vlogs|             161|https://yt3.googl...|https://www.tikto...|                null|https://yt3.googl...|                null|      5331.0|        49.0|2022-03-08|         106.866666666667|                      101.5|        43.3533799784464|            4.0|\n",
      "|UC4TP_rKc6AYFC3gb...|    /@TheRunningManZ|      TheRunningManZ|          483000|https://yt3.googl...|Hi! I've been a g...|                null|https://yt3.googl...|      United Kingdom|  98681984.0|       630.0|2008-01-25|         251911.133333333|                   179661.0|        184221.518092166|           0.25|\n",
      "|UCJNtkDAqZBwJF4GK...|         /@DaymDrops|          Daym Drops|         1700000|https://yt3.googl...|Do you love food?...|Family, Safe, Com...|https://yt3.googl...|       United States| 341005761.0|      2159.0|2010-03-21|         54828.8333333333|                    43185.0|        31859.7798831937|           4.25|\n",
      "|UCYvXh8zQQHw6uvGg...| /@inglesmarkets2218|      Ingles Markets|            2170|https://yt3.googl...|At Ingles we want...|     Ingles, Markets|https://yt3.googl...|                null|    870134.0|      2484.0|2012-01-12|         952.933333333333|                      174.5|        1323.86245341257|           2.25|\n",
      "|UCnwa_F3-7dy1t7cD...|         /@GemaeVlog|        Gemae's Vlog|              16|                null|                null|                null|https://yt3.googl...|         Philippines|      1195.0|        39.0|2023-12-25|                     24.3|                       16.0|        21.8908656749796|           1.25|\n",
      "|UCRpGiAmfjJq_JV-g...|/@theallnaturalvegan|The All Natural V...|             832|https://yt3.googl...|All natural vegan...|                null|https://yt3.googl...|                null|    267059.0|       190.0|2021-01-31|                    112.5|                      100.0|        68.9902166977319|           0.25|\n",
      "|UCi11-Shkksz1-Nt9...|      /@MesaFireDept|Mesa Fire and Med...|            3290|https://yt3.googl...|Welcome to the Yo...|Mesa Fire and Med...|https://yt3.googl...|       United States|    968644.0|       582.0|2008-11-24|         198.133333333333|                      110.5|        240.214172955904|           0.25|\n",
      "|UCLsOKNggLgKMJAQS...|    /@FilmolovacDule|          Filmolovac|           88800|https://yt3.googl...|U vreme gde su fi...|film, recenzija, ...|https://yt3.googl...|              Serbia|  18192734.0|       297.0|2019-06-19|         309.233333333333|                      253.5|        215.794297628294|            1.5|\n",
      "|UCLsg3wlQV0dLPJms...|    /@TheRealRecipes|    The Real Recipes|            1730|                null|Magazine-quality ...|cooking tutorial,...|https://yt3.googl...|       United States|    596644.0|        70.0|2023-04-12|         314.166666666667|                      109.0|        387.168675557997|           0.25|\n",
      "|UCG8AxMVa6eutIGxr...|            /@CGGeek|             CG Geek|         1100000|https://yt3.googl...|Animation, Blende...|Blender, Tutorial...|https://yt3.googl...|       United States| 109943880.0|       275.0|2011-07-04|         496266.633333333|                   237668.5|        613183.869221703|           0.25|\n",
      "|UCDxpTau9zhH0uKGJ...|      /@shabanarehan|Cooking with Mrs....|             722|                null|                null|                null|https://yt3.googl...|                null|    312174.0|       325.0|2013-04-17|                    265.1|                       98.0|        450.590823253204|           0.25|\n",
      "+--------------------+--------------------+--------------------+----------------+--------------------+--------------------+--------------------+--------------------+--------------------+------------+------------+----------+-------------------------+---------------------------+------------------------+---------------+\n",
      "only showing top 1000 rows\n",
      "\n"
     ]
    }
   ],
   "source": [
    "clean_data = youtube_dataset.filter((youtube_dataset.subscriber_count > 0.0) &\n",
    "                                    (youtube_dataset.total_views > 0.0) &\n",
    "                                    (youtube_dataset.mean_views_last_30_videos > 0.0) &\n",
    "                                    (youtube_dataset.total_videos > 0.0) &\n",
    "                                    (youtube_dataset.median_views_last_30_videos > 0.0) &\n",
    "                                    (youtube_dataset.std_views_last_30_videos > 0.0) &\n",
    "                                    (youtube_dataset.videos_per_week > 0.0) )\n",
    "\n",
    "\n",
    "clean_data.show(1000)"
   ]
  },
  {
   "cell_type": "markdown",
   "metadata": {},
   "source": [
    "Добавляем уникальные номера под каждую страну"
   ]
  },
  {
   "cell_type": "code",
   "execution_count": 83,
   "metadata": {},
   "outputs": [],
   "source": [
    "countrys = clean_data.select('country').distinct().withColumn('country_id', monotonically_increasing_id())\n",
    "data_encode = clean_data.join(countrys, on='country').drop('country')"
   ]
  },
  {
   "cell_type": "code",
   "execution_count": 84,
   "metadata": {},
   "outputs": [
    {
     "name": "stdout",
     "output_type": "stream",
     "text": [
      "+--------------------+--------------------+--------------------+----------------+--------------------+--------------------+--------------------+--------------------+------------+------------+----------+-------------------------+---------------------------+------------------------+---------------+----------+\n",
      "|          channel_id|        channel_link|        channel_name|subscriber_count|         banner_link|         description|            keywords|              avatar| total_views|total_videos| join_date|mean_views_last_30_videos|median_views_last_30_videos|std_views_last_30_videos|videos_per_week|country_id|\n",
      "+--------------------+--------------------+--------------------+----------------+--------------------+--------------------+--------------------+--------------------+------------+------------+----------+-------------------------+---------------------------+------------------------+---------------+----------+\n",
      "|UCiik0mUNQJE7OP6i...|    /@-dancezumba364|Р Р°Р·СЂР°Р±Р°С‚С...|          115000|https://yt3.googl...|Р Р°Р·СЂР°Р±Р°С‚С...|Р Р°Р·СЂР°Р±Р°С‚С...|https://yt3.googl...|  30109443.0|       189.0|2017-12-22|                    811.9|                      649.5|         538.07207385876|            1.0|         0|\n",
      "|UC7WQEi7TZtnSuues...|     /@moscow_spider|       Moscow Spider|         6630000|https://yt3.googl...|           Hello ...|                null|https://yt3.googl...|4383148592.0|      2854.0|2020-04-24|         11555.4333333333|                     5981.0|        12544.7803532873|           0.25|         0|\n",
      "|UCIBbvdLE6zFK6wQa...|  /@jamshid.muscular|     Jama motivation|              48|                null|Here will be my p...|         Jamshid2322|https://yt3.googl...|     18404.0|        31.0|2023-05-20|         327.333333333333|                        8.0|        811.844744325471|           1.75|         0|\n",
      "|UCZv60eMoKESq2VYS...|     /@darksouls1695|          Dark Souls|              34|https://yt3.googl...|passing games tes...|                Dark|https://yt3.googl...|     21075.0|      2392.0|2017-05-06|         10.9333333333333|                        8.0|        13.2537625685019|           6.25|         0|\n",
      "|UCOxQWb-OuyCSZadz...|           /@buldjat|    Р‘РЈР›Р”Р–РђРўСЊ|         1300000|https://yt3.googl...|Р’РёРґРµРѕРёРіСЂС...|Р‘СѓР»РґР¶Р°С‚СЊ,...|https://yt3.googl...| 326647961.0|       351.0|2009-10-30|         1446841.06666667|                  1299234.0|        477260.100965077|           0.25|         0|\n",
      "|UCApVXsUT-ZcbHFQl...|    /@Harper.Berry12|        Harper Berry|            3710|https://yt3.googl...|Subscribe to join...|                null|https://yt3.googl...|    543984.0|        36.0|2015-08-18|         15378.5666666667|                     3264.5|        55772.5123238341|           2.25|         0|\n",
      "|UCW2G6e8EKIJbVNDY...|        /@natty_jedi|РЎС‚Р°РЅРёСЃР»Р°Р...|           40300|https://yt3.googl...|                null|С‚СЂРµРЅРёСЂРѕРІР...|https://yt3.googl...|    634823.0|        55.0|2021-03-08|                   5340.6|                     4876.0|        3443.55891097181|            1.0|         0|\n",
      "|UCGoD9SdC2d368NsH...|       /@Mashinistdj|           M@shinist|               8|https://yt3.googl...|                null|m@shinist, video,...|https://yt3.googl...|       848.0|        29.0|2011-11-25|         29.3793103448276|                        9.0|        61.6152767628196|            0.5|         0|\n",
      "|UCjoAgf_oQRnkZlwb...|           /@RomaDVD|             RomaDVD|           33100|https://yt3.googl...|РЎС‚СЂРёРјС‹ ,РўР...|RomaDVD, tanki on...|https://yt3.googl...|   8337926.0|      1958.0|2011-10-05|                   2320.0|                     1677.0|        1668.18660027388|           2.25|         0|\n",
      "|UCFwiwf1tS2Bs-4-u...|       /@fidgetyplay|             Fidgety|             210|https://yt3.googl...|                null|                null|https://yt3.googl...|      6451.0|        57.0|2021-10-05|         187.033333333333|                      190.0|        78.5011606425168|           0.75|         0|\n",
      "|UCYMk3REfguhlEUZH...|       /@workoutshop|         WorkOutShop|           91200|https://yt3.googl...|Р’ С„РµРІСЂР°Р»Рµ...|РјР°РіР°Р·РёРЅ wo...|https://yt3.googl...|  33902333.0|       338.0|2017-05-23|         4177.13333333333|                     2124.5|        4532.33340736927|            0.5|         0|\n",
      "|UC_jdYyOiqaho3-Rv...|/@BlackSilverChannel|Р—Р°РїРёСЃРё РЎС‚...|          257000|https://yt3.googl...|РџСЂРёРІРµС‚, СЌС...|                null|https://yt3.googl...|  87184215.0|      1432.0|2011-09-11|                  37252.1|                    33176.5|        20701.9789574974|            4.5|         0|\n",
      "|UCrHTv8hU6VjcLOir...|      /@PedroCent07_|        PedroCent07_|             559|https://yt3.googl...|Welcome to my sec...|                null|https://yt3.googl...|    810961.0|       157.0|2008-12-08|                  10830.4|                      668.0|        29545.4798298036|            0.5|         1|\n",
      "|UCYoXLCCSHVJuttrk...|         /@cream3899|               Cream|             334|https://yt3.googl...|random things I make|                null|https://yt3.googl...|    144922.0|       247.0|2019-09-23|                    210.1|                       51.5|        419.244507020267|            0.5|         0|\n",
      "|UCPvF8yVOjq76E9sJ...|      /@krystal_e621|        Krystal_e621|             679|https://yt3.googl...|Р—Р°РїРёСЃРё РїСЂ...|Krystal, Krystal_...|https://yt3.googl...|    665613.0|       531.0|2014-05-25|         122.733333333333|                       21.5|        204.174424342413|            6.0|         0|\n",
      "|UCF2D-lsRpCBsfLMH...|/channel/UCF2D-ls...|           WXKIZXSHI|             213|https://yt3.googl...|                null|Р’Р°РєРёР·Р°С€Рё,...|https://yt3.googl...|      7683.0|        19.0|2022-10-12|                   459.25|                      263.0|        457.327084809111|           0.25|         0|\n",
      "|UC1gXz4qSd-N-YNgE...|       /@INKASATORYT|           INKASATOR|           44900|https://yt3.googl...|SUBSCRIBE FOR THE...|Р¤СЂРё С„Р°РµСЂ, ...|https://yt3.googl...|   9251525.0|      1121.0|2019-04-23|         2704.33333333333|                     1133.5|        3339.39135505592|           2.25|         0|\n",
      "|UC8-gez5151OGk08z...|     /@dan0randan713|          Dan0Randan|             343|https://yt3.googl...|Scary stories, ga...|                null|https://yt3.googl...|    101748.0|      2218.0|2014-11-25|                     22.2|                       11.0|        24.4532206467778|            3.0|         0|\n",
      "|UCCzFoUC9DCR85Ysi...|        /@vgames8941|             V Games|            1260|https://yt3.googl...|                null|Movie, РїРµСЂРµРІ...|https://yt3.googl...|    434957.0|       266.0|2013-02-14|                     63.1|                       33.0|        87.5463115537523|           0.75|         0|\n",
      "|UCpr5Rrh2xmh3J0Kt...|          /@unierser|            Universe|              17|                null|                null|РѕРїС‚РёРјРёР·Р°С...|https://yt3.googl...|       744.0|         6.0|2022-06-19|                    128.0|                       94.5|        111.485425056372|           1.25|         0|\n",
      "+--------------------+--------------------+--------------------+----------------+--------------------+--------------------+--------------------+--------------------+------------+------------+----------+-------------------------+---------------------------+------------------------+---------------+----------+\n",
      "only showing top 20 rows\n",
      "\n"
     ]
    }
   ],
   "source": [
    "data_encode.show()"
   ]
  },
  {
   "cell_type": "markdown",
   "metadata": {},
   "source": [
    "Если у пользователя есть ссылка в баннере, описание, ключевые слова, аватар, то мы ставим 1, в отсальном, Null заменяем на 0"
   ]
  },
  {
   "cell_type": "code",
   "execution_count": 85,
   "metadata": {},
   "outputs": [],
   "source": [
    "data_encode = data_encode.withColumn(\"banner_link\", when(data_encode.banner_link.isNull(), 0).otherwise(1)).\\\n",
    "                        withColumn(\"description\", when(data_encode.description.isNull(), 0).otherwise(1)).\\\n",
    "                        withColumn(\"keywords\", when(data_encode.keywords.isNull(), 0).otherwise(1)).\\\n",
    "                        withColumn(\"avatar\", when(data_encode.avatar.isNull(), 0).otherwise(1)).drop('channel_id').\\\n",
    "                        drop('channel_link').drop('channel_name').drop('join_date').na.fill(0)"
   ]
  },
  {
   "cell_type": "code",
   "execution_count": 86,
   "metadata": {},
   "outputs": [
    {
     "name": "stdout",
     "output_type": "stream",
     "text": [
      "+----------------+-----------+-----------+--------+------+------------+------------+-------------------------+---------------------------+------------------------+---------------+----------+\n",
      "|subscriber_count|banner_link|description|keywords|avatar| total_views|total_videos|mean_views_last_30_videos|median_views_last_30_videos|std_views_last_30_videos|videos_per_week|country_id|\n",
      "+----------------+-----------+-----------+--------+------+------------+------------+-------------------------+---------------------------+------------------------+---------------+----------+\n",
      "|          115000|          1|          1|       1|     1|  30109443.0|       189.0|                    811.9|                      649.5|         538.07207385876|            1.0|         0|\n",
      "|         6630000|          1|          1|       0|     1|4383148592.0|      2854.0|         11555.4333333333|                     5981.0|        12544.7803532873|           0.25|         0|\n",
      "|              48|          0|          1|       1|     1|     18404.0|        31.0|         327.333333333333|                        8.0|        811.844744325471|           1.75|         0|\n",
      "|              34|          1|          1|       1|     1|     21075.0|      2392.0|         10.9333333333333|                        8.0|        13.2537625685019|           6.25|         0|\n",
      "|         1300000|          1|          1|       1|     1| 326647961.0|       351.0|         1446841.06666667|                  1299234.0|        477260.100965077|           0.25|         0|\n",
      "|            3710|          1|          1|       0|     1|    543984.0|        36.0|         15378.5666666667|                     3264.5|        55772.5123238341|           2.25|         0|\n",
      "|           40300|          1|          0|       1|     1|    634823.0|        55.0|                   5340.6|                     4876.0|        3443.55891097181|            1.0|         0|\n",
      "|               8|          1|          0|       1|     1|       848.0|        29.0|         29.3793103448276|                        9.0|        61.6152767628196|            0.5|         0|\n",
      "|           33100|          1|          1|       1|     1|   8337926.0|      1958.0|                   2320.0|                     1677.0|        1668.18660027388|           2.25|         0|\n",
      "|             210|          1|          0|       0|     1|      6451.0|        57.0|         187.033333333333|                      190.0|        78.5011606425168|           0.75|         0|\n",
      "|           91200|          1|          1|       1|     1|  33902333.0|       338.0|         4177.13333333333|                     2124.5|        4532.33340736927|            0.5|         0|\n",
      "|          257000|          1|          1|       0|     1|  87184215.0|      1432.0|                  37252.1|                    33176.5|        20701.9789574974|            4.5|         0|\n",
      "|             559|          1|          1|       0|     1|    810961.0|       157.0|                  10830.4|                      668.0|        29545.4798298036|            0.5|         1|\n",
      "|             334|          1|          1|       0|     1|    144922.0|       247.0|                    210.1|                       51.5|        419.244507020267|            0.5|         0|\n",
      "|             679|          1|          1|       1|     1|    665613.0|       531.0|         122.733333333333|                       21.5|        204.174424342413|            6.0|         0|\n",
      "|             213|          1|          0|       1|     1|      7683.0|        19.0|                   459.25|                      263.0|        457.327084809111|           0.25|         0|\n",
      "|           44900|          1|          1|       1|     1|   9251525.0|      1121.0|         2704.33333333333|                     1133.5|        3339.39135505592|           2.25|         0|\n",
      "|             343|          1|          1|       0|     1|    101748.0|      2218.0|                     22.2|                       11.0|        24.4532206467778|            3.0|         0|\n",
      "|            1260|          1|          0|       1|     1|    434957.0|       266.0|                     63.1|                       33.0|        87.5463115537523|           0.75|         0|\n",
      "|              17|          0|          0|       1|     1|       744.0|         6.0|                    128.0|                       94.5|        111.485425056372|           1.25|         0|\n",
      "+----------------+-----------+-----------+--------+------+------------+------------+-------------------------+---------------------------+------------------------+---------------+----------+\n",
      "only showing top 20 rows\n",
      "\n"
     ]
    }
   ],
   "source": [
    "data_encode.show()"
   ]
  },
  {
   "cell_type": "markdown",
   "metadata": {},
   "source": [
    "One Hot Encode'им страны "
   ]
  },
  {
   "cell_type": "code",
   "execution_count": 87,
   "metadata": {},
   "outputs": [],
   "source": [
    "from pyspark.ml.feature import OneHotEncoder as ohe\n",
    "\n",
    "encode = ohe()\n",
    "encode.setInputCols(['country_id'])\n",
    "encode.setOutputCols(['country'])\n",
    "\n",
    "model = encode.fit(data_encode)"
   ]
  },
  {
   "cell_type": "code",
   "execution_count": 88,
   "metadata": {},
   "outputs": [],
   "source": [
    "end_result = model.transform(data_encode).drop('country_id')"
   ]
  },
  {
   "cell_type": "code",
   "execution_count": 89,
   "metadata": {},
   "outputs": [
    {
     "name": "stdout",
     "output_type": "stream",
     "text": [
      "+----------------+-----------+-----------+--------+------+------------+------------+-------------------------+---------------------------+------------------------+---------------+---------------+\n",
      "|subscriber_count|banner_link|description|keywords|avatar| total_views|total_videos|mean_views_last_30_videos|median_views_last_30_videos|std_views_last_30_videos|videos_per_week|        country|\n",
      "+----------------+-----------+-----------+--------+------+------------+------------+-------------------------+---------------------------+------------------------+---------------+---------------+\n",
      "|          115000|          1|          1|       1|     1|  30109443.0|       189.0|                    811.9|                      649.5|         538.07207385876|            1.0|(170,[0],[1.0])|\n",
      "|         6630000|          1|          1|       0|     1|4383148592.0|      2854.0|         11555.4333333333|                     5981.0|        12544.7803532873|           0.25|(170,[0],[1.0])|\n",
      "|              48|          0|          1|       1|     1|     18404.0|        31.0|         327.333333333333|                        8.0|        811.844744325471|           1.75|(170,[0],[1.0])|\n",
      "|              34|          1|          1|       1|     1|     21075.0|      2392.0|         10.9333333333333|                        8.0|        13.2537625685019|           6.25|(170,[0],[1.0])|\n",
      "|         1300000|          1|          1|       1|     1| 326647961.0|       351.0|         1446841.06666667|                  1299234.0|        477260.100965077|           0.25|(170,[0],[1.0])|\n",
      "|            3710|          1|          1|       0|     1|    543984.0|        36.0|         15378.5666666667|                     3264.5|        55772.5123238341|           2.25|(170,[0],[1.0])|\n",
      "|           40300|          1|          0|       1|     1|    634823.0|        55.0|                   5340.6|                     4876.0|        3443.55891097181|            1.0|(170,[0],[1.0])|\n",
      "|               8|          1|          0|       1|     1|       848.0|        29.0|         29.3793103448276|                        9.0|        61.6152767628196|            0.5|(170,[0],[1.0])|\n",
      "|           33100|          1|          1|       1|     1|   8337926.0|      1958.0|                   2320.0|                     1677.0|        1668.18660027388|           2.25|(170,[0],[1.0])|\n",
      "|             210|          1|          0|       0|     1|      6451.0|        57.0|         187.033333333333|                      190.0|        78.5011606425168|           0.75|(170,[0],[1.0])|\n",
      "|           91200|          1|          1|       1|     1|  33902333.0|       338.0|         4177.13333333333|                     2124.5|        4532.33340736927|            0.5|(170,[0],[1.0])|\n",
      "|          257000|          1|          1|       0|     1|  87184215.0|      1432.0|                  37252.1|                    33176.5|        20701.9789574974|            4.5|(170,[0],[1.0])|\n",
      "|             559|          1|          1|       0|     1|    810961.0|       157.0|                  10830.4|                      668.0|        29545.4798298036|            0.5|(170,[1],[1.0])|\n",
      "|             334|          1|          1|       0|     1|    144922.0|       247.0|                    210.1|                       51.5|        419.244507020267|            0.5|(170,[0],[1.0])|\n",
      "|             679|          1|          1|       1|     1|    665613.0|       531.0|         122.733333333333|                       21.5|        204.174424342413|            6.0|(170,[0],[1.0])|\n",
      "|             213|          1|          0|       1|     1|      7683.0|        19.0|                   459.25|                      263.0|        457.327084809111|           0.25|(170,[0],[1.0])|\n",
      "|           44900|          1|          1|       1|     1|   9251525.0|      1121.0|         2704.33333333333|                     1133.5|        3339.39135505592|           2.25|(170,[0],[1.0])|\n",
      "|             343|          1|          1|       0|     1|    101748.0|      2218.0|                     22.2|                       11.0|        24.4532206467778|            3.0|(170,[0],[1.0])|\n",
      "|            1260|          1|          0|       1|     1|    434957.0|       266.0|                     63.1|                       33.0|        87.5463115537523|           0.75|(170,[0],[1.0])|\n",
      "|              17|          0|          0|       1|     1|       744.0|         6.0|                    128.0|                       94.5|        111.485425056372|           1.25|(170,[0],[1.0])|\n",
      "+----------------+-----------+-----------+--------+------+------------+------------+-------------------------+---------------------------+------------------------+---------------+---------------+\n",
      "only showing top 20 rows\n",
      "\n"
     ]
    }
   ],
   "source": [
    "end_result.show()"
   ]
  },
  {
   "cell_type": "markdown",
   "metadata": {},
   "source": [
    "Кастуем в нужный нам тип данных столбцы"
   ]
  },
  {
   "cell_type": "code",
   "execution_count": 90,
   "metadata": {},
   "outputs": [],
   "source": [
    "end_result = end_result.withColumn('subscriber_count', end_result.subscriber_count.cast(IntegerType()))\\\n",
    "                        .withColumn('banner_link', end_result.banner_link.cast(IntegerType()))\\\n",
    "                        .withColumn('description', end_result.description.cast(IntegerType()))\\\n",
    "                        .withColumn('keywords', end_result.keywords.cast(IntegerType()))\\\n",
    "                        .withColumn('avatar', end_result.avatar.cast(IntegerType()))\\\n",
    "                        .withColumn('total_videos', end_result.total_videos.cast(IntegerType()))\\\n",
    "                        .withColumn('total_views', end_result.total_views.cast(IntegerType()))\\\n",
    "                        .withColumn('mean_views_last_30_videos', end_result.mean_views_last_30_videos.cast(FloatType()))\\\n",
    "                        .withColumn('median_views_last_30_videos', end_result.median_views_last_30_videos.cast(FloatType()))\\\n",
    "                        .withColumn('std_views_last_30_videos', end_result.std_views_last_30_videos.cast(FloatType()))\\\n",
    "                        .withColumn('videos_per_week', end_result.videos_per_week.cast(FloatType())).fillna(0)\n",
    "                        \n"
   ]
  },
  {
   "cell_type": "markdown",
   "metadata": {},
   "source": [
    "Можно провести следующие 3 эксперимента:\n",
    "1) Число просмотров на основе наличия у него информации в баннере, аватара и тп.\n",
    "2) Классификация пользователей по наличию у него ссылки на баннер\n",
    "3) Кластеризации данных о подписчиках YouTube каналов на основе количества подписчиков, среднего числа просмотров последних 30 видео, медианы просмотров последних 30 видео и количества выпускаемых видео в неделю"
   ]
  },
  {
   "cell_type": "code",
   "execution_count": 91,
   "metadata": {},
   "outputs": [],
   "source": [
    "assembler = VectorAssembler(\n",
    "    inputCols=['country','total_videos','videos_per_week'],\n",
    "    outputCol=\"features\")\n",
    "\n",
    "experiment1 = assembler.transform(end_result).select('total_views','features')"
   ]
  },
  {
   "cell_type": "code",
   "execution_count": 92,
   "metadata": {},
   "outputs": [
    {
     "name": "stdout",
     "output_type": "stream",
     "text": [
      "+-----------+--------------------+\n",
      "|total_views|            features|\n",
      "+-----------+--------------------+\n",
      "|     296394|(172,[0,170,171],...|\n",
      "|   12488171|(172,[0,170,171],...|\n",
      "|     155045|(172,[0,170,171],...|\n",
      "|   69308821|(172,[0,170,171],...|\n",
      "|  461453109|(172,[0,170,171],...|\n",
      "|        134|(172,[0,170,171],...|\n",
      "|     479884|(172,[0,170,171],...|\n",
      "|   37310085|(172,[0,170,171],...|\n",
      "|      68256|(172,[0,170,171],...|\n",
      "|    2944530|(172,[0,170,171],...|\n",
      "|     432969|(172,[0,170,171],...|\n",
      "|    2428854|(172,[0,170,171],...|\n",
      "|     145866|(172,[0,170,171],...|\n",
      "|     357961|(172,[0,170,171],...|\n",
      "|     139638|(172,[0,170,171],...|\n",
      "|      23121|(172,[0,170,171],...|\n",
      "|    7746011|(172,[0,170,171],...|\n",
      "|     155628|(172,[0,170,171],...|\n",
      "|      86898|(172,[0,170,171],...|\n",
      "|   10953670|(172,[0,170,171],...|\n",
      "+-----------+--------------------+\n",
      "only showing top 20 rows\n",
      "\n"
     ]
    }
   ],
   "source": [
    "experiment1.show()"
   ]
  },
  {
   "cell_type": "markdown",
   "metadata": {},
   "source": [
    "Так как есть OHE фичи, то есть разреженные данные, то их лучше отскейлить через MaxAbs"
   ]
  },
  {
   "cell_type": "code",
   "execution_count": 93,
   "metadata": {},
   "outputs": [],
   "source": [
    "from pyspark.ml.feature import MaxAbsScaler\n",
    "\n",
    "maScaler = MaxAbsScaler()\n",
    "maScaler.setInputCol(\"features\")\n",
    "\n",
    "model = maScaler.fit(experiment1)\n",
    "model.setOutputCol(\"features_scaled\")\n",
    "scaled_data = model.transform(experiment1).drop('features')"
   ]
  },
  {
   "cell_type": "markdown",
   "metadata": {},
   "source": [
    "Тут всё относительно просто:\n",
    "достает алгоритмы регресси: рассматриваются 2 - с использованием решающих деревьев и линейной регресии"
   ]
  },
  {
   "cell_type": "code",
   "execution_count": 94,
   "metadata": {},
   "outputs": [
    {
     "name": "stdout",
     "output_type": "stream",
     "text": [
      "RMSE: 129517189.62\n",
      "R-squared: 0.03\n"
     ]
    }
   ],
   "source": [
    "from pyspark.ml.regression import DecisionTreeRegressor,LinearRegression\n",
    "\n",
    "from pyspark.ml.evaluation import RegressionEvaluator\n",
    "\n",
    "features = ['countrys','total_videos', 'videos_per_week']\n",
    "(train, test) = scaled_data.randomSplit([0.8, 0.2], seed=42)\n",
    "\n",
    "\n",
    "lr = LinearRegression(featuresCol=\"features_scaled\", labelCol=\"total_views\", regParam=0.1, elasticNetParam=1.0,maxIter=1000)\n",
    "\n",
    "\n",
    "model = lr.fit(train)\n",
    "\n",
    "# Оценка модели на тестовой выборке\n",
    "test_results = model.transform(test)\n",
    "rmse = RegressionEvaluator(labelCol=\"total_views\", predictionCol=\"prediction\", metricName=\"rmse\").evaluate(test_results)\n",
    "r2 = RegressionEvaluator(labelCol=\"total_views\", predictionCol=\"prediction\", metricName=\"r2\").evaluate(test_results)\n",
    "print(f\"RMSE: {rmse:.2f}\")\n",
    "print(f\"R-squared: {r2:.2f}\")\n"
   ]
  },
  {
   "cell_type": "markdown",
   "metadata": {},
   "source": [
    "Ошибка очень большая, как и R-squred метрика\n",
    "Вообще, нужно провести стат гипотезу, и провести эксперименты о наличии взаимосвязи между фичами и таргетом\n",
    "Пока что, я бы утверждал, что взаимосвязи нет"
   ]
  },
  {
   "cell_type": "code",
   "execution_count": 95,
   "metadata": {},
   "outputs": [
    {
     "name": "stdout",
     "output_type": "stream",
     "text": [
      "Root Mean Squared Error (RMSE) on test data = 1.27862e+08\n",
      "R2 on test data = 0.0570009\n",
      "Feature importances:  (172,[0,1,3,4,5,6,7,8,9,10,11,12,13,14,15,16,17,18,20,21,22,23,24,26,27,28,29,32,33,35,36,37,39,40,41,43,44,45,46,47,48,49,51,52,53,54,56,57,60,61,62,63,65,66,67,69,70,71,72,74,75,76,78,79,80,81,82,83,84,85,86,87,88,89,91,93,94,95,96,97,98,99,100,101,103,104,105,106,108,109,110,113,114,115,116,117,138,139,156,166,170,171],[0.00033273324719486125,1.5596604806206922e-08,0.004967766854694074,0.004557281034963844,0.015005781575890536,0.0027345732754428063,0.0019945683714377264,6.682181500051693e-06,0.0018891390239406769,1.2112000795915434e-06,0.004388803863570467,7.898215506891029e-05,0.011918038239313115,0.0004431029799467579,0.00376867186545142,0.03019192617178848,0.00026815615380233846,3.1066298860573886e-05,0.00928874582269866,0.0022795664520190166,2.102811977324128e-05,1.4648091263620624e-05,0.00011254555868932447,0.0018381493952833114,0.0016014852366865399,0.011529338340015951,0.030993314829180753,0.0013705893696754777,1.4086271777217862e-07,0.0003226840157362899,0.0005067971917508813,0.0001805779771712744,0.0007324120992342493,9.07098445853354e-05,0.004493018220309282,0.0015547851232927028,0.01024055294116177,0.00019636993499384312,5.447748578731363e-05,0.016680706578200807,0.005520717259923185,0.0032371230008513842,0.006820455231582398,9.843966746347104e-07,0.00014669149724605657,0.0005118698139088478,1.156234006126685e-06,7.543735899832341e-05,0.013449785959429307,1.6929579110575727e-05,0.00023715003257459262,0.02402028090037541,5.110874434660951e-06,0.00020776958813373871,1.3399546457461607e-08,0.00628963569552938,0.0013302899506431516,7.444500106684111e-06,4.420734555543317e-06,0.0007124071414052397,0.00021547288157443148,0.007531246310185077,5.6175975048780936e-05,7.9132132317193e-05,0.0008558825917653314,0.004637967926755657,0.010486587319063602,0.011776734820732725,0.003315289195941105,1.9245480677802714e-09,0.00047839679829409865,0.0018360379925012823,0.005364973165108172,0.004523334275813879,0.0004587695266304294,0.0012869133624773777,8.88458210800233e-05,0.0035653201611391965,0.0017282455597992772,0.00023134849733909423,0.00027328800891089253,0.002470994505715664,3.730318651390073e-06,1.85608397304507e-05,0.0002626184981091316,0.0001226118089502575,0.0017260176748586915,0.0004916697567788356,0.0010487187820727157,0.00015934440879364752,0.008473510429490252,0.005670360938627571,0.00963269548089481,0.009143474987775032,2.125435770005207e-05,0.0070289575388320135,8.238027850670684e-05,0.0011979774418546844,0.00029392177184604465,1.2442320927146036e-06,0.45662906864512853,0.19745410632775118])\n"
     ]
    }
   ],
   "source": [
    "from pyspark.ml.feature import VectorAssembler\n",
    "from pyspark.ml.regression import RandomForestRegressor\n",
    "from pyspark.ml.evaluation import RegressionEvaluator\n",
    "\n",
    "\n",
    "(train, test) = experiment1.randomSplit([0.8, 0.2], seed=42)\n",
    "\n",
    "# Создание модели дерева решений для регрессии\n",
    "rf = RandomForestRegressor(featuresCol=\"features\", labelCol=\"total_views\",maxDepth=15)\n",
    "\n",
    "# Обучение модели\n",
    "model = rf.fit(train)\n",
    "\n",
    "# Оценка модели на тестовой выборке\n",
    "predictions = model.transform(test)\n",
    "rmse = RegressionEvaluator(labelCol=\"total_views\", predictionCol=\"prediction\", metricName=\"rmse\").evaluate(predictions)\n",
    "r2 = RegressionEvaluator(labelCol=\"total_views\", predictionCol=\"prediction\", metricName=\"r2\").evaluate(predictions)\n",
    "print(\"Root Mean Squared Error (RMSE) on test data = %g\" % rmse)\n",
    "print(\"R2 on test data = %g\" % r2)\n",
    "\n",
    "# Получение важности признаков\n",
    "feature_importances = model.featureImportances\n",
    "print(\"Feature importances: \", feature_importances)"
   ]
  },
  {
   "cell_type": "markdown",
   "metadata": {},
   "source": [
    "Дерево решений также показывает неудволетворительный результат, чтобы делать вывод о взаимосвязи\n",
    "Удовлетворительно - когда R2 > 0.5 хотя бы"
   ]
  },
  {
   "cell_type": "code",
   "execution_count": 33,
   "metadata": {},
   "outputs": [
    {
     "name": "stdout",
     "output_type": "stream",
     "text": [
      "+----------------+-----------+-----------+--------+------+-----------+------------+-------------------------+---------------------------+------------------------+---------------+---------------+\n",
      "|subscriber_count|banner_link|description|keywords|avatar|total_views|total_videos|mean_views_last_30_videos|median_views_last_30_videos|std_views_last_30_videos|videos_per_week|        country|\n",
      "+----------------+-----------+-----------+--------+------+-----------+------------+-------------------------+---------------------------+------------------------+---------------+---------------+\n",
      "|          115000|          1|          1|       1|     1|   30109443|         189|                    811.9|                      649.5|                538.0721|            1.0|(170,[0],[1.0])|\n",
      "|         6630000|          1|          1|       0|     1|          0|        2854|                11555.434|                     5981.0|                12544.78|           0.25|(170,[0],[1.0])|\n",
      "|              48|          0|          1|       1|     1|      18404|          31|                327.33334|                        8.0|                811.8447|           1.75|(170,[0],[1.0])|\n",
      "|              34|          1|          1|       1|     1|      21075|        2392|                10.933333|                        8.0|               13.253762|           6.25|(170,[0],[1.0])|\n",
      "|         1300000|          1|          1|       1|     1|  326647961|         351|                1446841.1|                  1299234.0|                477260.1|           0.25|(170,[0],[1.0])|\n",
      "|            3710|          1|          1|       0|     1|     543984|          36|                15378.566|                     3264.5|                55772.51|           2.25|(170,[0],[1.0])|\n",
      "|           40300|          1|          0|       1|     1|     634823|          55|                   5340.6|                     4876.0|               3443.5588|            1.0|(170,[0],[1.0])|\n",
      "|               8|          1|          0|       1|     1|        848|          29|                 29.37931|                        9.0|               61.615276|            0.5|(170,[0],[1.0])|\n",
      "|           33100|          1|          1|       1|     1|    8337926|        1958|                   2320.0|                     1677.0|               1668.1866|           2.25|(170,[0],[1.0])|\n",
      "|             210|          1|          0|       0|     1|       6451|          57|                187.03334|                      190.0|                78.50116|           0.75|(170,[0],[1.0])|\n",
      "|           91200|          1|          1|       1|     1|   33902333|         338|                4177.1333|                     2124.5|               4532.3335|            0.5|(170,[0],[1.0])|\n",
      "|          257000|          1|          1|       0|     1|   87184215|        1432|                  37252.1|                    33176.5|               20701.979|            4.5|(170,[0],[1.0])|\n",
      "|             559|          1|          1|       0|     1|     810961|         157|                  10830.4|                      668.0|                29545.48|            0.5|(170,[1],[1.0])|\n",
      "|             334|          1|          1|       0|     1|     144922|         247|                    210.1|                       51.5|                419.2445|            0.5|(170,[0],[1.0])|\n",
      "|             679|          1|          1|       1|     1|     665613|         531|                122.73333|                       21.5|               204.17442|            6.0|(170,[0],[1.0])|\n",
      "|             213|          1|          0|       1|     1|       7683|          19|                   459.25|                      263.0|                457.3271|           0.25|(170,[0],[1.0])|\n",
      "|           44900|          1|          1|       1|     1|    9251525|        1121|                2704.3333|                     1133.5|               3339.3914|           2.25|(170,[0],[1.0])|\n",
      "|             343|          1|          1|       0|     1|     101748|        2218|                     22.2|                       11.0|                24.45322|            3.0|(170,[0],[1.0])|\n",
      "|            1260|          1|          0|       1|     1|     434957|         266|                     63.1|                       33.0|                87.54631|           0.75|(170,[0],[1.0])|\n",
      "|              17|          0|          0|       1|     1|        744|           6|                    128.0|                       94.5|               111.48543|           1.25|(170,[0],[1.0])|\n",
      "+----------------+-----------+-----------+--------+------+-----------+------------+-------------------------+---------------------------+------------------------+---------------+---------------+\n",
      "only showing top 20 rows\n",
      "\n"
     ]
    }
   ],
   "source": [
    "end_result.show()"
   ]
  },
  {
   "cell_type": "markdown",
   "metadata": {},
   "source": [
    "Классификация пользователей по наличию у него ссылки на баннер"
   ]
  },
  {
   "cell_type": "code",
   "execution_count": 96,
   "metadata": {},
   "outputs": [],
   "source": [
    "assembler = VectorAssembler(\n",
    "    inputCols=['total_views','subscriber_count',\"total_views\", \"total_videos\",\"mean_views_last_30_videos\",\n",
    "               \"median_views_last_30_videos\",\"std_views_last_30_videos\",\"videos_per_week\"],\n",
    "    outputCol=\"features\")\n",
    "\n",
    "experiment2 = assembler.transform(end_result).select('features','banner_link')"
   ]
  },
  {
   "cell_type": "code",
   "execution_count": 97,
   "metadata": {},
   "outputs": [
    {
     "name": "stdout",
     "output_type": "stream",
     "text": [
      "+--------------------+-----------+\n",
      "|            features|banner_link|\n",
      "+--------------------+-----------+\n",
      "|[3.0109443E7,1150...|          1|\n",
      "|[0.0,6630000.0,0....|          1|\n",
      "|[18404.0,48.0,184...|          0|\n",
      "|[21075.0,34.0,210...|          1|\n",
      "|[3.26647961E8,130...|          1|\n",
      "|[543984.0,3710.0,...|          1|\n",
      "|[634823.0,40300.0...|          1|\n",
      "|[848.0,8.0,848.0,...|          1|\n",
      "|[8337926.0,33100....|          1|\n",
      "|[6451.0,210.0,645...|          1|\n",
      "|[3.3902333E7,9120...|          1|\n",
      "|[8.7184215E7,2570...|          1|\n",
      "|[810961.0,559.0,8...|          1|\n",
      "|[144922.0,334.0,1...|          1|\n",
      "|[665613.0,679.0,6...|          1|\n",
      "|[7683.0,213.0,768...|          1|\n",
      "|[9251525.0,44900....|          1|\n",
      "|[101748.0,343.0,1...|          1|\n",
      "|[434957.0,1260.0,...|          1|\n",
      "|[744.0,17.0,744.0...|          0|\n",
      "+--------------------+-----------+\n",
      "only showing top 20 rows\n",
      "\n"
     ]
    }
   ],
   "source": [
    "experiment2.show()"
   ]
  },
  {
   "cell_type": "markdown",
   "metadata": {},
   "source": [
    "Скейлим и задаем модель"
   ]
  },
  {
   "cell_type": "markdown",
   "metadata": {},
   "source": [
    "Попробуем использовать Robust скейлер"
   ]
  },
  {
   "cell_type": "code",
   "execution_count": 98,
   "metadata": {},
   "outputs": [],
   "source": [
    "from pyspark.ml.feature import RobustScaler\n",
    "\n",
    "scaler = RobustScaler()\n",
    "scaler.setInputCol(\"features\")\n",
    "scaler.setOutputCol(\"features_scaled\")\n",
    "\n",
    "model = scaler.fit(experiment2)\n",
    "scaled_data = model.transform(experiment2).drop('features')"
   ]
  },
  {
   "cell_type": "code",
   "execution_count": 99,
   "metadata": {},
   "outputs": [
    {
     "name": "stdout",
     "output_type": "stream",
     "text": [
      "accuracy = 0.864611\n",
      "f1 = 0.802934\n"
     ]
    }
   ],
   "source": [
    "from pyspark.ml.classification import DecisionTreeClassifier\n",
    "\n",
    "\n",
    "(train, test) = scaled_data.randomSplit([0.8, 0.2], seed=42)\n",
    "\n",
    "\n",
    "clsf = DecisionTreeClassifier(featuresCol=\"features_scaled\", labelCol=\"banner_link\",maxDepth=5)\n",
    "\n",
    "# Обучение модели\n",
    "model = clsf.fit(train)\n",
    "\n",
    "# Оценка модели на тестовой выборке\n",
    "predictions = model.transform(test)\n",
    "accuracy = MulticlassClassificationEvaluator(labelCol=\"banner_link\", predictionCol=\"prediction\", metricName=\"accuracy\").evaluate(predictions)\n",
    "f1 = MulticlassClassificationEvaluator(labelCol=\"banner_link\", predictionCol=\"prediction\", metricName=\"f1\").evaluate(predictions)\n",
    "print(\"accuracy = %g\" % accuracy)\n",
    "print(\"f1 = %g\" % f1)\n",
    "\n"
   ]
  },
  {
   "cell_type": "markdown",
   "metadata": {},
   "source": [
    "Метрики довольно высокие, особенно f1, поэтому классифицировать людей по наличию ссылке в баннере/ на баннер - можно"
   ]
  },
  {
   "cell_type": "markdown",
   "metadata": {},
   "source": [
    "После 3 эксперимента, в целях экономии времени, я просто буду показывать вывод\n",
    "Кроме последнего датасета в SQLITE формате"
   ]
  },
  {
   "cell_type": "markdown",
   "metadata": {},
   "source": [
    "Кластеризации данных о подписчиках YouTube каналов на основе количества подписчиков, среднего числа просмотров последних 30 видео, медианы просмотров последних 30 видео и количества выпускаемых видео в неделю"
   ]
  },
  {
   "cell_type": "code",
   "execution_count": 100,
   "metadata": {},
   "outputs": [],
   "source": [
    "\n",
    "from pyspark.ml.clustering import KMeans\n",
    "from pyspark.ml.feature import VectorAssembler\n",
    "\n",
    "\n",
    "# Объединяем выбранные признаки в один вектор\n",
    "assembler = VectorAssembler(inputCols=[\"subscriber_count\",\n",
    "                                        \"mean_views_last_30_videos\",\n",
    "                                        \"median_views_last_30_videos\", \"videos_per_week\"], outputCol=\"features\")\n",
    "experiment3 = assembler.transform(end_result).select('features')\n",
    "\n",
    "# Создаем модель KMeans с количеством кластеров равным 2\n",
    "kmeans = KMeans(featuresCol=\"features\", k=2)\n",
    "model = kmeans.fit(experiment3)\n",
    "\n",
    "# Добавляем предсказанные кластеры к оригинальному DataFrame\n",
    "predictions = model.transform(experiment3)\n",
    "\n"
   ]
  },
  {
   "cell_type": "code",
   "execution_count": 101,
   "metadata": {},
   "outputs": [
    {
     "name": "stdout",
     "output_type": "stream",
     "text": [
      "Silhouette score =  0.9999853836831163\n"
     ]
    }
   ],
   "source": [
    "evaluator = ClusteringEvaluator()\n",
    "silhouette = evaluator.evaluate(predictions)\n",
    "print(\"Silhouette score = \", silhouette)"
   ]
  },
  {
   "cell_type": "markdown",
   "metadata": {},
   "source": [
    "И также, кластеризовать получается вполне отлично"
   ]
  },
  {
   "cell_type": "markdown",
   "metadata": {},
   "source": [
    "Следующий датасет\n"
   ]
  },
  {
   "cell_type": "code",
   "execution_count": 40,
   "metadata": {},
   "outputs": [
    {
     "name": "stdout",
     "output_type": "stream",
     "text": [
      "+----+------------------+-------------------+------------------+-------------------+-------------------+-------------------+--------------------+-------------------+------------------+-------------------+------------------+------------------+-------------------+-------------------+-------------------+-------------------+--------------------+-------------------+-------------------+-------------------+--------------------+-------------------+-------------------+-------------------+-------------------+-------------------+--------------------+-------------------+------+-----+\n",
      "|Time|                V1|                 V2|                V3|                 V4|                 V5|                 V6|                  V7|                 V8|                V9|                V10|               V11|               V12|                V13|                V14|                V15|                V16|                 V17|                V18|                V19|                V20|                 V21|                V22|                V23|                V24|                V25|                V26|                 V27|                V28|Amount|Class|\n",
      "+----+------------------+-------------------+------------------+-------------------+-------------------+-------------------+--------------------+-------------------+------------------+-------------------+------------------+------------------+-------------------+-------------------+-------------------+-------------------+--------------------+-------------------+-------------------+-------------------+--------------------+-------------------+-------------------+-------------------+-------------------+-------------------+--------------------+-------------------+------+-----+\n",
      "|   0|  -1.3598071336738|-0.0727811733098497|  2.53634673796914|   1.37815522427443| -0.338320769942518|  0.462387777762292|   0.239598554061257| 0.0986979012610507| 0.363786969611213| 0.0907941719789316|-0.551599533260813|-0.617800855762348| -0.991389847235408| -0.311169353699879|   1.46817697209427| -0.470400525259478|   0.207971241929242| 0.0257905801985591|  0.403992960255733|  0.251412098239705|  -0.018306777944153|  0.277837575558899| -0.110473910188767| 0.0669280749146731|  0.128539358273528| -0.189114843888824|   0.133558376740387|-0.0210530534538215|149.62|    0|\n",
      "|   0|  1.19185711131486|   0.26615071205963|  0.16648011335321|  0.448154078460911| 0.0600176492822243|-0.0823608088155687| -0.0788029833323113| 0.0851016549148104|-0.255425128109186| -0.166974414004614|  1.61272666105479|  1.06523531137287|   0.48909501589608| -0.143772296441519|  0.635558093258208|  0.463917041022171|  -0.114804663102346| -0.183361270123994| -0.145783041325259|-0.0690831352230203|  -0.225775248033138| -0.638671952771851|  0.101288021253234| -0.339846475529127|  0.167170404418143|  0.125894532368176|-0.00898309914322813| 0.0147241691924927|  2.69|    0|\n",
      "|   1| -1.35835406159823|  -1.34016307473609|  1.77320934263119|  0.379779593034328| -0.503198133318193|   1.80049938079263|   0.791460956450422|  0.247675786588991| -1.51465432260583|  0.207642865216696| 0.624501459424895| 0.066083685268831|  0.717292731410831| -0.165945922763554|   2.34586494901581|  -2.89008319444231|    1.10996937869599| -0.121359313195888|  -2.26185709530414|  0.524979725224404|   0.247998153469754|  0.771679401917229|  0.909412262347719| -0.689280956490685| -0.327641833735251| -0.139096571514147| -0.0553527940384261|-0.0597518405929204|378.66|    0|\n",
      "|   1|-0.966271711572087| -0.185226008082898|  1.79299333957872| -0.863291275036453|-0.0103088796030823|   1.24720316752486|    0.23760893977178|  0.377435874652262| -1.38702406270197|-0.0549519224713749|-0.226487263835401| 0.178228225877303|  0.507756869957169|  -0.28792374549456| -0.631418117709045|   -1.0596472454325|  -0.684092786345479|   1.96577500349538|   -1.2326219700892| -0.208037781160366|  -0.108300452035545|0.00527359678253453| -0.190320518742841|  -1.17557533186321|  0.647376034602038| -0.221928844458407|  0.0627228487293033| 0.0614576285006353| 123.5|    0|\n",
      "|   2| -1.15823309349523|  0.877736754848451|    1.548717846511|  0.403033933955121| -0.407193377311653| 0.0959214624684256|   0.592940745385545| -0.270532677192282| 0.817739308235294|  0.753074431976354|-0.822842877946363|  0.53819555014995|    1.3458515932154|  -1.11966983471731|  0.175121130008994| -0.451449182813529|  -0.237033239362776|-0.0381947870352842|  0.803486924960175|  0.408542360392758|-0.00943069713232919|   0.79827849458971| -0.137458079619063|  0.141266983824769| -0.206009587619756|  0.502292224181569|   0.219422229513348|  0.215153147499206| 69.99|    0|\n",
      "|   2|-0.425965884412454|  0.960523044882985|  1.14110934232219| -0.168252079760302|   0.42098688077219|-0.0297275516639742|   0.476200948720027|  0.260314333074874| -0.56867137571251| -0.371407196834471|  1.34126198001957| 0.359893837038039| -0.358090652573631| -0.137133700217612|  0.517616806555742|  0.401725895589603| -0.0581328233640131| 0.0686531494425432|-0.0331937877876282| 0.0849676720682049|  -0.208253514656728| -0.559824796253248|-0.0263976679795373| -0.371426583174346| -0.232793816737034|  0.105914779097957|   0.253844224739337| 0.0810802569229443|  3.67|    0|\n",
      "|   4|  1.22965763450793|  0.141003507049326|0.0453707735899449|   1.20261273673594|  0.191880988597645|  0.272708122899098|-0.00515900288250983| 0.0812129398830894| 0.464959994783886|-0.0992543211289237| -1.41690724314928|-0.153825826253651|  -0.75106271556262|   0.16737196252175| 0.0501435942254188| -0.443586797916727| 0.00282051247234708|  -0.61198733994012|-0.0455750446637976|  -0.21963255278686|  -0.167716265815783| -0.270709726172363| -0.154103786809305| -0.780055415004671|   0.75013693580659| -0.257236845917139|  0.0345074297438413|0.00516776890624916|  4.99|    0|\n",
      "|   7|-0.644269442348146|   1.41796354547385|   1.0743803763556| -0.492199018495015|  0.948934094764157|  0.428118462833089|    1.12063135838353|  -3.80786423873589| 0.615374730667027|   1.24937617815176|-0.619467796121913| 0.291474353088705|   1.75796421396042|  -1.32386521970526|  0.686132504394383|-0.0761269994382006|    -1.2221273453247| -0.358221569869078|  0.324504731321494| -0.156741852488285|    1.94346533978412|  -1.01545470979971|  0.057503529867291| -0.649709005559993| -0.415266566234811|-0.0516342969262494|   -1.20692108094258|  -1.08533918832377|  40.8|    0|\n",
      "|   7| -0.89428608220282|  0.286157196276544|-0.113192212729871| -0.271526130088604|    2.6695986595986|   3.72181806112751|   0.370145127676916|  0.851084443200905|-0.392047586798604| -0.410430432848439|-0.705116586646536|-0.110452261733098| -0.286253632470583| 0.0743553603016731| -0.328783050303565| -0.210077268148783|  -0.499767968800267|  0.118764861004217|   0.57032816746536| 0.0527356691149697| -0.0734251001059225| -0.268091632235551| -0.204232669947878|    1.0115918018785|  0.373204680146282| -0.384157307702294|  0.0117473564581996|   0.14240432992147|  93.2|    0|\n",
      "|   9| -0.33826175242575|   1.11959337641566|  1.04436655157316| -0.222187276738296|   0.49936080649727|  -0.24676110061991|   0.651583206489972| 0.0695385865186387|-0.736727316364109| -0.366845639206541|  1.01761446783262| 0.836389570307029|   1.00684351373408| -0.443522816876142|  0.150219101422635|  0.739452777052119|  -0.540979921943059|   0.47667726004282|  0.451772964394125|  0.203711454727929|  -0.246913936910008| -0.633752642406113|  -0.12079408408185| -0.385049925313426|-0.0697330460416923| 0.0941988339514961|   0.246219304619926| 0.0830756493473326|  3.68|    0|\n",
      "|  10|  1.44904378114715|  -1.17633882535966| 0.913859832832795|  -1.37566665499943|  -1.97138316545323|  -0.62915213889734|    -1.4232356010359| 0.0484558879088564| -1.72040839292037|   1.62665905834133|   1.1996439495421|-0.671439778462005| -0.513947152539479|-0.0950450453999549|  0.230930409124119| 0.0319674667862076|   0.253414715863197|  0.854343814324194| -0.221365413645481| -0.387226474431156|-0.00930189652490052|  0.313894410791098| 0.0277401580170247|  0.500512287104917|   0.25136735874921| -0.129477953726618|  0.0428498709381461| 0.0162532619375515|   7.8|    0|\n",
      "|  10|  0.38497821518095|  0.616109459176472|-0.874299702595052|-0.0940186259679115|   2.92458437838817|   3.31702716826156|   0.470454671805879|   0.53824722837695|-0.558894612428441|   0.30975539423728|-0.259115563735702|-0.326143233995877|-0.0900467227020648|  0.362832368569793|  0.928903660629178| -0.129486811402759|  -0.809978925963589|  0.359985390219981|   0.70766382644648|   0.12599157561542|   0.049923685888971|  0.238421512225103|0.00912986861262866|  0.996710209581086| -0.767314827174801| -0.492208295340017|   0.042472441919027|-0.0543373883732122|  9.99|    0|\n",
      "|  10|    1.249998742053|  -1.22163680921816| 0.383930151282291|  -1.23489868766892|  -1.48541947377961| -0.753230164566149|  -0.689404975426345| -0.227487227519552| -2.09401057344842|   1.32372927445937| 0.227666231237246|-0.242681998944186|   1.20541680770748| -0.317630527025074|  0.725674990179153| -0.815612186027305|   0.873936447614439| -0.847788598847099| -0.683192626267037| -0.102755941505071|  -0.231809239223849| -0.483285330117712| 0.0846676908596583|  0.392830885335013|  0.161134553588505| -0.354990039673962|  0.0264155490776107| 0.0424220887282304| 121.5|    0|\n",
      "|  11|   1.0693735878819|  0.287722129331455| 0.828612726634281|   2.71252042961718| -0.178398016248009|  0.337543730282968| -0.0967168617395962|  0.115981735546597|-0.221082566236194|  0.460230444301678|-0.773656930526689|  0.32338724546722|-0.0110758870883779| -0.178485175177916|  -0.65556427824926|  -0.19992517131173|     0.1240054151819| -0.980496201537345| -0.982916082135047| -0.153197231044512| -0.0368755317335273| 0.0744124028162195|-0.0714074332998586|  0.104743752596029|  0.548264725394119|  0.104094153162781|  0.0214910583643189|  0.021293311477486|  27.5|    0|\n",
      "|  12|  -2.7918547659339| -0.327770756658658|  1.64175016056605|   1.76747274389883| -0.136588446465306|   0.80759646826532|  -0.422911389711497|  -1.90710747624096| 0.755712908314791|    1.1510869876677| 0.844555470974377|   0.7929439518176|  0.370448092803246| -0.734975105820311|  0.406795710431001| -0.303057623825763|  -0.155868714793874|  0.778265457041536|   2.22186801373788|  -1.58212204356551|    1.15166304848789|  0.222181966098225|   1.02058620426601| 0.0283166513238872| -0.232746324289105|  -0.23555721754117|   -0.16477751177654|-0.0301536365592253|  58.8|    0|\n",
      "|  12|-0.752417042956605|  0.345485415344747|  2.05732291276727|  -1.46864329840046|   -1.1583936804082|-0.0778498291166733|  -0.608581418236123|0.00360348436201849|-0.436166983515744|  0.747730827192802|-0.793980602837221|-0.770406728847129|   1.04762699748088|  -1.06660368148653|   1.10695345662141|   1.66011355713381|  -0.279265373246772| -0.419994141181313|  0.432535348618175|  0.263450864446125|   0.499624954671111|   1.35365048557231| -0.256573280448308|-0.0650837078816517|-0.0391243535426488|-0.0870864732146962|  -0.180997500092721|  0.129394059390202| 15.99|    0|\n",
      "|  12|  1.10321543528383|-0.0402962145973447|   1.2673320885949|   1.28909146962552| -0.735997163604068|  0.288069162976262|  -0.586056786337461|  0.189379713679593| 0.782332891785191| -0.267975066537173|-0.450311279515466| 0.936707714991982|  0.708380406186981| -0.468647287707221|  0.354574063407955| -0.246634655717582|-0.00921237772707382| -0.595912405700819|  -0.57568162226261| -0.113910176982092| -0.0246120063374677|  0.196001952806192| 0.0138016541409422|  0.103758331023198|  0.364297540595235| -0.382260574113217|   0.092809187460487| 0.0370505169810008| 12.99|    0|\n",
      "|  13|-0.436905071360625|  0.918966212909322|  0.92459077438817| -0.727219053596792|  0.915678718106307| -0.127867352079254|   0.707641607333935| 0.0879623554672504| -0.66527135413364| -0.737979823596458|  0.32409781346169| 0.277192107214981|  0.252624256310781| -0.291896460370468| -0.184520169327133|   1.14317370716197|   -0.92870926272403|  0.680469592634687| 0.0254364616880793|-0.0470212823165035|  -0.194795823794671| -0.672637997017793| -0.156857514491897| -0.888386320943716| -0.342413218776576| -0.049026728633951|  0.0796923991551505|  0.131023789452311|  0.89|    0|\n",
      "|  14| -5.40125766315825|  -5.45014783420644|  1.18630463143652|   1.73623880012095|   3.04910587764025|  -1.76340557365201|   -1.55973769907953|  0.160841747266769|  1.23308974041888|  0.345172827050629| 0.917229867699146| 0.970116716069048| -0.266567764915222| -0.479129929276704| -0.526608502569153|   0.47200411177674|  -0.725480944982201|  0.075081351540202| -0.406866573198217|  -2.19684802485647|  -0.503600328973703|  0.984459785590244|   2.45858857639219| 0.0421188969891572| -0.481630823956716| -0.621272013713977|   0.392053289557744|  0.949594245504846|  46.8|    0|\n",
      "|  15|   1.4929359769862|  -1.02934573189487|  0.45479473374366|  -1.43802587991702|  -1.55543410136344| -0.720961147043557|   -1.08066413038614|-0.0531271179483221|  -1.9786815953872|   1.63807603690446|  1.07754241162743| -0.63204651464934|  -0.41695716661602| 0.0520105153724404|-0.0429789228232019| -0.166432496451972|   0.304241418614353|  0.554432499062278| 0.0542295152184719| -0.387910172646258|  -0.177649846438814| -0.175073809074822| 0.0400022190621329|  0.295813862676508|   0.33293059939425| -0.220384850672322|  0.0222984359135846|0.00760225559997897|     5|    0|\n",
      "+----+------------------+-------------------+------------------+-------------------+-------------------+-------------------+--------------------+-------------------+------------------+-------------------+------------------+------------------+-------------------+-------------------+-------------------+-------------------+--------------------+-------------------+-------------------+-------------------+--------------------+-------------------+-------------------+-------------------+-------------------+-------------------+--------------------+-------------------+------+-----+\n",
      "only showing top 20 rows\n",
      "\n"
     ]
    }
   ],
   "source": [
    "creditCard = spark.read.format(\"csv\").\\\n",
    "                option(\"delimiter\", \",\").\\\n",
    "                option(\"header\",\"true\").\\\n",
    "                option(\"encoding\", \"cp1251\").\\\n",
    "                load(\"creditcard.csv\")\n",
    "creditCard.show()"
   ]
  },
  {
   "cell_type": "markdown",
   "metadata": {},
   "source": [
    "1) Построение классификатора для обнаружения мошеннических операций\n",
    "2) Кластеризация \n",
    "3) Линейная Регрессия для предсказания суммы транзакций"
   ]
  },
  {
   "cell_type": "code",
   "execution_count": 41,
   "metadata": {},
   "outputs": [],
   "source": [
    "creditCard = creditCard.select(*(col(c).cast(\"float\").alias(c) for c in creditCard.columns))"
   ]
  },
  {
   "cell_type": "code",
   "execution_count": 42,
   "metadata": {},
   "outputs": [],
   "source": [
    "features = creditCard.columns[:-1]"
   ]
  },
  {
   "cell_type": "code",
   "execution_count": 43,
   "metadata": {},
   "outputs": [
    {
     "name": "stdout",
     "output_type": "stream",
     "text": [
      "Area Under ROC: 0.9738\n"
     ]
    }
   ],
   "source": [
    "from pyspark.ml.classification import GBTClassifier\n",
    "from pyspark.ml.evaluation import BinaryClassificationEvaluator\n",
    "\n",
    "# Объединим колонки 'Time' и 'Amount' в одну колонку 'features'\n",
    "assembler = VectorAssembler(inputCols=features, outputCol='features')\n",
    "data_prepared = assembler.transform(creditCard)\n",
    "\n",
    "# Разделим данные на обучающий и тестовый наборы\n",
    "train_data, test_data = data_prepared.randomSplit([0.7, 0.3], seed=42)\n",
    "\n",
    "# Обучим модель GBTClassifier\n",
    "gbt = GBTClassifier(labelCol='Class', featuresCol='features', maxIter=10)\n",
    "model = gbt.fit(train_data)\n",
    "\n",
    "# Сделаем предсказания на тестовом наборе\n",
    "predictions = model.transform(test_data)\n",
    "\n",
    "# Оценим качество модели\n",
    "evaluator = BinaryClassificationEvaluator(labelCol='Class', metricName='areaUnderROC')\n",
    "auc = evaluator.evaluate(predictions)\n",
    "print(\"Area Under ROC: %.4f\" % auc)"
   ]
  },
  {
   "cell_type": "code",
   "execution_count": 44,
   "metadata": {},
   "outputs": [
    {
     "name": "stdout",
     "output_type": "stream",
     "text": [
      "+--------------------+----------+\n",
      "|            features|prediction|\n",
      "+--------------------+----------+\n",
      "|[0.0,-1.359807133...|         1|\n",
      "|[0.0,1.1918570995...|         1|\n",
      "|[1.0,-1.358354091...|         1|\n",
      "|[1.0,-0.966271698...|         1|\n",
      "|[2.0,-1.158233046...|         1|\n",
      "+--------------------+----------+\n",
      "only showing top 5 rows\n",
      "\n"
     ]
    }
   ],
   "source": [
    "kmeans = KMeans(k=2, featuresCol='features')\n",
    "model_kmeans = kmeans.fit(data_prepared)\n",
    "\n",
    "# Получим предсказанные кластеры\n",
    "predictions_kmeans = model_kmeans.transform(data_prepared)\n",
    "\n",
    "# Выведем кластеры\n",
    "predictions_kmeans.select('features', 'prediction').show(5)"
   ]
  },
  {
   "cell_type": "code",
   "execution_count": 45,
   "metadata": {},
   "outputs": [
    {
     "name": "stdout",
     "output_type": "stream",
     "text": [
      "Silhouette score =  -0.024190360835891354\n"
     ]
    }
   ],
   "source": [
    "evaluator = ClusteringEvaluator()\n",
    "silhouette = evaluator.evaluate(predictions)\n",
    "print(\"Silhouette score = \", silhouette)"
   ]
  },
  {
   "cell_type": "markdown",
   "metadata": {},
   "source": [
    "А вот здесь скор по кластеризации очень уж плохой"
   ]
  },
  {
   "cell_type": "code",
   "execution_count": 46,
   "metadata": {},
   "outputs": [
    {
     "name": "stdout",
     "output_type": "stream",
     "text": [
      "Root Mean Squared Error: 75.8473\n",
      "r2: 0.9111\n"
     ]
    }
   ],
   "source": [
    "assembler = VectorAssembler(inputCols=['Time',\"Class\"] + ['V'+str(i) for i in range(1, 29)], outputCol='features')\n",
    "data_prepared = assembler.transform(creditCard)\n",
    "\n",
    "train_data_regression, test_data_regression = data_prepared.randomSplit([0.7, 0.3], seed=42)\n",
    "\n",
    "# Обучим модель линейной регрессии\n",
    "lr = LinearRegression(labelCol='Amount', featuresCol='features')\n",
    "model_regression = lr.fit(train_data_regression)\n",
    "\n",
    "# Сделаем предсказания на тестовом наборе\n",
    "predictions_regression = model_regression.transform(test_data_regression)\n",
    "\n",
    "# Оценим качество модели\n",
    "rmse = RegressionEvaluator(labelCol='Amount', metricName='rmse')\n",
    "rmse = rmse.evaluate(predictions_regression)\n",
    "\n",
    "r2 = RegressionEvaluator(labelCol='Amount', metricName='r2')\n",
    "r2 = r2.evaluate(predictions_regression)\n",
    "\n",
    "print(\"Root Mean Squared Error: %.4f\" % rmse)\n",
    "print(\"r2: %.4f\" % r2)\n"
   ]
  },
  {
   "cell_type": "markdown",
   "metadata": {},
   "source": [
    "А предсказывать Amount мы умеем"
   ]
  },
  {
   "cell_type": "markdown",
   "metadata": {},
   "source": [
    "\"All upwork\" Dataset!"
   ]
  },
  {
   "cell_type": "code",
   "execution_count": 47,
   "metadata": {},
   "outputs": [],
   "source": [
    "all_upwork1 = spark.read.format(\"csv\").\\\n",
    "                option(\"delimiter\", \",\").\\\n",
    "                option(\"header\",\"true\").\\\n",
    "                option(\"encoding\", \"cp1251\").\\\n",
    "                load(\"all_upwork_jobs_2024-02-07-2024-03-24.csv\")\n",
    "\n",
    "all_upwork2 = spark.read.format(\"csv\").\\\n",
    "                option(\"delimiter\", \",\").\\\n",
    "                option(\"header\",\"true\").\\\n",
    "                option(\"encoding\", \"cp1251\").\\\n",
    "                load(\"all_upwork_jobs_2024-03-24-2024-05-21.csv\")"
   ]
  },
  {
   "cell_type": "code",
   "execution_count": 48,
   "metadata": {},
   "outputs": [
    {
     "name": "stdout",
     "output_type": "stream",
     "text": [
      "+--------------------+--------------------+--------------------+---------+----------+-----------+------+--------------+\n",
      "|               title|                link|      published_date|is_hourly|hourly_low|hourly_high|budget|       country|\n",
      "+--------------------+--------------------+--------------------+---------+----------+-----------+------+--------------+\n",
      "|Experienced Media...|https://www.upwor...|2024-02-17 09:09:...|    False|      null|       null| 500.0|          null|\n",
      "|Full Stack Developer|https://www.upwor...|2024-02-17 09:09:...|    False|      null|       null|1100.0| United States|\n",
      "|     SMMA Bubble App|https://www.upwor...|2024-02-17 09:08:...|     True|      10.0|       30.0|  null| United States|\n",
      "|Talent Hunter Spe...|https://www.upwor...|2024-02-17 09:08:...|     True|      null|       null|  null| United States|\n",
      "|       Data Engineer|https://www.upwor...|2024-02-17 09:07:...|    False|      null|       null| 650.0|         India|\n",
      "|SEO for Portugues...|https://www.upwor...|2024-02-17 09:07:...|     True|      null|       null|  null|      Portugal|\n",
      "|Want to fix the W...|https://www.upwor...|2024-02-17 09:07:...|    False|      null|       null|   5.0|         India|\n",
      "|need Portuguese w...|https://www.upwor...|2024-02-17 09:07:...|     True|       7.0|       22.0|  null|         India|\n",
      "|Looker Studio Das...|https://www.upwor...|2024-02-17 09:06:...|     True|      null|       null|  null|       Germany|\n",
      "|PHP/HTML/CSS Word...|https://www.upwor...|2024-02-17 09:06:...|    False|      null|       null| 500.0|        Canada|\n",
      "|3D designer neede...|https://www.upwor...|2024-02-17 09:04:...|    False|      null|       null|  50.0|       Germany|\n",
      "|Technical Fashion...|https://www.upwor...|2024-02-17 09:04:...|    False|      null|       null|1200.0| United States|\n",
      "| Affiliate Marketing|https://www.upwor...|2024-02-17 09:04:...|     True|      null|       null|  null|     Singapore|\n",
      "|URGENT: Fix Email...|https://www.upwor...|2024-02-17 09:04:...|     True|      40.0|       75.0|  null|United Kingdom|\n",
      "|US Located So-Me ...|https://www.upwor...|2024-02-17 09:04:...|    False|      null|       null| 300.0|       Denmark|\n",
      "|Web3 Full-stack D...|https://www.upwor...|2024-02-17 09:04:...|     True|      30.0|       50.0|  null|      Malaysia|\n",
      "|Shopify Store spe...|https://www.upwor...|2024-02-17 09:03:...|    False|      null|       null|   5.0| United States|\n",
      "|I need a logo des...|https://www.upwor...|2024-02-17 09:03:...|    False|      null|       null|  20.0|    Bangladesh|\n",
      "|Website design, U...|https://www.upwor...|2024-02-17 09:02:...|     True|      12.0|       30.0|  null|         India|\n",
      "|    Customer Service|https://www.upwor...|2024-02-17 09:01:...|     True|       4.0|        8.0|  null|        Canada|\n",
      "+--------------------+--------------------+--------------------+---------+----------+-----------+------+--------------+\n",
      "only showing top 20 rows\n",
      "\n"
     ]
    }
   ],
   "source": [
    "all_upwork1.show()"
   ]
  },
  {
   "cell_type": "code",
   "execution_count": 49,
   "metadata": {},
   "outputs": [
    {
     "name": "stdout",
     "output_type": "stream",
     "text": [
      "+--------------------+--------------------+--------------------+---------+----------+-----------+------+--------------------+\n",
      "|               title|                link|      published_date|is_hourly|hourly_low|hourly_high|budget|             country|\n",
      "+--------------------+--------------------+--------------------+---------+----------+-----------+------+--------------------+\n",
      "|Real Estate Acqui...|https://www.upwor...|2024-05-20 19:14:...|     true|         4|          6|  null|       United States|\n",
      "|WordPress Pagespe...|https://www.upwor...|2024-05-20 19:14:...|    false|      null|       null|    50|       United States|\n",
      "|Environmental  + ...|https://www.upwor...|2024-05-20 19:14:...|    false|      null|       null|   100|       United States|\n",
      "|Unity 2D/3D Game ...|https://www.upwor...|2024-05-20 19:14:...|     null|      null|       null|  null|            Pakistan|\n",
      "|Senior Ionic Angu...|https://www.upwor...|2024-05-20 19:14:...|     true|        30|         45|  null|            Slovakia|\n",
      "|Google Ads Optimi...|https://www.upwor...|2024-05-20 19:13:...|     null|      null|       null|  null|       United States|\n",
      "|marketing for a n...|https://www.upwor...|2024-05-20 19:13:...|     true|        10|         20|  null|       United States|\n",
      "|Shopify and POD s...|https://www.upwor...|2024-05-20 19:13:...|     true|        13|         28|  null|              Canada|\n",
      "|Mobile-First Web ...|https://www.upwor...|2024-05-20 19:12:...|    false|      null|       null|  5000|       United States|\n",
      "|Hiring Assistant ...|https://www.upwor...|2024-05-20 19:12:...|     null|      null|       null|  null|United Arab Emirates|\n",
      "|Experienced Write...|https://www.upwor...|2024-05-20 19:12:...|     true|        60|         85|  null|       United States|\n",
      "|SQL Server ETL pa...|https://www.upwor...|2024-05-20 19:12:...|    false|      null|       null|    15|       United States|\n",
      "|Appointment Sette...|https://www.upwor...|2024-05-20 19:11:...|    false|      null|       null|  1000|       United States|\n",
      "|Architectural Con...|https://www.upwor...|2024-05-20 19:11:...|    false|      null|       null|   400|       United States|\n",
      "|Data Entry Specia...|https://www.upwor...|2024-05-20 19:11:...|     null|      null|       null|  null|       United States|\n",
      "|Photographer for ...|https://www.upwor...|2024-05-20 19:11:...|    false|      null|       null|   500|       United States|\n",
      "|  Etsy Expert Needed|https://www.upwor...|2024-05-20 19:11:...|    false|      null|       null|    50|          Bangladesh|\n",
      "|Food / Recipe UGC...|https://www.upwor...|2024-05-20 19:11:...|     true|        10|         50|  null|       United States|\n",
      "|A/B Testing for H...|https://www.upwor...|2024-05-20 19:11:...|     true|        45|         80|  null|       United States|\n",
      "|Launch Instantly ...|https://www.upwor...|2024-05-20 19:11:...|    false|      null|       null|   250|       United States|\n",
      "+--------------------+--------------------+--------------------+---------+----------+-----------+------+--------------------+\n",
      "only showing top 20 rows\n",
      "\n"
     ]
    }
   ],
   "source": [
    "all_upwork2.show()"
   ]
  },
  {
   "cell_type": "markdown",
   "metadata": {},
   "source": [
    "Добавление второй таблицы к первой"
   ]
  },
  {
   "cell_type": "code",
   "execution_count": 50,
   "metadata": {},
   "outputs": [],
   "source": [
    "all_upwork = all_upwork1.union(all_upwork2)"
   ]
  },
  {
   "cell_type": "code",
   "execution_count": 51,
   "metadata": {},
   "outputs": [
    {
     "name": "stdout",
     "output_type": "stream",
     "text": [
      "+--------------------+--------------------+--------------------+---------+----------+-----------+------+--------------+\n",
      "|               title|                link|      published_date|is_hourly|hourly_low|hourly_high|budget|       country|\n",
      "+--------------------+--------------------+--------------------+---------+----------+-----------+------+--------------+\n",
      "|Experienced Media...|https://www.upwor...|2024-02-17 09:09:...|    False|      null|       null| 500.0|          null|\n",
      "|Full Stack Developer|https://www.upwor...|2024-02-17 09:09:...|    False|      null|       null|1100.0| United States|\n",
      "|     SMMA Bubble App|https://www.upwor...|2024-02-17 09:08:...|     True|      10.0|       30.0|  null| United States|\n",
      "|Talent Hunter Spe...|https://www.upwor...|2024-02-17 09:08:...|     True|      null|       null|  null| United States|\n",
      "|       Data Engineer|https://www.upwor...|2024-02-17 09:07:...|    False|      null|       null| 650.0|         India|\n",
      "|SEO for Portugues...|https://www.upwor...|2024-02-17 09:07:...|     True|      null|       null|  null|      Portugal|\n",
      "|Want to fix the W...|https://www.upwor...|2024-02-17 09:07:...|    False|      null|       null|   5.0|         India|\n",
      "|need Portuguese w...|https://www.upwor...|2024-02-17 09:07:...|     True|       7.0|       22.0|  null|         India|\n",
      "|Looker Studio Das...|https://www.upwor...|2024-02-17 09:06:...|     True|      null|       null|  null|       Germany|\n",
      "|PHP/HTML/CSS Word...|https://www.upwor...|2024-02-17 09:06:...|    False|      null|       null| 500.0|        Canada|\n",
      "|3D designer neede...|https://www.upwor...|2024-02-17 09:04:...|    False|      null|       null|  50.0|       Germany|\n",
      "|Technical Fashion...|https://www.upwor...|2024-02-17 09:04:...|    False|      null|       null|1200.0| United States|\n",
      "| Affiliate Marketing|https://www.upwor...|2024-02-17 09:04:...|     True|      null|       null|  null|     Singapore|\n",
      "|URGENT: Fix Email...|https://www.upwor...|2024-02-17 09:04:...|     True|      40.0|       75.0|  null|United Kingdom|\n",
      "|US Located So-Me ...|https://www.upwor...|2024-02-17 09:04:...|    False|      null|       null| 300.0|       Denmark|\n",
      "|Web3 Full-stack D...|https://www.upwor...|2024-02-17 09:04:...|     True|      30.0|       50.0|  null|      Malaysia|\n",
      "|Shopify Store spe...|https://www.upwor...|2024-02-17 09:03:...|    False|      null|       null|   5.0| United States|\n",
      "|I need a logo des...|https://www.upwor...|2024-02-17 09:03:...|    False|      null|       null|  20.0|    Bangladesh|\n",
      "|Website design, U...|https://www.upwor...|2024-02-17 09:02:...|     True|      12.0|       30.0|  null|         India|\n",
      "|    Customer Service|https://www.upwor...|2024-02-17 09:01:...|     True|       4.0|        8.0|  null|        Canada|\n",
      "+--------------------+--------------------+--------------------+---------+----------+-----------+------+--------------+\n",
      "only showing top 20 rows\n",
      "\n"
     ]
    }
   ],
   "source": [
    "all_upwork.show()"
   ]
  },
  {
   "cell_type": "markdown",
   "metadata": {},
   "source": [
    "Энкодим стобоце is_hourly и кастим остальные столцбы"
   ]
  },
  {
   "cell_type": "code",
   "execution_count": 52,
   "metadata": {},
   "outputs": [
    {
     "name": "stdout",
     "output_type": "stream",
     "text": [
      "+---------+----------+-----------+------+---+\n",
      "|is_hourly|hourly_low|hourly_high|budget| id|\n",
      "+---------+----------+-----------+------+---+\n",
      "|      0.0|      null|       null| 500.0|  0|\n",
      "|      0.0|      null|       null|1100.0|  1|\n",
      "|      1.0|      10.0|       30.0|  null|  2|\n",
      "|      1.0|      null|       null|  null|  3|\n",
      "|      0.0|      null|       null| 650.0|  4|\n",
      "|      1.0|      null|       null|  null|  5|\n",
      "|      0.0|      null|       null|   5.0|  6|\n",
      "|      1.0|       7.0|       22.0|  null|  7|\n",
      "|      1.0|      null|       null|  null|  8|\n",
      "|      0.0|      null|       null| 500.0|  9|\n",
      "|      0.0|      null|       null|  50.0| 10|\n",
      "|      0.0|      null|       null|1200.0| 11|\n",
      "|      1.0|      null|       null|  null| 12|\n",
      "|      1.0|      40.0|       75.0|  null| 13|\n",
      "|      0.0|      null|       null| 300.0| 14|\n",
      "|      1.0|      30.0|       50.0|  null| 15|\n",
      "|      0.0|      null|       null|   5.0| 16|\n",
      "|      0.0|      null|       null|  20.0| 17|\n",
      "|      1.0|      12.0|       30.0|  null| 18|\n",
      "|      1.0|       4.0|        8.0|  null| 19|\n",
      "+---------+----------+-----------+------+---+\n",
      "only showing top 20 rows\n",
      "\n"
     ]
    }
   ],
   "source": [
    "all_upwork = all_upwork.replace(['False', 'True'], ['0', '1'], 'is_hourly')\n",
    "data = all_upwork.select('is_hourly','hourly_low','hourly_high','budget')\n",
    "data = data.select(*[col(c).cast(\"double\").alias(c) for c in data.columns]).withColumn('id',monotonically_increasing_id())\n",
    "data.show()\n"
   ]
  },
  {
   "cell_type": "markdown",
   "metadata": {},
   "source": [
    "Убираем все записи, где все колонки null, так как в таком случае, непонятно, какая оплата"
   ]
  },
  {
   "cell_type": "code",
   "execution_count": 53,
   "metadata": {},
   "outputs": [],
   "source": [
    "exceptrion_values = data.filter(data.hourly_low.isNull() &\n",
    "                                data.hourly_high.isNull() & \n",
    "                                data.budget.isNull())\n",
    "\n",
    "\n",
    "\n",
    "data = data.exceptAll(exceptrion_values).drop('id')"
   ]
  },
  {
   "cell_type": "code",
   "execution_count": 54,
   "metadata": {},
   "outputs": [
    {
     "name": "stdout",
     "output_type": "stream",
     "text": [
      "+---------+----------+-----------+------+\n",
      "|is_hourly|hourly_low|hourly_high|budget|\n",
      "+---------+----------+-----------+------+\n",
      "|      1.0|      15.0|       35.0|  null|\n",
      "|      0.0|      null|       null| 100.0|\n",
      "|      0.0|      null|       null| 300.0|\n",
      "|      0.0|      null|       null| 500.0|\n",
      "|      1.0|      15.0|       30.0|  null|\n",
      "|      0.0|      null|       null|  18.0|\n",
      "|      0.0|      null|       null|  50.0|\n",
      "|      1.0|       5.0|       10.0|  null|\n",
      "|      1.0|      10.0|       25.0|  null|\n",
      "|      1.0|      10.0|       40.0|  null|\n",
      "|      1.0|      15.0|       30.0|  null|\n",
      "|      1.0|       5.0|       25.0|  null|\n",
      "|      0.0|      null|       null|2000.0|\n",
      "|      1.0|       3.0|       11.0|  null|\n",
      "|      0.0|      null|       null|  20.0|\n",
      "|      1.0|      20.0|       30.0|  null|\n",
      "|      1.0|      35.0|       50.0|  null|\n",
      "|      0.0|      null|       null|  50.0|\n",
      "|      1.0|       5.0|       null|  null|\n",
      "|      0.0|      null|       null| 200.0|\n",
      "+---------+----------+-----------+------+\n",
      "only showing top 20 rows\n",
      "\n"
     ]
    }
   ],
   "source": [
    "data.show()"
   ]
  },
  {
   "cell_type": "markdown",
   "metadata": {},
   "source": [
    "Предсказание бюджета"
   ]
  },
  {
   "cell_type": "code",
   "execution_count": 55,
   "metadata": {},
   "outputs": [
    {
     "name": "stdout",
     "output_type": "stream",
     "text": [
      "Root Mean Squared Error: 11471.6096\n",
      "r2: 0.0016\n"
     ]
    }
   ],
   "source": [
    "\n",
    "\n",
    "assembler = VectorAssembler(inputCols=['is_hourly','hourly_low','hourly_high'], outputCol=\"features\")\n",
    "vec = assembler.transform(data.fillna(0)).select('budget', 'features')\n",
    "\n",
    "maScaler = MaxAbsScaler()\n",
    "maScaler.setInputCol(\"features\")\n",
    "model = maScaler.fit(vec)\n",
    "model.setOutputCol(\"features_scaled\")\n",
    "scaled_data = model.transform(vec).drop('features')\n",
    "\n",
    "\n",
    "# Создание модели линейной регрессии\n",
    "rf = RandomForestRegressor(featuresCol=\"features_scaled\", labelCol=\"budget\")\n",
    "\n",
    "\n",
    "# Разделение данных на обучающий и тестовый набор\n",
    "train_data, test_data = scaled_data.randomSplit([0.8, 0.2])\n",
    "\n",
    "# Обучение модели и оценка качества\n",
    "model = rf.fit(train_data)\n",
    "predictions = model.transform(test_data)\n",
    "\n",
    "\n",
    "rmse = RegressionEvaluator(labelCol='budget', metricName='rmse').evaluate(predictions)\n",
    "\n",
    "\n",
    "r2 = RegressionEvaluator(labelCol='budget', metricName='r2').evaluate(predictions)\n",
    "\n",
    "\n",
    "print(\"Root Mean Squared Error: %.4f\" % rmse)\n",
    "print(\"r2: %.4f\" % r2)"
   ]
  },
  {
   "cell_type": "code",
   "execution_count": 60,
   "metadata": {},
   "outputs": [
    {
     "name": "stdout",
     "output_type": "stream",
     "text": [
      "+---------+----------+-----------+------+\n",
      "|is_hourly|hourly_low|hourly_high|budget|\n",
      "+---------+----------+-----------+------+\n",
      "|      1.0|      15.0|       35.0|  null|\n",
      "|      0.0|      null|       null| 100.0|\n",
      "|      0.0|      null|       null| 300.0|\n",
      "|      0.0|      null|       null| 500.0|\n",
      "|      1.0|      15.0|       30.0|  null|\n",
      "|      0.0|      null|       null|  18.0|\n",
      "|      0.0|      null|       null|  50.0|\n",
      "|      1.0|       5.0|       10.0|  null|\n",
      "|      1.0|      10.0|       25.0|  null|\n",
      "|      1.0|      10.0|       40.0|  null|\n",
      "|      1.0|      15.0|       30.0|  null|\n",
      "|      1.0|       5.0|       25.0|  null|\n",
      "|      0.0|      null|       null|2000.0|\n",
      "|      1.0|       3.0|       11.0|  null|\n",
      "|      0.0|      null|       null|  20.0|\n",
      "|      1.0|      20.0|       30.0|  null|\n",
      "|      1.0|      35.0|       50.0|  null|\n",
      "|      0.0|      null|       null|  50.0|\n",
      "|      1.0|       5.0|       null|  null|\n",
      "|      0.0|      null|       null| 200.0|\n",
      "+---------+----------+-----------+------+\n",
      "only showing top 20 rows\n",
      "\n"
     ]
    }
   ],
   "source": [
    "data.show()"
   ]
  },
  {
   "cell_type": "markdown",
   "metadata": {},
   "source": [
    "2) Кластеризация по зарплатам"
   ]
  },
  {
   "cell_type": "code",
   "execution_count": 61,
   "metadata": {},
   "outputs": [
    {
     "name": "stdout",
     "output_type": "stream",
     "text": [
      "+---------+----------+-----------+------+---------+----------+\n",
      "|is_hourly|hourly_low|hourly_high|budget| features|prediction|\n",
      "+---------+----------+-----------+------+---------+----------+\n",
      "|      0.0|       0.0|        0.0|   5.0|(3,[],[])|         1|\n",
      "|      0.0|       0.0|        0.0|   5.0|(3,[],[])|         1|\n",
      "|      0.0|       0.0|        0.0|   5.0|(3,[],[])|         1|\n",
      "|      0.0|       0.0|        0.0|   5.0|(3,[],[])|         1|\n",
      "|      0.0|       0.0|        0.0|   5.0|(3,[],[])|         1|\n",
      "|      0.0|       0.0|        0.0|   5.0|(3,[],[])|         1|\n",
      "|      0.0|       0.0|        0.0|   5.0|(3,[],[])|         1|\n",
      "|      0.0|       0.0|        0.0|   5.0|(3,[],[])|         1|\n",
      "|      0.0|       0.0|        0.0|   5.0|(3,[],[])|         1|\n",
      "|      0.0|       0.0|        0.0|   5.0|(3,[],[])|         1|\n",
      "|      0.0|       0.0|        0.0|   5.0|(3,[],[])|         1|\n",
      "|      0.0|       0.0|        0.0|   5.0|(3,[],[])|         1|\n",
      "|      0.0|       0.0|        0.0|   5.0|(3,[],[])|         1|\n",
      "|      0.0|       0.0|        0.0|   5.0|(3,[],[])|         1|\n",
      "|      0.0|       0.0|        0.0|   5.0|(3,[],[])|         1|\n",
      "|      0.0|       0.0|        0.0|   5.0|(3,[],[])|         1|\n",
      "|      0.0|       0.0|        0.0|   5.0|(3,[],[])|         1|\n",
      "|      0.0|       0.0|        0.0|   5.0|(3,[],[])|         1|\n",
      "|      0.0|       0.0|        0.0|   5.0|(3,[],[])|         1|\n",
      "|      0.0|       0.0|        0.0|   5.0|(3,[],[])|         1|\n",
      "+---------+----------+-----------+------+---------+----------+\n",
      "only showing top 20 rows\n",
      "\n",
      "Silhouette score =  0.8172134349093124\n"
     ]
    }
   ],
   "source": [
    "\n",
    "\n",
    "# Преобразование ключевых слов в числовой формат\n",
    "assembler = VectorAssembler(inputCols=['is_hourly','hourly_low','hourly_high'], outputCol=\"features\")\n",
    "vec = assembler.transform(data.fillna(0))\n",
    "train_data, test_data = vec.randomSplit([0.7, 0.3])\n",
    "\n",
    "# Создание модели KMeans для кластеризации\n",
    "kmeans = KMeans(k=5, featuresCol=\"features\")\n",
    "\n",
    "\n",
    "# Обучение модели кластеризации\n",
    "model = kmeans.fit(train_data.fillna(0))\n",
    "\n",
    "# Предсказание кластера для каждой вакансии\n",
    "clustered_data = model.transform(test_data)\n",
    "\n",
    "# Вывод кластера для каждой вакансии\n",
    "clustered_data.show()\n",
    "\n",
    "evaluator = ClusteringEvaluator()\n",
    "silhouette = evaluator.evaluate(clustered_data)\n",
    "print(\"Silhouette score = \", silhouette)"
   ]
  },
  {
   "cell_type": "markdown",
   "metadata": {},
   "source": [
    "Классифкатор типа зарплаты по признакам: высокая оплата в час, низкая почасовая оплата,  и имеющийся бюджет компании - признаки,\n",
    "Таргет - is_hourly"
   ]
  },
  {
   "cell_type": "code",
   "execution_count": 63,
   "metadata": {},
   "outputs": [
    {
     "name": "stdout",
     "output_type": "stream",
     "text": [
      "Area Under ROC: 0.8432\n",
      "accuracy = 0.775422\n",
      "f1 = 0.70018\n"
     ]
    }
   ],
   "source": [
    "\n",
    "assembler = VectorAssembler(inputCols=[\"hourly_low\", \"hourly_high\", \"budget\"], outputCol=\"features\")\n",
    "vec = assembler.transform(data.fillna(0)).select('is_hourly', 'features')\n",
    "\n",
    "# Создание модели GBTClassifier для классификации типа зарплаты\n",
    "rf = GBTClassifier(featuresCol=\"features\", labelCol=\"is_hourly\")\n",
    "\n",
    "# Разделение данных на обучающий и тестовый набор\n",
    "train_data, test_data = vec.randomSplit([0.8, 0.2])\n",
    "\n",
    "# Обучение модели и проверка точности классификации\n",
    "model = rf.fit(train_data)\n",
    "predictions = model.transform(test_data)\n",
    "\n",
    "\n",
    "auc = BinaryClassificationEvaluator(labelCol='is_hourly', metricName='areaUnderROC').evaluate(predictions)\n",
    "print(\"Area Under ROC: %.4f\" % auc)\n",
    "\n",
    "accuracy = MulticlassClassificationEvaluator(labelCol=\"is_hourly\", predictionCol=\"prediction\", metricName=\"accuracy\").evaluate(predictions)\n",
    "f1 = MulticlassClassificationEvaluator(labelCol=\"is_hourly\", predictionCol=\"prediction\", metricName=\"f1\").evaluate(predictions)\n",
    "print(\"accuracy = %g\" % accuracy)\n",
    "print(\"f1 = %g\" % f1)"
   ]
  },
  {
   "cell_type": "markdown",
   "metadata": {},
   "source": [
    "Следующий датасет"
   ]
  },
  {
   "cell_type": "code",
   "execution_count": 64,
   "metadata": {},
   "outputs": [],
   "source": [
    "mibici = spark.read.format(\"csv\").\\\n",
    "                option(\"delimiter\", \",\").\\\n",
    "                option(\"header\",\"true\").\\\n",
    "                option(\"encoding\", \"cp1251\").\\\n",
    "                load(\"mibici_2014-2024.csv\")"
   ]
  },
  {
   "cell_type": "code",
   "execution_count": 65,
   "metadata": {},
   "outputs": [
    {
     "name": "stdout",
     "output_type": "stream",
     "text": [
      "root\n",
      " |-- _c0: string (nullable = true)\n",
      " |-- Trip_Id: string (nullable = true)\n",
      " |-- User_Id: string (nullable = true)\n",
      " |-- Sex: string (nullable = true)\n",
      " |-- Birth_year: string (nullable = true)\n",
      " |-- Trip_start: string (nullable = true)\n",
      " |-- Trip_end: string (nullable = true)\n",
      " |-- Origin_Id: string (nullable = true)\n",
      " |-- Destination_Id: string (nullable = true)\n",
      " |-- Age: string (nullable = true)\n",
      " |-- Duration: string (nullable = true)\n",
      "\n"
     ]
    }
   ],
   "source": [
    "mibici.printSchema()"
   ]
  },
  {
   "cell_type": "code",
   "execution_count": 66,
   "metadata": {},
   "outputs": [
    {
     "name": "stdout",
     "output_type": "stream",
     "text": [
      "+---+--------+-------+---+----------+-------------------+-------------------+---------+--------------+---+---------------+\n",
      "|_c0| Trip_Id|User_Id|Sex|Birth_year|         Trip_start|           Trip_end|Origin_Id|Destination_Id|Age|       Duration|\n",
      "+---+--------+-------+---+----------+-------------------+-------------------+---------+--------------+---+---------------+\n",
      "|  0|32244893|1470734|  M|      1981|2024-01-31 23:59:33|2024-02-01 00:11:15|       24|            86| 43|0 days 00:11:42|\n",
      "|  1|32244892|2731702|  M|      1994|2024-01-31 23:59:06|2024-02-01 00:10:49|       48|           279| 30|0 days 00:11:43|\n",
      "|  2|32244891|1431452|  M|      2001|2024-01-31 23:58:48|2024-02-01 00:01:42|      273|           383| 23|0 days 00:02:54|\n",
      "|  3|32244890|2312602|  F|      2003|2024-01-31 23:58:44|2024-02-01 00:01:58|      273|           383| 21|0 days 00:03:14|\n",
      "|  4|32244889|2266427|  M|      1999|2024-01-31 23:58:44|2024-02-01 00:01:39|      273|           383| 25|0 days 00:02:55|\n",
      "|  5|32244888|1071506|  M|      1964|2024-01-31 23:58:43|2024-02-01 00:23:45|       79|            60| 60|0 days 00:25:02|\n",
      "|  6|32244887| 423423|  M|      1990|2024-01-31 23:58:39|2024-02-01 00:13:57|      160|           354| 34|0 days 00:15:18|\n",
      "|  7|32244886|2703032|  M|      1970|2024-01-31 23:58:39|2024-02-01 00:24:03|       78|           289| 54|0 days 00:25:24|\n",
      "|  8|32244884| 452007|  M|      1988|2024-01-31 23:58:00|2024-02-01 00:03:35|      193|            68| 36|0 days 00:05:35|\n",
      "|  9|32244881|  11124|  M|      1991|2024-01-31 23:57:28|2024-02-01 00:12:54|       82|           281| 33|0 days 00:15:26|\n",
      "| 10|32244880| 122177|  M|      1984|2024-01-31 23:57:06|2024-02-01 00:07:48|       82|           271| 40|0 days 00:10:42|\n",
      "| 11|32244879|2316567|  F|      1982|2024-01-31 23:56:11|2024-02-01 00:01:43|      143|           232| 42|0 days 00:05:32|\n",
      "| 12|32244878|2513175|  F|      1999|2024-01-31 23:55:32|2024-02-01 00:01:41|      179|           164| 25|0 days 00:06:09|\n",
      "| 13|32244877| 660765|  M|      1994|2024-01-31 23:55:32|2024-02-01 00:03:56|      179|            82| 30|0 days 00:08:24|\n",
      "| 14|32244876| 167712|  M|      1990|2024-01-31 23:55:16|2024-01-31 23:57:32|      251|           152| 34|0 days 00:02:16|\n",
      "| 15|32244875|2405546|  M|      1972|2024-01-31 23:55:16|2024-02-01 00:06:11|       38|           200| 52|0 days 00:10:55|\n",
      "| 16|32244874|2322444|  F|      2003|2024-01-31 23:54:53|2024-02-01 00:00:56|       49|            46| 21|0 days 00:06:03|\n",
      "| 17|32244873| 225217|  F|      1989|2024-01-31 23:54:44|2024-01-31 23:57:29|      251|           152| 35|0 days 00:02:45|\n",
      "| 18|32244872| 452007|  M|      1988|2024-01-31 23:54:25|2024-01-31 23:56:53|      192|           193| 36|0 days 00:02:28|\n",
      "| 19|32244870|2707223|  M|      1990|2024-01-31 23:54:01|2024-02-01 00:09:13|      188|           364| 34|0 days 00:15:12|\n",
      "+---+--------+-------+---+----------+-------------------+-------------------+---------+--------------+---+---------------+\n",
      "only showing top 20 rows\n",
      "\n"
     ]
    }
   ],
   "source": [
    "mibici.show()"
   ]
  },
  {
   "cell_type": "markdown",
   "metadata": {},
   "source": [
    "Кодируем половые признаки, и также кастим нужные столбцы "
   ]
  },
  {
   "cell_type": "code",
   "execution_count": 67,
   "metadata": {},
   "outputs": [],
   "source": [
    "mibici = mibici.replace(['M','F'],['0','1'], 'Sex')\n",
    "\n",
    "mibici = mibici.withColumn(\"day_duration\", col(\"Duration\").substr(0, 1)).drop(\"Duration\")\n",
    "\n",
    "\n",
    "mibici = mibici.withColumn(\"Trip_start\", to_timestamp(\"Trip_start\", \"yyyy-MM-dd HH:mm:ss\"))\\\n",
    "               .withColumn(\"Trip_end\", to_timestamp(\"Trip_end\", \"yyyy-MM-dd HH:mm:ss\"))\\\n",
    "               .withColumn(\"Birth_year\", mibici.Birth_year.cast('int'))\\\n",
    "               .withColumn(\"Age\", mibici.Age.cast('int'))\\\n",
    "               .withColumn(\"Sex\", mibici.Sex.cast('int'))\\\n",
    "               .withColumn(\"day_duration\", mibici.day_duration.cast('int'))\n"
   ]
  },
  {
   "cell_type": "code",
   "execution_count": null,
   "metadata": {},
   "outputs": [
    {
     "name": "stdout",
     "output_type": "stream",
     "text": [
      "+---+--------+-------+---+----------+-------------------+-------------------+---------+--------------+---+------------+\n",
      "|_c0| Trip_Id|User_Id|Sex|Birth_year|         Trip_start|           Trip_end|Origin_Id|Destination_Id|Age|day_duration|\n",
      "+---+--------+-------+---+----------+-------------------+-------------------+---------+--------------+---+------------+\n",
      "|  0|32244893|1470734|  0|      1981|2024-01-31 23:59:33|2024-02-01 00:11:15|       24|            86| 43|           0|\n",
      "|  1|32244892|2731702|  0|      1994|2024-01-31 23:59:06|2024-02-01 00:10:49|       48|           279| 30|           0|\n",
      "|  2|32244891|1431452|  0|      2001|2024-01-31 23:58:48|2024-02-01 00:01:42|      273|           383| 23|           0|\n",
      "|  3|32244890|2312602|  1|      2003|2024-01-31 23:58:44|2024-02-01 00:01:58|      273|           383| 21|           0|\n",
      "|  4|32244889|2266427|  0|      1999|2024-01-31 23:58:44|2024-02-01 00:01:39|      273|           383| 25|           0|\n",
      "|  5|32244888|1071506|  0|      1964|2024-01-31 23:58:43|2024-02-01 00:23:45|       79|            60| 60|           0|\n",
      "|  6|32244887| 423423|  0|      1990|2024-01-31 23:58:39|2024-02-01 00:13:57|      160|           354| 34|           0|\n",
      "|  7|32244886|2703032|  0|      1970|2024-01-31 23:58:39|2024-02-01 00:24:03|       78|           289| 54|           0|\n",
      "|  8|32244884| 452007|  0|      1988|2024-01-31 23:58:00|2024-02-01 00:03:35|      193|            68| 36|           0|\n",
      "|  9|32244881|  11124|  0|      1991|2024-01-31 23:57:28|2024-02-01 00:12:54|       82|           281| 33|           0|\n",
      "| 10|32244880| 122177|  0|      1984|2024-01-31 23:57:06|2024-02-01 00:07:48|       82|           271| 40|           0|\n",
      "| 11|32244879|2316567|  1|      1982|2024-01-31 23:56:11|2024-02-01 00:01:43|      143|           232| 42|           0|\n",
      "| 12|32244878|2513175|  1|      1999|2024-01-31 23:55:32|2024-02-01 00:01:41|      179|           164| 25|           0|\n",
      "| 13|32244877| 660765|  0|      1994|2024-01-31 23:55:32|2024-02-01 00:03:56|      179|            82| 30|           0|\n",
      "| 14|32244876| 167712|  0|      1990|2024-01-31 23:55:16|2024-01-31 23:57:32|      251|           152| 34|           0|\n",
      "| 15|32244875|2405546|  0|      1972|2024-01-31 23:55:16|2024-02-01 00:06:11|       38|           200| 52|           0|\n",
      "| 16|32244874|2322444|  1|      2003|2024-01-31 23:54:53|2024-02-01 00:00:56|       49|            46| 21|           0|\n",
      "| 17|32244873| 225217|  1|      1989|2024-01-31 23:54:44|2024-01-31 23:57:29|      251|           152| 35|           0|\n",
      "| 18|32244872| 452007|  0|      1988|2024-01-31 23:54:25|2024-01-31 23:56:53|      192|           193| 36|           0|\n",
      "| 19|32244870|2707223|  0|      1990|2024-01-31 23:54:01|2024-02-01 00:09:13|      188|           364| 34|           0|\n",
      "+---+--------+-------+---+----------+-------------------+-------------------+---------+--------------+---+------------+\n",
      "only showing top 20 rows\n",
      "\n"
     ]
    }
   ],
   "source": [
    "mibici.show()"
   ]
  },
  {
   "cell_type": "code",
   "execution_count": null,
   "metadata": {},
   "outputs": [
    {
     "name": "stdout",
     "output_type": "stream",
     "text": [
      "root\n",
      " |-- _c0: string (nullable = true)\n",
      " |-- Trip_Id: string (nullable = true)\n",
      " |-- User_Id: string (nullable = true)\n",
      " |-- Sex: integer (nullable = true)\n",
      " |-- Birth_year: integer (nullable = true)\n",
      " |-- Trip_start: timestamp (nullable = true)\n",
      " |-- Trip_end: timestamp (nullable = true)\n",
      " |-- Origin_Id: string (nullable = true)\n",
      " |-- Destination_Id: string (nullable = true)\n",
      " |-- Age: integer (nullable = true)\n",
      " |-- day_duration: integer (nullable = true)\n",
      "\n"
     ]
    }
   ],
   "source": [
    "mibici.printSchema()"
   ]
  },
  {
   "cell_type": "code",
   "execution_count": null,
   "metadata": {},
   "outputs": [],
   "source": [
    "mibici = mibici.withColumn('Difference_hour',(col(\"Trip_end\").cast(\"long\") - col('Trip_start').cast(\"long\"))/ 3600)\n",
    "mibici = mibici.withColumn('Difference_minutes',col(\"Difference_hour\")*60)\n",
    "mibici = mibici.withColumn('Difference_seconds',col(\"Difference_hour\")*3600)"
   ]
  },
  {
   "cell_type": "code",
   "execution_count": null,
   "metadata": {},
   "outputs": [
    {
     "name": "stdout",
     "output_type": "stream",
     "text": [
      "+---+--------+-------+---+----------+-------------------+-------------------+---------+--------------+---+------------+-------------------+------------------+------------------+\n",
      "|_c0| Trip_Id|User_Id|Sex|Birth_year|         Trip_start|           Trip_end|Origin_Id|Destination_Id|Age|day_duration|    Difference_hour|Difference_minutes|Difference_seconds|\n",
      "+---+--------+-------+---+----------+-------------------+-------------------+---------+--------------+---+------------+-------------------+------------------+------------------+\n",
      "|  0|32244893|1470734|  0|      1981|2024-01-31 23:59:33|2024-02-01 00:11:15|       24|            86| 43|           0|              0.195|11.700000000000001|             702.0|\n",
      "|  1|32244892|2731702|  0|      1994|2024-01-31 23:59:06|2024-02-01 00:10:49|       48|           279| 30|           0|0.19527777777777777|11.716666666666667|             703.0|\n",
      "|  2|32244891|1431452|  0|      2001|2024-01-31 23:58:48|2024-02-01 00:01:42|      273|           383| 23|           0|0.04833333333333333|               2.9|             174.0|\n",
      "|  3|32244890|2312602|  1|      2003|2024-01-31 23:58:44|2024-02-01 00:01:58|      273|           383| 21|           0|0.05388888888888889|3.2333333333333334|             194.0|\n",
      "|  4|32244889|2266427|  0|      1999|2024-01-31 23:58:44|2024-02-01 00:01:39|      273|           383| 25|           0|0.04861111111111111|2.9166666666666665|             175.0|\n",
      "|  5|32244888|1071506|  0|      1964|2024-01-31 23:58:43|2024-02-01 00:23:45|       79|            60| 60|           0| 0.4172222222222222| 25.03333333333333|            1502.0|\n",
      "|  6|32244887| 423423|  0|      1990|2024-01-31 23:58:39|2024-02-01 00:13:57|      160|           354| 34|           0|              0.255|              15.3|             918.0|\n",
      "|  7|32244886|2703032|  0|      1970|2024-01-31 23:58:39|2024-02-01 00:24:03|       78|           289| 54|           0|0.42333333333333334|              25.4|            1524.0|\n",
      "|  8|32244884| 452007|  0|      1988|2024-01-31 23:58:00|2024-02-01 00:03:35|      193|            68| 36|           0|0.09305555555555556| 5.583333333333334|             335.0|\n",
      "|  9|32244881|  11124|  0|      1991|2024-01-31 23:57:28|2024-02-01 00:12:54|       82|           281| 33|           0|0.25722222222222224|15.433333333333334| 926.0000000000001|\n",
      "| 10|32244880| 122177|  0|      1984|2024-01-31 23:57:06|2024-02-01 00:07:48|       82|           271| 40|           0|0.17833333333333334|10.700000000000001|             642.0|\n",
      "| 11|32244879|2316567|  1|      1982|2024-01-31 23:56:11|2024-02-01 00:01:43|      143|           232| 42|           0|0.09222222222222222| 5.533333333333333|             332.0|\n",
      "| 12|32244878|2513175|  1|      1999|2024-01-31 23:55:32|2024-02-01 00:01:41|      179|           164| 25|           0|             0.1025|6.1499999999999995|             369.0|\n",
      "| 13|32244877| 660765|  0|      1994|2024-01-31 23:55:32|2024-02-01 00:03:56|      179|            82| 30|           0|               0.14|               8.4|504.00000000000006|\n",
      "| 14|32244876| 167712|  0|      1990|2024-01-31 23:55:16|2024-01-31 23:57:32|      251|           152| 34|           0|0.03777777777777778|2.2666666666666666|             136.0|\n",
      "| 15|32244875|2405546|  0|      1972|2024-01-31 23:55:16|2024-02-01 00:06:11|       38|           200| 52|           0|0.18194444444444444|10.916666666666666|             655.0|\n",
      "| 16|32244874|2322444|  1|      2003|2024-01-31 23:54:53|2024-02-01 00:00:56|       49|            46| 21|           0|0.10083333333333333|              6.05|             363.0|\n",
      "| 17|32244873| 225217|  1|      1989|2024-01-31 23:54:44|2024-01-31 23:57:29|      251|           152| 35|           0|0.04583333333333333|              2.75|             165.0|\n",
      "| 18|32244872| 452007|  0|      1988|2024-01-31 23:54:25|2024-01-31 23:56:53|      192|           193| 36|           0|0.04111111111111111| 2.466666666666667|             148.0|\n",
      "| 19|32244870|2707223|  0|      1990|2024-01-31 23:54:01|2024-02-01 00:09:13|      188|           364| 34|           0|0.25333333333333335|15.200000000000001| 912.0000000000001|\n",
      "+---+--------+-------+---+----------+-------------------+-------------------+---------+--------------+---+------------+-------------------+------------------+------------------+\n",
      "only showing top 20 rows\n",
      "\n"
     ]
    }
   ],
   "source": [
    "mibici.show()"
   ]
  },
  {
   "cell_type": "markdown",
   "metadata": {},
   "source": [
    "Классификация пользователей по полу в заивимсоти от возраста и продолжительности поездки"
   ]
  },
  {
   "cell_type": "code",
   "execution_count": null,
   "metadata": {},
   "outputs": [
    {
     "name": "stdout",
     "output_type": "stream",
     "text": [
      "accuracy = 0.740672\n",
      "f1 = 0.630325\n",
      "Area Under ROC: 0.5973\n"
     ]
    }
   ],
   "source": [
    "\n",
    "\n",
    "assembler = VectorAssembler(inputCols=[\"Age\", \"day_duration\",\"Difference_hour\"], outputCol=\"features\")\n",
    "data = assembler.transform(mibici)\n",
    "\n",
    "# Создание модели логистической регрессии для классификации пола\n",
    "lr = GBTClassifier(featuresCol=\"features\", labelCol=\"Sex\")\n",
    "\n",
    "# Разделение данных на обучающий и тестовый набор\n",
    "train_data, test_data = data.randomSplit([0.8, 0.2])\n",
    "\n",
    "# Обучение модели и оценка качества\n",
    "model = lr.fit(train_data)\n",
    "predictions = model.transform(test_data)\n",
    "\n",
    "accuracy = MulticlassClassificationEvaluator(labelCol=\"Sex\", predictionCol=\"prediction\", metricName=\"accuracy\").evaluate(predictions)\n",
    "f1 = MulticlassClassificationEvaluator(labelCol=\"Sex\", predictionCol=\"prediction\", metricName=\"f1\").evaluate(predictions)\n",
    "auc = BinaryClassificationEvaluator(labelCol='Sex', metricName='areaUnderROC').evaluate(predictions)\n",
    "\n",
    "print(\"accuracy = %g\" % accuracy)\n",
    "print(\"f1 = %g\" % f1)\n",
    "print(\"Area Under ROC: %.4f\" % auc)"
   ]
  },
  {
   "cell_type": "markdown",
   "metadata": {},
   "source": [
    "По полу и количеству времени в пути будет предсказывать пол"
   ]
  },
  {
   "cell_type": "code",
   "execution_count": null,
   "metadata": {},
   "outputs": [],
   "source": [
    "assembler = VectorAssembler(inputCols=[\"day_duration\",'Sex','Difference_hour'], outputCol=\"features\")\n",
    "data = assembler.transform(mibici)\n",
    "\n",
    "scaler = RobustScaler()\n",
    "scaler.setInputCol(\"features\")\n",
    "model = scaler.fit(data)\n",
    "model.setOutputCol(\"features_scaled\")\n",
    "scaled_data = model.transform(data).drop('features')\n"
   ]
  },
  {
   "cell_type": "code",
   "execution_count": null,
   "metadata": {},
   "outputs": [
    {
     "name": "stdout",
     "output_type": "stream",
     "text": [
      "Root Mean Squared Error: 10.2558\n",
      "r2: 0.0171\n"
     ]
    }
   ],
   "source": [
    "# Создание модели линейной регрессии для предсказания возраста\n",
    "lr = DecisionTreeRegressor(featuresCol=\"features_scaled\", labelCol=\"Age\")\n",
    "\n",
    "train_data, test_data = scaled_data.randomSplit([0.8, 0.2])\n",
    "\n",
    "# Обучение модели\n",
    "model = lr.fit(train_data)\n",
    "\n",
    "# Предсказание возраста на основе продолжительности поездки\n",
    "predictions = model.transform(test_data)\n",
    "\n",
    "rmse = RegressionEvaluator(labelCol='Age', metricName='rmse').evaluate(predictions)\n",
    "r2 = RegressionEvaluator(labelCol='Age', metricName='r2').evaluate(predictions)\n",
    "\n",
    "\n",
    "print(\"Root Mean Squared Error: %.4f\" % rmse)\n",
    "print(\"r2: %.4f\" % r2)"
   ]
  },
  {
   "cell_type": "markdown",
   "metadata": {},
   "source": [
    "Кластеризация пользователей на основе возраста и продолжительности поездки"
   ]
  },
  {
   "cell_type": "code",
   "execution_count": null,
   "metadata": {},
   "outputs": [],
   "source": [
    "\n",
    "\n",
    "assembler = VectorAssembler(inputCols=[\"Age\",\"Difference_hour\"], outputCol=\"features\")\n",
    "data = assembler.transform(mibici)\n",
    "\n",
    "train_data, test_data = data.randomSplit([0.8, 0.2])\n",
    "\n",
    "kmeans = KMeans(k=3, featuresCol=\"features\")\n",
    "\n",
    "# Обучение модели кластеризации\n",
    "model = kmeans.fit(train_data)\n",
    "\n",
    "\n"
   ]
  },
  {
   "cell_type": "code",
   "execution_count": null,
   "metadata": {},
   "outputs": [
    {
     "name": "stdout",
     "output_type": "stream",
     "text": [
      "Silhouette score =  0.7833634390733011\n"
     ]
    }
   ],
   "source": [
    "predictions = model.transform(test_data)\n",
    "silhouette = ClusteringEvaluator().evaluate(predictions)\n",
    "\n",
    "print(\"Silhouette score = \", silhouette)"
   ]
  },
  {
   "cell_type": "markdown",
   "metadata": {},
   "source": [
    "Переходим к последнему датасету"
   ]
  },
  {
   "cell_type": "code",
   "execution_count": 102,
   "metadata": {},
   "outputs": [],
   "source": [
    "sqlite_file = r'database.sqlite'\n",
    "\n",
    "country = spark.read.format(\"jdbc\") \\\n",
    "           .option(\"url\", f\"jdbc:sqlite:{sqlite_file}\") \\\n",
    "           .option(\"dbtable\", \"country\") \\\n",
    "           .load() \n",
    "league = spark.read.format(\"jdbc\") \\\n",
    "           .option(\"url\", f\"jdbc:sqlite:{sqlite_file}\") \\\n",
    "           .option(\"dbtable\", \"League\") \\\n",
    "           .load() \n",
    "match = spark.read.format(\"jdbc\") \\\n",
    "           .option(\"url\", f\"jdbc:sqlite:{sqlite_file}\") \\\n",
    "           .option(\"dbtable\", \"Match\") \\\n",
    "           .load() \n",
    "player = spark.read.format(\"jdbc\") \\\n",
    "           .option(\"url\", f\"jdbc:sqlite:{sqlite_file}\") \\\n",
    "           .option(\"dbtable\", \"Player\") \\\n",
    "           .load() \n",
    "player_attr = spark.read.format(\"jdbc\") \\\n",
    "           .option(\"url\", f\"jdbc:sqlite:{sqlite_file}\") \\\n",
    "           .option(\"dbtable\", \"Player_Attributes\") \\\n",
    "           .load() \n",
    " \n",
    "team = spark.read.format(\"jdbc\") \\\n",
    "           .option(\"url\", f\"jdbc:sqlite:{sqlite_file}\") \\\n",
    "           .option(\"dbtable\", \"Team\") \\\n",
    "           .load() \n",
    " \n",
    "team_attr = spark.read.format(\"jdbc\") \\\n",
    "           .option(\"url\", f\"jdbc:sqlite:{sqlite_file}\") \\\n",
    "           .option(\"dbtable\", \"Team_Attributes\") \\\n",
    "           .load() \n"
   ]
  },
  {
   "cell_type": "code",
   "execution_count": 103,
   "metadata": {},
   "outputs": [
    {
     "name": "stdout",
     "output_type": "stream",
     "text": [
      "+-----+----------+--------------------+\n",
      "|   id|country_id|                name|\n",
      "+-----+----------+--------------------+\n",
      "|    1|         1|Belgium Jupiler L...|\n",
      "| 1729|      1729|England Premier L...|\n",
      "| 4769|      4769|      France Ligue 1|\n",
      "| 7809|      7809|Germany 1. Bundes...|\n",
      "|10257|     10257|       Italy Serie A|\n",
      "|13274|     13274|Netherlands Eredi...|\n",
      "|15722|     15722|  Poland Ekstraklasa|\n",
      "|17642|     17642|Portugal Liga ZON...|\n",
      "|19694|     19694|Scotland Premier ...|\n",
      "|21518|     21518|     Spain LIGA BBVA|\n",
      "|24558|     24558|Switzerland Super...|\n",
      "+-----+----------+--------------------+\n",
      "\n"
     ]
    }
   ],
   "source": [
    "league.show()"
   ]
  },
  {
   "cell_type": "code",
   "execution_count": 104,
   "metadata": {},
   "outputs": [
    {
     "name": "stdout",
     "output_type": "stream",
     "text": [
      "+---+----------+---------+---------+-----+-------------------+------------+----------------+----------------+--------------+--------------+--------------+--------------+--------------+--------------+--------------+--------------+--------------+--------------+--------------+---------------+---------------+--------------+--------------+--------------+--------------+--------------+--------------+--------------+--------------+--------------+---------------+---------------+--------------+--------------+--------------+--------------+--------------+--------------+--------------+--------------+--------------+---------------+---------------+--------------+--------------+--------------+--------------+--------------+--------------+--------------+--------------+--------------+---------------+---------------+-------------+-------------+-------------+-------------+-------------+-------------+-------------+-------------+-------------+--------------+--------------+-------------+-------------+-------------+-------------+-------------+-------------+-------------+-------------+-------------+--------------+--------------+----+------+-------+----------+----+-----+------+----------+--------------------+--------------------+--------------------+--------------------+--------------------+--------------------+--------------------+--------------------+--------------------+--------------------+--------------------+--------------------+----+----+----+--------------------+--------------------+--------------------+--------------------+--------------------+--------------------+--------------------+--------------------+--------------------+--------------------+--------------------+--------------------+--------------------+--------------------+--------------------+\n",
      "| id|country_id|league_id|   season|stage|               date|match_api_id|home_team_api_id|away_team_api_id|home_team_goal|away_team_goal|home_player_X1|home_player_X2|home_player_X3|home_player_X4|home_player_X5|home_player_X6|home_player_X7|home_player_X8|home_player_X9|home_player_X10|home_player_X11|away_player_X1|away_player_X2|away_player_X3|away_player_X4|away_player_X5|away_player_X6|away_player_X7|away_player_X8|away_player_X9|away_player_X10|away_player_X11|home_player_Y1|home_player_Y2|home_player_Y3|home_player_Y4|home_player_Y5|home_player_Y6|home_player_Y7|home_player_Y8|home_player_Y9|home_player_Y10|home_player_Y11|away_player_Y1|away_player_Y2|away_player_Y3|away_player_Y4|away_player_Y5|away_player_Y6|away_player_Y7|away_player_Y8|away_player_Y9|away_player_Y10|away_player_Y11|home_player_1|home_player_2|home_player_3|home_player_4|home_player_5|home_player_6|home_player_7|home_player_8|home_player_9|home_player_10|home_player_11|away_player_1|away_player_2|away_player_3|away_player_4|away_player_5|away_player_6|away_player_7|away_player_8|away_player_9|away_player_10|away_player_11|goal|shoton|shotoff|foulcommit|card|cross|corner|possession|               B365H|               B365D|               B365A|                 BWH|                 BWD|                 BWA|                 IWH|                 IWD|                 IWA|                 LBH|                 LBD|                 LBA| PSH| PSD| PSA|                 WHH|                 WHD|                 WHA|                 SJH|                 SJD|                 SJA|                 VCH|                 VCD|                 VCA|                 GBH|                 GBD|                 GBA|                 BSH|                 BSD|                 BSA|\n",
      "+---+----------+---------+---------+-----+-------------------+------------+----------------+----------------+--------------+--------------+--------------+--------------+--------------+--------------+--------------+--------------+--------------+--------------+--------------+---------------+---------------+--------------+--------------+--------------+--------------+--------------+--------------+--------------+--------------+--------------+---------------+---------------+--------------+--------------+--------------+--------------+--------------+--------------+--------------+--------------+--------------+---------------+---------------+--------------+--------------+--------------+--------------+--------------+--------------+--------------+--------------+--------------+---------------+---------------+-------------+-------------+-------------+-------------+-------------+-------------+-------------+-------------+-------------+--------------+--------------+-------------+-------------+-------------+-------------+-------------+-------------+-------------+-------------+-------------+--------------+--------------+----+------+-------+----------+----+-----+------+----------+--------------------+--------------------+--------------------+--------------------+--------------------+--------------------+--------------------+--------------------+--------------------+--------------------+--------------------+--------------------+----+----+----+--------------------+--------------------+--------------------+--------------------+--------------------+--------------------+--------------------+--------------------+--------------------+--------------------+--------------------+--------------------+--------------------+--------------------+--------------------+\n",
      "|  1|         1|        1|2008/2009|    1|2008-08-17 00:00:00|      492473|            9987|            9993|             1|             1|          null|          null|          null|          null|          null|          null|          null|          null|          null|           null|           null|          null|          null|          null|          null|          null|          null|          null|          null|          null|           null|           null|          null|          null|          null|          null|          null|          null|          null|          null|          null|           null|           null|          null|          null|          null|          null|          null|          null|          null|          null|          null|           null|           null|         null|         null|         null|         null|         null|         null|         null|         null|         null|          null|          null|         null|         null|         null|         null|         null|         null|         null|         null|         null|          null|          null|null|  null|   null|      null|null| null|  null|      null|1.730000000000000000|3.400000000000000000|5.000000000000000000|1.750000000000000000|3.350000000000000000|4.200000000000000000|1.850000000000000000|3.200000000000000000|3.500000000000000000|1.800000000000000000|3.300000000000000000|3.750000000000000000|null|null|null|1.700000000000000000|3.300000000000000000|4.330000000000000000|1.900000000000000000|3.300000000000000000|4.000000000000000000|1.650000000000000000|3.400000000000000000|4.500000000000000000|1.780000000000000000|3.250000000000000000|4.000000000000000000|1.730000000000000000|3.400000000000000000|4.200000000000000000|\n",
      "|  2|         1|        1|2008/2009|    1|2008-08-16 00:00:00|      492474|           10000|            9994|             0|             0|          null|          null|          null|          null|          null|          null|          null|          null|          null|           null|           null|          null|          null|          null|          null|          null|          null|          null|          null|          null|           null|           null|          null|          null|          null|          null|          null|          null|          null|          null|          null|           null|           null|          null|          null|          null|          null|          null|          null|          null|          null|          null|           null|           null|         null|         null|         null|         null|         null|         null|         null|         null|         null|          null|          null|         null|         null|         null|         null|         null|         null|         null|         null|         null|          null|          null|null|  null|   null|      null|null| null|  null|      null|1.950000000000000000|3.200000000000000000|3.600000000000000000|1.800000000000000000|3.300000000000000000|3.950000000000000000|1.900000000000000000|3.200000000000000000|3.500000000000000000|1.900000000000000000|3.200000000000000000|3.500000000000000000|null|null|null|1.830000000000000000|3.300000000000000000|3.600000000000000000|1.950000000000000000|3.300000000000000000|3.800000000000000000|2.000000000000000000|3.250000000000000000|3.250000000000000000|1.850000000000000000|3.250000000000000000|3.750000000000000000|1.910000000000000000|3.250000000000000000|3.600000000000000000|\n",
      "|  3|         1|        1|2008/2009|    1|2008-08-16 00:00:00|      492475|            9984|            8635|             0|             3|          null|          null|          null|          null|          null|          null|          null|          null|          null|           null|           null|          null|          null|          null|          null|          null|          null|          null|          null|          null|           null|           null|          null|          null|          null|          null|          null|          null|          null|          null|          null|           null|           null|          null|          null|          null|          null|          null|          null|          null|          null|          null|           null|           null|         null|         null|         null|         null|         null|         null|         null|         null|         null|          null|          null|         null|         null|         null|         null|         null|         null|         null|         null|         null|          null|          null|null|  null|   null|      null|null| null|  null|      null|2.380000000000000000|3.300000000000000000|2.750000000000000000|2.400000000000000000|3.300000000000000000|2.550000000000000000|2.600000000000000000|3.100000000000000000|2.300000000000000000|2.500000000000000000|3.200000000000000000|2.500000000000000000|null|null|null|2.500000000000000000|3.250000000000000000|2.400000000000000000|2.630000000000000000|3.300000000000000000|2.500000000000000000|2.350000000000000000|3.250000000000000000|2.650000000000000000|2.500000000000000000|3.200000000000000000|2.500000000000000000|2.300000000000000000|3.200000000000000000|2.750000000000000000|\n",
      "|  4|         1|        1|2008/2009|    1|2008-08-17 00:00:00|      492476|            9991|            9998|             5|             0|          null|          null|          null|          null|          null|          null|          null|          null|          null|           null|           null|          null|          null|          null|          null|          null|          null|          null|          null|          null|           null|           null|          null|          null|          null|          null|          null|          null|          null|          null|          null|           null|           null|          null|          null|          null|          null|          null|          null|          null|          null|          null|           null|           null|         null|         null|         null|         null|         null|         null|         null|         null|         null|          null|          null|         null|         null|         null|         null|         null|         null|         null|         null|         null|          null|          null|null|  null|   null|      null|null| null|  null|      null|1.440000000000000000|3.750000000000000000|7.500000000000000000|1.400000000000000000|4.000000000000000000|6.800000000000000000|1.400000000000000000|3.900000000000000000|6.000000000000000000|1.440000000000000000|3.600000000000000000|6.500000000000000000|null|null|null|1.440000000000000000|3.750000000000000000|6.000000000000000000|1.440000000000000000|4.000000000000000000|7.500000000000000000|1.450000000000000000|3.750000000000000000|6.500000000000000000|1.500000000000000000|3.750000000000000000|5.500000000000000000|1.440000000000000000|3.750000000000000000|6.500000000000000000|\n",
      "|  5|         1|        1|2008/2009|    1|2008-08-16 00:00:00|      492477|            7947|            9985|             1|             3|          null|          null|          null|          null|          null|          null|          null|          null|          null|           null|           null|          null|          null|          null|          null|          null|          null|          null|          null|          null|           null|           null|          null|          null|          null|          null|          null|          null|          null|          null|          null|           null|           null|          null|          null|          null|          null|          null|          null|          null|          null|          null|           null|           null|         null|         null|         null|         null|         null|         null|         null|         null|         null|          null|          null|         null|         null|         null|         null|         null|         null|         null|         null|         null|          null|          null|null|  null|   null|      null|null| null|  null|      null|5.000000000000000000|3.500000000000000000|1.650000000000000000|5.000000000000000000|3.500000000000000000|1.600000000000000000|4.000000000000000000|3.300000000000000000|1.700000000000000000|4.000000000000000000|3.400000000000000000|1.720000000000000000|null|null|null|4.200000000000000000|3.400000000000000000|1.700000000000000000|4.500000000000000000|3.500000000000000000|1.730000000000000000|4.500000000000000000|3.400000000000000000|1.650000000000000000|4.500000000000000000|3.500000000000000000|1.650000000000000000|4.750000000000000000|3.300000000000000000|1.670000000000000000|\n",
      "|  6|         1|        1|2008/2009|    1|2008-09-24 00:00:00|      492478|            8203|            8342|             1|             1|          null|          null|          null|          null|          null|          null|          null|          null|          null|           null|           null|          null|          null|          null|          null|          null|          null|          null|          null|          null|           null|           null|          null|          null|          null|          null|          null|          null|          null|          null|          null|           null|           null|          null|          null|          null|          null|          null|          null|          null|          null|          null|           null|           null|         null|         null|         null|         null|         null|         null|         null|         null|         null|          null|          null|         null|         null|         null|         null|         null|         null|         null|         null|         null|          null|          null|null|  null|   null|      null|null| null|  null|      null|4.750000000000000000|3.400000000000000000|1.670000000000000000|4.850000000000000000|3.400000000000000000|1.650000000000000000|3.700000000000000000|3.200000000000000000|1.800000000000000000|5.000000000000000000|3.250000000000000000|1.620000000000000000|null|null|null|4.200000000000000000|3.400000000000000000|1.700000000000000000|5.500000000000000000|3.750000000000000000|1.670000000000000000|4.350000000000000000|3.400000000000000000|1.700000000000000000|4.500000000000000000|3.400000000000000000|1.700000000000000000|                null|                null|                null|\n",
      "|  7|         1|        1|2008/2009|    1|2008-08-16 00:00:00|      492479|            9999|            8571|             2|             2|          null|          null|          null|          null|          null|          null|          null|          null|          null|           null|           null|          null|          null|          null|          null|          null|          null|          null|          null|          null|           null|           null|          null|          null|          null|          null|          null|          null|          null|          null|          null|           null|           null|          null|          null|          null|          null|          null|          null|          null|          null|          null|           null|           null|         null|         null|         null|         null|         null|         null|         null|         null|         null|          null|          null|         null|         null|         null|         null|         null|         null|         null|         null|         null|          null|          null|null|  null|   null|      null|null| null|  null|      null|2.100000000000000000|3.200000000000000000|3.300000000000000000|2.050000000000000000|3.250000000000000000|3.150000000000000000|1.850000000000000000|3.200000000000000000|3.500000000000000000|1.830000000000000000|3.300000000000000000|3.600000000000000000|null|null|null|1.830000000000000000|3.300000000000000000|3.600000000000000000|1.910000000000000000|3.400000000000000000|3.600000000000000000|2.100000000000000000|3.250000000000000000|3.000000000000000000|1.850000000000000000|3.250000000000000000|3.750000000000000000|2.100000000000000000|3.250000000000000000|3.100000000000000000|\n",
      "|  8|         1|        1|2008/2009|    1|2008-08-16 00:00:00|      492480|            4049|            9996|             1|             2|          null|          null|          null|          null|          null|          null|          null|          null|          null|           null|           null|          null|          null|          null|          null|          null|          null|          null|          null|          null|           null|           null|          null|          null|          null|          null|          null|          null|          null|          null|          null|           null|           null|          null|          null|          null|          null|          null|          null|          null|          null|          null|           null|           null|         null|         null|         null|         null|         null|         null|         null|         null|         null|          null|          null|         null|         null|         null|         null|         null|         null|         null|         null|         null|          null|          null|null|  null|   null|      null|null| null|  null|      null|3.200000000000000000|3.400000000000000000|2.200000000000000000|2.550000000000000000|3.300000000000000000|2.400000000000000000|2.400000000000000000|3.200000000000000000|2.400000000000000000|2.500000000000000000|3.200000000000000000|2.500000000000000000|null|null|null|2.700000000000000000|3.250000000000000000|2.250000000000000000|2.600000000000000000|3.400000000000000000|2.400000000000000000|2.800000000000000000|3.250000000000000000|2.250000000000000000|2.800000000000000000|3.200000000000000000|2.250000000000000000|2.880000000000000000|3.250000000000000000|2.200000000000000000|\n",
      "|  9|         1|        1|2008/2009|    1|2008-08-16 00:00:00|      492481|           10001|            9986|             1|             0|          null|          null|          null|          null|          null|          null|          null|          null|          null|           null|           null|          null|          null|          null|          null|          null|          null|          null|          null|          null|           null|           null|          null|          null|          null|          null|          null|          null|          null|          null|          null|           null|           null|          null|          null|          null|          null|          null|          null|          null|          null|          null|           null|           null|         null|         null|         null|         null|         null|         null|         null|         null|         null|          null|          null|         null|         null|         null|         null|         null|         null|         null|         null|         null|          null|          null|null|  null|   null|      null|null| null|  null|      null|2.250000000000000000|3.250000000000000000|2.880000000000000000|2.300000000000000000|3.250000000000000000|2.700000000000000000|2.100000000000000000|3.100000000000000000|3.000000000000000000|2.250000000000000000|3.200000000000000000|2.750000000000000000|null|null|null|2.200000000000000000|3.250000000000000000|2.750000000000000000|2.200000000000000000|3.300000000000000000|3.100000000000000000|2.250000000000000000|3.250000000000000000|2.800000000000000000|2.200000000000000000|3.300000000000000000|2.800000000000000000|2.250000000000000000|3.200000000000000000|2.800000000000000000|\n",
      "| 10|         1|        1|2008/2009|   10|2008-11-01 00:00:00|      492564|            8342|            8571|             4|             1|          null|          null|          null|          null|          null|          null|          null|          null|          null|           null|           null|          null|          null|          null|          null|          null|          null|          null|          null|          null|           null|           null|          null|          null|          null|          null|          null|          null|          null|          null|          null|           null|           null|          null|          null|          null|          null|          null|          null|          null|          null|          null|           null|           null|         null|         null|         null|         null|         null|         null|         null|         null|         null|          null|          null|         null|         null|         null|         null|         null|         null|         null|         null|         null|          null|          null|null|  null|   null|      null|null| null|  null|      null|1.300000000000000000|5.250000000000000000|9.500000000000000000|1.250000000000000000|5.000000000000000000|10.00000000000000...|1.300000000000000000|4.200000000000000000|8.000000000000000000|1.250000000000000000|4.500000000000000000|10.00000000000000...|null|null|null|1.350000000000000000|4.200000000000000000|7.000000000000000000|1.270000000000000000|5.000000000000000000|10.00000000000000...|1.300000000000000000|4.350000000000000000|8.500000000000000000|1.250000000000000000|5.000000000000000000|10.00000000000000...|1.290000000000000000|4.500000000000000000|9.000000000000000000|\n",
      "| 11|         1|        1|2008/2009|   10|2008-10-31 00:00:00|      492565|            9985|            9986|             1|             2|          null|          null|          null|          null|          null|          null|          null|          null|          null|           null|           null|          null|          null|          null|          null|          null|          null|          null|          null|          null|           null|           null|          null|          null|          null|          null|          null|          null|          null|          null|          null|           null|           null|          null|          null|          null|          null|          null|          null|          null|          null|          null|           null|           null|         null|         null|         null|         null|         null|         null|         null|         null|         null|          null|          null|         null|         null|         null|         null|         null|         null|         null|         null|         null|          null|          null|null|  null|   null|      null|null| null|  null|      null|1.300000000000000000|5.250000000000000000|9.500000000000000000|1.250000000000000000|5.000000000000000000|10.00000000000000...|1.300000000000000000|4.200000000000000000|8.000000000000000000|1.290000000000000000|4.330000000000000000|9.000000000000000000|null|null|null|1.250000000000000000|4.500000000000000000|9.500000000000000000|1.270000000000000000|5.000000000000000000|10.00000000000000...|1.280000000000000000|4.500000000000000000|8.500000000000000000|1.250000000000000000|5.000000000000000000|10.00000000000000...|1.250000000000000000|5.000000000000000000|9.000000000000000000|\n",
      "| 12|         1|        1|2008/2009|   10|2008-11-02 00:00:00|      492566|           10000|            9991|             0|             2|          null|          null|          null|          null|          null|          null|          null|          null|          null|           null|           null|          null|          null|          null|          null|          null|          null|          null|          null|          null|           null|           null|          null|          null|          null|          null|          null|          null|          null|          null|          null|           null|           null|          null|          null|          null|          null|          null|          null|          null|          null|          null|           null|           null|         null|         null|         null|         null|         null|         null|         null|         null|         null|          null|          null|         null|         null|         null|         null|         null|         null|         null|         null|         null|          null|          null|null|  null|   null|      null|null| null|  null|      null|2.600000000000000000|3.200000000000000000|2.500000000000000000|2.600000000000000000|3.200000000000000000|2.400000000000000000|2.400000000000000000|3.200000000000000000|2.400000000000000000|2.500000000000000000|3.200000000000000000|2.500000000000000000|null|null|null|2.600000000000000000|3.100000000000000000|2.400000000000000000|2.600000000000000000|3.250000000000000000|2.500000000000000000|2.650000000000000000|3.300000000000000000|2.300000000000000000|2.600000000000000000|3.250000000000000000|2.500000000000000000|2.620000000000000000|3.200000000000000000|2.380000000000000000|\n",
      "| 13|         1|        1|2008/2009|   10|2008-11-01 00:00:00|      492567|            9994|            9998|             0|             0|          null|          null|          null|          null|          null|          null|          null|          null|          null|           null|           null|          null|          null|          null|          null|          null|          null|          null|          null|          null|           null|           null|          null|          null|          null|          null|          null|          null|          null|          null|          null|           null|           null|          null|          null|          null|          null|          null|          null|          null|          null|          null|           null|           null|         null|         null|         null|         null|         null|         null|         null|         null|         null|          null|          null|         null|         null|         null|         null|         null|         null|         null|         null|         null|          null|          null|null|  null|   null|      null|null| null|  null|      null|1.910000000000000000|3.400000000000000000|4.000000000000000000|1.850000000000000000|3.350000000000000000|3.800000000000000000|1.800000000000000000|3.100000000000000000|3.800000000000000000|1.800000000000000000|3.300000000000000000|3.750000000000000000|null|null|null|1.800000000000000000|3.300000000000000000|3.750000000000000000|1.800000000000000000|3.300000000000000000|4.250000000000000000|2.000000000000000000|3.200000000000000000|3.400000000000000000|1.850000000000000000|3.300000000000000000|4.000000000000000000|1.830000000000000000|3.300000000000000000|3.800000000000000000|\n",
      "| 14|         1|        1|2008/2009|   10|2008-11-01 00:00:00|      492568|            7947|           10001|             2|             2|          null|          null|          null|          null|          null|          null|          null|          null|          null|           null|           null|          null|          null|          null|          null|          null|          null|          null|          null|          null|           null|           null|          null|          null|          null|          null|          null|          null|          null|          null|          null|           null|           null|          null|          null|          null|          null|          null|          null|          null|          null|          null|           null|           null|         null|         null|         null|         null|         null|         null|         null|         null|         null|          null|          null|         null|         null|         null|         null|         null|         null|         null|         null|         null|          null|          null|null|  null|   null|      null|null| null|  null|      null|2.900000000000000000|3.300000000000000000|2.380000000000000000|2.750000000000000000|3.300000000000000000|2.250000000000000000|2.500000000000000000|3.200000000000000000|2.300000000000000000|2.600000000000000000|3.200000000000000000|2.380000000000000000|null|null|null|2.750000000000000000|3.200000000000000000|2.250000000000000000|2.800000000000000000|3.200000000000000000|2.380000000000000000|2.750000000000000000|3.200000000000000000|2.300000000000000000|2.750000000000000000|3.250000000000000000|2.350000000000000000|2.750000000000000000|3.200000000000000000|2.300000000000000000|\n",
      "| 15|         1|        1|2008/2009|   10|2008-11-01 00:00:00|      492569|            8203|            9999|             1|             2|          null|          null|          null|          null|          null|          null|          null|          null|          null|           null|           null|          null|          null|          null|          null|          null|          null|          null|          null|          null|           null|           null|          null|          null|          null|          null|          null|          null|          null|          null|          null|           null|           null|          null|          null|          null|          null|          null|          null|          null|          null|          null|           null|           null|         null|         null|         null|         null|         null|         null|         null|         null|         null|          null|          null|         null|         null|         null|         null|         null|         null|         null|         null|         null|          null|          null|null|  null|   null|      null|null| null|  null|      null|1.700000000000000000|3.300000000000000000|4.500000000000000000|1.750000000000000000|3.450000000000000000|4.000000000000000000|1.700000000000000000|3.200000000000000000|4.200000000000000000|1.670000000000000000|3.300000000000000000|4.500000000000000000|null|null|null|1.700000000000000000|3.400000000000000000|4.200000000000000000|1.700000000000000000|3.400000000000000000|4.750000000000000000|1.700000000000000000|3.400000000000000000|4.350000000000000000|1.750000000000000000|3.400000000000000000|4.250000000000000000|1.700000000000000000|3.400000000000000000|4.330000000000000000|\n",
      "| 16|         1|        1|2008/2009|   10|2008-11-01 00:00:00|      492570|            9996|            9984|             0|             1|          null|          null|          null|          null|          null|          null|          null|          null|          null|           null|           null|          null|          null|          null|          null|          null|          null|          null|          null|          null|           null|           null|          null|          null|          null|          null|          null|          null|          null|          null|          null|           null|           null|          null|          null|          null|          null|          null|          null|          null|          null|          null|           null|           null|         null|         null|         null|         null|         null|         null|         null|         null|         null|          null|          null|         null|         null|         null|         null|         null|         null|         null|         null|         null|          null|          null|null|  null|   null|      null|null| null|  null|      null|2.350000000000000000|3.300000000000000000|3.000000000000000000|2.350000000000000000|3.250000000000000000|2.700000000000000000|2.200000000000000000|3.100000000000000000|2.800000000000000000|2.200000000000000000|3.200000000000000000|2.800000000000000000|null|null|null|2.200000000000000000|3.200000000000000000|2.800000000000000000|2.300000000000000000|3.250000000000000000|2.880000000000000000|2.200000000000000000|3.250000000000000000|2.900000000000000000|2.300000000000000000|3.250000000000000000|2.850000000000000000|2.300000000000000000|3.200000000000000000|2.750000000000000000|\n",
      "| 17|         1|        1|2008/2009|   10|2008-11-01 00:00:00|      492571|            4049|            9987|             1|             3|          null|          null|          null|          null|          null|          null|          null|          null|          null|           null|           null|          null|          null|          null|          null|          null|          null|          null|          null|          null|           null|           null|          null|          null|          null|          null|          null|          null|          null|          null|          null|           null|           null|          null|          null|          null|          null|          null|          null|          null|          null|          null|           null|           null|         null|         null|         null|         null|         null|         null|         null|         null|         null|          null|          null|         null|         null|         null|         null|         null|         null|         null|         null|         null|          null|          null|null|  null|   null|      null|null| null|  null|      null|6.000000000000000000|3.750000000000000000|1.570000000000000000|5.100000000000000000|3.600000000000000000|1.550000000000000000|4.600000000000000000|3.400000000000000000|1.600000000000000000|5.500000000000000000|3.600000000000000000|1.500000000000000000|null|null|null|5.250000000000000000|3.500000000000000000|1.550000000000000000|5.250000000000000000|3.500000000000000000|1.620000000000000000|5.500000000000000000|3.500000000000000000|1.550000000000000000|5.250000000000000000|3.600000000000000000|1.600000000000000000|6.000000000000000000|3.600000000000000000|1.500000000000000000|\n",
      "| 18|         1|        1|2008/2009|   10|2008-11-02 00:00:00|      492572|            9993|            8635|             1|             3|          null|          null|          null|          null|          null|          null|          null|          null|          null|           null|           null|          null|          null|          null|          null|          null|          null|          null|          null|          null|           null|           null|          null|          null|          null|          null|          null|          null|          null|          null|          null|           null|           null|          null|          null|          null|          null|          null|          null|          null|          null|          null|           null|           null|         null|         null|         null|         null|         null|         null|         null|         null|         null|          null|          null|         null|         null|         null|         null|         null|         null|         null|         null|         null|          null|          null|null|  null|   null|      null|null| null|  null|      null|4.000000000000000000|3.250000000000000000|1.830000000000000000|4.300000000000000000|3.500000000000000000|1.680000000000000000|3.700000000000000000|3.200000000000000000|1.800000000000000000|4.000000000000000000|3.400000000000000000|1.730000000000000000|null|null|null|4.000000000000000000|3.300000000000000000|1.750000000000000000|4.250000000000000000|3.300000000000000000|1.800000000000000000|3.600000000000000000|3.250000000000000000|1.900000000000000000|4.100000000000000000|3.400000000000000000|1.800000000000000000|3.800000000000000000|3.300000000000000000|1.830000000000000000|\n",
      "| 19|         1|        1|2008/2009|   11|2008-11-08 00:00:00|      492573|            8635|            9994|             2|             3|          null|          null|          null|          null|          null|          null|          null|          null|          null|           null|           null|          null|          null|          null|          null|          null|          null|          null|          null|          null|           null|           null|          null|          null|          null|          null|          null|          null|          null|          null|          null|           null|           null|          null|          null|          null|          null|          null|          null|          null|          null|          null|           null|           null|         null|         null|         null|         null|         null|         null|         null|         null|         null|          null|          null|         null|         null|         null|         null|         null|         null|         null|         null|         null|          null|          null|null|  null|   null|      null|null| null|  null|      null|1.360000000000000000|4.750000000000000000|8.500000000000000000|1.250000000000000000|5.000000000000000000|9.000000000000000000|1.300000000000000000|4.200000000000000000|8.000000000000000000|1.360000000000000000|4.000000000000000000|7.000000000000000000|null|null|null|1.300000000000000000|4.200000000000000000|8.500000000000000000|1.330000000000000000|4.500000000000000000|9.000000000000000000|1.280000000000000000|4.500000000000000000|8.500000000000000000|1.300000000000000000|4.750000000000000000|7.500000000000000000|1.300000000000000000|4.500000000000000000|8.500000000000000000|\n",
      "| 20|         1|        1|2008/2009|   11|2008-11-08 00:00:00|      492574|            9998|            9996|             0|             0|          null|          null|          null|          null|          null|          null|          null|          null|          null|           null|           null|          null|          null|          null|          null|          null|          null|          null|          null|          null|           null|           null|          null|          null|          null|          null|          null|          null|          null|          null|          null|           null|           null|          null|          null|          null|          null|          null|          null|          null|          null|          null|           null|           null|         null|         null|         null|         null|         null|         null|         null|         null|         null|          null|          null|         null|         null|         null|         null|         null|         null|         null|         null|         null|          null|          null|null|  null|   null|      null|null| null|  null|      null|2.400000000000000000|3.300000000000000000|2.900000000000000000|2.250000000000000000|3.200000000000000000|2.800000000000000000|2.200000000000000000|3.100000000000000000|2.800000000000000000|2.500000000000000000|3.200000000000000000|2.500000000000000000|null|null|null|2.300000000000000000|3.250000000000000000|2.600000000000000000|2.400000000000000000|3.300000000000000000|2.750000000000000000|2.350000000000000000|3.250000000000000000|2.650000000000000000|2.300000000000000000|3.200000000000000000|2.750000000000000000|2.300000000000000000|3.250000000000000000|2.700000000000000000|\n",
      "+---+----------+---------+---------+-----+-------------------+------------+----------------+----------------+--------------+--------------+--------------+--------------+--------------+--------------+--------------+--------------+--------------+--------------+--------------+---------------+---------------+--------------+--------------+--------------+--------------+--------------+--------------+--------------+--------------+--------------+---------------+---------------+--------------+--------------+--------------+--------------+--------------+--------------+--------------+--------------+--------------+---------------+---------------+--------------+--------------+--------------+--------------+--------------+--------------+--------------+--------------+--------------+---------------+---------------+-------------+-------------+-------------+-------------+-------------+-------------+-------------+-------------+-------------+--------------+--------------+-------------+-------------+-------------+-------------+-------------+-------------+-------------+-------------+-------------+--------------+--------------+----+------+-------+----------+----+-----+------+----------+--------------------+--------------------+--------------------+--------------------+--------------------+--------------------+--------------------+--------------------+--------------------+--------------------+--------------------+--------------------+----+----+----+--------------------+--------------------+--------------------+--------------------+--------------------+--------------------+--------------------+--------------------+--------------------+--------------------+--------------------+--------------------+--------------------+--------------------+--------------------+\n",
      "only showing top 20 rows\n",
      "\n"
     ]
    }
   ],
   "source": [
    "match.show()"
   ]
  },
  {
   "cell_type": "markdown",
   "metadata": {},
   "source": [
    "Смотрим сколько есть уникальных голов есть для home_team"
   ]
  },
  {
   "cell_type": "code",
   "execution_count": 105,
   "metadata": {},
   "outputs": [
    {
     "data": {
      "text/plain": [
       "11"
      ]
     },
     "execution_count": 105,
     "metadata": {},
     "output_type": "execute_result"
    }
   ],
   "source": [
    "match.select('home_team_goal').distinct().count()\n"
   ]
  },
  {
   "cell_type": "code",
   "execution_count": 106,
   "metadata": {},
   "outputs": [],
   "source": [
    "country = country.withColumn('EncodeCountry', monotonically_increasing_id()).drop('name')\n",
    "match = match.join(country, country.id == match.country_id)"
   ]
  },
  {
   "cell_type": "code",
   "execution_count": 107,
   "metadata": {},
   "outputs": [
    {
     "name": "stdout",
     "output_type": "stream",
     "text": [
      "+-----+----------+---------+---------+-----+-------------------+------------+----------------+----------------+--------------+--------------+--------------+--------------+--------------+--------------+--------------+--------------+--------------+--------------+--------------+---------------+---------------+--------------+--------------+--------------+--------------+--------------+--------------+--------------+--------------+--------------+---------------+---------------+--------------+--------------+--------------+--------------+--------------+--------------+--------------+--------------+--------------+---------------+---------------+--------------+--------------+--------------+--------------+--------------+--------------+--------------+--------------+--------------+---------------+---------------+-------------+-------------+-------------+-------------+-------------+-------------+-------------+-------------+-------------+--------------+--------------+-------------+-------------+-------------+-------------+-------------+-------------+-------------+-------------+-------------+--------------+--------------+--------------------+--------------------+--------------------+--------------------+--------------------+--------------------+--------------------+--------------------+--------------------+--------------------+--------------------+--------------------+--------------------+--------------------+--------------------+--------------------+--------------------+--------------------+--------------------+--------------------+----+----+----+--------------------+--------------------+--------------------+--------------------+--------------------+--------------------+--------------------+--------------------+--------------------+--------------------+--------------------+--------------------+--------------------+--------------------+--------------------+-----+-------------+\n",
      "|   id|country_id|league_id|   season|stage|               date|match_api_id|home_team_api_id|away_team_api_id|home_team_goal|away_team_goal|home_player_X1|home_player_X2|home_player_X3|home_player_X4|home_player_X5|home_player_X6|home_player_X7|home_player_X8|home_player_X9|home_player_X10|home_player_X11|away_player_X1|away_player_X2|away_player_X3|away_player_X4|away_player_X5|away_player_X6|away_player_X7|away_player_X8|away_player_X9|away_player_X10|away_player_X11|home_player_Y1|home_player_Y2|home_player_Y3|home_player_Y4|home_player_Y5|home_player_Y6|home_player_Y7|home_player_Y8|home_player_Y9|home_player_Y10|home_player_Y11|away_player_Y1|away_player_Y2|away_player_Y3|away_player_Y4|away_player_Y5|away_player_Y6|away_player_Y7|away_player_Y8|away_player_Y9|away_player_Y10|away_player_Y11|home_player_1|home_player_2|home_player_3|home_player_4|home_player_5|home_player_6|home_player_7|home_player_8|home_player_9|home_player_10|home_player_11|away_player_1|away_player_2|away_player_3|away_player_4|away_player_5|away_player_6|away_player_7|away_player_8|away_player_9|away_player_10|away_player_11|                goal|              shoton|             shotoff|          foulcommit|                card|               cross|              corner|          possession|               B365H|               B365D|               B365A|                 BWH|                 BWD|                 BWA|                 IWH|                 IWD|                 IWA|                 LBH|                 LBD|                 LBA| PSH| PSD| PSA|                 WHH|                 WHD|                 WHA|                 SJH|                 SJD|                 SJA|                 VCH|                 VCD|                 VCA|                 GBH|                 GBD|                 GBA|                 BSH|                 BSD|                 BSA|   id|EncodeCountry|\n",
      "+-----+----------+---------+---------+-----+-------------------+------------+----------------+----------------+--------------+--------------+--------------+--------------+--------------+--------------+--------------+--------------+--------------+--------------+--------------+---------------+---------------+--------------+--------------+--------------+--------------+--------------+--------------+--------------+--------------+--------------+---------------+---------------+--------------+--------------+--------------+--------------+--------------+--------------+--------------+--------------+--------------+---------------+---------------+--------------+--------------+--------------+--------------+--------------+--------------+--------------+--------------+--------------+---------------+---------------+-------------+-------------+-------------+-------------+-------------+-------------+-------------+-------------+-------------+--------------+--------------+-------------+-------------+-------------+-------------+-------------+-------------+-------------+-------------+-------------+--------------+--------------+--------------------+--------------------+--------------------+--------------------+--------------------+--------------------+--------------------+--------------------+--------------------+--------------------+--------------------+--------------------+--------------------+--------------------+--------------------+--------------------+--------------------+--------------------+--------------------+--------------------+----+----+----+--------------------+--------------------+--------------------+--------------------+--------------------+--------------------+--------------------+--------------------+--------------------+--------------------+--------------------+--------------------+--------------------+--------------------+--------------------+-----+-------------+\n",
      "|10257|     10257|    10257|2008/2009|    1|2008-08-31 00:00:00|      537632|            8524|            8551|             1|             0|             1|             2|             4|             6|             8|             2|             4|             6|             8|              5|              5|             1|             2|             4|             6|             8|             3|             5|             7|             5|              4|              6|             1|             3|             3|             3|             3|             7|             7|             7|             7|              9|             11|             1|             3|             3|             3|             3|             5|             5|             5|             8|             10|             10|        42390|        41930|        39210|        41869|        39201|        39190|        39197|        42579|        42645|         38762|         27657|        27691|        22355|        41378|        24792|        41878|        24854|        38938|        37541|        39393|         42041|         30284|<goal><value><com...|          <shoton />|         <shotoff />|      <foulcommit />|<card><value><com...|           <cross />|          <corner />|      <possession />|2.050000000000000000|3.100000000000000000|4.000000000000000000|2.000000000000000000|2.900000000000000000|3.850000000000000000|1.850000000000000000|3.100000000000000000|4.000000000000000000|1.830000000000000000|2.880000000000000000|4.330000000000000000|null|null|null|1.950000000000000000|2.880000000000000000|3.800000000000000000|2.000000000000000000|3.000000000000000000|4.330000000000000000|2.000000000000000000|3.000000000000000000|3.500000000000000000|2.000000000000000000|3.000000000000000000|4.000000000000000000|1.830000000000000000|3.000000000000000000|4.200000000000000000|10257|            4|\n",
      "|10258|     10257|    10257|2008/2009|    1|2008-08-31 00:00:00|      537633|            8529|            8543|             1|             4|             1|             2|             4|             6|             8|             3|             5|             7|             4|              6|              5|             1|             2|             4|             6|             8|             2|             4|             6|             8|              4|              6|             1|             3|             3|             3|             3|             6|             6|             6|             8|              8|             11|             1|             3|             3|             3|             3|             7|             7|             7|             7|             10|             10|        39599|        24414|        24412|        24403|        39763|        24391|        24405|        39222|        41326|         42091|         96509|        25735|        30474|        39731|        30918|        16351|        39444|        39334|        41629|        25594|         25597|         18506|<goal><value><com...|          <shoton />|         <shotoff />|      <foulcommit />|<card><value><com...|           <cross />|          <corner />|      <possession />|3.000000000000000000|3.000000000000000000|2.500000000000000000|2.600000000000000000|2.950000000000000000|2.650000000000000000|2.600000000000000000|2.900000000000000000|2.700000000000000000|2.700000000000000000|2.750000000000000000|2.600000000000000000|null|null|null|2.620000000000000000|2.900000000000000000|2.500000000000000000|2.800000000000000000|3.000000000000000000|2.700000000000000000|3.000000000000000000|2.800000000000000000|2.400000000000000000|2.700000000000000000|3.000000000000000000|2.600000000000000000|2.500000000000000000|3.000000000000000000|2.620000000000000000|10257|            4|\n",
      "|10259|     10257|    10257|2008/2009|    1|2008-08-31 00:00:00|      537634|            8530|           10233|             1|             0|             1|             2|             4|             6|             8|             4|             6|             3|             5|              7|              5|             1|             2|             4|             6|             8|             3|             5|             7|             3|              5|              7|             1|             3|             3|             3|             3|             6|             6|             8|             8|              8|             11|             1|             3|             3|             3|             3|             7|             7|             7|            10|             10|             10|        37503|        39714|        39274|        18823|        28907|        56992|        18816|        96534|        40865|         39706|         37520|        42702|        27660|        31214|        41882|        41760|        38368|        41757|        27680|        37767|          null|         39495|<goal><value><com...|          <shoton />|         <shotoff />|      <foulcommit />|<card><value><com...|           <cross />|          <corner />|      <possession />|2.400000000000000000|3.000000000000000000|3.200000000000000000|2.200000000000000000|2.900000000000000000|3.350000000000000000|2.300000000000000000|2.900000000000000000|3.000000000000000000|2.300000000000000000|2.800000000000000000|3.000000000000000000|null|null|null|2.250000000000000000|2.880000000000000000|3.000000000000000000|2.300000000000000000|3.000000000000000000|3.400000000000000000|2.300000000000000000|3.000000000000000000|3.000000000000000000|2.400000000000000000|2.900000000000000000|3.000000000000000000|2.300000000000000000|3.000000000000000000|2.880000000000000000|10257|            4|\n",
      "|10260|     10257|    10257|2008/2009|    1|2008-08-31 00:00:00|      537635|            8533|            8690|             2|             1|             1|             2|             4|             6|             8|             3|             5|             7|             3|              5|              7|             1|             2|             4|             6|             8|             2|             4|             6|             8|              4|              6|             1|             3|             3|             3|             3|             7|             7|             7|            10|             10|             10|             1|             3|             3|             3|             3|             7|             7|             7|             7|             10|             10|        24454|        24440|        39721|        39702|        24443|        42003|        42581|        39286|        24436|         24448|         42582|        39510|        27678|        39441|        27785|        39509|        39360|        30920|        39525|        24516|         34531|         39502|<goal><value><com...|          <shoton />|         <shotoff />|      <foulcommit />|<card><value><com...|           <cross />|          <corner />|      <possession />|2.150000000000000000|3.000000000000000000|3.750000000000000000|2.100000000000000000|2.900000000000000000|3.600000000000000000|2.100000000000000000|2.900000000000000000|3.400000000000000000|2.100000000000000000|3.000000000000000000|3.200000000000000000|null|null|null|2.050000000000000000|2.880000000000000000|3.500000000000000000|2.250000000000000000|3.000000000000000000|3.500000000000000000|2.000000000000000000|3.000000000000000000|3.500000000000000000|2.150000000000000000|3.000000000000000000|3.400000000000000000|2.100000000000000000|3.000000000000000000|3.250000000000000000|10257|            4|\n",
      "|10261|     10257|    10257|2008/2009|    1|2008-08-31 00:00:00|      537636|            8535|            9885|             1|             1|             1|             2|             4|             6|             8|             3|             5|             7|             3|              5|              7|             1|             2|             4|             6|             8|             2|             4|             6|             8|              4|              6|             1|             3|             3|             3|             3|             7|             7|             7|            10|             10|             10|             1|             3|             3|             3|             3|             7|             7|             7|             7|             10|             10|        24503|        39729|        24504|        24013|        39719|        24459|        33888|        24502|        31725|         30881|         40165|        30717|        30861|        41412|        30736|        24791|        41888|        41890|        32937|        30725|         38827|         30727|<goal><value><com...|<shoton><value><s...|<shotoff><value><...|<foulcommit><valu...|<card><value><com...|<cross><value><st...|<corner><value><s...|<possession><valu...|2.750000000000000000|3.000000000000000000|2.750000000000000000|2.600000000000000000|2.900000000000000000|2.650000000000000000|2.550000000000000000|3.100000000000000000|2.550000000000000000|2.600000000000000000|2.800000000000000000|2.600000000000000000|null|null|null|2.600000000000000000|2.800000000000000000|2.600000000000000000|2.700000000000000000|3.000000000000000000|2.800000000000000000|2.600000000000000000|3.000000000000000000|2.600000000000000000|2.700000000000000000|3.000000000000000000|2.600000000000000000|2.500000000000000000|3.000000000000000000|2.620000000000000000|10257|            4|\n",
      "|10262|     10257|    10257|2008/2009|    1|2008-08-31 00:00:00|      537637|            8564|            9857|             1|             2|             1|             2|             4|             6|             8|             3|             5|             7|             4|              6|              5|             1|             2|             4|             6|             8|             4|             6|             3|             5|              7|              5|             1|             3|             3|             3|             3|             6|             6|             6|             8|              8|             11|             1|             3|             3|             3|             3|             6|             6|             8|             8|              8|             11|        34530|        34534|        26099|        26098|        30870|        23688|        30731|        32751|        26096|         30743|         30729|        41243|        27701|        39440|        41874|        39203|        31499|        27703|        41749|        41861|         42433|         32749|<goal><value><com...|          <shoton />|         <shotoff />|      <foulcommit />|<card><value><com...|           <cross />|          <corner />|      <possession />|1.300000000000000000|4.750000000000000000|12.00000000000000...|1.220000000000000000|4.950000000000000000|12.70000000000000...|1.300000000000000000|4.400000000000000000|8.500000000000000000|1.300000000000000000|4.200000000000000000|9.000000000000000000|null|null|null|1.300000000000000000|4.200000000000000000|8.500000000000000000|1.330000000000000000|4.600000000000000000|10.00000000000000...|1.300000000000000000|4.350000000000000000|9.500000000000000000|1.330000000000000000|4.500000000000000000|10.00000000000000...|1.250000000000000000|4.750000000000000000|10.00000000000000...|10257|            4|\n",
      "|10263|     10257|    10257|2008/2009|    1|2008-08-31 00:00:00|      537638|            8686|            9875|             1|             1|             1|             2|             4|             6|             8|             4|             6|             3|             5|              7|              5|             1|             3|             4|             7|             1|             3|             5|             7|             9|              4|              6|             1|             3|             3|             3|             3|             6|             6|             8|             8|              8|             11|             1|             3|             3|             3|             7|             7|             7|             7|             7|             10|             10|        39351|        30996|        30453|        41023|        24130|        30682|        37545|        31938|        27694|         38717|         38822|        42042|        41666|        32769|        27668|        39535|        41887|        56585|        41658|        41350|         35421|         18925|<goal><value><com...|          <shoton />|         <shotoff />|      <foulcommit />|<card><value><com...|           <cross />|          <corner />|      <possession />|1.570000000000000000|3.600000000000000000|6.500000000000000000|1.460000000000000000|3.500000000000000000|7.500000000000000000|1.500000000000000000|3.500000000000000000|6.300000000000000000|1.500000000000000000|3.300000000000000000|6.500000000000000000|null|null|null|1.530000000000000000|3.300000000000000000|6.000000000000000000|1.620000000000000000|3.250000000000000000|6.000000000000000000|1.500000000000000000|3.400000000000000000|6.500000000000000000|1.600000000000000000|3.400000000000000000|6.000000000000000000|1.530000000000000000|3.400000000000000000|6.000000000000000000|10257|            4|\n",
      "|10264|     10257|    10257|2008/2009|    1|2008-08-30 00:00:00|      537639|            9882|            8636|             1|             1|             1|             3|             5|             7|             1|             3|             5|             7|             9|              5|              5|             1|             2|             4|             6|             8|             3|             5|             7|             3|              5|              7|             1|             3|             3|             3|             7|             7|             7|             7|             7|              9|             11|             1|             3|             3|             3|             3|             7|             7|             7|            10|             10|             10|        35644|        42388|        24793|        33414|        41667|        33706|        27702|        39534|        39539|         39533|         32748|        30989|        34305|        30930|        30716|        34304|        30460|        30724|        30905|        30696|         35724|         39349|<goal><value><com...|<shoton><value><s...|<shotoff><value><...|<foulcommit><valu...|<card><value><com...|<cross><value><st...|<corner><value><s...|<possession><valu...|4.330000000000000000|3.200000000000000000|1.910000000000000000|4.500000000000000000|3.150000000000000000|1.800000000000000000|4.200000000000000000|3.000000000000000000|1.850000000000000000|4.000000000000000000|2.880000000000000000|1.910000000000000000|null|null|null|3.750000000000000000|3.000000000000000000|1.910000000000000000|4.200000000000000000|3.200000000000000000|1.950000000000000000|4.000000000000000000|3.100000000000000000|1.850000000000000000|4.330000000000000000|3.000000000000000000|1.900000000000000000|4.200000000000000000|3.000000000000000000|1.830000000000000000|10257|            4|\n",
      "|10265|     10257|    10257|2008/2009|    1|2008-08-31 00:00:00|      537640|            9804|            9888|             3|             0|             1|             2|             4|             6|             8|             3|             5|             7|             4|              6|              5|             1|             2|             4|             6|             8|             2|             4|             6|             8|              4|              6|             1|             3|             3|             3|             3|             6|             6|             6|             8|              8|             11|             1|             3|             3|             3|             3|             7|             7|             7|             7|             10|             10|        39323|        34319|        38943|        24492|        73845|        37525|        27661|        42944|        31304|         27686|         27690|        27558|        17836|        27565|        39185|        45244|        39428|        27598|        39701|        39200|         42387|         24456|<goal><value><com...|          <shoton />|         <shotoff />|      <foulcommit />|<card><value><com...|           <cross />|          <corner />|      <possession />|1.800000000000000000|3.100000000000000000|5.250000000000000000|1.800000000000000000|3.000000000000000000|4.700000000000000000|1.850000000000000000|3.000000000000000000|4.200000000000000000|1.800000000000000000|3.000000000000000000|4.330000000000000000|null|null|null|1.800000000000000000|3.000000000000000000|4.200000000000000000|1.750000000000000000|3.250000000000000000|5.000000000000000000|1.750000000000000000|3.200000000000000000|4.500000000000000000|1.800000000000000000|3.200000000000000000|4.500000000000000000|1.730000000000000000|3.100000000000000000|4.750000000000000000|10257|            4|\n",
      "|10266|     10257|    10257|2008/2009|    1|2008-08-30 00:00:00|      537641|            8600|            8540|             3|             1|             1|             2|             4|             6|             8|             3|             5|             7|             3|              5|              7|             1|             2|             4|             6|             8|             3|             5|             7|             3|              5|              7|             1|             3|             3|             3|             3|             7|             7|             7|            10|             10|             10|             1|             3|             3|             3|             3|             7|             7|             7|            10|             10|             10|        42422|        27669|        39643|        37515|        39357|       109298|        39644|        25818|        39232|         39540|         27734|        30713|        24493|        39423|        39419|        24622|        39207|        31288|        39367|        40601|         49677|         32747|<goal><value><com...|<shoton><value><s...|<shotoff><value><...|<foulcommit><valu...|<card><value><com...|<cross><value><st...|<corner><value><s...|<possession><valu...|2.100000000000000000|3.100000000000000000|3.800000000000000000|2.100000000000000000|3.000000000000000000|3.400000000000000000|2.000000000000000000|3.000000000000000000|3.600000000000000000|1.910000000000000000|3.000000000000000000|3.750000000000000000|null|null|null|2.050000000000000000|2.880000000000000000|3.500000000000000000|2.100000000000000000|3.000000000000000000|4.000000000000000000|2.000000000000000000|3.000000000000000000|3.500000000000000000|2.100000000000000000|3.000000000000000000|3.600000000000000000|2.000000000000000000|3.000000000000000000|3.600000000000000000|10257|            4|\n",
      "|10267|     10257|    10257|2008/2009|   10|2008-11-02 00:00:00|      539645|            8600|           10233|             2|             2|             1|             2|             4|             6|             8|             3|             5|             7|             3|              5|              7|             1|             2|             4|             6|             8|             3|             5|             7|             3|              5|              7|             1|             3|             3|             3|             3|             7|             7|             7|            10|             10|             10|             1|             3|             3|             3|             3|             7|             7|             7|            10|             10|             10|        42422|        27669|        39643|        41318|        37515|        25818|        39644|       109298|        39232|         41542|         50047|        42702|        39314|        31214|        41882|        37526|        38368|        26852|        41757|        40601|         30549|         39495|<goal><value><com...|          <shoton />|         <shotoff />|      <foulcommit />|<card><value><com...|           <cross />|          <corner />|      <possession />|1.800000000000000000|3.200000000000000000|5.000000000000000000|1.700000000000000000|3.200000000000000000|5.000000000000000000|1.800000000000000000|3.100000000000000000|4.200000000000000000|1.700000000000000000|3.200000000000000000|4.500000000000000000|null|null|null|1.730000000000000000|3.200000000000000000|4.330000000000000000|1.900000000000000000|3.200000000000000000|4.500000000000000000|1.700000000000000000|3.100000000000000000|5.000000000000000000|1.750000000000000000|3.150000000000000000|5.250000000000000000|1.830000000000000000|3.100000000000000000|4.200000000000000000|10257|            4|\n",
      "|10268|     10257|    10257|2008/2009|   10|2008-11-02 00:00:00|      539646|            8551|            8535|             1|             0|             1|             2|             4|             6|             8|             3|             5|             7|             5|              4|              6|             1|             2|             4|             6|             8|             3|             5|             7|             3|              5|              7|             1|             3|             3|             3|             3|             5|             5|             5|             8|             10|             10|             1|             3|             3|             3|             3|             7|             7|             7|            10|             10|             10|        27691|        50074|        74009|        24792|        39229|        24854|        38938|        37541|        39393|         42041|         30284|        24503|        39621|        24013|        24504|        24536|        24502|        33888|        24459|        31725|         24549|         39311|<goal><value><com...|          <shoton />|         <shotoff />|      <foulcommit />|<card><value><com...|           <cross />|          <corner />|      <possession />|3.000000000000000000|3.000000000000000000|2.500000000000000000|2.850000000000000000|3.000000000000000000|2.400000000000000000|2.900000000000000000|2.900000000000000000|2.400000000000000000|2.880000000000000000|2.800000000000000000|2.380000000000000000|null|null|null|2.900000000000000000|2.900000000000000000|2.300000000000000000|3.000000000000000000|3.000000000000000000|2.500000000000000000|3.000000000000000000|2.900000000000000000|2.350000000000000000|3.000000000000000000|2.900000000000000000|2.500000000000000000|3.000000000000000000|2.880000000000000000|2.380000000000000000|10257|            4|\n",
      "|10269|     10257|    10257|2008/2009|   10|2008-11-02 00:00:00|      539647|            9882|            9804|             1|             0|             1|             3|             4|             7|             1|             3|             5|             7|             9|              4|              6|             1|             2|             4|             6|             8|             2|             4|             6|             8|              4|              6|             1|             3|             3|             3|             7|             7|             7|             7|             7|             10|             10|             1|             3|             3|             3|             3|             7|             7|             7|             7|             10|             10|        27697|        24484|        24793|        33414|         8881|        39533|        33706|        39534|        39539|         41862|         32748|        39204|        41488|        38943|        27721|        33413|        34319|        30940|        35641|        73845|         39752|         27686|<goal><value><com...|          <shoton />|         <shotoff />|      <foulcommit />|<card><value><com...|           <cross />|          <corner />|      <possession />|1.750000000000000000|3.200000000000000000|5.500000000000000000|1.700000000000000000|3.000000000000000000|5.500000000000000000|1.700000000000000000|3.300000000000000000|4.500000000000000000|1.730000000000000000|3.100000000000000000|4.500000000000000000|null|null|null|1.800000000000000000|3.000000000000000000|4.200000000000000000|1.700000000000000000|3.300000000000000000|5.750000000000000000|1.700000000000000000|3.100000000000000000|5.000000000000000000|1.750000000000000000|3.100000000000000000|5.500000000000000000|1.750000000000000000|3.200000000000000000|4.500000000000000000|10257|            4|\n",
      "|10270|     10257|    10257|2008/2009|   10|2008-11-01 00:00:00|      539648|            8690|            8636|             2|             3|             1|             2|             4|             6|             8|             3|             5|             7|             4|              6|              5|             1|             2|             4|             6|             8|             2|             4|             6|             8|              4|              6|             1|             3|             3|             3|             3|             6|             6|             6|             8|              8|             11|             1|             3|             3|             3|             3|             7|             7|             7|             7|             10|             10|        39510|        27678|        39441|        27785|        41865|        39360|        30920|        49940|        27663|         39557|         34531|        30989|        34305|        22984|        27692|        34304|        38239|        34942|        30460|        39349|        108808|         35724|<goal><value><com...|          <shoton />|         <shotoff />|      <foulcommit />|            <card />|           <cross />|          <corner />|      <possession />|9.000000000000000000|4.200000000000000000|1.400000000000000000|8.000000000000000000|4.200000000000000000|1.350000000000000000|7.500000000000000000|3.700000000000000000|1.400000000000000000|7.000000000000000000|3.500000000000000000|1.440000000000000000|null|null|null|8.000000000000000000|3.750000000000000000|1.360000000000000000|8.000000000000000000|4.000000000000000000|1.440000000000000000|7.500000000000000000|4.000000000000000000|1.400000000000000000|8.500000000000000000|4.000000000000000000|1.400000000000000000|8.000000000000000000|3.800000000000000000|1.400000000000000000|10257|            4|\n",
      "|10271|     10257|    10257|2008/2009|   10|2008-11-02 00:00:00|      539649|            8540|            8533|             3|             0|             1|             2|             4|             6|             8|             3|             5|             7|             5|              4|              6|             1|             2|             4|             6|             8|             3|             5|             7|             5|              4|              6|             1|             3|             3|             3|             3|             5|             5|             5|             8|             10|             10|             1|             3|             3|             3|             3|             5|             5|             5|             8|             10|             10|        39425|        39422|        35112|        39191|        24622|        39367|        39207|        34540|        33337|         49677|         32747|        39477|        42008|        39721|        26315|        25479|        24436|         null|        42003|        39286|         39638|         24448|<goal><value><com...|          <shoton />|         <shotoff />|      <foulcommit />|<card><value><com...|           <cross />|          <corner />|      <possession />|1.650000000000000000|3.400000000000000000|6.000000000000000000|1.550000000000000000|3.450000000000000000|6.000000000000000000|1.550000000000000000|3.400000000000000000|5.800000000000000000|1.620000000000000000|3.250000000000000000|5.000000000000000000|null|null|null|1.620000000000000000|3.300000000000000000|5.000000000000000000|1.620000000000000000|3.400000000000000000|6.500000000000000000|1.600000000000000000|3.250000000000000000|5.500000000000000000|1.630000000000000000|3.250000000000000000|6.000000000000000000|1.570000000000000000|3.300000000000000000|6.000000000000000000|10257|            4|\n",
      "|10272|     10257|    10257|2008/2009|   10|2008-11-02 00:00:00|      539650|            8564|            9875|             1|             0|             1|             2|             4|             6|             8|             3|             5|             7|             4|              6|              5|             1|             3|             4|             7|             1|             3|             5|             7|             9|              4|              6|             1|             3|             3|             3|             3|             6|             6|             6|             8|              8|             11|             1|             3|             3|             3|             7|             7|             7|             7|             7|             10|             10|        34530|        34534|        34952|        32752|        30870|        30721|        32751|        26096|        41044|         30743|         39447|        42042|        41666|        32769|        27668|        39535|        41887|        56585|        41658|        41661|         35421|         18925|<goal><value><com...|<shoton><value><s...|<shotoff><value><...|<foulcommit><valu...|<card><value><com...|<cross><value><st...|<corner><value><s...|<possession><valu...|1.620000000000000000|3.600000000000000000|6.000000000000000000|1.650000000000000000|3.300000000000000000|5.250000000000000000|1.550000000000000000|3.500000000000000000|5.500000000000000000|1.570000000000000000|3.250000000000000000|5.500000000000000000|null|null|null|1.500000000000000000|3.400000000000000000|6.000000000000000000|1.670000000000000000|3.400000000000000000|6.000000000000000000|1.600000000000000000|3.250000000000000000|5.500000000000000000|1.600000000000000000|3.500000000000000000|5.750000000000000000|1.670000000000000000|3.250000000000000000|5.000000000000000000|10257|            4|\n",
      "|10273|     10257|    10257|2008/2009|   10|2008-11-02 00:00:00|      539651|            8543|            8530|             1|             0|             1|             2|             4|             6|             8|             3|             5|             7|             3|              5|              7|             1|             2|             4|             6|             8|             3|             5|             7|             5|              4|              6|             1|             3|             3|             3|             3|             7|             7|             7|            10|             10|             10|             1|             3|             3|             3|             3|             5|             5|             5|             8|             10|             10|        25735|        30474|        39731|        30918|        43341|        39444|        39334|        25594|        25597|         25598|         18506|        37503|        39273|        18823|        39274|        41387|        18816|        42901|        56992|        39706|         39267|         42696|<goal><value><com...|<shoton><value><s...|<shotoff><value><...|<foulcommit><valu...|<card><value><com...|<cross><value><st...|<corner><value><s...|<possession><valu...|1.650000000000000000|3.250000000000000000|6.500000000000000000|1.550000000000000000|3.450000000000000000|6.000000000000000000|1.600000000000000000|3.400000000000000000|5.200000000000000000|1.670000000000000000|3.200000000000000000|5.000000000000000000|null|null|null|1.620000000000000000|3.300000000000000000|5.000000000000000000|1.570000000000000000|3.500000000000000000|7.000000000000000000|1.650000000000000000|3.100000000000000000|5.500000000000000000|1.650000000000000000|3.300000000000000000|5.750000000000000000|1.570000000000000000|3.300000000000000000|6.000000000000000000|10257|            4|\n",
      "|10274|     10257|    10257|2008/2009|   10|2008-11-01 00:00:00|      539652|            9885|            8686|             2|             0|             1|             2|             4|             6|             8|             2|             4|             6|             8|              4|              6|             1|             2|             4|             6|             8|             4|             6|             3|             5|              7|              5|             1|             3|             3|             3|             3|             7|             7|             7|             7|             10|             10|             1|             3|             3|             3|             3|             6|             6|             8|             8|              8|             11|        39566|        30861|        41412|        41884|        24791|        35643|        24132|        30871|        30725|         38827|         30727|        39351|        27693|        30453|        41023|        24130|        30682|        37545|        27695|        30747|         38717|         38822|<goal><value><com...|<shoton><value><s...|<shotoff><value><...|<foulcommit><valu...|<card><value><com...|<cross><value><st...|<corner><value><s...|<possession><valu...|2.200000000000000000|2.900000000000000000|3.750000000000000000|2.000000000000000000|3.000000000000000000|3.750000000000000000|1.900000000000000000|3.100000000000000000|3.800000000000000000|1.910000000000000000|3.200000000000000000|3.500000000000000000|null|null|null|2.000000000000000000|3.000000000000000000|3.400000000000000000|2.200000000000000000|3.000000000000000000|3.600000000000000000|2.100000000000000000|3.000000000000000000|3.400000000000000000|2.000000000000000000|3.000000000000000000|4.000000000000000000|2.100000000000000000|3.000000000000000000|3.400000000000000000|10257|            4|\n",
      "|10275|     10257|    10257|2008/2009|   10|2008-11-02 00:00:00|      539653|            8529|            9857|             5|             1|             1|             2|             4|             6|             8|             3|             5|             7|             5|              4|              6|             1|             2|             4|             6|             8|             2|             4|             6|             8|              4|              6|             1|             3|             3|             3|             3|             5|             5|             5|             8|             10|             10|             1|             3|             3|             3|             3|             7|             7|             7|             7|             10|             10|        39599|        24414|        24412|        39696|        39763|        39222|        24405|        39538|        41326|         41411|         39474|        41243|        39440|        41242|        41874|        30285|        42433|        25595|        41811|        56593|         32749|         24848|<goal><value><com...|          <shoton />|         <shotoff />|      <foulcommit />|<card><value><com...|           <cross />|          <corner />|      <possession />|2.000000000000000000|2.900000000000000000|4.500000000000000000|2.000000000000000000|2.950000000000000000|3.800000000000000000|2.000000000000000000|3.000000000000000000|3.600000000000000000|1.830000000000000000|3.000000000000000000|4.000000000000000000|null|null|null|2.100000000000000000|2.880000000000000000|3.300000000000000000|2.100000000000000000|3.000000000000000000|4.000000000000000000|2.000000000000000000|3.000000000000000000|3.500000000000000000|2.100000000000000000|2.900000000000000000|3.850000000000000000|2.000000000000000000|2.800000000000000000|4.000000000000000000|10257|            4|\n",
      "|10276|     10257|    10257|2008/2009|   10|2008-11-02 00:00:00|      539654|            8524|            9888|             0|             0|             1|             2|             4|             6|             8|             2|             4|             6|             8|              5|              5|             1|             2|             4|             6|             8|             3|             5|             7|             5|              4|              6|             1|             3|             3|             3|             3|             7|             7|             7|             7|              9|             11|             1|             3|             3|             3|             3|             5|             5|             5|             8|             10|             10|        42390|        41930|        39210|        41869|        39201|        39190|        39622|        42579|        27599|         38762|         27657|        27558|        27566|        39726|        27565|        45244|        39428|        39744|        39200|        24457|         42387|         24456|            <goal />|          <shoton />|         <shotoff />|      <foulcommit />|<card><value><com...|           <cross />|          <corner />|      <possession />|1.850000000000000000|3.200000000000000000|4.750000000000000000|1.700000000000000000|3.200000000000000000|5.000000000000000000|1.800000000000000000|3.100000000000000000|4.200000000000000000|1.700000000000000000|3.200000000000000000|4.500000000000000000|null|null|null|1.800000000000000000|3.000000000000000000|4.200000000000000000|1.830000000000000000|3.200000000000000000|5.000000000000000000|1.800000000000000000|3.100000000000000000|4.350000000000000000|1.850000000000000000|3.100000000000000000|4.500000000000000000|1.800000000000000000|3.100000000000000000|4.500000000000000000|10257|            4|\n",
      "+-----+----------+---------+---------+-----+-------------------+------------+----------------+----------------+--------------+--------------+--------------+--------------+--------------+--------------+--------------+--------------+--------------+--------------+--------------+---------------+---------------+--------------+--------------+--------------+--------------+--------------+--------------+--------------+--------------+--------------+---------------+---------------+--------------+--------------+--------------+--------------+--------------+--------------+--------------+--------------+--------------+---------------+---------------+--------------+--------------+--------------+--------------+--------------+--------------+--------------+--------------+--------------+---------------+---------------+-------------+-------------+-------------+-------------+-------------+-------------+-------------+-------------+-------------+--------------+--------------+-------------+-------------+-------------+-------------+-------------+-------------+-------------+-------------+-------------+--------------+--------------+--------------------+--------------------+--------------------+--------------------+--------------------+--------------------+--------------------+--------------------+--------------------+--------------------+--------------------+--------------------+--------------------+--------------------+--------------------+--------------------+--------------------+--------------------+--------------------+--------------------+----+----+----+--------------------+--------------------+--------------------+--------------------+--------------------+--------------------+--------------------+--------------------+--------------------+--------------------+--------------------+--------------------+--------------------+--------------------+--------------------+-----+-------------+\n",
      "only showing top 20 rows\n",
      "\n"
     ]
    }
   ],
   "source": [
    "match.show()"
   ]
  },
  {
   "cell_type": "code",
   "execution_count": 46,
   "metadata": {},
   "outputs": [
    {
     "name": "stdout",
     "output_type": "stream",
     "text": [
      "+---+-------------+--------------------+------------------+-------------------+------+------+\n",
      "| id|player_api_id|         player_name|player_fifa_api_id|           birthday|height|weight|\n",
      "+---+-------------+--------------------+------------------+-------------------+------+------+\n",
      "|  1|       505942|  Aaron Appindangoye|            218353|1992-02-29 00:00:00|   182|   187|\n",
      "|  2|       155782|     Aaron Cresswell|            189615|1989-12-15 00:00:00|   170|   146|\n",
      "|  3|       162549|         Aaron Doran|            186170|1991-05-13 00:00:00|   170|   163|\n",
      "|  4|        30572|       Aaron Galindo|            140161|1982-05-08 00:00:00|   182|   198|\n",
      "|  5|        23780|        Aaron Hughes|             17725|1979-11-08 00:00:00|   182|   154|\n",
      "|  6|        27316|          Aaron Hunt|            158138|1986-09-04 00:00:00|   182|   161|\n",
      "|  7|       564793|          Aaron Kuhl|            221280|1996-01-30 00:00:00|   172|   146|\n",
      "|  8|        30895|        Aaron Lennon|            152747|1987-04-16 00:00:00|   165|   139|\n",
      "|  9|       528212|        Aaron Lennox|            206592|1993-02-19 00:00:00|   190|   181|\n",
      "| 10|       101042|       Aaron Meijers|            188621|1987-10-28 00:00:00|   175|   170|\n",
      "| 11|        23889|       Aaron Mokoena|             47189|1980-11-25 00:00:00|   182|   181|\n",
      "| 12|       231592|          Aaron Mooy|            194958|1990-09-15 00:00:00|   175|   150|\n",
      "| 13|       163222|      Aaron Muirhead|            213568|1990-08-30 00:00:00|   187|   168|\n",
      "| 14|        40719|        Aaron Niguez|            183853|1989-04-26 00:00:00|   170|   143|\n",
      "| 15|        75489|        Aaron Ramsey|            186561|1990-12-26 00:00:00|   177|   154|\n",
      "| 16|       597948|       Aaron Splaine|            226014|1996-10-13 00:00:00|   172|   163|\n",
      "| 17|       161644|Aaron Taylor-Sinc...|            213569|1991-04-08 00:00:00|   182|   176|\n",
      "| 18|        23499|     Aaron Wilbraham|              2335|1979-10-21 00:00:00|   190|   159|\n",
      "| 19|       120919|   Aatif Chahechouhe|            187939|1986-07-02 00:00:00|   175|   150|\n",
      "| 20|        46447|           Abasse Ba|            156626|1976-07-12 00:00:00|   187|   185|\n",
      "+---+-------------+--------------------+------------------+-------------------+------+------+\n",
      "only showing top 20 rows\n",
      "\n"
     ]
    }
   ],
   "source": [
    "player.show()"
   ]
  },
  {
   "cell_type": "markdown",
   "metadata": {},
   "source": [
    "Уникальных имен достаточно много, чтобы их использовать в качестве фиче\n",
    "Хотя, почему бы и нет? Это же большие даныне"
   ]
  },
  {
   "cell_type": "code",
   "execution_count": 47,
   "metadata": {},
   "outputs": [
    {
     "data": {
      "text/plain": [
       "10848"
      ]
     },
     "execution_count": 47,
     "metadata": {},
     "output_type": "execute_result"
    }
   ],
   "source": [
    "player.select('player_name').distinct().count()"
   ]
  },
  {
   "cell_type": "code",
   "execution_count": 48,
   "metadata": {},
   "outputs": [
    {
     "name": "stdout",
     "output_type": "stream",
     "text": [
      "+---+------------------+-------------+-------------------+--------------+---------+--------------+-------------------+-------------------+--------+---------+----------------+-------------+-------+---------+-----+------------------+------------+------------+------------+------------+-------+---------+-------+----------+-------+-------+--------+----------+----------+-------------+-----------+------+---------+-------+---------------+--------------+---------+-----------+----------+--------------+-----------+\n",
      "| id|player_fifa_api_id|player_api_id|               date|overall_rating|potential|preferred_foot|attacking_work_rate|defensive_work_rate|crossing|finishing|heading_accuracy|short_passing|volleys|dribbling|curve|free_kick_accuracy|long_passing|ball_control|acceleration|sprint_speed|agility|reactions|balance|shot_power|jumping|stamina|strength|long_shots|aggression|interceptions|positioning|vision|penalties|marking|standing_tackle|sliding_tackle|gk_diving|gk_handling|gk_kicking|gk_positioning|gk_reflexes|\n",
      "+---+------------------+-------------+-------------------+--------------+---------+--------------+-------------------+-------------------+--------+---------+----------------+-------------+-------+---------+-----+------------------+------------+------------+------------+------------+-------+---------+-------+----------+-------+-------+--------+----------+----------+-------------+-----------+------+---------+-------+---------------+--------------+---------+-----------+----------+--------------+-----------+\n",
      "|  1|            218353|       505942|2016-02-18 00:00:00|            67|       71|         right|             medium|             medium|      49|       44|              71|           61|     44|       51|   45|                39|          64|          49|          60|          64|     59|       47|     65|        55|     58|     54|      76|        35|        71|           70|         45|    54|       48|     65|             69|            69|        6|         11|        10|             8|          8|\n",
      "|  2|            218353|       505942|2015-11-19 00:00:00|            67|       71|         right|             medium|             medium|      49|       44|              71|           61|     44|       51|   45|                39|          64|          49|          60|          64|     59|       47|     65|        55|     58|     54|      76|        35|        71|           70|         45|    54|       48|     65|             69|            69|        6|         11|        10|             8|          8|\n",
      "|  3|            218353|       505942|2015-09-21 00:00:00|            62|       66|         right|             medium|             medium|      49|       44|              71|           61|     44|       51|   45|                39|          64|          49|          60|          64|     59|       47|     65|        55|     58|     54|      76|        35|        63|           41|         45|    54|       48|     65|             66|            69|        6|         11|        10|             8|          8|\n",
      "|  4|            218353|       505942|2015-03-20 00:00:00|            61|       65|         right|             medium|             medium|      48|       43|              70|           60|     43|       50|   44|                38|          63|          48|          60|          64|     59|       46|     65|        54|     58|     54|      76|        34|        62|           40|         44|    53|       47|     62|             63|            66|        5|         10|         9|             7|          7|\n",
      "|  5|            218353|       505942|2007-02-22 00:00:00|            61|       65|         right|             medium|             medium|      48|       43|              70|           60|     43|       50|   44|                38|          63|          48|          60|          64|     59|       46|     65|        54|     58|     54|      76|        34|        62|           40|         44|    53|       47|     62|             63|            66|        5|         10|         9|             7|          7|\n",
      "|  6|            189615|       155782|2016-04-21 00:00:00|            74|       76|          left|               high|             medium|      80|       53|              58|           71|     40|       73|   70|                69|          68|          71|          79|          78|     78|       67|     90|        71|     85|     79|      56|        62|        68|           67|         60|    66|       59|     76|             75|            78|       14|          7|         9|             9|         12|\n",
      "|  7|            189615|       155782|2016-04-07 00:00:00|            74|       76|          left|               high|             medium|      80|       53|              58|           71|     32|       73|   70|                69|          68|          71|          79|          78|     78|       67|     90|        71|     85|     79|      56|        60|        68|           67|         60|    66|       59|     76|             75|            78|       14|          7|         9|             9|         12|\n",
      "|  8|            189615|       155782|2016-01-07 00:00:00|            73|       75|          left|               high|             medium|      79|       52|              57|           70|     29|       71|   68|                69|          68|          70|          79|          78|     78|       67|     90|        71|     84|     79|      56|        59|        67|           66|         58|    65|       59|     76|             75|            78|       14|          7|         9|             9|         12|\n",
      "|  9|            189615|       155782|2015-12-24 00:00:00|            73|       75|          left|               high|             medium|      79|       51|              57|           70|     29|       71|   68|                69|          68|          70|          79|          78|     78|       67|     90|        71|     84|     79|      56|        58|        67|           66|         58|    65|       59|     76|             75|            78|       14|          7|         9|             9|         12|\n",
      "| 10|            189615|       155782|2015-12-17 00:00:00|            73|       75|          left|               high|             medium|      79|       51|              57|           70|     29|       71|   68|                69|          68|          70|          79|          78|     78|       67|     90|        71|     84|     79|      56|        58|        67|           66|         58|    65|       59|     76|             75|            78|       14|          7|         9|             9|         12|\n",
      "| 11|            189615|       155782|2015-10-16 00:00:00|            73|       77|          left|               high|             medium|      79|       51|              57|           70|     29|       71|   68|                69|          68|          70|          79|          78|     78|       67|     90|        71|     84|     79|      56|        58|        67|           66|         58|    65|       59|     76|             75|            78|       14|          7|         9|             9|         12|\n",
      "| 12|            189615|       155782|2015-09-25 00:00:00|            74|       78|          left|               high|             medium|      79|       51|              57|           70|     29|       71|   68|                69|          68|          70|          80|          78|     78|       67|     90|        71|     84|     79|      56|        58|        67|           66|         58|    65|       59|     76|             75|            78|       14|          7|         9|             9|         12|\n",
      "| 13|            189615|       155782|2015-09-21 00:00:00|            73|       77|          left|             medium|             medium|      79|       51|              57|           70|     29|       67|   68|                69|          68|          68|          79|          78|     78|       67|     90|        71|     84|     79|      56|        58|        67|           66|         58|    65|       59|     76|             75|            78|       14|          7|         9|             9|         12|\n",
      "| 14|            189615|       155782|2015-01-09 00:00:00|            71|       75|          left|             medium|             medium|      78|       50|              56|           69|     28|       66|   67|                68|          67|          67|          79|          82|     79|       71|     90|        70|     84|     79|      50|        56|        66|           65|         57|    64|       58|     73|             72|            72|       13|          6|         8|             8|         11|\n",
      "| 15|            189615|       155782|2014-12-05 00:00:00|            71|       77|          left|             medium|             medium|      78|       50|              56|           69|     28|       66|   67|                68|          67|          67|          79|          82|     79|       71|     90|        70|     84|     79|      50|        56|        66|           65|         57|    64|       58|     73|             72|            72|       13|          6|         8|             8|         11|\n",
      "| 16|            189615|       155782|2014-11-07 00:00:00|            71|       77|          left|             medium|             medium|      78|       50|              56|           69|     28|       66|   67|                68|          67|          67|          79|          82|     79|       71|     90|        70|     84|     79|      50|        56|        66|           65|         57|    64|       58|     73|             72|            72|       13|          6|         8|             8|         11|\n",
      "| 17|            189615|       155782|2014-09-18 00:00:00|            70|       77|          left|             medium|             medium|      77|       50|              51|           67|     28|       66|   67|                68|          67|          66|          79|          82|     79|       69|     90|        70|     84|     79|      50|        56|        66|           62|         57|    64|       58|     73|             72|            72|       13|          6|         8|             8|         11|\n",
      "| 18|            189615|       155782|2014-05-02 00:00:00|            70|       79|          left|             medium|             medium|      77|       50|              51|           67|     28|       66|   67|                68|          67|          66|          84|          82|     81|       69|     90|        70|     84|     80|      50|        56|        66|           62|         57|    64|       58|     73|             72|            72|       13|          6|         8|             8|         11|\n",
      "| 19|            189615|       155782|2014-04-04 00:00:00|            70|       79|          left|             medium|             medium|      77|       50|              51|           67|     28|       66|   67|                68|          67|          66|          84|          82|     81|       69|     90|        70|     84|     80|      50|        56|        66|           62|         57|    64|       58|     73|             72|            72|       13|          6|         8|             8|         11|\n",
      "| 20|            189615|       155782|2014-03-14 00:00:00|            70|       79|          left|             medium|             medium|      77|       50|              51|           67|     28|       66|   66|                68|          67|          65|          84|          82|     81|       69|     90|        70|     84|     79|      49|        55|        66|           62|         57|    61|       58|     73|             72|            72|       13|          6|         8|             8|         11|\n",
      "+---+------------------+-------------+-------------------+--------------+---------+--------------+-------------------+-------------------+--------+---------+----------------+-------------+-------+---------+-----+------------------+------------+------------+------------+------------+-------+---------+-------+----------+-------+-------+--------+----------+----------+-------------+-----------+------+---------+-------+---------------+--------------+---------+-----------+----------+--------------+-----------+\n",
      "only showing top 20 rows\n",
      "\n"
     ]
    }
   ],
   "source": [
    "player_attr.show()"
   ]
  },
  {
   "cell_type": "code",
   "execution_count": 56,
   "metadata": {},
   "outputs": [],
   "source": [
    "full_player_info = player_attr.join(player.drop('id'), on='player_api_id').drop('player_fifa_api_id')\n",
    "\n"
   ]
  },
  {
   "cell_type": "code",
   "execution_count": 57,
   "metadata": {},
   "outputs": [
    {
     "name": "stdout",
     "output_type": "stream",
     "text": [
      "+-------------+----+-------------------+--------------+---------+--------------+-------------------+-------------------+--------+---------+----------------+-------------+-------+---------+-----+------------------+------------+------------+------------+------------+-------+---------+-------+----------+-------+-------+--------+----------+----------+-------------+-----------+------+---------+-------+---------------+--------------+---------+-----------+----------+--------------+-----------+-----------------+-------------------+------+------+\n",
      "|player_api_id|  id|               date|overall_rating|potential|preferred_foot|attacking_work_rate|defensive_work_rate|crossing|finishing|heading_accuracy|short_passing|volleys|dribbling|curve|free_kick_accuracy|long_passing|ball_control|acceleration|sprint_speed|agility|reactions|balance|shot_power|jumping|stamina|strength|long_shots|aggression|interceptions|positioning|vision|penalties|marking|standing_tackle|sliding_tackle|gk_diving|gk_handling|gk_kicking|gk_positioning|gk_reflexes|      player_name|           birthday|height|weight|\n",
      "+-------------+----+-------------------+--------------+---------+--------------+-------------------+-------------------+--------+---------+----------------+-------------+-------+---------+-----+------------------+------------+------------+------------+------------+-------+---------+-------+----------+-------+-------+--------+----------+----------+-------------+-----------+------+---------+-------+---------------+--------------+---------+-----------+----------+--------------+-----------+-----------------+-------------------+------+------+\n",
      "|       114503|1076|2016-06-09 00:00:00|            67|       67|         right|             medium|                low|      43|       78|              57|           57|     64|       61|   49|                42|          48|          58|          77|          78|     72|       63|     73|        75|     47|     62|      67|        65|        52|           34|         64|    44|       45|     34|             31|            23|       16|         15|         7|            12|         13|     Abiola Dauda|1988-02-03 00:00:00|   180|   165|\n",
      "|       114503|1077|2016-02-11 00:00:00|            67|       67|         right|             medium|                low|      43|       78|              57|           57|     64|       61|   49|                42|          48|          58|          77|          78|     72|       63|     73|        75|     47|     62|      67|        65|        52|           34|         64|    44|       45|     34|             31|            23|       16|         15|         7|            12|         13|     Abiola Dauda|1988-02-03 00:00:00|   180|   165|\n",
      "|       114503|1078|2015-09-21 00:00:00|            67|       67|         right|             medium|                low|      43|       78|              57|           57|     64|       61|   49|                42|          48|          58|          77|          78|     72|       63|     73|        75|     47|     62|      67|        65|        52|           34|         64|    44|       45|     34|             31|            23|       16|         15|         7|            12|         13|     Abiola Dauda|1988-02-03 00:00:00|   180|   165|\n",
      "|       114503|1079|2015-02-20 00:00:00|            68|       69|         right|             medium|                low|      42|       73|              56|           59|     65|       67|   48|                41|          47|          65|          82|          82|     72|       65|     74|        75|     74|     62|      67|        69|        54|           33|         62|    54|       44|     33|             30|            22|       15|         14|         6|            11|         12|     Abiola Dauda|1988-02-03 00:00:00|   180|   165|\n",
      "|       114503|1080|2014-12-05 00:00:00|            69|       70|         right|             medium|                low|      42|       75|              56|           59|     65|       68|   48|                41|          47|          66|          84|          89|     74|       65|     75|        76|     80|     62|      68|        70|        59|           33|         62|    54|       44|     33|             30|            22|       15|         14|         6|            11|         12|     Abiola Dauda|1988-02-03 00:00:00|   180|   165|\n",
      "|       114503|1081|2014-11-07 00:00:00|            69|       70|         right|             medium|                low|      45|       75|              56|           59|     58|       68|   48|                41|          47|          67|          85|          91|     74|       65|     75|        77|     84|     62|      68|        68|        59|           33|         62|    54|       44|     33|             35|            26|       15|         14|         6|            11|         12|     Abiola Dauda|1988-02-03 00:00:00|   180|   165|\n",
      "|       114503|1082|2014-10-10 00:00:00|            68|       70|         right|             medium|                low|      45|       74|              52|           57|     58|       68|   48|                41|          42|          65|          85|          91|     74|       65|     74|        77|     84|     62|      66|        66|        59|           33|         62|    54|       44|     33|             35|            26|       15|         14|         6|            11|         12|     Abiola Dauda|1988-02-03 00:00:00|   180|   165|\n",
      "|       114503|1083|2014-09-18 00:00:00|            68|       70|         right|             medium|                low|      45|       74|              52|           57|     58|       68|   48|                41|          42|          65|          85|          91|     74|       65|     74|        77|     84|     62|      62|        66|        59|           33|         62|    54|       44|     33|             35|            26|       15|         14|         6|            11|         12|     Abiola Dauda|1988-02-03 00:00:00|   180|   165|\n",
      "|       114503|1084|2012-08-31 00:00:00|            68|       70|         right|             medium|                low|      45|       74|              52|           57|     58|       68|   48|                41|          42|          65|          85|          91|     74|       65|     74|        77|     84|     62|      62|        66|        59|           33|         62|    54|       44|     33|             35|            26|       15|         14|         6|            11|         12|     Abiola Dauda|1988-02-03 00:00:00|   180|   165|\n",
      "|       114503|1085|2012-02-22 00:00:00|            61|       64|         right|             medium|             medium|      45|       65|              52|           55|     58|       63|   48|                41|          42|          63|          85|          84|     74|       65|     74|        77|     84|     62|      62|        57|        59|           33|         63|    54|       44|     33|             35|            26|       15|         14|         6|            11|         12|     Abiola Dauda|1988-02-03 00:00:00|   180|   165|\n",
      "|       114503|1086|2011-08-30 00:00:00|            60|       63|         right|             medium|             medium|      44|       64|              51|           54|     57|       62|   47|                40|          41|          62|          83|          83|     72|       56|     73|        76|     77|     61|      61|        56|        58|           32|         62|    53|       43|     32|             39|            25|       15|         14|         6|            11|         12|     Abiola Dauda|1988-02-03 00:00:00|   180|   165|\n",
      "|       114503|1087|2010-08-30 00:00:00|            62|       74|         right|             medium|             medium|      44|       64|              51|           54|     57|       62|   47|                40|          41|          62|          80|          83|     65|       56|     59|        76|     53|     59|      59|        56|        58|           32|         62|    53|       43|     32|             39|            25|       15|         14|         6|            11|         12|     Abiola Dauda|1988-02-03 00:00:00|   180|   165|\n",
      "|       114503|1088|2010-02-22 00:00:00|            65|       74|         right|             medium|             medium|      46|       66|              53|           56|     57|       64|   47|                42|          43|          64|          80|          83|     65|       56|     59|        73|     53|     59|      59|        58|        58|           51|         58|    53|       56|     32|             39|            25|        9|         22|        43|            22|         22|     Abiola Dauda|1988-02-03 00:00:00|   180|   165|\n",
      "|       114503|1089|2009-08-30 00:00:00|            63|       68|         right|             medium|             medium|      46|       66|              53|           49|     57|       64|   47|                42|          43|          64|          76|          74|     65|       56|     59|        67|     53|     59|      59|        58|        58|           51|         58|    53|       56|     32|             39|            25|        9|         22|        43|            22|         22|     Abiola Dauda|1988-02-03 00:00:00|   180|   165|\n",
      "|       114503|1090|2008-08-30 00:00:00|            63|       68|         right|             medium|             medium|      46|       66|              53|           49|     57|       64|   47|                42|          43|          63|          70|          69|     65|       58|     59|        69|     53|     59|      62|        58|        65|           51|         58|    53|       56|     32|             39|            25|        9|         22|        43|            22|         22|     Abiola Dauda|1988-02-03 00:00:00|   180|   165|\n",
      "|       114503|1091|2007-02-22 00:00:00|            63|       68|         right|             medium|             medium|      46|       66|              53|           49|     57|       64|   47|                42|          43|          63|          70|          69|     65|       58|     59|        69|     53|     59|      62|        58|        65|           51|         58|    53|       56|     32|             39|            25|        9|         22|        43|            22|         22|     Abiola Dauda|1988-02-03 00:00:00|   180|   165|\n",
      "|       244128|3996|2011-08-30 00:00:00|            59|       72|          left|             medium|             medium|      57|       42|              60|           62|     46|       57|   39|                45|          61|          61|          62|          71|     65|       64|     62|        62|     65|     74|      62|        52|        66|           57|         42|    54|       47|     52|             58|            57|        9|         13|        10|            15|          9|   Akoete Eninful|1992-07-21 00:00:00|   182|   154|\n",
      "|       244128|3997|2011-02-22 00:00:00|            53|       70|          left|             medium|             medium|      52|       42|              51|           54|     46|       55|   43|                45|          49|          52|          67|          72|     65|       62|     54|        56|     65|     69|      57|        47|        63|           45|         33|    47|       44|     47|             54|            52|        9|         13|        10|            15|          9|   Akoete Eninful|1992-07-21 00:00:00|   182|   154|\n",
      "|       244128|3998|2007-02-22 00:00:00|            53|       70|          left|             medium|             medium|      52|       42|              51|           54|     46|       55|   43|                45|          49|          52|          67|          72|     65|       62|     54|        56|     65|     69|      57|        47|        63|           45|         33|    47|       44|     47|             54|            52|        9|         13|        10|            15|          9|   Akoete Eninful|1992-07-21 00:00:00|   182|   154|\n",
      "|        38395|4803|2015-02-20 00:00:00|            60|       60|         right|             medium|             medium|      25|       25|              25|           25|     25|       25|   25|                25|          21|          27|          47|          46|     31|       53|     42|        25|     60|     39|      68|        25|        27|           21|         25|    25|       25|     25|             25|            25|       53|         67|        60|            70|         52|Alberto Cifuentes|1979-05-29 00:00:00|   187|   148|\n",
      "+-------------+----+-------------------+--------------+---------+--------------+-------------------+-------------------+--------+---------+----------------+-------------+-------+---------+-----+------------------+------------+------------+------------+------------+-------+---------+-------+----------+-------+-------+--------+----------+----------+-------------+-----------+------+---------+-------+---------------+--------------+---------+-----------+----------+--------------+-----------+-----------------+-------------------+------+------+\n",
      "only showing top 20 rows\n",
      "\n"
     ]
    }
   ],
   "source": [
    "full_player_info.show()"
   ]
  },
  {
   "cell_type": "code",
   "execution_count": 58,
   "metadata": {},
   "outputs": [
    {
     "data": {
      "text/plain": [
       "['player_api_id',\n",
       " 'id',\n",
       " 'date',\n",
       " 'overall_rating',\n",
       " 'potential',\n",
       " 'preferred_foot',\n",
       " 'attacking_work_rate',\n",
       " 'defensive_work_rate',\n",
       " 'crossing',\n",
       " 'finishing',\n",
       " 'heading_accuracy',\n",
       " 'short_passing',\n",
       " 'volleys',\n",
       " 'dribbling',\n",
       " 'curve',\n",
       " 'free_kick_accuracy',\n",
       " 'long_passing',\n",
       " 'ball_control',\n",
       " 'acceleration',\n",
       " 'sprint_speed',\n",
       " 'agility',\n",
       " 'reactions',\n",
       " 'balance',\n",
       " 'shot_power',\n",
       " 'jumping',\n",
       " 'stamina',\n",
       " 'strength',\n",
       " 'long_shots',\n",
       " 'aggression',\n",
       " 'interceptions',\n",
       " 'positioning',\n",
       " 'vision',\n",
       " 'penalties',\n",
       " 'marking',\n",
       " 'standing_tackle',\n",
       " 'sliding_tackle',\n",
       " 'gk_diving',\n",
       " 'gk_handling',\n",
       " 'gk_kicking',\n",
       " 'gk_positioning',\n",
       " 'gk_reflexes',\n",
       " 'player_name',\n",
       " 'birthday',\n",
       " 'height',\n",
       " 'weight']"
      ]
     },
     "execution_count": 58,
     "metadata": {},
     "output_type": "execute_result"
    }
   ],
   "source": [
    "full_player_info.columns"
   ]
  },
  {
   "cell_type": "code",
   "execution_count": 59,
   "metadata": {},
   "outputs": [],
   "source": [
    "full_player_info = full_player_info.replace(['left','right'],['0','1'], 'preferred_foot')\n",
    "full_player_info = full_player_info.withColumn('preferred_foot',full_player_info.preferred_foot.cast('integer'))"
   ]
  },
  {
   "cell_type": "code",
   "execution_count": 60,
   "metadata": {},
   "outputs": [
    {
     "name": "stdout",
     "output_type": "stream",
     "text": [
      "+-------------+----+-------------------+--------------+---------+--------------+-------------------+-------------------+--------+---------+----------------+-------------+-------+---------+-----+------------------+------------+------------+------------+------------+-------+---------+-------+----------+-------+-------+--------+----------+----------+-------------+-----------+------+---------+-------+---------------+--------------+---------+-----------+----------+--------------+-----------+-----------------+-------------------+------+------+\n",
      "|player_api_id|  id|               date|overall_rating|potential|preferred_foot|attacking_work_rate|defensive_work_rate|crossing|finishing|heading_accuracy|short_passing|volleys|dribbling|curve|free_kick_accuracy|long_passing|ball_control|acceleration|sprint_speed|agility|reactions|balance|shot_power|jumping|stamina|strength|long_shots|aggression|interceptions|positioning|vision|penalties|marking|standing_tackle|sliding_tackle|gk_diving|gk_handling|gk_kicking|gk_positioning|gk_reflexes|      player_name|           birthday|height|weight|\n",
      "+-------------+----+-------------------+--------------+---------+--------------+-------------------+-------------------+--------+---------+----------------+-------------+-------+---------+-----+------------------+------------+------------+------------+------------+-------+---------+-------+----------+-------+-------+--------+----------+----------+-------------+-----------+------+---------+-------+---------------+--------------+---------+-----------+----------+--------------+-----------+-----------------+-------------------+------+------+\n",
      "|       114503|1076|2016-06-09 00:00:00|            67|       67|             1|             medium|                low|      43|       78|              57|           57|     64|       61|   49|                42|          48|          58|          77|          78|     72|       63|     73|        75|     47|     62|      67|        65|        52|           34|         64|    44|       45|     34|             31|            23|       16|         15|         7|            12|         13|     Abiola Dauda|1988-02-03 00:00:00|   180|   165|\n",
      "|       114503|1077|2016-02-11 00:00:00|            67|       67|             1|             medium|                low|      43|       78|              57|           57|     64|       61|   49|                42|          48|          58|          77|          78|     72|       63|     73|        75|     47|     62|      67|        65|        52|           34|         64|    44|       45|     34|             31|            23|       16|         15|         7|            12|         13|     Abiola Dauda|1988-02-03 00:00:00|   180|   165|\n",
      "|       114503|1078|2015-09-21 00:00:00|            67|       67|             1|             medium|                low|      43|       78|              57|           57|     64|       61|   49|                42|          48|          58|          77|          78|     72|       63|     73|        75|     47|     62|      67|        65|        52|           34|         64|    44|       45|     34|             31|            23|       16|         15|         7|            12|         13|     Abiola Dauda|1988-02-03 00:00:00|   180|   165|\n",
      "|       114503|1079|2015-02-20 00:00:00|            68|       69|             1|             medium|                low|      42|       73|              56|           59|     65|       67|   48|                41|          47|          65|          82|          82|     72|       65|     74|        75|     74|     62|      67|        69|        54|           33|         62|    54|       44|     33|             30|            22|       15|         14|         6|            11|         12|     Abiola Dauda|1988-02-03 00:00:00|   180|   165|\n",
      "|       114503|1080|2014-12-05 00:00:00|            69|       70|             1|             medium|                low|      42|       75|              56|           59|     65|       68|   48|                41|          47|          66|          84|          89|     74|       65|     75|        76|     80|     62|      68|        70|        59|           33|         62|    54|       44|     33|             30|            22|       15|         14|         6|            11|         12|     Abiola Dauda|1988-02-03 00:00:00|   180|   165|\n",
      "|       114503|1081|2014-11-07 00:00:00|            69|       70|             1|             medium|                low|      45|       75|              56|           59|     58|       68|   48|                41|          47|          67|          85|          91|     74|       65|     75|        77|     84|     62|      68|        68|        59|           33|         62|    54|       44|     33|             35|            26|       15|         14|         6|            11|         12|     Abiola Dauda|1988-02-03 00:00:00|   180|   165|\n",
      "|       114503|1082|2014-10-10 00:00:00|            68|       70|             1|             medium|                low|      45|       74|              52|           57|     58|       68|   48|                41|          42|          65|          85|          91|     74|       65|     74|        77|     84|     62|      66|        66|        59|           33|         62|    54|       44|     33|             35|            26|       15|         14|         6|            11|         12|     Abiola Dauda|1988-02-03 00:00:00|   180|   165|\n",
      "|       114503|1083|2014-09-18 00:00:00|            68|       70|             1|             medium|                low|      45|       74|              52|           57|     58|       68|   48|                41|          42|          65|          85|          91|     74|       65|     74|        77|     84|     62|      62|        66|        59|           33|         62|    54|       44|     33|             35|            26|       15|         14|         6|            11|         12|     Abiola Dauda|1988-02-03 00:00:00|   180|   165|\n",
      "|       114503|1084|2012-08-31 00:00:00|            68|       70|             1|             medium|                low|      45|       74|              52|           57|     58|       68|   48|                41|          42|          65|          85|          91|     74|       65|     74|        77|     84|     62|      62|        66|        59|           33|         62|    54|       44|     33|             35|            26|       15|         14|         6|            11|         12|     Abiola Dauda|1988-02-03 00:00:00|   180|   165|\n",
      "|       114503|1085|2012-02-22 00:00:00|            61|       64|             1|             medium|             medium|      45|       65|              52|           55|     58|       63|   48|                41|          42|          63|          85|          84|     74|       65|     74|        77|     84|     62|      62|        57|        59|           33|         63|    54|       44|     33|             35|            26|       15|         14|         6|            11|         12|     Abiola Dauda|1988-02-03 00:00:00|   180|   165|\n",
      "|       114503|1086|2011-08-30 00:00:00|            60|       63|             1|             medium|             medium|      44|       64|              51|           54|     57|       62|   47|                40|          41|          62|          83|          83|     72|       56|     73|        76|     77|     61|      61|        56|        58|           32|         62|    53|       43|     32|             39|            25|       15|         14|         6|            11|         12|     Abiola Dauda|1988-02-03 00:00:00|   180|   165|\n",
      "|       114503|1087|2010-08-30 00:00:00|            62|       74|             1|             medium|             medium|      44|       64|              51|           54|     57|       62|   47|                40|          41|          62|          80|          83|     65|       56|     59|        76|     53|     59|      59|        56|        58|           32|         62|    53|       43|     32|             39|            25|       15|         14|         6|            11|         12|     Abiola Dauda|1988-02-03 00:00:00|   180|   165|\n",
      "|       114503|1088|2010-02-22 00:00:00|            65|       74|             1|             medium|             medium|      46|       66|              53|           56|     57|       64|   47|                42|          43|          64|          80|          83|     65|       56|     59|        73|     53|     59|      59|        58|        58|           51|         58|    53|       56|     32|             39|            25|        9|         22|        43|            22|         22|     Abiola Dauda|1988-02-03 00:00:00|   180|   165|\n",
      "|       114503|1089|2009-08-30 00:00:00|            63|       68|             1|             medium|             medium|      46|       66|              53|           49|     57|       64|   47|                42|          43|          64|          76|          74|     65|       56|     59|        67|     53|     59|      59|        58|        58|           51|         58|    53|       56|     32|             39|            25|        9|         22|        43|            22|         22|     Abiola Dauda|1988-02-03 00:00:00|   180|   165|\n",
      "|       114503|1090|2008-08-30 00:00:00|            63|       68|             1|             medium|             medium|      46|       66|              53|           49|     57|       64|   47|                42|          43|          63|          70|          69|     65|       58|     59|        69|     53|     59|      62|        58|        65|           51|         58|    53|       56|     32|             39|            25|        9|         22|        43|            22|         22|     Abiola Dauda|1988-02-03 00:00:00|   180|   165|\n",
      "|       114503|1091|2007-02-22 00:00:00|            63|       68|             1|             medium|             medium|      46|       66|              53|           49|     57|       64|   47|                42|          43|          63|          70|          69|     65|       58|     59|        69|     53|     59|      62|        58|        65|           51|         58|    53|       56|     32|             39|            25|        9|         22|        43|            22|         22|     Abiola Dauda|1988-02-03 00:00:00|   180|   165|\n",
      "|       244128|3996|2011-08-30 00:00:00|            59|       72|             0|             medium|             medium|      57|       42|              60|           62|     46|       57|   39|                45|          61|          61|          62|          71|     65|       64|     62|        62|     65|     74|      62|        52|        66|           57|         42|    54|       47|     52|             58|            57|        9|         13|        10|            15|          9|   Akoete Eninful|1992-07-21 00:00:00|   182|   154|\n",
      "|       244128|3997|2011-02-22 00:00:00|            53|       70|             0|             medium|             medium|      52|       42|              51|           54|     46|       55|   43|                45|          49|          52|          67|          72|     65|       62|     54|        56|     65|     69|      57|        47|        63|           45|         33|    47|       44|     47|             54|            52|        9|         13|        10|            15|          9|   Akoete Eninful|1992-07-21 00:00:00|   182|   154|\n",
      "|       244128|3998|2007-02-22 00:00:00|            53|       70|             0|             medium|             medium|      52|       42|              51|           54|     46|       55|   43|                45|          49|          52|          67|          72|     65|       62|     54|        56|     65|     69|      57|        47|        63|           45|         33|    47|       44|     47|             54|            52|        9|         13|        10|            15|          9|   Akoete Eninful|1992-07-21 00:00:00|   182|   154|\n",
      "|        38395|4803|2015-02-20 00:00:00|            60|       60|             1|             medium|             medium|      25|       25|              25|           25|     25|       25|   25|                25|          21|          27|          47|          46|     31|       53|     42|        25|     60|     39|      68|        25|        27|           21|         25|    25|       25|     25|             25|            25|       53|         67|        60|            70|         52|Alberto Cifuentes|1979-05-29 00:00:00|   187|   148|\n",
      "+-------------+----+-------------------+--------------+---------+--------------+-------------------+-------------------+--------+---------+----------------+-------------+-------+---------+-----+------------------+------------+------------+------------+------------+-------+---------+-------+----------+-------+-------+--------+----------+----------+-------------+-----------+------+---------+-------+---------------+--------------+---------+-----------+----------+--------------+-----------+-----------------+-------------------+------+------+\n",
      "only showing top 20 rows\n",
      "\n"
     ]
    }
   ],
   "source": [
    "full_player_info.show()"
   ]
  },
  {
   "cell_type": "code",
   "execution_count": 61,
   "metadata": {},
   "outputs": [
    {
     "name": "stdout",
     "output_type": "stream",
     "text": [
      "root\n",
      " |-- player_api_id: integer (nullable = true)\n",
      " |-- id: integer (nullable = true)\n",
      " |-- date: string (nullable = true)\n",
      " |-- overall_rating: integer (nullable = true)\n",
      " |-- potential: integer (nullable = true)\n",
      " |-- preferred_foot: integer (nullable = true)\n",
      " |-- attacking_work_rate: string (nullable = true)\n",
      " |-- defensive_work_rate: string (nullable = true)\n",
      " |-- crossing: integer (nullable = true)\n",
      " |-- finishing: integer (nullable = true)\n",
      " |-- heading_accuracy: integer (nullable = true)\n",
      " |-- short_passing: integer (nullable = true)\n",
      " |-- volleys: integer (nullable = true)\n",
      " |-- dribbling: integer (nullable = true)\n",
      " |-- curve: integer (nullable = true)\n",
      " |-- free_kick_accuracy: integer (nullable = true)\n",
      " |-- long_passing: integer (nullable = true)\n",
      " |-- ball_control: integer (nullable = true)\n",
      " |-- acceleration: integer (nullable = true)\n",
      " |-- sprint_speed: integer (nullable = true)\n",
      " |-- agility: integer (nullable = true)\n",
      " |-- reactions: integer (nullable = true)\n",
      " |-- balance: integer (nullable = true)\n",
      " |-- shot_power: integer (nullable = true)\n",
      " |-- jumping: integer (nullable = true)\n",
      " |-- stamina: integer (nullable = true)\n",
      " |-- strength: integer (nullable = true)\n",
      " |-- long_shots: integer (nullable = true)\n",
      " |-- aggression: integer (nullable = true)\n",
      " |-- interceptions: integer (nullable = true)\n",
      " |-- positioning: integer (nullable = true)\n",
      " |-- vision: integer (nullable = true)\n",
      " |-- penalties: integer (nullable = true)\n",
      " |-- marking: integer (nullable = true)\n",
      " |-- standing_tackle: integer (nullable = true)\n",
      " |-- sliding_tackle: integer (nullable = true)\n",
      " |-- gk_diving: integer (nullable = true)\n",
      " |-- gk_handling: integer (nullable = true)\n",
      " |-- gk_kicking: integer (nullable = true)\n",
      " |-- gk_positioning: integer (nullable = true)\n",
      " |-- gk_reflexes: integer (nullable = true)\n",
      " |-- player_name: string (nullable = true)\n",
      " |-- birthday: string (nullable = true)\n",
      " |-- height: integer (nullable = true)\n",
      " |-- weight: integer (nullable = true)\n",
      "\n"
     ]
    }
   ],
   "source": [
    "full_player_info.printSchema()"
   ]
  },
  {
   "cell_type": "markdown",
   "metadata": {},
   "source": [
    "1) Предсказание overall_rating игрока\n"
   ]
  },
  {
   "cell_type": "code",
   "execution_count": 63,
   "metadata": {},
   "outputs": [
    {
     "name": "stdout",
     "output_type": "stream",
     "text": [
      "Root Mean Squared Error (RMSE) on test data: 2.72145946383088\n",
      "R2 on test data: 0.8505128176814065\n",
      "+--------------+-----------------+\n",
      "|overall_rating|       prediction|\n",
      "+--------------+-----------------+\n",
      "|            60| 59.7190923345691|\n",
      "|            58|57.95269625585803|\n",
      "|            61| 59.4405084456727|\n",
      "|            61| 59.4405084456727|\n",
      "|            68| 66.1781610086714|\n",
      "|            70|69.74202367823763|\n",
      "|            72| 70.0966439928736|\n",
      "|            72| 70.0966439928736|\n",
      "|            72|69.86123890186602|\n",
      "|            72|69.86123890186602|\n",
      "+--------------+-----------------+\n",
      "only showing top 10 rows\n",
      "\n"
     ]
    }
   ],
   "source": [
    "from pyspark.ml.feature import VectorAssembler\n",
    "from pyspark.ml.regression import RandomForestRegressor\n",
    "from pyspark.ml.evaluation import RegressionEvaluator\n",
    "\n",
    "\n",
    "\n",
    "\n",
    "feature_columns = ['potential', 'crossing', 'finishing', 'heading_accuracy', \n",
    "                   'short_passing', 'volleys', 'dribbling', 'curve',\n",
    "                   'free_kick_accuracy', 'long_passing', 'ball_control', \n",
    "                   'acceleration', 'sprint_speed', 'agility', 'reactions', \n",
    "                   'balance', 'shot_power', 'jumping', 'stamina', 'strength', \n",
    "                   'long_shots', 'aggression', 'interceptions', 'positioning', \n",
    "                   'vision', 'penalties', 'marking', 'standing_tackle', \n",
    "                   'sliding_tackle', 'gk_diving', 'gk_handling', 'gk_kicking', \n",
    "                   'gk_positioning', 'gk_reflexes' \n",
    "                 ]\n",
    "\n",
    "assembler = VectorAssembler(inputCols=feature_columns, outputCol=\"features\")\n",
    "data = assembler.transform(full_player_info.dropna().drop('id'))\n",
    "\n",
    "train_data, test_data = data.randomSplit([0.8, 0.2], seed=123)\n",
    "\n",
    "\n",
    "rf = RandomForestRegressor(featuresCol=\"features\", labelCol=\"overall_rating\")\n",
    "\n",
    "\n",
    "model = rf.fit(train_data)\n",
    "\n",
    "\n",
    "predictions = model.transform(test_data)\n",
    "\n",
    "\n",
    "rmse = RegressionEvaluator(labelCol=\"overall_rating\", predictionCol=\"prediction\", metricName=\"rmse\").evaluate(predictions)\n",
    "r2 = RegressionEvaluator(labelCol=\"overall_rating\", predictionCol=\"prediction\", metricName=\"r2\").evaluate(predictions)\n",
    "print(f\"Root Mean Squared Error (RMSE) on test data: {rmse}\")\n",
    "print(f\"R2 on test data: {r2}\")\n",
    "\n",
    "predictions.select(\"overall_rating\", \"prediction\").show(10)"
   ]
  },
  {
   "cell_type": "markdown",
   "metadata": {},
   "source": [
    "2) Определение предпочтительной ноги игрока (preferred_foot)"
   ]
  },
  {
   "cell_type": "code",
   "execution_count": 66,
   "metadata": {},
   "outputs": [
    {
     "name": "stdout",
     "output_type": "stream",
     "text": [
      "Accuracy on test data: 0.7569558328932373\n",
      "f1 on test data: 0.6522442081057279\n"
     ]
    }
   ],
   "source": [
    "from pyspark.ml.feature import VectorAssembler\n",
    "from pyspark.ml.classification import RandomForestClassifier\n",
    "from pyspark.ml.evaluation import MulticlassClassificationEvaluator\n",
    "\n",
    "\n",
    "\n",
    "feature_columns = ['potential', 'crossing', 'finishing', 'heading_accuracy', \n",
    "                   'short_passing', 'volleys', 'dribbling', 'curve', \n",
    "                   'free_kick_accuracy', 'long_passing', 'ball_control', \n",
    "                   'acceleration', 'sprint_speed', 'agility', 'reactions', \n",
    "                   'balance', 'shot_power', 'jumping', 'stamina', 'strength', \n",
    "                   'long_shots', 'aggression', 'interceptions', 'positioning', \n",
    "                   'vision', 'penalties', 'marking', 'standing_tackle', \n",
    "                   'sliding_tackle', 'gk_diving', 'gk_handling', 'gk_kicking', \n",
    "                   'gk_positioning', 'gk_reflexes']\n",
    "\n",
    "assembler = VectorAssembler(inputCols=feature_columns, outputCol=\"features\")\n",
    "data = assembler.transform(full_player_info.dropna().drop('id'))\n",
    "\n",
    "\n",
    "train_data, test_data = data.randomSplit([0.8, 0.2], seed=123)\n",
    "\n",
    "\n",
    "rf = RandomForestClassifier(featuresCol=\"features\", labelCol=\"preferred_foot\")\n",
    "\n",
    "\n",
    "model = rf.fit(train_data)\n",
    "\n",
    "predictions = model.transform(test_data)\n",
    "\n",
    "accuracy = MulticlassClassificationEvaluator(labelCol=\"preferred_foot\", predictionCol=\"prediction\", metricName=\"accuracy\").evaluate(predictions)\n",
    "f1 = MulticlassClassificationEvaluator(labelCol=\"preferred_foot\", predictionCol=\"prediction\", metricName=\"f1\").evaluate(predictions)\n",
    "print(f\"Accuracy on test data: {accuracy}\")\n",
    "print(f\"f1 on test data: {f1}\")\n",
    "\n",
    "\n"
   ]
  },
  {
   "cell_type": "code",
   "execution_count": 90,
   "metadata": {},
   "outputs": [
    {
     "name": "stdout",
     "output_type": "stream",
     "text": [
      "+----+-----------+----------------+--------------------+---------------+\n",
      "|  id|team_api_id|team_fifa_api_id|      team_long_name|team_short_name|\n",
      "+----+-----------+----------------+--------------------+---------------+\n",
      "|   1|       9987|             673|            KRC Genk|            GEN|\n",
      "|   2|       9993|             675|        Beerschot AC|            BAC|\n",
      "|   3|      10000|           15005|    SV Zulte-Waregem|            ZUL|\n",
      "|   4|       9994|            2007|    Sporting Lokeren|            LOK|\n",
      "|   5|       9984|            1750|   KSV Cercle Brugge|            CEB|\n",
      "|   6|       8635|             229|      RSC Anderlecht|            AND|\n",
      "|   7|       9991|             674|            KAA Gent|            GEN|\n",
      "|   8|       9998|            1747|           RAEC Mons|            MON|\n",
      "|   9|       7947|            null|       FCV Dender EH|            DEN|\n",
      "|  10|       9985|             232|   Standard de Liège|            STL|\n",
      "|  11|       8203|          110724|         KV Mechelen|            MEC|\n",
      "|  12|       8342|             231|      Club Brugge KV|            CLB|\n",
      "|  13|       9999|             546|       KSV Roeselare|            ROS|\n",
      "|  14|       8571|          100081|         KV Kortrijk|            KOR|\n",
      "|  15|       4049|            null|              Tubize|            TUB|\n",
      "|  16|       9996|          111560|Royal Excel Mouscron|            MOU|\n",
      "|  17|      10001|             681|        KVC Westerlo|            WES|\n",
      "|  18|       9986|             670|  Sporting Charleroi|            CHA|\n",
      "| 614|       9997|             680|   Sint-Truidense VV|            STT|\n",
      "|1034|       9989|             239|           Lierse SK|            LIE|\n",
      "+----+-----------+----------------+--------------------+---------------+\n",
      "only showing top 20 rows\n",
      "\n"
     ]
    }
   ],
   "source": [
    "team.show()"
   ]
  },
  {
   "cell_type": "code",
   "execution_count": 91,
   "metadata": {},
   "outputs": [
    {
     "name": "stdout",
     "output_type": "stream",
     "text": [
      "+---+----------------+-----------+-------------------+----------------+---------------------+--------------------+-------------------------+------------------+-----------------------+---------------------------+---------------------+--------------------------+----------------------+---------------------------+----------------------+---------------------------+------------------------------+---------------+--------------------+-----------------+----------------------+----------------+---------------------+------------------------+\n",
      "| id|team_fifa_api_id|team_api_id|               date|buildUpPlaySpeed|buildUpPlaySpeedClass|buildUpPlayDribbling|buildUpPlayDribblingClass|buildUpPlayPassing|buildUpPlayPassingClass|buildUpPlayPositioningClass|chanceCreationPassing|chanceCreationPassingClass|chanceCreationCrossing|chanceCreationCrossingClass|chanceCreationShooting|chanceCreationShootingClass|chanceCreationPositioningClass|defencePressure|defencePressureClass|defenceAggression|defenceAggressionClass|defenceTeamWidth|defenceTeamWidthClass|defenceDefenderLineClass|\n",
      "+---+----------------+-----------+-------------------+----------------+---------------------+--------------------+-------------------------+------------------+-----------------------+---------------------------+---------------------+--------------------------+----------------------+---------------------------+----------------------+---------------------------+------------------------------+---------------+--------------------+-----------------+----------------------+----------------+---------------------+------------------------+\n",
      "|  1|             434|       9930|2010-02-22 00:00:00|              60|             Balanced|                null|                   Little|                50|                  Mixed|                  Organised|                   60|                    Normal|                    65|                     Normal|                    55|                     Normal|                     Organised|             50|              Medium|               55|                 Press|              45|               Normal|                   Cover|\n",
      "|  2|             434|       9930|2014-09-19 00:00:00|              52|             Balanced|                  48|                   Normal|                56|                  Mixed|                  Organised|                   54|                    Normal|                    63|                     Normal|                    64|                     Normal|                     Organised|             47|              Medium|               44|                 Press|              54|               Normal|                   Cover|\n",
      "|  3|             434|       9930|2015-09-10 00:00:00|              47|             Balanced|                  41|                   Normal|                54|                  Mixed|                  Organised|                   54|                    Normal|                    63|                     Normal|                    64|                     Normal|                     Organised|             47|              Medium|               44|                 Press|              54|               Normal|                   Cover|\n",
      "|  4|              77|       8485|2010-02-22 00:00:00|              70|                 Fast|                null|                   Little|                70|                   Long|                  Organised|                   70|                     Risky|                    70|                       Lots|                    70|                       Lots|                     Organised|             60|              Medium|               70|                Double|              70|                 Wide|                   Cover|\n",
      "|  5|              77|       8485|2011-02-22 00:00:00|              47|             Balanced|                null|                   Little|                52|                  Mixed|                  Organised|                   53|                    Normal|                    48|                     Normal|                    52|                     Normal|                     Organised|             47|              Medium|               47|                 Press|              52|               Normal|                   Cover|\n",
      "|  6|              77|       8485|2012-02-22 00:00:00|              58|             Balanced|                null|                   Little|                62|                  Mixed|                  Organised|                   45|                    Normal|                    70|                       Lots|                    55|                     Normal|                     Organised|             40|              Medium|               40|                 Press|              60|               Normal|                   Cover|\n",
      "|  7|              77|       8485|2013-09-20 00:00:00|              62|             Balanced|                null|                   Little|                45|                  Mixed|                  Organised|                   40|                    Normal|                    50|                     Normal|                    55|                     Normal|                     Organised|             42|              Medium|               42|                 Press|              60|               Normal|                   Cover|\n",
      "|  8|              77|       8485|2014-09-19 00:00:00|              58|             Balanced|                  64|                   Normal|                62|                  Mixed|                  Organised|                   56|                    Normal|                    68|                       Lots|                    57|                     Normal|                     Organised|             41|              Medium|               42|                 Press|              60|               Normal|                   Cover|\n",
      "|  9|              77|       8485|2015-09-10 00:00:00|              59|             Balanced|                  64|                   Normal|                53|                  Mixed|                  Organised|                   51|                    Normal|                    72|                       Lots|                    63|                     Normal|                     Free Form|             49|              Medium|               45|                 Press|              63|               Normal|                   Cover|\n",
      "| 10|             614|       8576|2010-02-22 00:00:00|              60|             Balanced|                null|                   Little|                40|                  Mixed|                  Organised|                   45|                    Normal|                    35|                     Normal|                    55|                     Normal|                     Organised|             30|                Deep|               70|                Double|              30|               Narrow|            Offside Trap|\n",
      "| 11|             614|       8576|2011-02-22 00:00:00|              65|             Balanced|                null|                   Little|                45|                  Mixed|                  Organised|                   65|                    Normal|                    65|                     Normal|                    50|                     Normal|                     Organised|             45|              Medium|               45|                 Press|              50|               Normal|                   Cover|\n",
      "| 12|             614|       8576|2012-02-22 00:00:00|              59|             Balanced|                null|                   Little|                52|                  Mixed|                  Organised|                   48|                    Normal|                    34|                     Normal|                    52|                     Normal|                     Organised|             38|              Medium|               47|                 Press|              53|               Normal|                   Cover|\n",
      "| 13|             614|       8576|2013-09-20 00:00:00|              59|             Balanced|                null|                   Little|                52|                  Mixed|                  Organised|                   48|                    Normal|                    34|                     Normal|                    52|                     Normal|                     Organised|             38|              Medium|               47|                 Press|              53|               Normal|                   Cover|\n",
      "| 14|             614|       8576|2014-09-19 00:00:00|              59|             Balanced|                  57|                   Normal|                52|                  Mixed|                  Organised|                   48|                    Normal|                    38|                     Normal|                    52|                     Normal|                     Organised|             38|              Medium|               47|                 Press|              53|               Normal|                   Cover|\n",
      "| 15|             614|       8576|2015-09-10 00:00:00|              59|             Balanced|                  57|                   Normal|                52|                  Mixed|                  Organised|                   48|                    Normal|                    38|                     Normal|                    52|                     Normal|                     Organised|             38|              Medium|               47|                 Press|              53|               Normal|                   Cover|\n",
      "| 16|              47|       8564|2010-02-22 00:00:00|              45|             Balanced|                null|                   Little|                30|                  Short|                  Free Form|                   55|                    Normal|                    45|                     Normal|                    70|                       Lots|                     Free Form|             30|                Deep|               35|                 Press|              60|               Normal|            Offside Trap|\n",
      "| 17|              47|       8564|2011-02-22 00:00:00|              65|             Balanced|                null|                   Little|                50|                  Mixed|                  Organised|                   50|                    Normal|                    60|                     Normal|                    50|                     Normal|                     Free Form|             50|              Medium|               50|                 Press|              50|               Normal|            Offside Trap|\n",
      "| 18|              47|       8564|2012-02-22 00:00:00|              45|             Balanced|                null|                   Little|                50|                  Mixed|                  Organised|                   65|                    Normal|                    20|                     Little|                    50|                     Normal|                     Free Form|             45|              Medium|               45|                 Press|              50|               Normal|                   Cover|\n",
      "| 19|              47|       8564|2013-09-20 00:00:00|              48|             Balanced|                null|                   Little|                54|                  Mixed|                  Organised|                   51|                    Normal|                    53|                     Normal|                    64|                     Normal|                     Free Form|             48|              Medium|               49|                 Press|              53|               Normal|                   Cover|\n",
      "| 20|              47|       8564|2014-09-19 00:00:00|              48|             Balanced|                  70|                     Lots|                52|                  Mixed|                  Organised|                   66|                    Normal|                    36|                     Normal|                    75|                       Lots|                     Organised|             58|              Medium|               57|                 Press|              49|               Normal|                   Cover|\n",
      "+---+----------------+-----------+-------------------+----------------+---------------------+--------------------+-------------------------+------------------+-----------------------+---------------------------+---------------------+--------------------------+----------------------+---------------------------+----------------------+---------------------------+------------------------------+---------------+--------------------+-----------------+----------------------+----------------+---------------------+------------------------+\n",
      "only showing top 20 rows\n",
      "\n"
     ]
    }
   ],
   "source": [
    "team_attr.show()"
   ]
  },
  {
   "cell_type": "code",
   "execution_count": 92,
   "metadata": {},
   "outputs": [],
   "source": [
    "full_team_info = team_attr.join(team, on = 'team_api_id')"
   ]
  },
  {
   "cell_type": "code",
   "execution_count": 93,
   "metadata": {},
   "outputs": [
    {
     "name": "stdout",
     "output_type": "stream",
     "text": [
      "+-----------+---+----------------+-------------------+----------------+---------------------+--------------------+-------------------------+------------------+-----------------------+---------------------------+---------------------+--------------------------+----------------------+---------------------------+----------------------+---------------------------+------------------------------+---------------+--------------------+-----------------+----------------------+----------------+---------------------+------------------------+----+----------------+--------------------+---------------+\n",
      "|team_api_id| id|team_fifa_api_id|               date|buildUpPlaySpeed|buildUpPlaySpeedClass|buildUpPlayDribbling|buildUpPlayDribblingClass|buildUpPlayPassing|buildUpPlayPassingClass|buildUpPlayPositioningClass|chanceCreationPassing|chanceCreationPassingClass|chanceCreationCrossing|chanceCreationCrossingClass|chanceCreationShooting|chanceCreationShootingClass|chanceCreationPositioningClass|defencePressure|defencePressureClass|defenceAggression|defenceAggressionClass|defenceTeamWidth|defenceTeamWidthClass|defenceDefenderLineClass|  id|team_fifa_api_id|      team_long_name|team_short_name|\n",
      "+-----------+---+----------------+-------------------+----------------+---------------------+--------------------+-------------------------+------------------+-----------------------+---------------------------+---------------------+--------------------------+----------------------+---------------------------+----------------------+---------------------------+------------------------------+---------------+--------------------+-----------------+----------------------+----------------+---------------------+------------------------+----+----------------+--------------------+---------------+\n",
      "|       8592|819|             219|2010-02-22 00:00:00|              55|             Balanced|                null|                   Little|                45|                  Mixed|                  Organised|                   70|                     Risky|                    65|                     Normal|                    70|                       Lots|                     Free Form|             65|              Medium|               70|                Double|              65|               Normal|            Offside Trap|9552|             219|Olympique de Mars...|            MAR|\n",
      "|       8592|820|             219|2011-02-22 00:00:00|              65|             Balanced|                null|                   Little|                35|                  Mixed|                  Organised|                   65|                    Normal|                    65|                     Normal|                    80|                       Lots|                     Free Form|             55|              Medium|               55|                 Press|              65|               Normal|                   Cover|9552|             219|Olympique de Mars...|            MAR|\n",
      "|       8592|821|             219|2012-02-22 00:00:00|              48|             Balanced|                null|                   Little|                50|                  Mixed|                  Organised|                   49|                    Normal|                    51|                     Normal|                    48|                     Normal|                     Organised|             44|              Medium|               48|                 Press|              51|               Normal|                   Cover|9552|             219|Olympique de Mars...|            MAR|\n",
      "|       8592|822|             219|2013-09-20 00:00:00|              48|             Balanced|                null|                   Little|                50|                  Mixed|                  Organised|                   49|                    Normal|                    77|                       Lots|                    64|                     Normal|                     Organised|             44|              Medium|               48|                 Press|              54|               Normal|                   Cover|9552|             219|Olympique de Mars...|            MAR|\n",
      "|       8592|823|             219|2014-09-19 00:00:00|              51|             Balanced|                  62|                   Normal|                50|                  Mixed|                  Organised|                   49|                    Normal|                    69|                       Lots|                    68|                       Lots|                     Organised|             48|              Medium|               48|                 Press|              60|               Normal|                   Cover|9552|             219|Olympique de Mars...|            MAR|\n",
      "|       8592|824|             219|2015-09-10 00:00:00|              51|             Balanced|                  77|                     Lots|                41|                  Mixed|                  Organised|                   49|                    Normal|                    69|                       Lots|                    31|                     Little|                     Organised|             48|              Medium|               48|                 Press|              60|               Normal|                   Cover|9552|             219|Olympique de Mars...|            MAR|\n",
      "|       9879|479|             144|2010-02-22 00:00:00|              60|             Balanced|                null|                   Little|                70|                   Long|                  Organised|                   70|                     Risky|                    70|                       Lots|                    50|                     Normal|                     Organised|             40|              Medium|               35|                 Press|              40|               Normal|                   Cover|3474|             144|              Fulham|            FUL|\n",
      "|       9879|480|             144|2011-02-22 00:00:00|              50|             Balanced|                null|                   Little|                55|                  Mixed|                  Organised|                   45|                    Normal|                    55|                     Normal|                    40|                     Normal|                     Organised|             45|              Medium|               35|                 Press|              50|               Normal|                   Cover|3474|             144|              Fulham|            FUL|\n",
      "|       9879|481|             144|2012-02-22 00:00:00|              48|             Balanced|                null|                   Little|                45|                  Mixed|                  Organised|                   38|                    Normal|                    62|                     Normal|                    54|                     Normal|                     Organised|             38|              Medium|               38|                 Press|              62|               Normal|                   Cover|3474|             144|              Fulham|            FUL|\n",
      "|       9879|482|             144|2013-09-20 00:00:00|              52|             Balanced|                null|                   Little|                49|                  Mixed|                  Organised|                   49|                    Normal|                    56|                     Normal|                    59|                     Normal|                     Organised|             39|              Medium|               39|                 Press|              57|               Normal|                   Cover|3474|             144|              Fulham|            FUL|\n",
      "|       9879|483|             144|2014-09-19 00:00:00|              52|             Balanced|                  34|                   Normal|                56|                  Mixed|                  Organised|                   58|                    Normal|                    41|                     Normal|                    54|                     Normal|                     Organised|             29|                Deep|               28|               Contain|              39|               Normal|                   Cover|3474|             144|              Fulham|            FUL|\n",
      "|       9879|484|             144|2015-09-10 00:00:00|              52|             Balanced|                  34|                   Normal|                48|                  Mixed|                  Organised|                   39|                    Normal|                    54|                     Normal|                    59|                     Normal|                     Organised|             29|                Deep|               30|               Contain|              39|               Normal|                   Cover|3474|             144|              Fulham|            FUL|\n",
      "|       8650|743|               9|2010-02-22 00:00:00|              50|             Balanced|                null|                   Little|                35|                  Mixed|                  Organised|                   50|                    Normal|                    60|                     Normal|                    70|                       Lots|                     Organised|             40|              Medium|               60|                 Press|              40|               Normal|                   Cover|3462|               9|           Liverpool|            LIV|\n",
      "|       8650|744|               9|2011-02-22 00:00:00|              60|             Balanced|                null|                   Little|                50|                  Mixed|                  Organised|                   40|                    Normal|                    45|                     Normal|                    60|                     Normal|                     Organised|             55|              Medium|               55|                 Press|              50|               Normal|                   Cover|3462|               9|           Liverpool|            LIV|\n",
      "|       8650|745|               9|2012-02-22 00:00:00|              60|             Balanced|                null|                   Little|                60|                  Mixed|                  Organised|                   48|                    Normal|                    73|                       Lots|                    53|                     Normal|                     Organised|             50|              Medium|               48|                 Press|              62|               Normal|                   Cover|3462|               9|           Liverpool|            LIV|\n",
      "|       8650|746|               9|2013-09-20 00:00:00|              39|             Balanced|                null|                   Little|                44|                  Mixed|                  Organised|                   42|                    Normal|                    34|                     Normal|                    54|                     Normal|                     Organised|             59|              Medium|               52|                 Press|              61|               Normal|                   Cover|3462|               9|           Liverpool|            LIV|\n",
      "|       8650|747|               9|2014-09-19 00:00:00|              71|                 Fast|                  48|                   Normal|                32|                  Short|                  Organised|                   34|                    Normal|                    41|                     Normal|                    61|                     Normal|                     Organised|             51|              Medium|               48|                 Press|              62|               Normal|                   Cover|3462|               9|           Liverpool|            LIV|\n",
      "|       8650|748|               9|2015-09-10 00:00:00|              66|             Balanced|                  60|                   Normal|                45|                  Mixed|                  Organised|                   34|                    Normal|                    34|                     Normal|                    46|                     Normal|                     Organised|             51|              Medium|               52|                 Press|              61|               Normal|                   Cover|3462|               9|           Liverpool|            LIV|\n",
      "|       8678|225|            1943|2010-02-22 00:00:00|              70|                 Fast|                null|                   Little|                70|                   Long|                  Organised|                   70|                     Risky|                    70|                       Lots|                    60|                     Normal|                     Organised|             70|                High|               70|                Double|              70|                 Wide|                   Cover|8779|            1943|         Bournemouth|            BOU|\n",
      "|       8678|226|            1943|2011-02-22 00:00:00|              51|             Balanced|                null|                   Little|                66|                  Mixed|                  Organised|                   68|                     Risky|                    33|                     Little|                    47|                     Normal|                     Organised|             27|                Deep|               46|                 Press|              48|               Normal|                   Cover|8779|            1943|         Bournemouth|            BOU|\n",
      "+-----------+---+----------------+-------------------+----------------+---------------------+--------------------+-------------------------+------------------+-----------------------+---------------------------+---------------------+--------------------------+----------------------+---------------------------+----------------------+---------------------------+------------------------------+---------------+--------------------+-----------------+----------------------+----------------+---------------------+------------------------+----+----------------+--------------------+---------------+\n",
      "only showing top 20 rows\n",
      "\n"
     ]
    }
   ],
   "source": [
    "full_team_info.show()"
   ]
  },
  {
   "cell_type": "markdown",
   "metadata": {},
   "source": [
    "3) Предсказание defencePressure"
   ]
  },
  {
   "cell_type": "code",
   "execution_count": 94,
   "metadata": {},
   "outputs": [],
   "source": [
    "from pyspark.ml.feature import StringIndexer, OneHotEncoder\n",
    "from pyspark.ml import Pipeline\n",
    "from pyspark.ml.feature import VectorAssembler\n",
    "\n",
    "columns =  ['buildUpPlaySpeedClass', 'buildUpPlayDribblingClass', 'buildUpPlayPassingClass',\n",
    "             'buildUpPlayPositioningClass', 'chanceCreationPassingClass', 'chanceCreationCrossingClass',\n",
    "             'chanceCreationShootingClass','chanceCreationPositioningClass', 'defencePressureClass', \n",
    "             'defenceAggressionClass', 'defenceTeamWidthClass', 'defenceDefenderLineClass']\n",
    "\n",
    "\n",
    "indexers = [StringIndexer(inputCol=col, outputCol=col+\"_index\", handleInvalid=\"keep\") for col in columns]\n",
    "\n",
    "# Создание объектов OneHotEncoder для кодирования числовых значений\n",
    "encoders = [OneHotEncoder(inputCol=col+\"_index\", outputCol=col+\"_encoded\") for col in columns]\n",
    "\n",
    "# Создание объекта VectorAssembler для объединения признаков в один вектор\n",
    "assembler = VectorAssembler(inputCols=[col+\"_encoded\" for col in columns], outputCol=\"features\")\n",
    "\n",
    "pipeline = Pipeline(stages=indexers + encoders + [assembler])\n",
    "\n",
    "# Применение преобразований к данным\n",
    "model = pipeline.fit(full_team_info)\n",
    "\n",
    "transformed_data = model.transform(full_team_info)"
   ]
  },
  {
   "cell_type": "code",
   "execution_count": 95,
   "metadata": {},
   "outputs": [
    {
     "name": "stdout",
     "output_type": "stream",
     "text": [
      "+---------------+------------------+\n",
      "|defencePressure|        prediction|\n",
      "+---------------+------------------+\n",
      "|             32|31.096655945355057|\n",
      "|             40| 46.68363670527772|\n",
      "|             57|46.201308089748586|\n",
      "|             50| 48.07847524104754|\n",
      "|             47| 49.25543767082076|\n",
      "|             70| 67.84079820522007|\n",
      "|             48| 43.80425759247473|\n",
      "|             59|47.195271313610206|\n",
      "|             59|47.195271313610206|\n",
      "|             47| 45.74561705564787|\n",
      "|             45| 45.37034568036416|\n",
      "|             36| 45.37034568036416|\n",
      "|             47| 45.37034568036416|\n",
      "|             42| 45.74561705564787|\n",
      "|             45|   45.511659468801|\n",
      "|             36| 45.74561705564787|\n",
      "|             46| 45.37034568036416|\n",
      "|             58| 45.74561705564787|\n",
      "|             45| 45.37034568036416|\n",
      "|             43| 45.37034568036416|\n",
      "+---------------+------------------+\n",
      "only showing top 20 rows\n",
      "\n"
     ]
    }
   ],
   "source": [
    "from pyspark.ml.regression import LinearRegression\n",
    "\n",
    "\n",
    "train_data, test_data = transformed_data.randomSplit([0.7, 0.3])\n",
    "\n",
    "regr = LinearRegression(featuresCol='features', labelCol='defencePressure', predictionCol='prediction')\n",
    "\n",
    "# Обучение модели\n",
    "regr_model = regr.fit(train_data)\n",
    "\n",
    "# Получение прогнозов\n",
    "predictions = regr_model.transform(test_data)\n",
    "predictions.select('defencePressure', 'prediction').show()"
   ]
  },
  {
   "cell_type": "code",
   "execution_count": 96,
   "metadata": {},
   "outputs": [
    {
     "name": "stdout",
     "output_type": "stream",
     "text": [
      "Root Mean Squared Error: 6.8905\n",
      "r2: 0.5376\n"
     ]
    }
   ],
   "source": [
    "from pyspark.ml.evaluation import RegressionEvaluator\n",
    "rmse = RegressionEvaluator(labelCol='defencePressure', metricName='rmse').evaluate(predictions)\n",
    "r2 = RegressionEvaluator(labelCol='defencePressure', metricName='r2').evaluate(predictions)\n",
    "\n",
    "\n",
    "print(\"Root Mean Squared Error: %.4f\" % rmse)\n",
    "print(\"r2: %.4f\" % r2)"
   ]
  },
  {
   "cell_type": "markdown",
   "metadata": {},
   "source": [
    "На этом всё, спасибо!"
   ]
  }
 ],
 "metadata": {
  "kernelspec": {
   "display_name": "Python 3",
   "language": "python",
   "name": "python3"
  },
  "language_info": {
   "codemirror_mode": {
    "name": "ipython",
    "version": 3
   },
   "file_extension": ".py",
   "mimetype": "text/x-python",
   "name": "python",
   "nbconvert_exporter": "python",
   "pygments_lexer": "ipython3",
   "version": "3.11.4"
  }
 },
 "nbformat": 4,
 "nbformat_minor": 2
}
